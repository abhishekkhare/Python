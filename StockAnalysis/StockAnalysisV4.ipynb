{
 "cells": [
  {
   "cell_type": "code",
   "execution_count": 53,
   "metadata": {
    "pycharm": {
     "name": "#%%\n"
    }
   },
   "outputs": [],
   "source": [
    "import pandas as pd\n",
    "import numpy as np\n",
    "from datetime import datetime, timedelta\n",
    "from matplotlib import pyplot as plt\n",
    "from matplotlib import dates as mpl_dates\n",
    "pd.options.display.max_rows = 100\n",
    "pd.options.display.max_columns = 100"
   ]
  },
  {
   "cell_type": "code",
   "execution_count": 54,
   "metadata": {
    "pycharm": {
     "name": "#%%\n"
    }
   },
   "outputs": [],
   "source": [
    "# Read a Dividend CSV file into a dataframe\n",
    "dfStockPrices = pd.read_csv('data/stocks_latest/stock_prices_latest.csv')\n",
    "#dfStockPrices\n",
    "dfEarning = pd.read_csv('data/stocks_latest/earnings_latest.csv')\n",
    "#dfEarning"
   ]
  },
  {
   "cell_type": "code",
   "execution_count": 55,
   "metadata": {
    "pycharm": {
     "name": "#%%\n"
    }
   },
   "outputs": [],
   "source": [
    "filtertSockPrices = ((dfStockPrices['date']> '2000-01-01') & (dfStockPrices['symbol'] == 'STOR'))\n",
    "dfStockPrices = dfStockPrices[filtertSockPrices].sort_values('date', ascending = False)\n",
    "#dfStockPrices\n",
    "filtertEarning = ((dfEarning['date']> '2000-01-01') & (dfEarning['symbol'] == 'STOR'))\n",
    "dfEarning = dfEarning[filtertEarning].sort_values('date', ascending = False)\n",
    "dfEarning['eps'] = dfEarning['eps'].fillna(0.01)\n",
    "dfEarning['eps_est'] = dfEarning['eps_est'].fillna(0.01)\n",
    "dfEarning['eps'] = dfEarning['eps'].astype(float)\n",
    "dfEarning['eps_est'] = dfEarning['eps_est'].astype(float)\n",
    "#dfEarning"
   ]
  },
  {
   "cell_type": "code",
   "execution_count": 56,
   "metadata": {},
   "outputs": [
    {
     "data": {
      "text/html": [
       "<div>\n",
       "<style scoped>\n",
       "    .dataframe tbody tr th:only-of-type {\n",
       "        vertical-align: middle;\n",
       "    }\n",
       "\n",
       "    .dataframe tbody tr th {\n",
       "        vertical-align: top;\n",
       "    }\n",
       "\n",
       "    .dataframe thead th {\n",
       "        text-align: right;\n",
       "    }\n",
       "</style>\n",
       "<table border=\"1\" class=\"dataframe\">\n",
       "  <thead>\n",
       "    <tr style=\"text-align: right;\">\n",
       "      <th></th>\n",
       "      <th>date</th>\n",
       "      <th>eps</th>\n",
       "      <th>eps_est</th>\n",
       "      <th>close_adjusted</th>\n",
       "    </tr>\n",
       "  </thead>\n",
       "  <tbody>\n",
       "    <tr>\n",
       "      <th>0</th>\n",
       "      <td>2020-02-20</td>\n",
       "      <td>0.25</td>\n",
       "      <td>0.236</td>\n",
       "      <td>37.63</td>\n",
       "    </tr>\n",
       "    <tr>\n",
       "      <th>1</th>\n",
       "      <td>2019-10-31</td>\n",
       "      <td>0.48</td>\n",
       "      <td>0.233</td>\n",
       "      <td>40.5</td>\n",
       "    </tr>\n",
       "    <tr>\n",
       "      <th>2</th>\n",
       "      <td>2019-08-01</td>\n",
       "      <td>0.3</td>\n",
       "      <td>0.227</td>\n",
       "      <td>34.2</td>\n",
       "    </tr>\n",
       "    <tr>\n",
       "      <th>3</th>\n",
       "      <td>2019-05-02</td>\n",
       "      <td>0.2</td>\n",
       "      <td>0.23</td>\n",
       "      <td>33.43</td>\n",
       "    </tr>\n",
       "    <tr>\n",
       "      <th>4</th>\n",
       "      <td>2019-02-21</td>\n",
       "      <td>0.26</td>\n",
       "      <td>0.218</td>\n",
       "      <td>32.49</td>\n",
       "    </tr>\n",
       "    <tr>\n",
       "      <th>5</th>\n",
       "      <td>2018-11-01</td>\n",
       "      <td>0.26</td>\n",
       "      <td>0.46</td>\n",
       "      <td>28.8466</td>\n",
       "    </tr>\n",
       "    <tr>\n",
       "      <th>6</th>\n",
       "      <td>2018-08-02</td>\n",
       "      <td>0.31</td>\n",
       "      <td>0.44</td>\n",
       "      <td>27.1159</td>\n",
       "    </tr>\n",
       "    <tr>\n",
       "      <th>7</th>\n",
       "      <td>2018-05-03</td>\n",
       "      <td>0.26</td>\n",
       "      <td>0.43</td>\n",
       "      <td>25.1</td>\n",
       "    </tr>\n",
       "    <tr>\n",
       "      <th>8</th>\n",
       "      <td>2018-02-22</td>\n",
       "      <td>0.21</td>\n",
       "      <td>0.41</td>\n",
       "      <td>23.73</td>\n",
       "    </tr>\n",
       "    <tr>\n",
       "      <th>9</th>\n",
       "      <td>2017-11-02</td>\n",
       "      <td>0.15</td>\n",
       "      <td>0.39</td>\n",
       "      <td>24.9331</td>\n",
       "    </tr>\n",
       "    <tr>\n",
       "      <th>10</th>\n",
       "      <td>2017-08-03</td>\n",
       "      <td>0.35</td>\n",
       "      <td>0.42</td>\n",
       "      <td>23.0538</td>\n",
       "    </tr>\n",
       "    <tr>\n",
       "      <th>11</th>\n",
       "      <td>2017-05-04</td>\n",
       "      <td>0.19</td>\n",
       "      <td>0.41</td>\n",
       "      <td>20.3674</td>\n",
       "    </tr>\n",
       "    <tr>\n",
       "      <th>12</th>\n",
       "      <td>2017-02-23</td>\n",
       "      <td>0.2</td>\n",
       "      <td>0.4</td>\n",
       "      <td>23.5242</td>\n",
       "    </tr>\n",
       "    <tr>\n",
       "      <th>13</th>\n",
       "      <td>2016-11-03</td>\n",
       "      <td>0.24</td>\n",
       "      <td>0.39</td>\n",
       "      <td>24.4194</td>\n",
       "    </tr>\n",
       "    <tr>\n",
       "      <th>14</th>\n",
       "      <td>2016-08-04</td>\n",
       "      <td>0.21</td>\n",
       "      <td>0.38</td>\n",
       "      <td>28.0329</td>\n",
       "    </tr>\n",
       "    <tr>\n",
       "      <th>15</th>\n",
       "      <td>2016-05-05</td>\n",
       "      <td>0.18</td>\n",
       "      <td>0.37</td>\n",
       "      <td>24.4261</td>\n",
       "    </tr>\n",
       "    <tr>\n",
       "      <th>16</th>\n",
       "      <td>2016-02-23</td>\n",
       "      <td>0.18</td>\n",
       "      <td>0.36</td>\n",
       "      <td>22.6856</td>\n",
       "    </tr>\n",
       "    <tr>\n",
       "      <th>17</th>\n",
       "      <td>2015-11-12</td>\n",
       "      <td>0.18</td>\n",
       "      <td>0.34</td>\n",
       "      <td>19.7071</td>\n",
       "    </tr>\n",
       "    <tr>\n",
       "      <th>18</th>\n",
       "      <td>2015-08-13</td>\n",
       "      <td>0.17</td>\n",
       "      <td>0.33</td>\n",
       "      <td>19.416</td>\n",
       "    </tr>\n",
       "    <tr>\n",
       "      <th>19</th>\n",
       "      <td>2015-05-14</td>\n",
       "      <td>0.15</td>\n",
       "      <td>0.3</td>\n",
       "      <td>19.1557</td>\n",
       "    </tr>\n",
       "    <tr>\n",
       "      <th>20</th>\n",
       "      <td>2015-02-26</td>\n",
       "      <td>0.18</td>\n",
       "      <td>0.28</td>\n",
       "      <td>19.3869</td>\n",
       "    </tr>\n",
       "  </tbody>\n",
       "</table>\n",
       "</div>"
      ],
      "text/plain": [
       "          date   eps eps_est close_adjusted\n",
       "0   2020-02-20  0.25   0.236          37.63\n",
       "1   2019-10-31  0.48   0.233           40.5\n",
       "2   2019-08-01   0.3   0.227           34.2\n",
       "3   2019-05-02   0.2    0.23          33.43\n",
       "4   2019-02-21  0.26   0.218          32.49\n",
       "5   2018-11-01  0.26    0.46        28.8466\n",
       "6   2018-08-02  0.31    0.44        27.1159\n",
       "7   2018-05-03  0.26    0.43           25.1\n",
       "8   2018-02-22  0.21    0.41          23.73\n",
       "9   2017-11-02  0.15    0.39        24.9331\n",
       "10  2017-08-03  0.35    0.42        23.0538\n",
       "11  2017-05-04  0.19    0.41        20.3674\n",
       "12  2017-02-23   0.2     0.4        23.5242\n",
       "13  2016-11-03  0.24    0.39        24.4194\n",
       "14  2016-08-04  0.21    0.38        28.0329\n",
       "15  2016-05-05  0.18    0.37        24.4261\n",
       "16  2016-02-23  0.18    0.36        22.6856\n",
       "17  2015-11-12  0.18    0.34        19.7071\n",
       "18  2015-08-13  0.17    0.33         19.416\n",
       "19  2015-05-14  0.15     0.3        19.1557\n",
       "20  2015-02-26  0.18    0.28        19.3869"
      ]
     },
     "execution_count": 56,
     "metadata": {},
     "output_type": "execute_result"
    }
   ],
   "source": [
    "dfMerge = pd.merge(dfEarning, dfStockPrices, how='left', on=['date'])\n",
    "dfMerge = pd.DataFrame([dfMerge['date'], dfMerge['eps'], dfMerge['eps_est'], dfMerge['close_adjusted']]).transpose()\n",
    "#dfMerge['PE'] = dfMerge.apply(lambda x: dfMerge['close_adjusted'] if dfMerge['eps'] == 0 else dfMerge['close_adjusted']/dfMerge['eps'])\n",
    "#dfMerge['p/e'] = np.where(dfMerge['eps'] < 1, dfMerge['eps'], dfMerge['close_adjusted']/dfMerge['eps'])\n",
    "dfMerge"
   ]
  },
  {
   "cell_type": "code",
   "execution_count": 57,
   "metadata": {
    "pycharm": {
     "name": "#%%\n"
    }
   },
   "outputs": [
    {
     "data": {
      "text/plain": [
       "<Figure size 14400x7200 with 0 Axes>"
      ]
     },
     "execution_count": 57,
     "metadata": {},
     "output_type": "execute_result"
    },
    {
     "data": {
      "text/plain": [
       "<Figure size 14400x7200 with 0 Axes>"
      ]
     },
     "metadata": {},
     "output_type": "display_data"
    }
   ],
   "source": [
    "plt.style.use('seaborn')\n",
    "len(dfEarning.index)\n",
    "plt.figure(figsize=(200,100))"
   ]
  },
  {
   "cell_type": "code",
   "execution_count": 58,
   "metadata": {},
   "outputs": [
    {
     "data": {
      "text/plain": [
       "[<matplotlib.lines.Line2D at 0x1f246af60>]"
      ]
     },
     "execution_count": 58,
     "metadata": {},
     "output_type": "execute_result"
    },
    {
     "data": {
      "image/png": "[encoded data removed]",
      "text/plain": [
       "<Figure size 576x396 with 1 Axes>"
      ]
     },
     "metadata": {},
     "output_type": "display_data"
    }
   ],
   "source": [
    "plt.plot_date(dfMerge['date'], dfMerge['eps'], linestyle='solid')\n",
    "plt.plot_date(dfMerge['date'], dfMerge['close_adjusted'], linestyle='solid')"
   ]
  },
  {
   "cell_type": "code",
   "execution_count": null,
   "metadata": {},
   "outputs": [],
   "source": []
  },
  {
   "cell_type": "code",
   "execution_count": null,
   "metadata": {},
   "outputs": [],
   "source": []
  },
  {
   "cell_type": "code",
   "execution_count": null,
   "metadata": {},
   "outputs": [],
   "source": []
  }
 ],
 "metadata": {
  "kernelspec": {
   "display_name": "Python 3",
   "language": "python",
   "name": "python3"
  },
  "language_info": {
   "codemirror_mode": {
    "name": "ipython",
    "version": 3
   },
   "file_extension": ".py",
   "mimetype": "text/x-python",
   "name": "python",
   "nbconvert_exporter": "python",
   "pygments_lexer": "ipython3",
   "version": "3.7.3"
  }
 },
 "nbformat": 4,
 "nbformat_minor": 4
}