{
 "cells": [
  {
   "cell_type": "code",
   "execution_count": 47,
   "metadata": {
    "pycharm": {
     "is_executing": false,
     "name": "#%%\n"
    }
   },
   "outputs": [],
   "source": [
    "import pandas as pd"
   ]
  },
  {
   "cell_type": "code",
   "execution_count": 48,
   "metadata": {
    "pycharm": {
     "is_executing": false,
     "name": "#%%\n"
    }
   },
   "outputs": [
    {
     "data": {
      "text/plain": "   S.No.       Name  Age City           Email\n0      1   Abhishek   40   SY  ak13@gmail.com\n1      2  Abhishek1   41   AT   ak1@gmail.com\n2      3    Saurabh   42   SY  sk29@gmail.com\n3      4      Sando   44   NO  sd18@gmail.com\n4      5     Ashish   42   DL  as12@gmail.com",
      "text/html": "<div>\n<style scoped>\n    .dataframe tbody tr th:only-of-type {\n        vertical-align: middle;\n    }\n\n    .dataframe tbody tr th {\n        vertical-align: top;\n    }\n\n    .dataframe thead th {\n        text-align: right;\n    }\n</style>\n<table border=\"1\" class=\"dataframe\">\n  <thead>\n    <tr style=\"text-align: right;\">\n      <th></th>\n      <th>S.No.</th>\n      <th>Name</th>\n      <th>Age</th>\n      <th>City</th>\n      <th>Email</th>\n    </tr>\n  </thead>\n  <tbody>\n    <tr>\n      <th>0</th>\n      <td>1</td>\n      <td>Abhishek</td>\n      <td>40</td>\n      <td>SY</td>\n      <td>ak13@gmail.com</td>\n    </tr>\n    <tr>\n      <th>1</th>\n      <td>2</td>\n      <td>Abhishek1</td>\n      <td>41</td>\n      <td>AT</td>\n      <td>ak1@gmail.com</td>\n    </tr>\n    <tr>\n      <th>2</th>\n      <td>3</td>\n      <td>Saurabh</td>\n      <td>42</td>\n      <td>SY</td>\n      <td>sk29@gmail.com</td>\n    </tr>\n    <tr>\n      <th>3</th>\n      <td>4</td>\n      <td>Sando</td>\n      <td>44</td>\n      <td>NO</td>\n      <td>sd18@gmail.com</td>\n    </tr>\n    <tr>\n      <th>4</th>\n      <td>5</td>\n      <td>Ashish</td>\n      <td>42</td>\n      <td>DL</td>\n      <td>as12@gmail.com</td>\n    </tr>\n  </tbody>\n</table>\n</div>"
     },
     "metadata": {},
     "output_type": "execute_result",
     "execution_count": 48
    }
   ],
   "source": [
    "df = pd.read_csv('friends.csv')\n",
    "df.head()"
   ]
  },
  {
   "cell_type": "code",
   "execution_count": 49,
   "metadata": {
    "pycharm": {
     "is_executing": false,
     "name": "#%%\n"
    }
   },
   "outputs": [
    {
     "data": {
      "text/plain": "    S.No.       Name  Age City           Email\n6       7     Anurag   42   NO  ak04@gmail.com\n8       9      Anand   42   DB  ak05@gmail.com\n0       1   Abhishek   40   SY  ak13@gmail.com\n1       2  Abhishek1   41   AT   ak1@gmail.com\n4       5     Ashish   42   DL  as12@gmail.com\n9      10       Deek   40   NJ  dg08@gmail.com\n5       6     Faheem   41   GR  fs25@gmail.com\n10     11     Hitesh   40   DB  hp12@gmail.com\n7       8    Pradeep   42   PN  pg16@gmail.com\n12     13       Rash   41   DB  rp05@gmail.com\n11     12      Roops   41   SY  rr27@gmail.com\n3       4      Sando   44   NO  sd18@gmail.com\n2       3    Saurabh   42   SY  sk29@gmail.com",
      "text/html": "<div>\n<style scoped>\n    .dataframe tbody tr th:only-of-type {\n        vertical-align: middle;\n    }\n\n    .dataframe tbody tr th {\n        vertical-align: top;\n    }\n\n    .dataframe thead th {\n        text-align: right;\n    }\n</style>\n<table border=\"1\" class=\"dataframe\">\n  <thead>\n    <tr style=\"text-align: right;\">\n      <th></th>\n      <th>S.No.</th>\n      <th>Name</th>\n      <th>Age</th>\n      <th>City</th>\n      <th>Email</th>\n    </tr>\n  </thead>\n  <tbody>\n    <tr>\n      <th>6</th>\n      <td>7</td>\n      <td>Anurag</td>\n      <td>42</td>\n      <td>NO</td>\n      <td>ak04@gmail.com</td>\n    </tr>\n    <tr>\n      <th>8</th>\n      <td>9</td>\n      <td>Anand</td>\n      <td>42</td>\n      <td>DB</td>\n      <td>ak05@gmail.com</td>\n    </tr>\n    <tr>\n      <th>0</th>\n      <td>1</td>\n      <td>Abhishek</td>\n      <td>40</td>\n      <td>SY</td>\n      <td>ak13@gmail.com</td>\n    </tr>\n    <tr>\n      <th>1</th>\n      <td>2</td>\n      <td>Abhishek1</td>\n      <td>41</td>\n      <td>AT</td>\n      <td>ak1@gmail.com</td>\n    </tr>\n    <tr>\n      <th>4</th>\n      <td>5</td>\n      <td>Ashish</td>\n      <td>42</td>\n      <td>DL</td>\n      <td>as12@gmail.com</td>\n    </tr>\n    <tr>\n      <th>9</th>\n      <td>10</td>\n      <td>Deek</td>\n      <td>40</td>\n      <td>NJ</td>\n      <td>dg08@gmail.com</td>\n    </tr>\n    <tr>\n      <th>5</th>\n      <td>6</td>\n      <td>Faheem</td>\n      <td>41</td>\n      <td>GR</td>\n      <td>fs25@gmail.com</td>\n    </tr>\n    <tr>\n      <th>10</th>\n      <td>11</td>\n      <td>Hitesh</td>\n      <td>40</td>\n      <td>DB</td>\n      <td>hp12@gmail.com</td>\n    </tr>\n    <tr>\n      <th>7</th>\n      <td>8</td>\n      <td>Pradeep</td>\n      <td>42</td>\n      <td>PN</td>\n      <td>pg16@gmail.com</td>\n    </tr>\n    <tr>\n      <th>12</th>\n      <td>13</td>\n      <td>Rash</td>\n      <td>41</td>\n      <td>DB</td>\n      <td>rp05@gmail.com</td>\n    </tr>\n    <tr>\n      <th>11</th>\n      <td>12</td>\n      <td>Roops</td>\n      <td>41</td>\n      <td>SY</td>\n      <td>rr27@gmail.com</td>\n    </tr>\n    <tr>\n      <th>3</th>\n      <td>4</td>\n      <td>Sando</td>\n      <td>44</td>\n      <td>NO</td>\n      <td>sd18@gmail.com</td>\n    </tr>\n    <tr>\n      <th>2</th>\n      <td>3</td>\n      <td>Saurabh</td>\n      <td>42</td>\n      <td>SY</td>\n      <td>sk29@gmail.com</td>\n    </tr>\n  </tbody>\n</table>\n</div>"
     },
     "metadata": {},
     "output_type": "execute_result",
     "execution_count": 49
    }
   ],
   "source": [
    "df.sort_values(by='Email')"
   ]
  },
  {
   "cell_type": "code",
   "execution_count": 50,
   "metadata": {
    "pycharm": {
     "is_executing": false,
     "name": "#%%\n"
    }
   },
   "outputs": [
    {
     "data": {
      "text/plain": "    S.No.       Name  Age City           Email\n2       3    Saurabh   42   SY  sk29@gmail.com\n3       4      Sando   44   NO  sd18@gmail.com\n11     12      Roops   41   SY  rr27@gmail.com\n12     13       Rash   41   DB  rp05@gmail.com\n7       8    Pradeep   42   PN  pg16@gmail.com\n10     11     Hitesh   40   DB  hp12@gmail.com\n5       6     Faheem   41   GR  fs25@gmail.com\n9      10       Deek   40   NJ  dg08@gmail.com\n4       5     Ashish   42   DL  as12@gmail.com\n1       2  Abhishek1   41   AT   ak1@gmail.com\n0       1   Abhishek   40   SY  ak13@gmail.com\n8       9      Anand   42   DB  ak05@gmail.com\n6       7     Anurag   42   NO  ak04@gmail.com",
      "text/html": "<div>\n<style scoped>\n    .dataframe tbody tr th:only-of-type {\n        vertical-align: middle;\n    }\n\n    .dataframe tbody tr th {\n        vertical-align: top;\n    }\n\n    .dataframe thead th {\n        text-align: right;\n    }\n</style>\n<table border=\"1\" class=\"dataframe\">\n  <thead>\n    <tr style=\"text-align: right;\">\n      <th></th>\n      <th>S.No.</th>\n      <th>Name</th>\n      <th>Age</th>\n      <th>City</th>\n      <th>Email</th>\n    </tr>\n  </thead>\n  <tbody>\n    <tr>\n      <th>2</th>\n      <td>3</td>\n      <td>Saurabh</td>\n      <td>42</td>\n      <td>SY</td>\n      <td>sk29@gmail.com</td>\n    </tr>\n    <tr>\n      <th>3</th>\n      <td>4</td>\n      <td>Sando</td>\n      <td>44</td>\n      <td>NO</td>\n      <td>sd18@gmail.com</td>\n    </tr>\n    <tr>\n      <th>11</th>\n      <td>12</td>\n      <td>Roops</td>\n      <td>41</td>\n      <td>SY</td>\n      <td>rr27@gmail.com</td>\n    </tr>\n    <tr>\n      <th>12</th>\n      <td>13</td>\n      <td>Rash</td>\n      <td>41</td>\n      <td>DB</td>\n      <td>rp05@gmail.com</td>\n    </tr>\n    <tr>\n      <th>7</th>\n      <td>8</td>\n      <td>Pradeep</td>\n      <td>42</td>\n      <td>PN</td>\n      <td>pg16@gmail.com</td>\n    </tr>\n    <tr>\n      <th>10</th>\n      <td>11</td>\n      <td>Hitesh</td>\n      <td>40</td>\n      <td>DB</td>\n      <td>hp12@gmail.com</td>\n    </tr>\n    <tr>\n      <th>5</th>\n      <td>6</td>\n      <td>Faheem</td>\n      <td>41</td>\n      <td>GR</td>\n      <td>fs25@gmail.com</td>\n    </tr>\n    <tr>\n      <th>9</th>\n      <td>10</td>\n      <td>Deek</td>\n      <td>40</td>\n      <td>NJ</td>\n      <td>dg08@gmail.com</td>\n    </tr>\n    <tr>\n      <th>4</th>\n      <td>5</td>\n      <td>Ashish</td>\n      <td>42</td>\n      <td>DL</td>\n      <td>as12@gmail.com</td>\n    </tr>\n    <tr>\n      <th>1</th>\n      <td>2</td>\n      <td>Abhishek1</td>\n      <td>41</td>\n      <td>AT</td>\n      <td>ak1@gmail.com</td>\n    </tr>\n    <tr>\n      <th>0</th>\n      <td>1</td>\n      <td>Abhishek</td>\n      <td>40</td>\n      <td>SY</td>\n      <td>ak13@gmail.com</td>\n    </tr>\n    <tr>\n      <th>8</th>\n      <td>9</td>\n      <td>Anand</td>\n      <td>42</td>\n      <td>DB</td>\n      <td>ak05@gmail.com</td>\n    </tr>\n    <tr>\n      <th>6</th>\n      <td>7</td>\n      <td>Anurag</td>\n      <td>42</td>\n      <td>NO</td>\n      <td>ak04@gmail.com</td>\n    </tr>\n  </tbody>\n</table>\n</div>"
     },
     "metadata": {},
     "output_type": "execute_result",
     "execution_count": 50
    }
   ],
   "source": [
    "df.sort_values(by='Email', ascending=False)"
   ]
  },
  {
   "cell_type": "code",
   "execution_count": 51,
   "metadata": {
    "pycharm": {
     "is_executing": false,
     "name": "#%%\n"
    }
   },
   "outputs": [
    {
     "data": {
      "text/plain": "    S.No.       Name  Age City           Email\n2       3    Saurabh   42   SY  sk29@gmail.com\n11     12      Roops   41   SY  rr27@gmail.com\n0       1   Abhishek   40   SY  ak13@gmail.com\n7       8    Pradeep   42   PN  pg16@gmail.com\n3       4      Sando   44   NO  sd18@gmail.com\n6       7     Anurag   42   NO  ak04@gmail.com\n9      10       Deek   40   NJ  dg08@gmail.com\n5       6     Faheem   41   GR  fs25@gmail.com\n4       5     Ashish   42   DL  as12@gmail.com\n12     13       Rash   41   DB  rp05@gmail.com\n10     11     Hitesh   40   DB  hp12@gmail.com\n8       9      Anand   42   DB  ak05@gmail.com\n1       2  Abhishek1   41   AT   ak1@gmail.com",
      "text/html": "<div>\n<style scoped>\n    .dataframe tbody tr th:only-of-type {\n        vertical-align: middle;\n    }\n\n    .dataframe tbody tr th {\n        vertical-align: top;\n    }\n\n    .dataframe thead th {\n        text-align: right;\n    }\n</style>\n<table border=\"1\" class=\"dataframe\">\n  <thead>\n    <tr style=\"text-align: right;\">\n      <th></th>\n      <th>S.No.</th>\n      <th>Name</th>\n      <th>Age</th>\n      <th>City</th>\n      <th>Email</th>\n    </tr>\n  </thead>\n  <tbody>\n    <tr>\n      <th>2</th>\n      <td>3</td>\n      <td>Saurabh</td>\n      <td>42</td>\n      <td>SY</td>\n      <td>sk29@gmail.com</td>\n    </tr>\n    <tr>\n      <th>11</th>\n      <td>12</td>\n      <td>Roops</td>\n      <td>41</td>\n      <td>SY</td>\n      <td>rr27@gmail.com</td>\n    </tr>\n    <tr>\n      <th>0</th>\n      <td>1</td>\n      <td>Abhishek</td>\n      <td>40</td>\n      <td>SY</td>\n      <td>ak13@gmail.com</td>\n    </tr>\n    <tr>\n      <th>7</th>\n      <td>8</td>\n      <td>Pradeep</td>\n      <td>42</td>\n      <td>PN</td>\n      <td>pg16@gmail.com</td>\n    </tr>\n    <tr>\n      <th>3</th>\n      <td>4</td>\n      <td>Sando</td>\n      <td>44</td>\n      <td>NO</td>\n      <td>sd18@gmail.com</td>\n    </tr>\n    <tr>\n      <th>6</th>\n      <td>7</td>\n      <td>Anurag</td>\n      <td>42</td>\n      <td>NO</td>\n      <td>ak04@gmail.com</td>\n    </tr>\n    <tr>\n      <th>9</th>\n      <td>10</td>\n      <td>Deek</td>\n      <td>40</td>\n      <td>NJ</td>\n      <td>dg08@gmail.com</td>\n    </tr>\n    <tr>\n      <th>5</th>\n      <td>6</td>\n      <td>Faheem</td>\n      <td>41</td>\n      <td>GR</td>\n      <td>fs25@gmail.com</td>\n    </tr>\n    <tr>\n      <th>4</th>\n      <td>5</td>\n      <td>Ashish</td>\n      <td>42</td>\n      <td>DL</td>\n      <td>as12@gmail.com</td>\n    </tr>\n    <tr>\n      <th>12</th>\n      <td>13</td>\n      <td>Rash</td>\n      <td>41</td>\n      <td>DB</td>\n      <td>rp05@gmail.com</td>\n    </tr>\n    <tr>\n      <th>10</th>\n      <td>11</td>\n      <td>Hitesh</td>\n      <td>40</td>\n      <td>DB</td>\n      <td>hp12@gmail.com</td>\n    </tr>\n    <tr>\n      <th>8</th>\n      <td>9</td>\n      <td>Anand</td>\n      <td>42</td>\n      <td>DB</td>\n      <td>ak05@gmail.com</td>\n    </tr>\n    <tr>\n      <th>1</th>\n      <td>2</td>\n      <td>Abhishek1</td>\n      <td>41</td>\n      <td>AT</td>\n      <td>ak1@gmail.com</td>\n    </tr>\n  </tbody>\n</table>\n</div>"
     },
     "metadata": {},
     "output_type": "execute_result",
     "execution_count": 51
    }
   ],
   "source": [
    "df.sort_values(by= ['City', 'Email'], ascending= False)"
   ]
  },
  {
   "cell_type": "code",
   "execution_count": 52,
   "metadata": {
    "pycharm": {
     "is_executing": false,
     "name": "#%%\n"
    }
   },
   "outputs": [],
   "source": [
    "df.sort_values(by= ['City', 'Email'], ascending= [False,True], inplace= True)"
   ]
  },
  {
   "cell_type": "code",
   "execution_count": 53,
   "metadata": {
    "pycharm": {
     "is_executing": false,
     "name": "#%%\n"
    }
   },
   "outputs": [
    {
     "data": {
      "text/plain": "    S.No.       Name  Age City           Email\n0       1   Abhishek   40   SY  ak13@gmail.com\n11     12      Roops   41   SY  rr27@gmail.com\n2       3    Saurabh   42   SY  sk29@gmail.com\n7       8    Pradeep   42   PN  pg16@gmail.com\n6       7     Anurag   42   NO  ak04@gmail.com\n3       4      Sando   44   NO  sd18@gmail.com\n9      10       Deek   40   NJ  dg08@gmail.com\n5       6     Faheem   41   GR  fs25@gmail.com\n4       5     Ashish   42   DL  as12@gmail.com\n8       9      Anand   42   DB  ak05@gmail.com\n10     11     Hitesh   40   DB  hp12@gmail.com\n12     13       Rash   41   DB  rp05@gmail.com\n1       2  Abhishek1   41   AT   ak1@gmail.com",
      "text/html": "<div>\n<style scoped>\n    .dataframe tbody tr th:only-of-type {\n        vertical-align: middle;\n    }\n\n    .dataframe tbody tr th {\n        vertical-align: top;\n    }\n\n    .dataframe thead th {\n        text-align: right;\n    }\n</style>\n<table border=\"1\" class=\"dataframe\">\n  <thead>\n    <tr style=\"text-align: right;\">\n      <th></th>\n      <th>S.No.</th>\n      <th>Name</th>\n      <th>Age</th>\n      <th>City</th>\n      <th>Email</th>\n    </tr>\n  </thead>\n  <tbody>\n    <tr>\n      <th>0</th>\n      <td>1</td>\n      <td>Abhishek</td>\n      <td>40</td>\n      <td>SY</td>\n      <td>ak13@gmail.com</td>\n    </tr>\n    <tr>\n      <th>11</th>\n      <td>12</td>\n      <td>Roops</td>\n      <td>41</td>\n      <td>SY</td>\n      <td>rr27@gmail.com</td>\n    </tr>\n    <tr>\n      <th>2</th>\n      <td>3</td>\n      <td>Saurabh</td>\n      <td>42</td>\n      <td>SY</td>\n      <td>sk29@gmail.com</td>\n    </tr>\n    <tr>\n      <th>7</th>\n      <td>8</td>\n      <td>Pradeep</td>\n      <td>42</td>\n      <td>PN</td>\n      <td>pg16@gmail.com</td>\n    </tr>\n    <tr>\n      <th>6</th>\n      <td>7</td>\n      <td>Anurag</td>\n      <td>42</td>\n      <td>NO</td>\n      <td>ak04@gmail.com</td>\n    </tr>\n    <tr>\n      <th>3</th>\n      <td>4</td>\n      <td>Sando</td>\n      <td>44</td>\n      <td>NO</td>\n      <td>sd18@gmail.com</td>\n    </tr>\n    <tr>\n      <th>9</th>\n      <td>10</td>\n      <td>Deek</td>\n      <td>40</td>\n      <td>NJ</td>\n      <td>dg08@gmail.com</td>\n    </tr>\n    <tr>\n      <th>5</th>\n      <td>6</td>\n      <td>Faheem</td>\n      <td>41</td>\n      <td>GR</td>\n      <td>fs25@gmail.com</td>\n    </tr>\n    <tr>\n      <th>4</th>\n      <td>5</td>\n      <td>Ashish</td>\n      <td>42</td>\n      <td>DL</td>\n      <td>as12@gmail.com</td>\n    </tr>\n    <tr>\n      <th>8</th>\n      <td>9</td>\n      <td>Anand</td>\n      <td>42</td>\n      <td>DB</td>\n      <td>ak05@gmail.com</td>\n    </tr>\n    <tr>\n      <th>10</th>\n      <td>11</td>\n      <td>Hitesh</td>\n      <td>40</td>\n      <td>DB</td>\n      <td>hp12@gmail.com</td>\n    </tr>\n    <tr>\n      <th>12</th>\n      <td>13</td>\n      <td>Rash</td>\n      <td>41</td>\n      <td>DB</td>\n      <td>rp05@gmail.com</td>\n    </tr>\n    <tr>\n      <th>1</th>\n      <td>2</td>\n      <td>Abhishek1</td>\n      <td>41</td>\n      <td>AT</td>\n      <td>ak1@gmail.com</td>\n    </tr>\n  </tbody>\n</table>\n</div>"
     },
     "metadata": {},
     "output_type": "execute_result",
     "execution_count": 53
    }
   ],
   "source": [
    "df"
   ]
  },
  {
   "cell_type": "code",
   "execution_count": 54,
   "metadata": {
    "pycharm": {
     "is_executing": false,
     "name": "#%% Restore sorting\n"
    }
   },
   "outputs": [
    {
     "data": {
      "text/plain": "    S.No.       Name  Age City           Email\n0       1   Abhishek   40   SY  ak13@gmail.com\n1       2  Abhishek1   41   AT   ak1@gmail.com\n2       3    Saurabh   42   SY  sk29@gmail.com\n3       4      Sando   44   NO  sd18@gmail.com\n4       5     Ashish   42   DL  as12@gmail.com\n5       6     Faheem   41   GR  fs25@gmail.com\n6       7     Anurag   42   NO  ak04@gmail.com\n7       8    Pradeep   42   PN  pg16@gmail.com\n8       9      Anand   42   DB  ak05@gmail.com\n9      10       Deek   40   NJ  dg08@gmail.com\n10     11     Hitesh   40   DB  hp12@gmail.com\n11     12      Roops   41   SY  rr27@gmail.com\n12     13       Rash   41   DB  rp05@gmail.com",
      "text/html": "<div>\n<style scoped>\n    .dataframe tbody tr th:only-of-type {\n        vertical-align: middle;\n    }\n\n    .dataframe tbody tr th {\n        vertical-align: top;\n    }\n\n    .dataframe thead th {\n        text-align: right;\n    }\n</style>\n<table border=\"1\" class=\"dataframe\">\n  <thead>\n    <tr style=\"text-align: right;\">\n      <th></th>\n      <th>S.No.</th>\n      <th>Name</th>\n      <th>Age</th>\n      <th>City</th>\n      <th>Email</th>\n    </tr>\n  </thead>\n  <tbody>\n    <tr>\n      <th>0</th>\n      <td>1</td>\n      <td>Abhishek</td>\n      <td>40</td>\n      <td>SY</td>\n      <td>ak13@gmail.com</td>\n    </tr>\n    <tr>\n      <th>1</th>\n      <td>2</td>\n      <td>Abhishek1</td>\n      <td>41</td>\n      <td>AT</td>\n      <td>ak1@gmail.com</td>\n    </tr>\n    <tr>\n      <th>2</th>\n      <td>3</td>\n      <td>Saurabh</td>\n      <td>42</td>\n      <td>SY</td>\n      <td>sk29@gmail.com</td>\n    </tr>\n    <tr>\n      <th>3</th>\n      <td>4</td>\n      <td>Sando</td>\n      <td>44</td>\n      <td>NO</td>\n      <td>sd18@gmail.com</td>\n    </tr>\n    <tr>\n      <th>4</th>\n      <td>5</td>\n      <td>Ashish</td>\n      <td>42</td>\n      <td>DL</td>\n      <td>as12@gmail.com</td>\n    </tr>\n    <tr>\n      <th>5</th>\n      <td>6</td>\n      <td>Faheem</td>\n      <td>41</td>\n      <td>GR</td>\n      <td>fs25@gmail.com</td>\n    </tr>\n    <tr>\n      <th>6</th>\n      <td>7</td>\n      <td>Anurag</td>\n      <td>42</td>\n      <td>NO</td>\n      <td>ak04@gmail.com</td>\n    </tr>\n    <tr>\n      <th>7</th>\n      <td>8</td>\n      <td>Pradeep</td>\n      <td>42</td>\n      <td>PN</td>\n      <td>pg16@gmail.com</td>\n    </tr>\n    <tr>\n      <th>8</th>\n      <td>9</td>\n      <td>Anand</td>\n      <td>42</td>\n      <td>DB</td>\n      <td>ak05@gmail.com</td>\n    </tr>\n    <tr>\n      <th>9</th>\n      <td>10</td>\n      <td>Deek</td>\n      <td>40</td>\n      <td>NJ</td>\n      <td>dg08@gmail.com</td>\n    </tr>\n    <tr>\n      <th>10</th>\n      <td>11</td>\n      <td>Hitesh</td>\n      <td>40</td>\n      <td>DB</td>\n      <td>hp12@gmail.com</td>\n    </tr>\n    <tr>\n      <th>11</th>\n      <td>12</td>\n      <td>Roops</td>\n      <td>41</td>\n      <td>SY</td>\n      <td>rr27@gmail.com</td>\n    </tr>\n    <tr>\n      <th>12</th>\n      <td>13</td>\n      <td>Rash</td>\n      <td>41</td>\n      <td>DB</td>\n      <td>rp05@gmail.com</td>\n    </tr>\n  </tbody>\n</table>\n</div>"
     },
     "metadata": {},
     "output_type": "execute_result",
     "execution_count": 54
    }
   ],
   "source": [
    "df.sort_index()"
   ]
  },
  {
   "cell_type": "code",
   "execution_count": 55,
   "metadata": {
    "pycharm": {
     "is_executing": false,
     "name": "#%% sort a single column or the series object\n"
    }
   },
   "outputs": [
    {
     "data": {
      "text/plain": "0      Abhishek\n1     Abhishek1\n8         Anand\n6        Anurag\n4        Ashish\n9          Deek\n5        Faheem\n10       Hitesh\n7       Pradeep\n12         Rash\n11        Roops\n3         Sando\n2       Saurabh\nName: Name, dtype: object"
     },
     "metadata": {},
     "output_type": "execute_result",
     "execution_count": 55
    }
   ],
   "source": [
    "df['Name'].sort_values()"
   ]
  },
  {
   "cell_type": "code",
   "execution_count": 56,
   "metadata": {
    "pycharm": {
     "is_executing": false,
     "name": "#%%\n"
    }
   },
   "outputs": [
    {
     "data": {
      "text/plain": "      SUMLEV  REGION  DIVISION  STATE  COUNTY   STNAME            CTYNAME  \\\n1         50       3         6      1       1  Alabama     Autauga County   \n2         50       3         6      1       3  Alabama     Baldwin County   \n3         50       3         6      1       5  Alabama     Barbour County   \n4         50       3         6      1       7  Alabama        Bibb County   \n5         50       3         6      1       9  Alabama      Blount County   \n...      ...     ...       ...    ...     ...      ...                ...   \n3188      50       4         8     56      37  Wyoming  Sweetwater County   \n3189      50       4         8     56      39  Wyoming       Teton County   \n3190      50       4         8     56      41  Wyoming       Uinta County   \n3191      50       4         8     56      43  Wyoming    Washakie County   \n3192      50       4         8     56      45  Wyoming      Weston County   \n\n      CENSUS2010POP  ESTIMATESBASE2010  POPESTIMATE2010  ...  \\\n1             54571              54571            54660  ...   \n2            182265             182265           183193  ...   \n3             27457              27457            27341  ...   \n4             22915              22919            22861  ...   \n5             57322              57322            57373  ...   \n...             ...                ...              ...  ...   \n3188          43806              43806            43593  ...   \n3189          21294              21294            21297  ...   \n3190          21118              21118            21102  ...   \n3191           8533               8533             8545  ...   \n3192           7208               7208             7181  ...   \n\n      RDOMESTICMIG2011  RDOMESTICMIG2012  RDOMESTICMIG2013  RDOMESTICMIG2014  \\\n1             7.242091         -2.915927         -3.012349          2.265971   \n2            14.832960         17.647293         21.845705         19.243287   \n3            -4.728132         -2.500690         -7.056824         -3.904217   \n4            -5.527043         -5.068871         -6.201001         -0.177537   \n5             1.807375         -1.177622         -1.748766         -2.062535   \n...                ...               ...               ...               ...   \n3188          1.072643         16.243199         -5.339774        -14.252889   \n3189         -1.589565          0.972695         19.525929         14.143021   \n3190        -17.755986         -4.916350         -6.902954        -14.215862   \n3191        -11.637475         -0.827815         -2.013502        -17.781491   \n3192        -11.752361         -8.040059         12.372583          1.533635   \n\n      RDOMESTICMIG2015  RNETMIG2011  RNETMIG2012  RNETMIG2013  RNETMIG2014  \\\n1            -2.530799     7.606016    -2.626146    -2.722002     2.592270   \n2            17.197872    15.844176    18.559627    22.727626    20.317142   \n3           -10.543299    -4.874741    -2.758113    -7.167664    -3.978583   \n4             0.177258    -5.088389    -4.363636    -5.403729     0.754533   \n5            -1.369970     1.859511    -0.848580    -1.402476    -1.577232   \n...                ...          ...          ...          ...          ...   \n3188        -14.248864     1.255221    16.243199    -5.295460   -14.075283   \n3189         -0.564849     0.654527     2.408578    21.160658    16.308671   \n3190        -12.127022   -18.136812    -5.536861    -7.521840   -14.740608   \n3191          1.682288   -11.990126    -1.182592    -2.250385   -18.020168   \n3192          6.935294   -12.032179    -8.040059    12.372583     1.533635   \n\n      RNETMIG2015  \n1       -2.187333  \n2       18.293499  \n3      -10.543299  \n4        1.107861  \n5       -0.884411  \n...           ...  \n3188   -14.070195  \n3189     1.520747  \n3190   -12.606351  \n3191     1.441961  \n3192     6.935294  \n\n[3142 rows x 100 columns]",
      "text/html": "<div>\n<style scoped>\n    .dataframe tbody tr th:only-of-type {\n        vertical-align: middle;\n    }\n\n    .dataframe tbody tr th {\n        vertical-align: top;\n    }\n\n    .dataframe thead th {\n        text-align: right;\n    }\n</style>\n<table border=\"1\" class=\"dataframe\">\n  <thead>\n    <tr style=\"text-align: right;\">\n      <th></th>\n      <th>SUMLEV</th>\n      <th>REGION</th>\n      <th>DIVISION</th>\n      <th>STATE</th>\n      <th>COUNTY</th>\n      <th>STNAME</th>\n      <th>CTYNAME</th>\n      <th>CENSUS2010POP</th>\n      <th>ESTIMATESBASE2010</th>\n      <th>POPESTIMATE2010</th>\n      <th>...</th>\n      <th>RDOMESTICMIG2011</th>\n      <th>RDOMESTICMIG2012</th>\n      <th>RDOMESTICMIG2013</th>\n      <th>RDOMESTICMIG2014</th>\n      <th>RDOMESTICMIG2015</th>\n      <th>RNETMIG2011</th>\n      <th>RNETMIG2012</th>\n      <th>RNETMIG2013</th>\n      <th>RNETMIG2014</th>\n      <th>RNETMIG2015</th>\n    </tr>\n  </thead>\n  <tbody>\n    <tr>\n      <th>1</th>\n      <td>50</td>\n      <td>3</td>\n      <td>6</td>\n      <td>1</td>\n      <td>1</td>\n      <td>Alabama</td>\n      <td>Autauga County</td>\n      <td>54571</td>\n      <td>54571</td>\n      <td>54660</td>\n      <td>...</td>\n      <td>7.242091</td>\n      <td>-2.915927</td>\n      <td>-3.012349</td>\n      <td>2.265971</td>\n      <td>-2.530799</td>\n      <td>7.606016</td>\n      <td>-2.626146</td>\n      <td>-2.722002</td>\n      <td>2.592270</td>\n      <td>-2.187333</td>\n    </tr>\n    <tr>\n      <th>2</th>\n      <td>50</td>\n      <td>3</td>\n      <td>6</td>\n      <td>1</td>\n      <td>3</td>\n      <td>Alabama</td>\n      <td>Baldwin County</td>\n      <td>182265</td>\n      <td>182265</td>\n      <td>183193</td>\n      <td>...</td>\n      <td>14.832960</td>\n      <td>17.647293</td>\n      <td>21.845705</td>\n      <td>19.243287</td>\n      <td>17.197872</td>\n      <td>15.844176</td>\n      <td>18.559627</td>\n      <td>22.727626</td>\n      <td>20.317142</td>\n      <td>18.293499</td>\n    </tr>\n    <tr>\n      <th>3</th>\n      <td>50</td>\n      <td>3</td>\n      <td>6</td>\n      <td>1</td>\n      <td>5</td>\n      <td>Alabama</td>\n      <td>Barbour County</td>\n      <td>27457</td>\n      <td>27457</td>\n      <td>27341</td>\n      <td>...</td>\n      <td>-4.728132</td>\n      <td>-2.500690</td>\n      <td>-7.056824</td>\n      <td>-3.904217</td>\n      <td>-10.543299</td>\n      <td>-4.874741</td>\n      <td>-2.758113</td>\n      <td>-7.167664</td>\n      <td>-3.978583</td>\n      <td>-10.543299</td>\n    </tr>\n    <tr>\n      <th>4</th>\n      <td>50</td>\n      <td>3</td>\n      <td>6</td>\n      <td>1</td>\n      <td>7</td>\n      <td>Alabama</td>\n      <td>Bibb County</td>\n      <td>22915</td>\n      <td>22919</td>\n      <td>22861</td>\n      <td>...</td>\n      <td>-5.527043</td>\n      <td>-5.068871</td>\n      <td>-6.201001</td>\n      <td>-0.177537</td>\n      <td>0.177258</td>\n      <td>-5.088389</td>\n      <td>-4.363636</td>\n      <td>-5.403729</td>\n      <td>0.754533</td>\n      <td>1.107861</td>\n    </tr>\n    <tr>\n      <th>5</th>\n      <td>50</td>\n      <td>3</td>\n      <td>6</td>\n      <td>1</td>\n      <td>9</td>\n      <td>Alabama</td>\n      <td>Blount County</td>\n      <td>57322</td>\n      <td>57322</td>\n      <td>57373</td>\n      <td>...</td>\n      <td>1.807375</td>\n      <td>-1.177622</td>\n      <td>-1.748766</td>\n      <td>-2.062535</td>\n      <td>-1.369970</td>\n      <td>1.859511</td>\n      <td>-0.848580</td>\n      <td>-1.402476</td>\n      <td>-1.577232</td>\n      <td>-0.884411</td>\n    </tr>\n    <tr>\n      <th>...</th>\n      <td>...</td>\n      <td>...</td>\n      <td>...</td>\n      <td>...</td>\n      <td>...</td>\n      <td>...</td>\n      <td>...</td>\n      <td>...</td>\n      <td>...</td>\n      <td>...</td>\n      <td>...</td>\n      <td>...</td>\n      <td>...</td>\n      <td>...</td>\n      <td>...</td>\n      <td>...</td>\n      <td>...</td>\n      <td>...</td>\n      <td>...</td>\n      <td>...</td>\n      <td>...</td>\n    </tr>\n    <tr>\n      <th>3188</th>\n      <td>50</td>\n      <td>4</td>\n      <td>8</td>\n      <td>56</td>\n      <td>37</td>\n      <td>Wyoming</td>\n      <td>Sweetwater County</td>\n      <td>43806</td>\n      <td>43806</td>\n      <td>43593</td>\n      <td>...</td>\n      <td>1.072643</td>\n      <td>16.243199</td>\n      <td>-5.339774</td>\n      <td>-14.252889</td>\n      <td>-14.248864</td>\n      <td>1.255221</td>\n      <td>16.243199</td>\n      <td>-5.295460</td>\n      <td>-14.075283</td>\n      <td>-14.070195</td>\n    </tr>\n    <tr>\n      <th>3189</th>\n      <td>50</td>\n      <td>4</td>\n      <td>8</td>\n      <td>56</td>\n      <td>39</td>\n      <td>Wyoming</td>\n      <td>Teton County</td>\n      <td>21294</td>\n      <td>21294</td>\n      <td>21297</td>\n      <td>...</td>\n      <td>-1.589565</td>\n      <td>0.972695</td>\n      <td>19.525929</td>\n      <td>14.143021</td>\n      <td>-0.564849</td>\n      <td>0.654527</td>\n      <td>2.408578</td>\n      <td>21.160658</td>\n      <td>16.308671</td>\n      <td>1.520747</td>\n    </tr>\n    <tr>\n      <th>3190</th>\n      <td>50</td>\n      <td>4</td>\n      <td>8</td>\n      <td>56</td>\n      <td>41</td>\n      <td>Wyoming</td>\n      <td>Uinta County</td>\n      <td>21118</td>\n      <td>21118</td>\n      <td>21102</td>\n      <td>...</td>\n      <td>-17.755986</td>\n      <td>-4.916350</td>\n      <td>-6.902954</td>\n      <td>-14.215862</td>\n      <td>-12.127022</td>\n      <td>-18.136812</td>\n      <td>-5.536861</td>\n      <td>-7.521840</td>\n      <td>-14.740608</td>\n      <td>-12.606351</td>\n    </tr>\n    <tr>\n      <th>3191</th>\n      <td>50</td>\n      <td>4</td>\n      <td>8</td>\n      <td>56</td>\n      <td>43</td>\n      <td>Wyoming</td>\n      <td>Washakie County</td>\n      <td>8533</td>\n      <td>8533</td>\n      <td>8545</td>\n      <td>...</td>\n      <td>-11.637475</td>\n      <td>-0.827815</td>\n      <td>-2.013502</td>\n      <td>-17.781491</td>\n      <td>1.682288</td>\n      <td>-11.990126</td>\n      <td>-1.182592</td>\n      <td>-2.250385</td>\n      <td>-18.020168</td>\n      <td>1.441961</td>\n    </tr>\n    <tr>\n      <th>3192</th>\n      <td>50</td>\n      <td>4</td>\n      <td>8</td>\n      <td>56</td>\n      <td>45</td>\n      <td>Wyoming</td>\n      <td>Weston County</td>\n      <td>7208</td>\n      <td>7208</td>\n      <td>7181</td>\n      <td>...</td>\n      <td>-11.752361</td>\n      <td>-8.040059</td>\n      <td>12.372583</td>\n      <td>1.533635</td>\n      <td>6.935294</td>\n      <td>-12.032179</td>\n      <td>-8.040059</td>\n      <td>12.372583</td>\n      <td>1.533635</td>\n      <td>6.935294</td>\n    </tr>\n  </tbody>\n</table>\n<p>3142 rows × 100 columns</p>\n</div>"
     },
     "metadata": {},
     "output_type": "execute_result",
     "execution_count": 56
    }
   ],
   "source": [
    "census_df = pd.read_csv('census.csv')\n",
    "census_df.head()\n",
    "counties_df = census_df[census_df['SUMLEV'] == 50]\n",
    "counties_df"
   ]
  },
  {
   "cell_type": "code",
   "execution_count": 57,
   "metadata": {
    "pycharm": {
     "is_executing": false,
     "name": "#%%\n"
    }
   },
   "outputs": [
    {
     "data": {
      "text/plain": "      SUMLEV  REGION  DIVISION  STATE  COUNTY   STNAME            CTYNAME  \\\n3180      50       4         8     56      21  Wyoming     Laramie County   \n3182      50       4         8     56      25  Wyoming     Natrona County   \n3172      50       4         8     56       5  Wyoming    Campbell County   \n3188      50       4         8     56      37  Wyoming  Sweetwater County   \n3176      50       4         8     56      13  Wyoming     Fremont County   \n...      ...     ...       ...    ...     ...      ...                ...   \n19        50       3         6      1      37  Alabama       Coosa County   \n43        50       3         6      1      85  Alabama     Lowndes County   \n6         50       3         6      1      11  Alabama     Bullock County   \n53        50       3         6      1     105  Alabama       Perry County   \n32        50       3         6      1      63  Alabama      Greene County   \n\n      CENSUS2010POP  ESTIMATESBASE2010  POPESTIMATE2010  ...  \\\n3180          91738              91881            92271  ...   \n3182          75450              75450            75472  ...   \n3172          46133              46133            46244  ...   \n3188          43806              43806            43593  ...   \n3176          40123              40123            40222  ...   \n...             ...                ...              ...  ...   \n19            11539              11758            11758  ...   \n43            11299              11299            11275  ...   \n6             10914              10915            10887  ...   \n53            10591              10581            10540  ...   \n32             9045               9045             9001  ...   \n\n      RDOMESTICMIG2011  RDOMESTICMIG2012  RDOMESTICMIG2013  RDOMESTICMIG2014  \\\n3180         -1.200428         15.547274          4.787847         -1.226133   \n3182          7.189319         23.066162         24.322042         -0.958472   \n3172         -2.843479         15.601020         -5.895711         -8.550911   \n3188          1.072643         16.243199         -5.339774        -14.252889   \n3176          2.747083          7.782673         -4.990688        -12.331633   \n...                ...               ...               ...               ...   \n19          -33.930581        -10.291443         -4.313831        -22.958017   \n43          -13.575065        -28.401074        -11.493720        -16.071429   \n6           -30.953709         -5.180127         -1.130263         14.354290   \n53           -4.275534        -30.449493        -13.879939        -11.386538   \n32          -10.049690         -8.565793        -10.033635        -22.481024   \n\n      RDOMESTICMIG2015  RNETMIG2011  RNETMIG2012  RNETMIG2013  RNETMIG2014  \\\n3180          0.278940    -0.973320    17.914554     6.003143    -0.207819   \n3182         -0.061057     7.689674    23.749508    25.085233    -0.110593   \n3172         10.916963    -2.649606    15.558684    -5.916543    -8.509402   \n3188        -14.248864     1.255221    16.243199    -5.295460   -14.075283   \n3176        -13.673610     3.093562     8.027411    -4.747240   -12.013555   \n...                ...          ...          ...          ...          ...   \n19           -5.387581   -34.017138   -10.380162    -4.403703   -23.049483   \n43           -7.804692   -13.485755   -28.310045   -11.401029   -15.883459   \n6           -16.167247   -29.001673    -2.825524     1.507017    17.243790   \n53          -16.096786    -3.895487   -30.256162   -13.582511   -11.185006   \n32           -8.806952   -10.049690    -8.565793   -10.033635   -22.481024   \n\n      RNETMIG2015  \n3180     1.673640  \n3182     0.793743  \n3172    10.978525  \n3188   -14.070195  \n3176   -13.352750  \n...           ...  \n19      -5.387581  \n43      -7.614334  \n6      -13.193961  \n53     -15.891731  \n32      -8.806952  \n\n[3142 rows x 100 columns]",
      "text/html": "<div>\n<style scoped>\n    .dataframe tbody tr th:only-of-type {\n        vertical-align: middle;\n    }\n\n    .dataframe tbody tr th {\n        vertical-align: top;\n    }\n\n    .dataframe thead th {\n        text-align: right;\n    }\n</style>\n<table border=\"1\" class=\"dataframe\">\n  <thead>\n    <tr style=\"text-align: right;\">\n      <th></th>\n      <th>SUMLEV</th>\n      <th>REGION</th>\n      <th>DIVISION</th>\n      <th>STATE</th>\n      <th>COUNTY</th>\n      <th>STNAME</th>\n      <th>CTYNAME</th>\n      <th>CENSUS2010POP</th>\n      <th>ESTIMATESBASE2010</th>\n      <th>POPESTIMATE2010</th>\n      <th>...</th>\n      <th>RDOMESTICMIG2011</th>\n      <th>RDOMESTICMIG2012</th>\n      <th>RDOMESTICMIG2013</th>\n      <th>RDOMESTICMIG2014</th>\n      <th>RDOMESTICMIG2015</th>\n      <th>RNETMIG2011</th>\n      <th>RNETMIG2012</th>\n      <th>RNETMIG2013</th>\n      <th>RNETMIG2014</th>\n      <th>RNETMIG2015</th>\n    </tr>\n  </thead>\n  <tbody>\n    <tr>\n      <th>3180</th>\n      <td>50</td>\n      <td>4</td>\n      <td>8</td>\n      <td>56</td>\n      <td>21</td>\n      <td>Wyoming</td>\n      <td>Laramie County</td>\n      <td>91738</td>\n      <td>91881</td>\n      <td>92271</td>\n      <td>...</td>\n      <td>-1.200428</td>\n      <td>15.547274</td>\n      <td>4.787847</td>\n      <td>-1.226133</td>\n      <td>0.278940</td>\n      <td>-0.973320</td>\n      <td>17.914554</td>\n      <td>6.003143</td>\n      <td>-0.207819</td>\n      <td>1.673640</td>\n    </tr>\n    <tr>\n      <th>3182</th>\n      <td>50</td>\n      <td>4</td>\n      <td>8</td>\n      <td>56</td>\n      <td>25</td>\n      <td>Wyoming</td>\n      <td>Natrona County</td>\n      <td>75450</td>\n      <td>75450</td>\n      <td>75472</td>\n      <td>...</td>\n      <td>7.189319</td>\n      <td>23.066162</td>\n      <td>24.322042</td>\n      <td>-0.958472</td>\n      <td>-0.061057</td>\n      <td>7.689674</td>\n      <td>23.749508</td>\n      <td>25.085233</td>\n      <td>-0.110593</td>\n      <td>0.793743</td>\n    </tr>\n    <tr>\n      <th>3172</th>\n      <td>50</td>\n      <td>4</td>\n      <td>8</td>\n      <td>56</td>\n      <td>5</td>\n      <td>Wyoming</td>\n      <td>Campbell County</td>\n      <td>46133</td>\n      <td>46133</td>\n      <td>46244</td>\n      <td>...</td>\n      <td>-2.843479</td>\n      <td>15.601020</td>\n      <td>-5.895711</td>\n      <td>-8.550911</td>\n      <td>10.916963</td>\n      <td>-2.649606</td>\n      <td>15.558684</td>\n      <td>-5.916543</td>\n      <td>-8.509402</td>\n      <td>10.978525</td>\n    </tr>\n    <tr>\n      <th>3188</th>\n      <td>50</td>\n      <td>4</td>\n      <td>8</td>\n      <td>56</td>\n      <td>37</td>\n      <td>Wyoming</td>\n      <td>Sweetwater County</td>\n      <td>43806</td>\n      <td>43806</td>\n      <td>43593</td>\n      <td>...</td>\n      <td>1.072643</td>\n      <td>16.243199</td>\n      <td>-5.339774</td>\n      <td>-14.252889</td>\n      <td>-14.248864</td>\n      <td>1.255221</td>\n      <td>16.243199</td>\n      <td>-5.295460</td>\n      <td>-14.075283</td>\n      <td>-14.070195</td>\n    </tr>\n    <tr>\n      <th>3176</th>\n      <td>50</td>\n      <td>4</td>\n      <td>8</td>\n      <td>56</td>\n      <td>13</td>\n      <td>Wyoming</td>\n      <td>Fremont County</td>\n      <td>40123</td>\n      <td>40123</td>\n      <td>40222</td>\n      <td>...</td>\n      <td>2.747083</td>\n      <td>7.782673</td>\n      <td>-4.990688</td>\n      <td>-12.331633</td>\n      <td>-13.673610</td>\n      <td>3.093562</td>\n      <td>8.027411</td>\n      <td>-4.747240</td>\n      <td>-12.013555</td>\n      <td>-13.352750</td>\n    </tr>\n    <tr>\n      <th>...</th>\n      <td>...</td>\n      <td>...</td>\n      <td>...</td>\n      <td>...</td>\n      <td>...</td>\n      <td>...</td>\n      <td>...</td>\n      <td>...</td>\n      <td>...</td>\n      <td>...</td>\n      <td>...</td>\n      <td>...</td>\n      <td>...</td>\n      <td>...</td>\n      <td>...</td>\n      <td>...</td>\n      <td>...</td>\n      <td>...</td>\n      <td>...</td>\n      <td>...</td>\n      <td>...</td>\n    </tr>\n    <tr>\n      <th>19</th>\n      <td>50</td>\n      <td>3</td>\n      <td>6</td>\n      <td>1</td>\n      <td>37</td>\n      <td>Alabama</td>\n      <td>Coosa County</td>\n      <td>11539</td>\n      <td>11758</td>\n      <td>11758</td>\n      <td>...</td>\n      <td>-33.930581</td>\n      <td>-10.291443</td>\n      <td>-4.313831</td>\n      <td>-22.958017</td>\n      <td>-5.387581</td>\n      <td>-34.017138</td>\n      <td>-10.380162</td>\n      <td>-4.403703</td>\n      <td>-23.049483</td>\n      <td>-5.387581</td>\n    </tr>\n    <tr>\n      <th>43</th>\n      <td>50</td>\n      <td>3</td>\n      <td>6</td>\n      <td>1</td>\n      <td>85</td>\n      <td>Alabama</td>\n      <td>Lowndes County</td>\n      <td>11299</td>\n      <td>11299</td>\n      <td>11275</td>\n      <td>...</td>\n      <td>-13.575065</td>\n      <td>-28.401074</td>\n      <td>-11.493720</td>\n      <td>-16.071429</td>\n      <td>-7.804692</td>\n      <td>-13.485755</td>\n      <td>-28.310045</td>\n      <td>-11.401029</td>\n      <td>-15.883459</td>\n      <td>-7.614334</td>\n    </tr>\n    <tr>\n      <th>6</th>\n      <td>50</td>\n      <td>3</td>\n      <td>6</td>\n      <td>1</td>\n      <td>11</td>\n      <td>Alabama</td>\n      <td>Bullock County</td>\n      <td>10914</td>\n      <td>10915</td>\n      <td>10887</td>\n      <td>...</td>\n      <td>-30.953709</td>\n      <td>-5.180127</td>\n      <td>-1.130263</td>\n      <td>14.354290</td>\n      <td>-16.167247</td>\n      <td>-29.001673</td>\n      <td>-2.825524</td>\n      <td>1.507017</td>\n      <td>17.243790</td>\n      <td>-13.193961</td>\n    </tr>\n    <tr>\n      <th>53</th>\n      <td>50</td>\n      <td>3</td>\n      <td>6</td>\n      <td>1</td>\n      <td>105</td>\n      <td>Alabama</td>\n      <td>Perry County</td>\n      <td>10591</td>\n      <td>10581</td>\n      <td>10540</td>\n      <td>...</td>\n      <td>-4.275534</td>\n      <td>-30.449493</td>\n      <td>-13.879939</td>\n      <td>-11.386538</td>\n      <td>-16.096786</td>\n      <td>-3.895487</td>\n      <td>-30.256162</td>\n      <td>-13.582511</td>\n      <td>-11.185006</td>\n      <td>-15.891731</td>\n    </tr>\n    <tr>\n      <th>32</th>\n      <td>50</td>\n      <td>3</td>\n      <td>6</td>\n      <td>1</td>\n      <td>63</td>\n      <td>Alabama</td>\n      <td>Greene County</td>\n      <td>9045</td>\n      <td>9045</td>\n      <td>9001</td>\n      <td>...</td>\n      <td>-10.049690</td>\n      <td>-8.565793</td>\n      <td>-10.033635</td>\n      <td>-22.481024</td>\n      <td>-8.806952</td>\n      <td>-10.049690</td>\n      <td>-8.565793</td>\n      <td>-10.033635</td>\n      <td>-22.481024</td>\n      <td>-8.806952</td>\n    </tr>\n  </tbody>\n</table>\n<p>3142 rows × 100 columns</p>\n</div>"
     },
     "metadata": {},
     "output_type": "execute_result",
     "execution_count": 57
    }
   ],
   "source": [
    "sorted_Counties_df = counties_df.sort_values(by=['STNAME','CENSUS2010POP'],ascending=False)\n",
    "sorted_Counties_df"
   ]
  },
  {
   "cell_type": "code",
   "execution_count": 58,
   "metadata": {
    "pycharm": {
     "is_executing": false,
     "name": "#%%\n"
    }
   },
   "outputs": [
    {
     "data": {
      "text/plain": "       STNAME            CTYNAME  CENSUS2010POP  SUMLEV\n3180  Wyoming     Laramie County          91738      50\n3182  Wyoming     Natrona County          75450      50\n3172  Wyoming    Campbell County          46133      50\n3188  Wyoming  Sweetwater County          43806      50\n3176  Wyoming     Fremont County          40123      50\n...       ...                ...            ...     ...\n19    Alabama       Coosa County          11539      50\n43    Alabama     Lowndes County          11299      50\n6     Alabama     Bullock County          10914      50\n53    Alabama       Perry County          10591      50\n32    Alabama      Greene County           9045      50\n\n[3142 rows x 4 columns]",
      "text/html": "<div>\n<style scoped>\n    .dataframe tbody tr th:only-of-type {\n        vertical-align: middle;\n    }\n\n    .dataframe tbody tr th {\n        vertical-align: top;\n    }\n\n    .dataframe thead th {\n        text-align: right;\n    }\n</style>\n<table border=\"1\" class=\"dataframe\">\n  <thead>\n    <tr style=\"text-align: right;\">\n      <th></th>\n      <th>STNAME</th>\n      <th>CTYNAME</th>\n      <th>CENSUS2010POP</th>\n      <th>SUMLEV</th>\n    </tr>\n  </thead>\n  <tbody>\n    <tr>\n      <th>3180</th>\n      <td>Wyoming</td>\n      <td>Laramie County</td>\n      <td>91738</td>\n      <td>50</td>\n    </tr>\n    <tr>\n      <th>3182</th>\n      <td>Wyoming</td>\n      <td>Natrona County</td>\n      <td>75450</td>\n      <td>50</td>\n    </tr>\n    <tr>\n      <th>3172</th>\n      <td>Wyoming</td>\n      <td>Campbell County</td>\n      <td>46133</td>\n      <td>50</td>\n    </tr>\n    <tr>\n      <th>3188</th>\n      <td>Wyoming</td>\n      <td>Sweetwater County</td>\n      <td>43806</td>\n      <td>50</td>\n    </tr>\n    <tr>\n      <th>3176</th>\n      <td>Wyoming</td>\n      <td>Fremont County</td>\n      <td>40123</td>\n      <td>50</td>\n    </tr>\n    <tr>\n      <th>...</th>\n      <td>...</td>\n      <td>...</td>\n      <td>...</td>\n      <td>...</td>\n    </tr>\n    <tr>\n      <th>19</th>\n      <td>Alabama</td>\n      <td>Coosa County</td>\n      <td>11539</td>\n      <td>50</td>\n    </tr>\n    <tr>\n      <th>43</th>\n      <td>Alabama</td>\n      <td>Lowndes County</td>\n      <td>11299</td>\n      <td>50</td>\n    </tr>\n    <tr>\n      <th>6</th>\n      <td>Alabama</td>\n      <td>Bullock County</td>\n      <td>10914</td>\n      <td>50</td>\n    </tr>\n    <tr>\n      <th>53</th>\n      <td>Alabama</td>\n      <td>Perry County</td>\n      <td>10591</td>\n      <td>50</td>\n    </tr>\n    <tr>\n      <th>32</th>\n      <td>Alabama</td>\n      <td>Greene County</td>\n      <td>9045</td>\n      <td>50</td>\n    </tr>\n  </tbody>\n</table>\n<p>3142 rows × 4 columns</p>\n</div>"
     },
     "metadata": {},
     "output_type": "execute_result",
     "execution_count": 58
    }
   ],
   "source": [
    "columns_to_keep = ['STNAME',\n",
    "                   'CTYNAME',\n",
    "                   'CENSUS2010POP',\n",
    "                   'SUMLEV']\n",
    "dfTemp = sorted_Counties_df[columns_to_keep]\n",
    "dfTemp"
   ]
  },
  {
   "cell_type": "code",
   "execution_count": 59,
   "metadata": {
    "pycharm": {
     "is_executing": false,
     "name": "#%%\n"
    }
   },
   "outputs": [
    {
     "data": {
      "text/plain": "       STNAME          CTYNAME  CENSUS2010POP  SUMLEV\n3180  Wyoming   Laramie County          91738      50\n3182  Wyoming   Natrona County          75450      50\n3172  Wyoming  Campbell County          46133      50",
      "text/html": "<div>\n<style scoped>\n    .dataframe tbody tr th:only-of-type {\n        vertical-align: middle;\n    }\n\n    .dataframe tbody tr th {\n        vertical-align: top;\n    }\n\n    .dataframe thead th {\n        text-align: right;\n    }\n</style>\n<table border=\"1\" class=\"dataframe\">\n  <thead>\n    <tr style=\"text-align: right;\">\n      <th></th>\n      <th>STNAME</th>\n      <th>CTYNAME</th>\n      <th>CENSUS2010POP</th>\n      <th>SUMLEV</th>\n    </tr>\n  </thead>\n  <tbody>\n    <tr>\n      <th>3180</th>\n      <td>Wyoming</td>\n      <td>Laramie County</td>\n      <td>91738</td>\n      <td>50</td>\n    </tr>\n    <tr>\n      <th>3182</th>\n      <td>Wyoming</td>\n      <td>Natrona County</td>\n      <td>75450</td>\n      <td>50</td>\n    </tr>\n    <tr>\n      <th>3172</th>\n      <td>Wyoming</td>\n      <td>Campbell County</td>\n      <td>46133</td>\n      <td>50</td>\n    </tr>\n  </tbody>\n</table>\n</div>"
     },
     "metadata": {},
     "output_type": "execute_result",
     "execution_count": 59
    }
   ],
   "source": [
    "dfTemp.head(3)"
   ]
  },
  {
   "cell_type": "code",
   "execution_count": 60,
   "metadata": {
    "pycharm": {
     "is_executing": false,
     "name": "#%%\n"
    }
   },
   "outputs": [
    {
     "data": {
      "text/plain": "209     9818605\n624     5194675\n2667    4092459\n106     3817117\n227     3095313\nName: CENSUS2010POP, dtype: int64"
     },
     "metadata": {},
     "output_type": "execute_result",
     "execution_count": 60
    }
   ],
   "source": [
    "dfTemp['CENSUS2010POP'].nlargest(5)"
   ]
  },
  {
   "cell_type": "code",
   "execution_count": 61,
   "outputs": [
    {
     "data": {
      "text/plain": "          STNAME             CTYNAME  CENSUS2010POP  SUMLEV\n209   California  Los Angeles County        9818605      50\n624     Illinois         Cook County        5194675      50\n2667       Texas       Harris County        4092459      50\n106      Arizona     Maricopa County        3817117      50\n227   California    San Diego County        3095313      50",
      "text/html": "<div>\n<style scoped>\n    .dataframe tbody tr th:only-of-type {\n        vertical-align: middle;\n    }\n\n    .dataframe tbody tr th {\n        vertical-align: top;\n    }\n\n    .dataframe thead th {\n        text-align: right;\n    }\n</style>\n<table border=\"1\" class=\"dataframe\">\n  <thead>\n    <tr style=\"text-align: right;\">\n      <th></th>\n      <th>STNAME</th>\n      <th>CTYNAME</th>\n      <th>CENSUS2010POP</th>\n      <th>SUMLEV</th>\n    </tr>\n  </thead>\n  <tbody>\n    <tr>\n      <th>209</th>\n      <td>California</td>\n      <td>Los Angeles County</td>\n      <td>9818605</td>\n      <td>50</td>\n    </tr>\n    <tr>\n      <th>624</th>\n      <td>Illinois</td>\n      <td>Cook County</td>\n      <td>5194675</td>\n      <td>50</td>\n    </tr>\n    <tr>\n      <th>2667</th>\n      <td>Texas</td>\n      <td>Harris County</td>\n      <td>4092459</td>\n      <td>50</td>\n    </tr>\n    <tr>\n      <th>106</th>\n      <td>Arizona</td>\n      <td>Maricopa County</td>\n      <td>3817117</td>\n      <td>50</td>\n    </tr>\n    <tr>\n      <th>227</th>\n      <td>California</td>\n      <td>San Diego County</td>\n      <td>3095313</td>\n      <td>50</td>\n    </tr>\n  </tbody>\n</table>\n</div>"
     },
     "metadata": {},
     "output_type": "execute_result",
     "execution_count": 61
    }
   ],
   "source": [
    "dfTemp.nlargest(5,'CENSUS2010POP')"
   ],
   "metadata": {
    "collapsed": false,
    "pycharm": {
     "name": "#%%\n",
     "is_executing": false
    }
   }
  },
  {
   "cell_type": "code",
   "execution_count": 62,
   "outputs": [
    {
     "data": {
      "text/plain": "2717     82\n560      90\n2701    286\n2697    416\n1684    460\nName: CENSUS2010POP, dtype: int64"
     },
     "metadata": {},
     "output_type": "execute_result",
     "execution_count": 62
    }
   ],
   "source": [
    "dfTemp['CENSUS2010POP'].nsmallest(5)"
   ],
   "metadata": {
    "collapsed": false,
    "pycharm": {
     "name": "#%%\n",
     "is_executing": false
    }
   }
  },
  {
   "cell_type": "code",
   "execution_count": 63,
   "outputs": [
    {
     "data": {
      "text/plain": "        STNAME         CTYNAME  CENSUS2010POP  SUMLEV\n2717     Texas   Loving County             82      50\n560     Hawaii  Kalawao County             90      50\n2701     Texas     King County            286      50\n2697     Texas   Kenedy County            416      50\n1684  Nebraska   Arthur County            460      50",
      "text/html": "<div>\n<style scoped>\n    .dataframe tbody tr th:only-of-type {\n        vertical-align: middle;\n    }\n\n    .dataframe tbody tr th {\n        vertical-align: top;\n    }\n\n    .dataframe thead th {\n        text-align: right;\n    }\n</style>\n<table border=\"1\" class=\"dataframe\">\n  <thead>\n    <tr style=\"text-align: right;\">\n      <th></th>\n      <th>STNAME</th>\n      <th>CTYNAME</th>\n      <th>CENSUS2010POP</th>\n      <th>SUMLEV</th>\n    </tr>\n  </thead>\n  <tbody>\n    <tr>\n      <th>2717</th>\n      <td>Texas</td>\n      <td>Loving County</td>\n      <td>82</td>\n      <td>50</td>\n    </tr>\n    <tr>\n      <th>560</th>\n      <td>Hawaii</td>\n      <td>Kalawao County</td>\n      <td>90</td>\n      <td>50</td>\n    </tr>\n    <tr>\n      <th>2701</th>\n      <td>Texas</td>\n      <td>King County</td>\n      <td>286</td>\n      <td>50</td>\n    </tr>\n    <tr>\n      <th>2697</th>\n      <td>Texas</td>\n      <td>Kenedy County</td>\n      <td>416</td>\n      <td>50</td>\n    </tr>\n    <tr>\n      <th>1684</th>\n      <td>Nebraska</td>\n      <td>Arthur County</td>\n      <td>460</td>\n      <td>50</td>\n    </tr>\n  </tbody>\n</table>\n</div>"
     },
     "metadata": {},
     "output_type": "execute_result",
     "execution_count": 63
    }
   ],
   "source": [
    "dfTemp.nsmallest(5,'CENSUS2010POP')"
   ],
   "metadata": {
    "collapsed": false,
    "pycharm": {
     "name": "#%%\n",
     "is_executing": false
    }
   }
  },
  {
   "cell_type": "code",
   "execution_count": null,
   "outputs": [],
   "source": [
    "\n"
   ],
   "metadata": {
    "collapsed": false,
    "pycharm": {
     "name": "#%%\n"
    }
   }
  }
 ],
 "metadata": {
  "kernelspec": {
   "display_name": "Python 3",
   "language": "python",
   "name": "python3"
  },
  "language_info": {
   "codemirror_mode": {
    "name": "ipython",
    "version": 3
   },
   "file_extension": ".py",
   "mimetype": "text/x-python",
   "name": "python",
   "nbconvert_exporter": "python",
   "pygments_lexer": "ipython3",
   "version": "3.7.3"
  },
  "pycharm": {
   "stem_cell": {
    "cell_type": "raw",
    "source": [],
    "metadata": {
     "collapsed": false
    }
   }
  }
 },
 "nbformat": 4,
 "nbformat_minor": 4
}