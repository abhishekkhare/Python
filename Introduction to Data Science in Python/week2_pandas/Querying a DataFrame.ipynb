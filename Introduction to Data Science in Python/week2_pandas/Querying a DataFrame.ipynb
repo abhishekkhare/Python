{
 "cells": [
  {
   "cell_type": "code",
   "execution_count": 16,
   "outputs": [],
   "source": [
    "import pandas as pd"
   ],
   "metadata": {
    "collapsed": false,
    "pycharm": {
     "name": "#%%\n",
     "is_executing": false
    }
   }
  },
  {
   "cell_type": "code",
   "execution_count": 17,
   "outputs": [
    {
     "data": {
      "text/plain": "                   0         1     2     3     4      5         6     7     8  \\\n0                NaN  № Summer  01 !  02 !  03 !  Total  № Winter  01 !  02 !   \n1  Afghanistan (AFG)        13     0     0     2      2         0     0     0   \n2      Algeria (ALG)        12     5     2     8     15         3     0     0   \n3    Argentina (ARG)        23    18    24    28     70        18     0     0   \n4      Armenia (ARM)         5     1     2     9     12         6     0     0   \n\n      9     10       11    12    13    14              15  \n0  03 !  Total  № Games  01 !  02 !  03 !  Combined total  \n1     0      0       13     0     0     2               2  \n2     0      0       15     5     2     8              15  \n3     0      0       41    18    24    28              70  \n4     0      0       11     1     2     9              12  ",
      "text/html": "<div>\n<style scoped>\n    .dataframe tbody tr th:only-of-type {\n        vertical-align: middle;\n    }\n\n    .dataframe tbody tr th {\n        vertical-align: top;\n    }\n\n    .dataframe thead th {\n        text-align: right;\n    }\n</style>\n<table border=\"1\" class=\"dataframe\">\n  <thead>\n    <tr style=\"text-align: right;\">\n      <th></th>\n      <th>0</th>\n      <th>1</th>\n      <th>2</th>\n      <th>3</th>\n      <th>4</th>\n      <th>5</th>\n      <th>6</th>\n      <th>7</th>\n      <th>8</th>\n      <th>9</th>\n      <th>10</th>\n      <th>11</th>\n      <th>12</th>\n      <th>13</th>\n      <th>14</th>\n      <th>15</th>\n    </tr>\n  </thead>\n  <tbody>\n    <tr>\n      <th>0</th>\n      <td>NaN</td>\n      <td>№ Summer</td>\n      <td>01 !</td>\n      <td>02 !</td>\n      <td>03 !</td>\n      <td>Total</td>\n      <td>№ Winter</td>\n      <td>01 !</td>\n      <td>02 !</td>\n      <td>03 !</td>\n      <td>Total</td>\n      <td>№ Games</td>\n      <td>01 !</td>\n      <td>02 !</td>\n      <td>03 !</td>\n      <td>Combined total</td>\n    </tr>\n    <tr>\n      <th>1</th>\n      <td>Afghanistan (AFG)</td>\n      <td>13</td>\n      <td>0</td>\n      <td>0</td>\n      <td>2</td>\n      <td>2</td>\n      <td>0</td>\n      <td>0</td>\n      <td>0</td>\n      <td>0</td>\n      <td>0</td>\n      <td>13</td>\n      <td>0</td>\n      <td>0</td>\n      <td>2</td>\n      <td>2</td>\n    </tr>\n    <tr>\n      <th>2</th>\n      <td>Algeria (ALG)</td>\n      <td>12</td>\n      <td>5</td>\n      <td>2</td>\n      <td>8</td>\n      <td>15</td>\n      <td>3</td>\n      <td>0</td>\n      <td>0</td>\n      <td>0</td>\n      <td>0</td>\n      <td>15</td>\n      <td>5</td>\n      <td>2</td>\n      <td>8</td>\n      <td>15</td>\n    </tr>\n    <tr>\n      <th>3</th>\n      <td>Argentina (ARG)</td>\n      <td>23</td>\n      <td>18</td>\n      <td>24</td>\n      <td>28</td>\n      <td>70</td>\n      <td>18</td>\n      <td>0</td>\n      <td>0</td>\n      <td>0</td>\n      <td>0</td>\n      <td>41</td>\n      <td>18</td>\n      <td>24</td>\n      <td>28</td>\n      <td>70</td>\n    </tr>\n    <tr>\n      <th>4</th>\n      <td>Armenia (ARM)</td>\n      <td>5</td>\n      <td>1</td>\n      <td>2</td>\n      <td>9</td>\n      <td>12</td>\n      <td>6</td>\n      <td>0</td>\n      <td>0</td>\n      <td>0</td>\n      <td>0</td>\n      <td>11</td>\n      <td>1</td>\n      <td>2</td>\n      <td>9</td>\n      <td>12</td>\n    </tr>\n  </tbody>\n</table>\n</div>"
     },
     "metadata": {},
     "output_type": "execute_result",
     "execution_count": 17
    }
   ],
   "source": [
    "df = pd.read_csv('olympics.csv')\n",
    "df.head()"
   ],
   "metadata": {
    "collapsed": false,
    "pycharm": {
     "name": "#%%\n",
     "is_executing": false
    }
   }
  },
  {
   "cell_type": "code",
   "execution_count": 18,
   "outputs": [
    {
     "data": {
      "text/plain": "                         № Summer  01 !  02 !  03 !  Total  № Winter  01 !.1  \\\nAfghanistan (AFG)              13     0     0     2      2         0       0   \nAlgeria (ALG)                  12     5     2     8     15         3       0   \nArgentina (ARG)                23    18    24    28     70        18       0   \nArmenia (ARM)                   5     1     2     9     12         6       0   \nAustralasia (ANZ) [ANZ]         2     3     4     5     12         0       0   \n\n                         02 !.1  03 !.1  Total.1  № Games  01 !.2  02 !.2  \\\nAfghanistan (AFG)             0       0        0       13       0       0   \nAlgeria (ALG)                 0       0        0       15       5       2   \nArgentina (ARG)               0       0        0       41      18      24   \nArmenia (ARM)                 0       0        0       11       1       2   \nAustralasia (ANZ) [ANZ]       0       0        0        2       3       4   \n\n                         03 !.2  Combined total  \nAfghanistan (AFG)             2               2  \nAlgeria (ALG)                 8              15  \nArgentina (ARG)              28              70  \nArmenia (ARM)                 9              12  \nAustralasia (ANZ) [ANZ]       5              12  ",
      "text/html": "<div>\n<style scoped>\n    .dataframe tbody tr th:only-of-type {\n        vertical-align: middle;\n    }\n\n    .dataframe tbody tr th {\n        vertical-align: top;\n    }\n\n    .dataframe thead th {\n        text-align: right;\n    }\n</style>\n<table border=\"1\" class=\"dataframe\">\n  <thead>\n    <tr style=\"text-align: right;\">\n      <th></th>\n      <th>№ Summer</th>\n      <th>01 !</th>\n      <th>02 !</th>\n      <th>03 !</th>\n      <th>Total</th>\n      <th>№ Winter</th>\n      <th>01 !.1</th>\n      <th>02 !.1</th>\n      <th>03 !.1</th>\n      <th>Total.1</th>\n      <th>№ Games</th>\n      <th>01 !.2</th>\n      <th>02 !.2</th>\n      <th>03 !.2</th>\n      <th>Combined total</th>\n    </tr>\n  </thead>\n  <tbody>\n    <tr>\n      <th>Afghanistan (AFG)</th>\n      <td>13</td>\n      <td>0</td>\n      <td>0</td>\n      <td>2</td>\n      <td>2</td>\n      <td>0</td>\n      <td>0</td>\n      <td>0</td>\n      <td>0</td>\n      <td>0</td>\n      <td>13</td>\n      <td>0</td>\n      <td>0</td>\n      <td>2</td>\n      <td>2</td>\n    </tr>\n    <tr>\n      <th>Algeria (ALG)</th>\n      <td>12</td>\n      <td>5</td>\n      <td>2</td>\n      <td>8</td>\n      <td>15</td>\n      <td>3</td>\n      <td>0</td>\n      <td>0</td>\n      <td>0</td>\n      <td>0</td>\n      <td>15</td>\n      <td>5</td>\n      <td>2</td>\n      <td>8</td>\n      <td>15</td>\n    </tr>\n    <tr>\n      <th>Argentina (ARG)</th>\n      <td>23</td>\n      <td>18</td>\n      <td>24</td>\n      <td>28</td>\n      <td>70</td>\n      <td>18</td>\n      <td>0</td>\n      <td>0</td>\n      <td>0</td>\n      <td>0</td>\n      <td>41</td>\n      <td>18</td>\n      <td>24</td>\n      <td>28</td>\n      <td>70</td>\n    </tr>\n    <tr>\n      <th>Armenia (ARM)</th>\n      <td>5</td>\n      <td>1</td>\n      <td>2</td>\n      <td>9</td>\n      <td>12</td>\n      <td>6</td>\n      <td>0</td>\n      <td>0</td>\n      <td>0</td>\n      <td>0</td>\n      <td>11</td>\n      <td>1</td>\n      <td>2</td>\n      <td>9</td>\n      <td>12</td>\n    </tr>\n    <tr>\n      <th>Australasia (ANZ) [ANZ]</th>\n      <td>2</td>\n      <td>3</td>\n      <td>4</td>\n      <td>5</td>\n      <td>12</td>\n      <td>0</td>\n      <td>0</td>\n      <td>0</td>\n      <td>0</td>\n      <td>0</td>\n      <td>2</td>\n      <td>3</td>\n      <td>4</td>\n      <td>5</td>\n      <td>12</td>\n    </tr>\n  </tbody>\n</table>\n</div>"
     },
     "metadata": {},
     "output_type": "execute_result",
     "execution_count": 18
    }
   ],
   "source": [
    "df = pd.read_csv('olympics.csv', index_col = 0, skiprows=1)\n",
    "df.head()"
   ],
   "metadata": {
    "collapsed": false,
    "pycharm": {
     "name": "#%%\n",
     "is_executing": false
    }
   }
  },
  {
   "cell_type": "code",
   "execution_count": 19,
   "outputs": [
    {
     "data": {
      "text/plain": "Index(['№ Summer', '01 !', '02 !', '03 !', 'Total', '№ Winter', '01 !.1',\n       '02 !.1', '03 !.1', 'Total.1', '№ Games', '01 !.2', '02 !.2', '03 !.2',\n       'Combined total'],\n      dtype='object')"
     },
     "metadata": {},
     "output_type": "execute_result",
     "execution_count": 19
    }
   ],
   "source": [
    "df.columns"
   ],
   "metadata": {
    "collapsed": false,
    "pycharm": {
     "name": "#%%\n",
     "is_executing": false
    }
   }
  },
  {
   "cell_type": "code",
   "execution_count": 20,
   "outputs": [
    {
     "data": {
      "text/plain": "                         # Summer  Gold  Silver  Bronze  Total  # Winter  \\\nAfghanistan (AFG)              13     0       0       2      2         0   \nAlgeria (ALG)                  12     5       2       8     15         3   \nArgentina (ARG)                23    18      24      28     70        18   \nArmenia (ARM)                   5     1       2       9     12         6   \nAustralasia (ANZ) [ANZ]         2     3       4       5     12         0   \n\n                         Gold.1  Silver.1  Bronze.1  Total.1  # Games  Gold.2  \\\nAfghanistan (AFG)             0         0         0        0       13       0   \nAlgeria (ALG)                 0         0         0        0       15       5   \nArgentina (ARG)               0         0         0        0       41      18   \nArmenia (ARM)                 0         0         0        0       11       1   \nAustralasia (ANZ) [ANZ]       0         0         0        0        2       3   \n\n                         Silver.2  Bronze.2  Combined total  \nAfghanistan (AFG)               0         2               2  \nAlgeria (ALG)                   2         8              15  \nArgentina (ARG)                24        28              70  \nArmenia (ARM)                   2         9              12  \nAustralasia (ANZ) [ANZ]         4         5              12  ",
      "text/html": "<div>\n<style scoped>\n    .dataframe tbody tr th:only-of-type {\n        vertical-align: middle;\n    }\n\n    .dataframe tbody tr th {\n        vertical-align: top;\n    }\n\n    .dataframe thead th {\n        text-align: right;\n    }\n</style>\n<table border=\"1\" class=\"dataframe\">\n  <thead>\n    <tr style=\"text-align: right;\">\n      <th></th>\n      <th># Summer</th>\n      <th>Gold</th>\n      <th>Silver</th>\n      <th>Bronze</th>\n      <th>Total</th>\n      <th># Winter</th>\n      <th>Gold.1</th>\n      <th>Silver.1</th>\n      <th>Bronze.1</th>\n      <th>Total.1</th>\n      <th># Games</th>\n      <th>Gold.2</th>\n      <th>Silver.2</th>\n      <th>Bronze.2</th>\n      <th>Combined total</th>\n    </tr>\n  </thead>\n  <tbody>\n    <tr>\n      <th>Afghanistan (AFG)</th>\n      <td>13</td>\n      <td>0</td>\n      <td>0</td>\n      <td>2</td>\n      <td>2</td>\n      <td>0</td>\n      <td>0</td>\n      <td>0</td>\n      <td>0</td>\n      <td>0</td>\n      <td>13</td>\n      <td>0</td>\n      <td>0</td>\n      <td>2</td>\n      <td>2</td>\n    </tr>\n    <tr>\n      <th>Algeria (ALG)</th>\n      <td>12</td>\n      <td>5</td>\n      <td>2</td>\n      <td>8</td>\n      <td>15</td>\n      <td>3</td>\n      <td>0</td>\n      <td>0</td>\n      <td>0</td>\n      <td>0</td>\n      <td>15</td>\n      <td>5</td>\n      <td>2</td>\n      <td>8</td>\n      <td>15</td>\n    </tr>\n    <tr>\n      <th>Argentina (ARG)</th>\n      <td>23</td>\n      <td>18</td>\n      <td>24</td>\n      <td>28</td>\n      <td>70</td>\n      <td>18</td>\n      <td>0</td>\n      <td>0</td>\n      <td>0</td>\n      <td>0</td>\n      <td>41</td>\n      <td>18</td>\n      <td>24</td>\n      <td>28</td>\n      <td>70</td>\n    </tr>\n    <tr>\n      <th>Armenia (ARM)</th>\n      <td>5</td>\n      <td>1</td>\n      <td>2</td>\n      <td>9</td>\n      <td>12</td>\n      <td>6</td>\n      <td>0</td>\n      <td>0</td>\n      <td>0</td>\n      <td>0</td>\n      <td>11</td>\n      <td>1</td>\n      <td>2</td>\n      <td>9</td>\n      <td>12</td>\n    </tr>\n    <tr>\n      <th>Australasia (ANZ) [ANZ]</th>\n      <td>2</td>\n      <td>3</td>\n      <td>4</td>\n      <td>5</td>\n      <td>12</td>\n      <td>0</td>\n      <td>0</td>\n      <td>0</td>\n      <td>0</td>\n      <td>0</td>\n      <td>2</td>\n      <td>3</td>\n      <td>4</td>\n      <td>5</td>\n      <td>12</td>\n    </tr>\n  </tbody>\n</table>\n</div>"
     },
     "metadata": {},
     "output_type": "execute_result",
     "execution_count": 20
    }
   ],
   "source": [
    "for col in df.columns:\n",
    "    if col[:2]=='01':\n",
    "        df.rename(columns={col:'Gold' + col[4:]}, inplace=True)\n",
    "    if col[:2]=='02':\n",
    "        df.rename(columns={col:'Silver' + col[4:]}, inplace=True)\n",
    "    if col[:2]=='03':\n",
    "        df.rename(columns={col:'Bronze' + col[4:]}, inplace=True)\n",
    "    if col[:1]=='№':\n",
    "        df.rename(columns={col:'#' + col[1:]}, inplace=True) \n",
    "\n",
    "df.head()"
   ],
   "metadata": {
    "collapsed": false,
    "pycharm": {
     "name": "#%%\n",
     "is_executing": false
    }
   }
  },
  {
   "cell_type": "code",
   "execution_count": 21,
   "outputs": [
    {
     "data": {
      "text/plain": "Afghanistan (AFG)                               False\nAlgeria (ALG)                                    True\nArgentina (ARG)                                  True\nArmenia (ARM)                                    True\nAustralasia (ANZ) [ANZ]                          True\n                                                ...  \nIndependent Olympic Participants (IOP) [IOP]    False\nZambia (ZAM) [ZAM]                              False\nZimbabwe (ZIM) [ZIM]                             True\nMixed team (ZZX) [ZZX]                           True\nTotals                                           True\nName: Gold, Length: 147, dtype: bool"
     },
     "metadata": {},
     "output_type": "execute_result",
     "execution_count": 21
    }
   ],
   "source": [
    "df['Gold'] > 0"
   ],
   "metadata": {
    "collapsed": false,
    "pycharm": {
     "name": "#%%\n",
     "is_executing": false
    }
   }
  },
  {
   "cell_type": "code",
   "execution_count": 22,
   "outputs": [
    {
     "data": {
      "text/plain": "                         # Summer  Gold  Silver  Bronze  Total  # Winter  \\\nAfghanistan (AFG)             NaN   NaN     NaN     NaN    NaN       NaN   \nAlgeria (ALG)                12.0   5.0     2.0     8.0   15.0       3.0   \nArgentina (ARG)              23.0  18.0    24.0    28.0   70.0      18.0   \nArmenia (ARM)                 5.0   1.0     2.0     9.0   12.0       6.0   \nAustralasia (ANZ) [ANZ]       2.0   3.0     4.0     5.0   12.0       0.0   \n\n                         Gold.1  Silver.1  Bronze.1  Total.1  # Games  Gold.2  \\\nAfghanistan (AFG)           NaN       NaN       NaN      NaN      NaN     NaN   \nAlgeria (ALG)               0.0       0.0       0.0      0.0     15.0     5.0   \nArgentina (ARG)             0.0       0.0       0.0      0.0     41.0    18.0   \nArmenia (ARM)               0.0       0.0       0.0      0.0     11.0     1.0   \nAustralasia (ANZ) [ANZ]     0.0       0.0       0.0      0.0      2.0     3.0   \n\n                         Silver.2  Bronze.2  Combined total  \nAfghanistan (AFG)             NaN       NaN             NaN  \nAlgeria (ALG)                 2.0       8.0            15.0  \nArgentina (ARG)              24.0      28.0            70.0  \nArmenia (ARM)                 2.0       9.0            12.0  \nAustralasia (ANZ) [ANZ]       4.0       5.0            12.0  ",
      "text/html": "<div>\n<style scoped>\n    .dataframe tbody tr th:only-of-type {\n        vertical-align: middle;\n    }\n\n    .dataframe tbody tr th {\n        vertical-align: top;\n    }\n\n    .dataframe thead th {\n        text-align: right;\n    }\n</style>\n<table border=\"1\" class=\"dataframe\">\n  <thead>\n    <tr style=\"text-align: right;\">\n      <th></th>\n      <th># Summer</th>\n      <th>Gold</th>\n      <th>Silver</th>\n      <th>Bronze</th>\n      <th>Total</th>\n      <th># Winter</th>\n      <th>Gold.1</th>\n      <th>Silver.1</th>\n      <th>Bronze.1</th>\n      <th>Total.1</th>\n      <th># Games</th>\n      <th>Gold.2</th>\n      <th>Silver.2</th>\n      <th>Bronze.2</th>\n      <th>Combined total</th>\n    </tr>\n  </thead>\n  <tbody>\n    <tr>\n      <th>Afghanistan (AFG)</th>\n      <td>NaN</td>\n      <td>NaN</td>\n      <td>NaN</td>\n      <td>NaN</td>\n      <td>NaN</td>\n      <td>NaN</td>\n      <td>NaN</td>\n      <td>NaN</td>\n      <td>NaN</td>\n      <td>NaN</td>\n      <td>NaN</td>\n      <td>NaN</td>\n      <td>NaN</td>\n      <td>NaN</td>\n      <td>NaN</td>\n    </tr>\n    <tr>\n      <th>Algeria (ALG)</th>\n      <td>12.0</td>\n      <td>5.0</td>\n      <td>2.0</td>\n      <td>8.0</td>\n      <td>15.0</td>\n      <td>3.0</td>\n      <td>0.0</td>\n      <td>0.0</td>\n      <td>0.0</td>\n      <td>0.0</td>\n      <td>15.0</td>\n      <td>5.0</td>\n      <td>2.0</td>\n      <td>8.0</td>\n      <td>15.0</td>\n    </tr>\n    <tr>\n      <th>Argentina (ARG)</th>\n      <td>23.0</td>\n      <td>18.0</td>\n      <td>24.0</td>\n      <td>28.0</td>\n      <td>70.0</td>\n      <td>18.0</td>\n      <td>0.0</td>\n      <td>0.0</td>\n      <td>0.0</td>\n      <td>0.0</td>\n      <td>41.0</td>\n      <td>18.0</td>\n      <td>24.0</td>\n      <td>28.0</td>\n      <td>70.0</td>\n    </tr>\n    <tr>\n      <th>Armenia (ARM)</th>\n      <td>5.0</td>\n      <td>1.0</td>\n      <td>2.0</td>\n      <td>9.0</td>\n      <td>12.0</td>\n      <td>6.0</td>\n      <td>0.0</td>\n      <td>0.0</td>\n      <td>0.0</td>\n      <td>0.0</td>\n      <td>11.0</td>\n      <td>1.0</td>\n      <td>2.0</td>\n      <td>9.0</td>\n      <td>12.0</td>\n    </tr>\n    <tr>\n      <th>Australasia (ANZ) [ANZ]</th>\n      <td>2.0</td>\n      <td>3.0</td>\n      <td>4.0</td>\n      <td>5.0</td>\n      <td>12.0</td>\n      <td>0.0</td>\n      <td>0.0</td>\n      <td>0.0</td>\n      <td>0.0</td>\n      <td>0.0</td>\n      <td>2.0</td>\n      <td>3.0</td>\n      <td>4.0</td>\n      <td>5.0</td>\n      <td>12.0</td>\n    </tr>\n  </tbody>\n</table>\n</div>"
     },
     "metadata": {},
     "output_type": "execute_result",
     "execution_count": 22
    }
   ],
   "source": [
    "only_gold = df.where(df['Gold'] > 0)\n",
    "only_gold.head()"
   ],
   "metadata": {
    "collapsed": false,
    "pycharm": {
     "name": "#%%\n",
     "is_executing": false
    }
   }
  },
  {
   "cell_type": "code",
   "execution_count": 23,
   "outputs": [
    {
     "data": {
      "text/plain": "100"
     },
     "metadata": {},
     "output_type": "execute_result",
     "execution_count": 23
    }
   ],
   "source": [
    "only_gold['Gold'].count()"
   ],
   "metadata": {
    "collapsed": false,
    "pycharm": {
     "name": "#%%\n",
     "is_executing": false
    }
   }
  },
  {
   "cell_type": "code",
   "execution_count": 24,
   "outputs": [
    {
     "data": {
      "text/plain": "Algeria (ALG)                   2\nArgentina (ARG)                24\nArmenia (ARM)                   2\nAustralasia (ANZ) [ANZ]         4\nAustralia (AUS) [AUS] [Z]     152\n                             ... \nVenezuela (VEN)                 2\nYugoslavia (YUG) [YUG]         29\nZimbabwe (ZIM) [ZIM]            4\nMixed team (ZZX) [ZZX]          5\nTotals                       4775\nName: Silver, Length: 100, dtype: int64"
     },
     "metadata": {},
     "output_type": "execute_result",
     "execution_count": 24
    }
   ],
   "source": [
    "df['Gold'].count()"
   ],
   "metadata": {
    "collapsed": false,
    "pycharm": {
     "name": "#%%\n",
     "is_executing": false
    }
   }
  },
  {
   "cell_type": "code",
   "execution_count": 25,
   "outputs": [
    {
     "data": {
      "text/plain": "147"
     },
     "metadata": {},
     "output_type": "execute_result",
     "execution_count": 25
    }
   ],
   "source": [
    "df['Silver'][df['Gold'] > 0]"
   ],
   "metadata": {
    "collapsed": false,
    "pycharm": {
     "name": "#%%\n",
     "is_executing": false
    }
   }
  },
  {
   "cell_type": "code",
   "execution_count": 26,
   "outputs": [
    {
     "data": {
      "text/plain": "                           # Summer   Gold  Silver  Bronze  Total  # Winter  \\\nAlgeria (ALG)                  12.0    5.0     2.0     8.0   15.0       3.0   \nArgentina (ARG)                23.0   18.0    24.0    28.0   70.0      18.0   \nArmenia (ARM)                   5.0    1.0     2.0     9.0   12.0       6.0   \nAustralasia (ANZ) [ANZ]         2.0    3.0     4.0     5.0   12.0       0.0   \nAustralia (AUS) [AUS] [Z]      25.0  139.0   152.0   177.0  468.0      18.0   \n\n                           Gold.1  Silver.1  Bronze.1  Total.1  # Games  \\\nAlgeria (ALG)                 0.0       0.0       0.0      0.0     15.0   \nArgentina (ARG)               0.0       0.0       0.0      0.0     41.0   \nArmenia (ARM)                 0.0       0.0       0.0      0.0     11.0   \nAustralasia (ANZ) [ANZ]       0.0       0.0       0.0      0.0      2.0   \nAustralia (AUS) [AUS] [Z]     5.0       3.0       4.0     12.0     43.0   \n\n                           Gold.2  Silver.2  Bronze.2  Combined total  \nAlgeria (ALG)                 5.0       2.0       8.0            15.0  \nArgentina (ARG)              18.0      24.0      28.0            70.0  \nArmenia (ARM)                 1.0       2.0       9.0            12.0  \nAustralasia (ANZ) [ANZ]       3.0       4.0       5.0            12.0  \nAustralia (AUS) [AUS] [Z]   144.0     155.0     181.0           480.0  ",
      "text/html": "<div>\n<style scoped>\n    .dataframe tbody tr th:only-of-type {\n        vertical-align: middle;\n    }\n\n    .dataframe tbody tr th {\n        vertical-align: top;\n    }\n\n    .dataframe thead th {\n        text-align: right;\n    }\n</style>\n<table border=\"1\" class=\"dataframe\">\n  <thead>\n    <tr style=\"text-align: right;\">\n      <th></th>\n      <th># Summer</th>\n      <th>Gold</th>\n      <th>Silver</th>\n      <th>Bronze</th>\n      <th>Total</th>\n      <th># Winter</th>\n      <th>Gold.1</th>\n      <th>Silver.1</th>\n      <th>Bronze.1</th>\n      <th>Total.1</th>\n      <th># Games</th>\n      <th>Gold.2</th>\n      <th>Silver.2</th>\n      <th>Bronze.2</th>\n      <th>Combined total</th>\n    </tr>\n  </thead>\n  <tbody>\n    <tr>\n      <th>Algeria (ALG)</th>\n      <td>12.0</td>\n      <td>5.0</td>\n      <td>2.0</td>\n      <td>8.0</td>\n      <td>15.0</td>\n      <td>3.0</td>\n      <td>0.0</td>\n      <td>0.0</td>\n      <td>0.0</td>\n      <td>0.0</td>\n      <td>15.0</td>\n      <td>5.0</td>\n      <td>2.0</td>\n      <td>8.0</td>\n      <td>15.0</td>\n    </tr>\n    <tr>\n      <th>Argentina (ARG)</th>\n      <td>23.0</td>\n      <td>18.0</td>\n      <td>24.0</td>\n      <td>28.0</td>\n      <td>70.0</td>\n      <td>18.0</td>\n      <td>0.0</td>\n      <td>0.0</td>\n      <td>0.0</td>\n      <td>0.0</td>\n      <td>41.0</td>\n      <td>18.0</td>\n      <td>24.0</td>\n      <td>28.0</td>\n      <td>70.0</td>\n    </tr>\n    <tr>\n      <th>Armenia (ARM)</th>\n      <td>5.0</td>\n      <td>1.0</td>\n      <td>2.0</td>\n      <td>9.0</td>\n      <td>12.0</td>\n      <td>6.0</td>\n      <td>0.0</td>\n      <td>0.0</td>\n      <td>0.0</td>\n      <td>0.0</td>\n      <td>11.0</td>\n      <td>1.0</td>\n      <td>2.0</td>\n      <td>9.0</td>\n      <td>12.0</td>\n    </tr>\n    <tr>\n      <th>Australasia (ANZ) [ANZ]</th>\n      <td>2.0</td>\n      <td>3.0</td>\n      <td>4.0</td>\n      <td>5.0</td>\n      <td>12.0</td>\n      <td>0.0</td>\n      <td>0.0</td>\n      <td>0.0</td>\n      <td>0.0</td>\n      <td>0.0</td>\n      <td>2.0</td>\n      <td>3.0</td>\n      <td>4.0</td>\n      <td>5.0</td>\n      <td>12.0</td>\n    </tr>\n    <tr>\n      <th>Australia (AUS) [AUS] [Z]</th>\n      <td>25.0</td>\n      <td>139.0</td>\n      <td>152.0</td>\n      <td>177.0</td>\n      <td>468.0</td>\n      <td>18.0</td>\n      <td>5.0</td>\n      <td>3.0</td>\n      <td>4.0</td>\n      <td>12.0</td>\n      <td>43.0</td>\n      <td>144.0</td>\n      <td>155.0</td>\n      <td>181.0</td>\n      <td>480.0</td>\n    </tr>\n  </tbody>\n</table>\n</div>"
     },
     "metadata": {},
     "output_type": "execute_result",
     "execution_count": 26
    }
   ],
   "source": [
    "only_gold = only_gold.dropna()\n",
    "only_gold.head()\n",
    "\n"
   ],
   "metadata": {
    "collapsed": false,
    "pycharm": {
     "name": "#%%\n",
     "is_executing": false
    }
   }
  },
  {
   "cell_type": "code",
   "execution_count": 28,
   "outputs": [
    {
     "data": {
      "text/plain": "                           # Summer  Gold  Silver  Bronze  Total  # Winter  \\\nAlgeria (ALG)                    12     5       2       8     15         3   \nArgentina (ARG)                  23    18      24      28     70        18   \nArmenia (ARM)                     5     1       2       9     12         6   \nAustralasia (ANZ) [ANZ]           2     3       4       5     12         0   \nAustralia (AUS) [AUS] [Z]        25   139     152     177    468        18   \n\n                           Gold.1  Silver.1  Bronze.1  Total.1  # Games  \\\nAlgeria (ALG)                   0         0         0        0       15   \nArgentina (ARG)                 0         0         0        0       41   \nArmenia (ARM)                   0         0         0        0       11   \nAustralasia (ANZ) [ANZ]         0         0         0        0        2   \nAustralia (AUS) [AUS] [Z]       5         3         4       12       43   \n\n                           Gold.2  Silver.2  Bronze.2  Combined total  \nAlgeria (ALG)                   5         2         8              15  \nArgentina (ARG)                18        24        28              70  \nArmenia (ARM)                   1         2         9              12  \nAustralasia (ANZ) [ANZ]         3         4         5              12  \nAustralia (AUS) [AUS] [Z]     144       155       181             480  ",
      "text/html": "<div>\n<style scoped>\n    .dataframe tbody tr th:only-of-type {\n        vertical-align: middle;\n    }\n\n    .dataframe tbody tr th {\n        vertical-align: top;\n    }\n\n    .dataframe thead th {\n        text-align: right;\n    }\n</style>\n<table border=\"1\" class=\"dataframe\">\n  <thead>\n    <tr style=\"text-align: right;\">\n      <th></th>\n      <th># Summer</th>\n      <th>Gold</th>\n      <th>Silver</th>\n      <th>Bronze</th>\n      <th>Total</th>\n      <th># Winter</th>\n      <th>Gold.1</th>\n      <th>Silver.1</th>\n      <th>Bronze.1</th>\n      <th>Total.1</th>\n      <th># Games</th>\n      <th>Gold.2</th>\n      <th>Silver.2</th>\n      <th>Bronze.2</th>\n      <th>Combined total</th>\n    </tr>\n  </thead>\n  <tbody>\n    <tr>\n      <th>Algeria (ALG)</th>\n      <td>12</td>\n      <td>5</td>\n      <td>2</td>\n      <td>8</td>\n      <td>15</td>\n      <td>3</td>\n      <td>0</td>\n      <td>0</td>\n      <td>0</td>\n      <td>0</td>\n      <td>15</td>\n      <td>5</td>\n      <td>2</td>\n      <td>8</td>\n      <td>15</td>\n    </tr>\n    <tr>\n      <th>Argentina (ARG)</th>\n      <td>23</td>\n      <td>18</td>\n      <td>24</td>\n      <td>28</td>\n      <td>70</td>\n      <td>18</td>\n      <td>0</td>\n      <td>0</td>\n      <td>0</td>\n      <td>0</td>\n      <td>41</td>\n      <td>18</td>\n      <td>24</td>\n      <td>28</td>\n      <td>70</td>\n    </tr>\n    <tr>\n      <th>Armenia (ARM)</th>\n      <td>5</td>\n      <td>1</td>\n      <td>2</td>\n      <td>9</td>\n      <td>12</td>\n      <td>6</td>\n      <td>0</td>\n      <td>0</td>\n      <td>0</td>\n      <td>0</td>\n      <td>11</td>\n      <td>1</td>\n      <td>2</td>\n      <td>9</td>\n      <td>12</td>\n    </tr>\n    <tr>\n      <th>Australasia (ANZ) [ANZ]</th>\n      <td>2</td>\n      <td>3</td>\n      <td>4</td>\n      <td>5</td>\n      <td>12</td>\n      <td>0</td>\n      <td>0</td>\n      <td>0</td>\n      <td>0</td>\n      <td>0</td>\n      <td>2</td>\n      <td>3</td>\n      <td>4</td>\n      <td>5</td>\n      <td>12</td>\n    </tr>\n    <tr>\n      <th>Australia (AUS) [AUS] [Z]</th>\n      <td>25</td>\n      <td>139</td>\n      <td>152</td>\n      <td>177</td>\n      <td>468</td>\n      <td>18</td>\n      <td>5</td>\n      <td>3</td>\n      <td>4</td>\n      <td>12</td>\n      <td>43</td>\n      <td>144</td>\n      <td>155</td>\n      <td>181</td>\n      <td>480</td>\n    </tr>\n  </tbody>\n</table>\n</div>"
     },
     "metadata": {},
     "output_type": "execute_result",
     "execution_count": 28
    }
   ],
   "source": [
    "only_gold = df[df['Gold'] > 0]\n",
    "only_gold.head()\n",
    "\n"
   ],
   "metadata": {
    "collapsed": false,
    "pycharm": {
     "name": "#%%\n",
     "is_executing": false
    }
   }
  },
  {
   "cell_type": "code",
   "execution_count": 29,
   "outputs": [
    {
     "data": {
      "text/plain": "101"
     },
     "metadata": {},
     "output_type": "execute_result",
     "execution_count": 29
    }
   ],
   "source": [
    "len(df[(df['Gold'] > 0) | (df['Gold.1'] > 0)])\n",
    "\n"
   ],
   "metadata": {
    "collapsed": false,
    "pycharm": {
     "name": "#%%\n",
     "is_executing": false
    }
   }
  },
  {
   "cell_type": "code",
   "execution_count": 30,
   "outputs": [
    {
     "data": {
      "text/plain": "                     # Summer  Gold  Silver  Bronze  Total  # Winter  Gold.1  \\\nLiechtenstein (LIE)        16     0       0       0      0        18       2   \n\n                     Silver.1  Bronze.1  Total.1  # Games  Gold.2  Silver.2  \\\nLiechtenstein (LIE)         2         5        9       34       2         2   \n\n                     Bronze.2  Combined total  \nLiechtenstein (LIE)         5               9  ",
      "text/html": "<div>\n<style scoped>\n    .dataframe tbody tr th:only-of-type {\n        vertical-align: middle;\n    }\n\n    .dataframe tbody tr th {\n        vertical-align: top;\n    }\n\n    .dataframe thead th {\n        text-align: right;\n    }\n</style>\n<table border=\"1\" class=\"dataframe\">\n  <thead>\n    <tr style=\"text-align: right;\">\n      <th></th>\n      <th># Summer</th>\n      <th>Gold</th>\n      <th>Silver</th>\n      <th>Bronze</th>\n      <th>Total</th>\n      <th># Winter</th>\n      <th>Gold.1</th>\n      <th>Silver.1</th>\n      <th>Bronze.1</th>\n      <th>Total.1</th>\n      <th># Games</th>\n      <th>Gold.2</th>\n      <th>Silver.2</th>\n      <th>Bronze.2</th>\n      <th>Combined total</th>\n    </tr>\n  </thead>\n  <tbody>\n    <tr>\n      <th>Liechtenstein (LIE)</th>\n      <td>16</td>\n      <td>0</td>\n      <td>0</td>\n      <td>0</td>\n      <td>0</td>\n      <td>18</td>\n      <td>2</td>\n      <td>2</td>\n      <td>5</td>\n      <td>9</td>\n      <td>34</td>\n      <td>2</td>\n      <td>2</td>\n      <td>5</td>\n      <td>9</td>\n    </tr>\n  </tbody>\n</table>\n</div>"
     },
     "metadata": {},
     "output_type": "execute_result",
     "execution_count": 30
    }
   ],
   "source": [
    "df[(df['Gold.1'] > 0) & (df['Gold'] == 0)]\n",
    "\n"
   ],
   "metadata": {
    "collapsed": false,
    "pycharm": {
     "name": "#%%\n",
     "is_executing": false
    }
   }
  },
  {
   "cell_type": "code",
   "execution_count": null,
   "outputs": [],
   "source": [
    "\n"
   ],
   "metadata": {
    "collapsed": false,
    "pycharm": {
     "name": "#%%\n"
    }
   }
  }
 ],
 "metadata": {
  "kernelspec": {
   "display_name": "Python 3",
   "language": "python",
   "name": "python3"
  },
  "language_info": {
   "codemirror_mode": {
    "name": "ipython",
    "version": 3
   },
   "file_extension": ".py",
   "mimetype": "text/x-python",
   "name": "python",
   "nbconvert_exporter": "python",
   "pygments_lexer": "ipython3",
   "version": "3.8.3"
  },
  "pycharm": {
   "stem_cell": {
    "cell_type": "raw",
    "source": [],
    "metadata": {
     "collapsed": false
    }
   }
  }
 },
 "nbformat": 4,
 "nbformat_minor": 4
}