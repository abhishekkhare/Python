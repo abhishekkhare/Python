{
 "cells": [
  {
   "cell_type": "code",
   "execution_count": 1,
   "metadata": {
    "scrolled": true,
    "pycharm": {
     "is_executing": false
    }
   },
   "outputs": [],
   "source": [
    "import pandas as pd\n",
    "pd.set_option('display.max_columns', 85)\n",
    "pd.set_option('display.max_rows', 85)"
   ]
  },
  {
   "cell_type": "code",
   "execution_count": 2,
   "metadata": {
    "pycharm": {
     "is_executing": false
    }
   },
   "outputs": [],
   "source": [
    "df = pd.read_csv('friends.csv')"
   ]
  },
  {
   "cell_type": "code",
   "execution_count": 3,
   "metadata": {
    "pycharm": {
     "is_executing": false
    }
   },
   "outputs": [
    {
     "data": {
      "text/plain": "(13, 5)"
     },
     "metadata": {},
     "output_type": "execute_result",
     "execution_count": 3
    }
   ],
   "source": [
    "df.shape"
   ]
  },
  {
   "cell_type": "code",
   "execution_count": 4,
   "metadata": {
    "pycharm": {
     "is_executing": false
    }
   },
   "outputs": [
    {
     "name": "stdout",
     "text": [
      "<class 'pandas.core.frame.DataFrame'>\n",
      "RangeIndex: 13 entries, 0 to 12\n",
      "Data columns (total 5 columns):\n",
      " #   Column  Non-Null Count  Dtype \n",
      "---  ------  --------------  ----- \n",
      " 0   S.No.   13 non-null     int64 \n",
      " 1   Name    13 non-null     object\n",
      " 2   Age     13 non-null     int64 \n",
      " 3   City    13 non-null     object\n",
      " 4   Email   13 non-null     object\n",
      "dtypes: int64(2), object(3)\n",
      "memory usage: 648.0+ bytes\n"
     ],
     "output_type": "stream"
    }
   ],
   "source": [
    "df.info()"
   ]
  },
  {
   "cell_type": "code",
   "execution_count": 5,
   "metadata": {
    "pycharm": {
     "is_executing": false
    }
   },
   "outputs": [
    {
     "data": {
      "text/plain": "   S.No.       Name  Age City           Email\n0      1   Abhishek   40   SY  ak13@gmail.com\n1      2  Abhishek1   41   AT   ak1@gmail.com\n2      3    Saurabh   42   SY  sk29@gmail.com\n3      4      Sando   44   NO  sd18@gmail.com\n4      5     Ashish   42   DL  as12@gmail.com",
      "text/html": "<div>\n<style scoped>\n    .dataframe tbody tr th:only-of-type {\n        vertical-align: middle;\n    }\n\n    .dataframe tbody tr th {\n        vertical-align: top;\n    }\n\n    .dataframe thead th {\n        text-align: right;\n    }\n</style>\n<table border=\"1\" class=\"dataframe\">\n  <thead>\n    <tr style=\"text-align: right;\">\n      <th></th>\n      <th>S.No.</th>\n      <th>Name</th>\n      <th>Age</th>\n      <th>City</th>\n      <th>Email</th>\n    </tr>\n  </thead>\n  <tbody>\n    <tr>\n      <th>0</th>\n      <td>1</td>\n      <td>Abhishek</td>\n      <td>40</td>\n      <td>SY</td>\n      <td>ak13@gmail.com</td>\n    </tr>\n    <tr>\n      <th>1</th>\n      <td>2</td>\n      <td>Abhishek1</td>\n      <td>41</td>\n      <td>AT</td>\n      <td>ak1@gmail.com</td>\n    </tr>\n    <tr>\n      <th>2</th>\n      <td>3</td>\n      <td>Saurabh</td>\n      <td>42</td>\n      <td>SY</td>\n      <td>sk29@gmail.com</td>\n    </tr>\n    <tr>\n      <th>3</th>\n      <td>4</td>\n      <td>Sando</td>\n      <td>44</td>\n      <td>NO</td>\n      <td>sd18@gmail.com</td>\n    </tr>\n    <tr>\n      <th>4</th>\n      <td>5</td>\n      <td>Ashish</td>\n      <td>42</td>\n      <td>DL</td>\n      <td>as12@gmail.com</td>\n    </tr>\n  </tbody>\n</table>\n</div>"
     },
     "metadata": {},
     "output_type": "execute_result",
     "execution_count": 5
    }
   ],
   "source": [
    "df.head()"
   ]
  },
  {
   "cell_type": "code",
   "execution_count": 6,
   "outputs": [
    {
     "data": {
      "text/plain": "   S.No.       Name  Age City           Email\n0      1   Abhishek   40   SY  ak13@gmail.com\n1      2  Abhishek1   41   AT   ak1@gmail.com\n2      3    Saurabh   42   SY  sk29@gmail.com\n3      4      Sando   44   NO  sd18@gmail.com\n4      5     Ashish   42   DL  as12@gmail.com\n5      6     Faheem   41   GR  fs25@gmail.com\n6      7     Anurag   42   NO  ak04@gmail.com",
      "text/html": "<div>\n<style scoped>\n    .dataframe tbody tr th:only-of-type {\n        vertical-align: middle;\n    }\n\n    .dataframe tbody tr th {\n        vertical-align: top;\n    }\n\n    .dataframe thead th {\n        text-align: right;\n    }\n</style>\n<table border=\"1\" class=\"dataframe\">\n  <thead>\n    <tr style=\"text-align: right;\">\n      <th></th>\n      <th>S.No.</th>\n      <th>Name</th>\n      <th>Age</th>\n      <th>City</th>\n      <th>Email</th>\n    </tr>\n  </thead>\n  <tbody>\n    <tr>\n      <th>0</th>\n      <td>1</td>\n      <td>Abhishek</td>\n      <td>40</td>\n      <td>SY</td>\n      <td>ak13@gmail.com</td>\n    </tr>\n    <tr>\n      <th>1</th>\n      <td>2</td>\n      <td>Abhishek1</td>\n      <td>41</td>\n      <td>AT</td>\n      <td>ak1@gmail.com</td>\n    </tr>\n    <tr>\n      <th>2</th>\n      <td>3</td>\n      <td>Saurabh</td>\n      <td>42</td>\n      <td>SY</td>\n      <td>sk29@gmail.com</td>\n    </tr>\n    <tr>\n      <th>3</th>\n      <td>4</td>\n      <td>Sando</td>\n      <td>44</td>\n      <td>NO</td>\n      <td>sd18@gmail.com</td>\n    </tr>\n    <tr>\n      <th>4</th>\n      <td>5</td>\n      <td>Ashish</td>\n      <td>42</td>\n      <td>DL</td>\n      <td>as12@gmail.com</td>\n    </tr>\n    <tr>\n      <th>5</th>\n      <td>6</td>\n      <td>Faheem</td>\n      <td>41</td>\n      <td>GR</td>\n      <td>fs25@gmail.com</td>\n    </tr>\n    <tr>\n      <th>6</th>\n      <td>7</td>\n      <td>Anurag</td>\n      <td>42</td>\n      <td>NO</td>\n      <td>ak04@gmail.com</td>\n    </tr>\n  </tbody>\n</table>\n</div>"
     },
     "metadata": {},
     "output_type": "execute_result",
     "execution_count": 6
    }
   ],
   "source": [
    "df.head(7)"
   ],
   "metadata": {
    "collapsed": false,
    "pycharm": {
     "name": "#%%\n",
     "is_executing": false
    }
   }
  },
  {
   "cell_type": "code",
   "execution_count": 7,
   "outputs": [
    {
     "data": {
      "text/plain": "    S.No.    Name  Age City           Email\n8       9   Anand   42   DB  ak05@gmail.com\n9      10    Deek   40   NJ  dg08@gmail.com\n10     11  Hitesh   40   DB  hp12@gmail.com\n11     12   Roops   41   SY  rr27@gmail.com\n12     13    Rash   41   DB  rp05@gmail.com",
      "text/html": "<div>\n<style scoped>\n    .dataframe tbody tr th:only-of-type {\n        vertical-align: middle;\n    }\n\n    .dataframe tbody tr th {\n        vertical-align: top;\n    }\n\n    .dataframe thead th {\n        text-align: right;\n    }\n</style>\n<table border=\"1\" class=\"dataframe\">\n  <thead>\n    <tr style=\"text-align: right;\">\n      <th></th>\n      <th>S.No.</th>\n      <th>Name</th>\n      <th>Age</th>\n      <th>City</th>\n      <th>Email</th>\n    </tr>\n  </thead>\n  <tbody>\n    <tr>\n      <th>8</th>\n      <td>9</td>\n      <td>Anand</td>\n      <td>42</td>\n      <td>DB</td>\n      <td>ak05@gmail.com</td>\n    </tr>\n    <tr>\n      <th>9</th>\n      <td>10</td>\n      <td>Deek</td>\n      <td>40</td>\n      <td>NJ</td>\n      <td>dg08@gmail.com</td>\n    </tr>\n    <tr>\n      <th>10</th>\n      <td>11</td>\n      <td>Hitesh</td>\n      <td>40</td>\n      <td>DB</td>\n      <td>hp12@gmail.com</td>\n    </tr>\n    <tr>\n      <th>11</th>\n      <td>12</td>\n      <td>Roops</td>\n      <td>41</td>\n      <td>SY</td>\n      <td>rr27@gmail.com</td>\n    </tr>\n    <tr>\n      <th>12</th>\n      <td>13</td>\n      <td>Rash</td>\n      <td>41</td>\n      <td>DB</td>\n      <td>rp05@gmail.com</td>\n    </tr>\n  </tbody>\n</table>\n</div>"
     },
     "metadata": {},
     "output_type": "execute_result",
     "execution_count": 7
    }
   ],
   "source": [
    "df.tail()"
   ],
   "metadata": {
    "collapsed": false,
    "pycharm": {
     "name": "#%%\n",
     "is_executing": false
    }
   }
  },
  {
   "cell_type": "code",
   "execution_count": 8,
   "outputs": [
    {
     "data": {
      "text/plain": "    S.No.     Name  Age City           Email\n6       7   Anurag   42   NO  ak04@gmail.com\n7       8  Pradeep   42   PN  pg16@gmail.com\n8       9    Anand   42   DB  ak05@gmail.com\n9      10     Deek   40   NJ  dg08@gmail.com\n10     11   Hitesh   40   DB  hp12@gmail.com\n11     12    Roops   41   SY  rr27@gmail.com\n12     13     Rash   41   DB  rp05@gmail.com",
      "text/html": "<div>\n<style scoped>\n    .dataframe tbody tr th:only-of-type {\n        vertical-align: middle;\n    }\n\n    .dataframe tbody tr th {\n        vertical-align: top;\n    }\n\n    .dataframe thead th {\n        text-align: right;\n    }\n</style>\n<table border=\"1\" class=\"dataframe\">\n  <thead>\n    <tr style=\"text-align: right;\">\n      <th></th>\n      <th>S.No.</th>\n      <th>Name</th>\n      <th>Age</th>\n      <th>City</th>\n      <th>Email</th>\n    </tr>\n  </thead>\n  <tbody>\n    <tr>\n      <th>6</th>\n      <td>7</td>\n      <td>Anurag</td>\n      <td>42</td>\n      <td>NO</td>\n      <td>ak04@gmail.com</td>\n    </tr>\n    <tr>\n      <th>7</th>\n      <td>8</td>\n      <td>Pradeep</td>\n      <td>42</td>\n      <td>PN</td>\n      <td>pg16@gmail.com</td>\n    </tr>\n    <tr>\n      <th>8</th>\n      <td>9</td>\n      <td>Anand</td>\n      <td>42</td>\n      <td>DB</td>\n      <td>ak05@gmail.com</td>\n    </tr>\n    <tr>\n      <th>9</th>\n      <td>10</td>\n      <td>Deek</td>\n      <td>40</td>\n      <td>NJ</td>\n      <td>dg08@gmail.com</td>\n    </tr>\n    <tr>\n      <th>10</th>\n      <td>11</td>\n      <td>Hitesh</td>\n      <td>40</td>\n      <td>DB</td>\n      <td>hp12@gmail.com</td>\n    </tr>\n    <tr>\n      <th>11</th>\n      <td>12</td>\n      <td>Roops</td>\n      <td>41</td>\n      <td>SY</td>\n      <td>rr27@gmail.com</td>\n    </tr>\n    <tr>\n      <th>12</th>\n      <td>13</td>\n      <td>Rash</td>\n      <td>41</td>\n      <td>DB</td>\n      <td>rp05@gmail.com</td>\n    </tr>\n  </tbody>\n</table>\n</div>"
     },
     "metadata": {},
     "output_type": "execute_result",
     "execution_count": 8
    }
   ],
   "source": [
    "df.tail(7)"
   ],
   "metadata": {
    "collapsed": false,
    "pycharm": {
     "name": "#%%\n",
     "is_executing": false
    }
   }
  },
  {
   "cell_type": "code",
   "execution_count": 9,
   "outputs": [
    {
     "data": {
      "text/plain": "{'Name': {1: 'Abhishek',\n  2: 'Abhishek1',\n  3: 'Saurabh',\n  4: 'Sando',\n  5: 'Ashish',\n  6: 'Faheem',\n  7: 'Anurag',\n  8: 'Pradeep',\n  9: 'Anand',\n  10: 'Deek',\n  11: 'Hitesh',\n  12: 'Roops',\n  13: 'Rash'},\n 'Age': {1: 40,\n  2: 41,\n  3: 42,\n  4: 44,\n  5: 42,\n  6: 41,\n  7: 42,\n  8: 42,\n  9: 42,\n  10: 40,\n  11: 40,\n  12: 41,\n  13: 41},\n 'City': {1: 'SY',\n  2: 'AT',\n  3: 'SY',\n  4: 'NO',\n  5: 'DL',\n  6: 'GR',\n  7: 'NO',\n  8: 'PN',\n  9: 'DB',\n  10: 'NJ',\n  11: 'DB',\n  12: 'SY',\n  13: 'DB'},\n 'Email': {1: 'ak13@gmail.com',\n  2: 'ak1@gmail.com',\n  3: 'sk29@gmail.com',\n  4: 'sd18@gmail.com',\n  5: 'as12@gmail.com',\n  6: 'fs25@gmail.com',\n  7: 'ak04@gmail.com',\n  8: 'pg16@gmail.com',\n  9: 'ak05@gmail.com',\n  10: 'dg08@gmail.com',\n  11: 'hp12@gmail.com',\n  12: 'rr27@gmail.com',\n  13: 'rp05@gmail.com'}}"
     },
     "metadata": {},
     "output_type": "execute_result",
     "execution_count": 9
    }
   ],
   "source": [
    "dfd = pd.read_csv('friends.csv', index_col=0, squeeze=True).to_dict()\n",
    "dfd"
   ],
   "metadata": {
    "collapsed": false,
    "pycharm": {
     "name": "#%%\n",
     "is_executing": false
    }
   }
  },
  {
   "cell_type": "code",
   "execution_count": 10,
   "outputs": [
    {
     "data": {
      "text/plain": "         Name  Age City           Email\n1    Abhishek   40   SY  ak13@gmail.com\n2   Abhishek1   41   AT   ak1@gmail.com\n3     Saurabh   42   SY  sk29@gmail.com\n4       Sando   44   NO  sd18@gmail.com\n5      Ashish   42   DL  as12@gmail.com\n6      Faheem   41   GR  fs25@gmail.com\n7      Anurag   42   NO  ak04@gmail.com\n8     Pradeep   42   PN  pg16@gmail.com\n9       Anand   42   DB  ak05@gmail.com\n10       Deek   40   NJ  dg08@gmail.com\n11     Hitesh   40   DB  hp12@gmail.com\n12      Roops   41   SY  rr27@gmail.com\n13       Rash   41   DB  rp05@gmail.com",
      "text/html": "<div>\n<style scoped>\n    .dataframe tbody tr th:only-of-type {\n        vertical-align: middle;\n    }\n\n    .dataframe tbody tr th {\n        vertical-align: top;\n    }\n\n    .dataframe thead th {\n        text-align: right;\n    }\n</style>\n<table border=\"1\" class=\"dataframe\">\n  <thead>\n    <tr style=\"text-align: right;\">\n      <th></th>\n      <th>Name</th>\n      <th>Age</th>\n      <th>City</th>\n      <th>Email</th>\n    </tr>\n  </thead>\n  <tbody>\n    <tr>\n      <th>1</th>\n      <td>Abhishek</td>\n      <td>40</td>\n      <td>SY</td>\n      <td>ak13@gmail.com</td>\n    </tr>\n    <tr>\n      <th>2</th>\n      <td>Abhishek1</td>\n      <td>41</td>\n      <td>AT</td>\n      <td>ak1@gmail.com</td>\n    </tr>\n    <tr>\n      <th>3</th>\n      <td>Saurabh</td>\n      <td>42</td>\n      <td>SY</td>\n      <td>sk29@gmail.com</td>\n    </tr>\n    <tr>\n      <th>4</th>\n      <td>Sando</td>\n      <td>44</td>\n      <td>NO</td>\n      <td>sd18@gmail.com</td>\n    </tr>\n    <tr>\n      <th>5</th>\n      <td>Ashish</td>\n      <td>42</td>\n      <td>DL</td>\n      <td>as12@gmail.com</td>\n    </tr>\n    <tr>\n      <th>6</th>\n      <td>Faheem</td>\n      <td>41</td>\n      <td>GR</td>\n      <td>fs25@gmail.com</td>\n    </tr>\n    <tr>\n      <th>7</th>\n      <td>Anurag</td>\n      <td>42</td>\n      <td>NO</td>\n      <td>ak04@gmail.com</td>\n    </tr>\n    <tr>\n      <th>8</th>\n      <td>Pradeep</td>\n      <td>42</td>\n      <td>PN</td>\n      <td>pg16@gmail.com</td>\n    </tr>\n    <tr>\n      <th>9</th>\n      <td>Anand</td>\n      <td>42</td>\n      <td>DB</td>\n      <td>ak05@gmail.com</td>\n    </tr>\n    <tr>\n      <th>10</th>\n      <td>Deek</td>\n      <td>40</td>\n      <td>NJ</td>\n      <td>dg08@gmail.com</td>\n    </tr>\n    <tr>\n      <th>11</th>\n      <td>Hitesh</td>\n      <td>40</td>\n      <td>DB</td>\n      <td>hp12@gmail.com</td>\n    </tr>\n    <tr>\n      <th>12</th>\n      <td>Roops</td>\n      <td>41</td>\n      <td>SY</td>\n      <td>rr27@gmail.com</td>\n    </tr>\n    <tr>\n      <th>13</th>\n      <td>Rash</td>\n      <td>41</td>\n      <td>DB</td>\n      <td>rp05@gmail.com</td>\n    </tr>\n  </tbody>\n</table>\n</div>"
     },
     "metadata": {},
     "output_type": "execute_result",
     "execution_count": 10
    }
   ],
   "source": [
    "dfnew = pd.DataFrame(dfd)\n",
    "dfnew"
   ],
   "metadata": {
    "collapsed": false,
    "pycharm": {
     "name": "#%%\n",
     "is_executing": false
    }
   }
  },
  {
   "cell_type": "code",
   "execution_count": 11,
   "outputs": [
    {
     "data": {
      "text/plain": "1     ak13@gmail.com\n2      ak1@gmail.com\n3     sk29@gmail.com\n4     sd18@gmail.com\n5     as12@gmail.com\n6     fs25@gmail.com\n7     ak04@gmail.com\n8     pg16@gmail.com\n9     ak05@gmail.com\n10    dg08@gmail.com\n11    hp12@gmail.com\n12    rr27@gmail.com\n13    rp05@gmail.com\nName: Email, dtype: object"
     },
     "metadata": {},
     "output_type": "execute_result",
     "execution_count": 11
    }
   ],
   "source": [
    "dfnew['Email']"
   ],
   "metadata": {
    "collapsed": false,
    "pycharm": {
     "name": "#%%\n",
     "is_executing": false
    }
   }
  },
  {
   "cell_type": "code",
   "execution_count": 12,
   "outputs": [
    {
     "data": {
      "text/plain": "pandas.core.series.Series"
     },
     "metadata": {},
     "output_type": "execute_result",
     "execution_count": 12
    }
   ],
   "source": [
    "type(dfnew['Email'])"
   ],
   "metadata": {
    "collapsed": false,
    "pycharm": {
     "name": "#%%\n",
     "is_executing": false
    }
   }
  },
  {
   "cell_type": "code",
   "execution_count": 13,
   "outputs": [
    {
     "data": {
      "text/plain": "1     ak13@gmail.com\n2      ak1@gmail.com\n3     sk29@gmail.com\n4     sd18@gmail.com\n5     as12@gmail.com\n6     fs25@gmail.com\n7     ak04@gmail.com\n8     pg16@gmail.com\n9     ak05@gmail.com\n10    dg08@gmail.com\n11    hp12@gmail.com\n12    rr27@gmail.com\n13    rp05@gmail.com\nName: Email, dtype: object"
     },
     "metadata": {},
     "output_type": "execute_result",
     "execution_count": 13
    }
   ],
   "source": [
    "dfnew.Email"
   ],
   "metadata": {
    "collapsed": false,
    "pycharm": {
     "name": "#%%\n",
     "is_executing": false
    }
   }
  },
  {
   "cell_type": "code",
   "execution_count": 14,
   "outputs": [
    {
     "data": {
      "text/plain": "         Name           Email\n1    Abhishek  ak13@gmail.com\n2   Abhishek1   ak1@gmail.com\n3     Saurabh  sk29@gmail.com\n4       Sando  sd18@gmail.com\n5      Ashish  as12@gmail.com\n6      Faheem  fs25@gmail.com\n7      Anurag  ak04@gmail.com\n8     Pradeep  pg16@gmail.com\n9       Anand  ak05@gmail.com\n10       Deek  dg08@gmail.com\n11     Hitesh  hp12@gmail.com\n12      Roops  rr27@gmail.com\n13       Rash  rp05@gmail.com",
      "text/html": "<div>\n<style scoped>\n    .dataframe tbody tr th:only-of-type {\n        vertical-align: middle;\n    }\n\n    .dataframe tbody tr th {\n        vertical-align: top;\n    }\n\n    .dataframe thead th {\n        text-align: right;\n    }\n</style>\n<table border=\"1\" class=\"dataframe\">\n  <thead>\n    <tr style=\"text-align: right;\">\n      <th></th>\n      <th>Name</th>\n      <th>Email</th>\n    </tr>\n  </thead>\n  <tbody>\n    <tr>\n      <th>1</th>\n      <td>Abhishek</td>\n      <td>ak13@gmail.com</td>\n    </tr>\n    <tr>\n      <th>2</th>\n      <td>Abhishek1</td>\n      <td>ak1@gmail.com</td>\n    </tr>\n    <tr>\n      <th>3</th>\n      <td>Saurabh</td>\n      <td>sk29@gmail.com</td>\n    </tr>\n    <tr>\n      <th>4</th>\n      <td>Sando</td>\n      <td>sd18@gmail.com</td>\n    </tr>\n    <tr>\n      <th>5</th>\n      <td>Ashish</td>\n      <td>as12@gmail.com</td>\n    </tr>\n    <tr>\n      <th>6</th>\n      <td>Faheem</td>\n      <td>fs25@gmail.com</td>\n    </tr>\n    <tr>\n      <th>7</th>\n      <td>Anurag</td>\n      <td>ak04@gmail.com</td>\n    </tr>\n    <tr>\n      <th>8</th>\n      <td>Pradeep</td>\n      <td>pg16@gmail.com</td>\n    </tr>\n    <tr>\n      <th>9</th>\n      <td>Anand</td>\n      <td>ak05@gmail.com</td>\n    </tr>\n    <tr>\n      <th>10</th>\n      <td>Deek</td>\n      <td>dg08@gmail.com</td>\n    </tr>\n    <tr>\n      <th>11</th>\n      <td>Hitesh</td>\n      <td>hp12@gmail.com</td>\n    </tr>\n    <tr>\n      <th>12</th>\n      <td>Roops</td>\n      <td>rr27@gmail.com</td>\n    </tr>\n    <tr>\n      <th>13</th>\n      <td>Rash</td>\n      <td>rp05@gmail.com</td>\n    </tr>\n  </tbody>\n</table>\n</div>"
     },
     "metadata": {},
     "output_type": "execute_result",
     "execution_count": 14
    }
   ],
   "source": [
    "dfnew[['Name','Email']]"
   ],
   "metadata": {
    "collapsed": false,
    "pycharm": {
     "name": "#%%\n",
     "is_executing": false
    }
   }
  },
  {
   "cell_type": "code",
   "execution_count": 15,
   "outputs": [
    {
     "data": {
      "text/plain": "Index(['Name', 'Age', 'City', 'Email'], dtype='object')"
     },
     "metadata": {},
     "output_type": "execute_result",
     "execution_count": 15
    }
   ],
   "source": [
    "dfnew.columns"
   ],
   "metadata": {
    "collapsed": false,
    "pycharm": {
     "name": "#%%\n",
     "is_executing": false
    }
   }
  },
  {
   "cell_type": "code",
   "execution_count": 16,
   "outputs": [
    {
     "data": {
      "text/plain": "Name           Abhishek\nAge                  40\nCity                 SY\nEmail    ak13@gmail.com\nName: 1, dtype: object"
     },
     "metadata": {},
     "output_type": "execute_result",
     "execution_count": 16
    }
   ],
   "source": [
    "dfnew.iloc[0]"
   ],
   "metadata": {
    "collapsed": false,
    "pycharm": {
     "name": "#%%\n",
     "is_executing": false
    }
   }
  },
  {
   "cell_type": "code",
   "execution_count": 17,
   "outputs": [
    {
     "data": {
      "text/plain": "       Name  Age City           Email\n1  Abhishek   40   SY  ak13@gmail.com\n3   Saurabh   42   SY  sk29@gmail.com",
      "text/html": "<div>\n<style scoped>\n    .dataframe tbody tr th:only-of-type {\n        vertical-align: middle;\n    }\n\n    .dataframe tbody tr th {\n        vertical-align: top;\n    }\n\n    .dataframe thead th {\n        text-align: right;\n    }\n</style>\n<table border=\"1\" class=\"dataframe\">\n  <thead>\n    <tr style=\"text-align: right;\">\n      <th></th>\n      <th>Name</th>\n      <th>Age</th>\n      <th>City</th>\n      <th>Email</th>\n    </tr>\n  </thead>\n  <tbody>\n    <tr>\n      <th>1</th>\n      <td>Abhishek</td>\n      <td>40</td>\n      <td>SY</td>\n      <td>ak13@gmail.com</td>\n    </tr>\n    <tr>\n      <th>3</th>\n      <td>Saurabh</td>\n      <td>42</td>\n      <td>SY</td>\n      <td>sk29@gmail.com</td>\n    </tr>\n  </tbody>\n</table>\n</div>"
     },
     "metadata": {},
     "output_type": "execute_result",
     "execution_count": 17
    }
   ],
   "source": [
    "dfnew.iloc[[0, 2]]"
   ],
   "metadata": {
    "collapsed": false,
    "pycharm": {
     "name": "#%%\n",
     "is_executing": false
    }
   }
  },
  {
   "cell_type": "code",
   "execution_count": 18,
   "outputs": [
    {
     "data": {
      "text/plain": "1    SY\n3    SY\nName: City, dtype: object"
     },
     "metadata": {},
     "output_type": "execute_result",
     "execution_count": 18
    }
   ],
   "source": [
    "dfnew.iloc[[0, 2], 2]"
   ],
   "metadata": {
    "collapsed": false,
    "pycharm": {
     "name": "#%%\n",
     "is_executing": false
    }
   }
  },
  {
   "cell_type": "code",
   "execution_count": 19,
   "outputs": [
    {
     "data": {
      "text/plain": "Name           Abhishek\nAge                  40\nCity                 SY\nEmail    ak13@gmail.com\nName: 1, dtype: object"
     },
     "metadata": {},
     "output_type": "execute_result",
     "execution_count": 19
    }
   ],
   "source": [
    "dfnew.loc[1]"
   ],
   "metadata": {
    "collapsed": false,
    "pycharm": {
     "name": "#%%\n",
     "is_executing": false
    }
   }
  },
  {
   "cell_type": "code",
   "execution_count": 20,
   "outputs": [
    {
     "data": {
      "text/plain": "       Name  Age City           Email\n1  Abhishek   40   SY  ak13@gmail.com\n5    Ashish   42   DL  as12@gmail.com",
      "text/html": "<div>\n<style scoped>\n    .dataframe tbody tr th:only-of-type {\n        vertical-align: middle;\n    }\n\n    .dataframe tbody tr th {\n        vertical-align: top;\n    }\n\n    .dataframe thead th {\n        text-align: right;\n    }\n</style>\n<table border=\"1\" class=\"dataframe\">\n  <thead>\n    <tr style=\"text-align: right;\">\n      <th></th>\n      <th>Name</th>\n      <th>Age</th>\n      <th>City</th>\n      <th>Email</th>\n    </tr>\n  </thead>\n  <tbody>\n    <tr>\n      <th>1</th>\n      <td>Abhishek</td>\n      <td>40</td>\n      <td>SY</td>\n      <td>ak13@gmail.com</td>\n    </tr>\n    <tr>\n      <th>5</th>\n      <td>Ashish</td>\n      <td>42</td>\n      <td>DL</td>\n      <td>as12@gmail.com</td>\n    </tr>\n  </tbody>\n</table>\n</div>"
     },
     "metadata": {},
     "output_type": "execute_result",
     "execution_count": 20
    }
   ],
   "source": [
    "dfnew.loc[[1,5]]\n"
   ],
   "metadata": {
    "collapsed": false,
    "pycharm": {
     "name": "#%%\n",
     "is_executing": false
    }
   }
  },
  {
   "cell_type": "code",
   "execution_count": 21,
   "outputs": [
    {
     "data": {
      "text/plain": "1    ak13@gmail.com\n5    as12@gmail.com\nName: Email, dtype: object"
     },
     "metadata": {},
     "output_type": "execute_result",
     "execution_count": 21
    }
   ],
   "source": [
    "dfnew.loc[[1,5], 'Email']\n",
    "\n"
   ],
   "metadata": {
    "collapsed": false,
    "pycharm": {
     "name": "#%%\n",
     "is_executing": false
    }
   }
  },
  {
   "cell_type": "code",
   "execution_count": 22,
   "outputs": [
    {
     "data": {
      "text/plain": "       Name           Email\n1  Abhishek  ak13@gmail.com\n5    Ashish  as12@gmail.com",
      "text/html": "<div>\n<style scoped>\n    .dataframe tbody tr th:only-of-type {\n        vertical-align: middle;\n    }\n\n    .dataframe tbody tr th {\n        vertical-align: top;\n    }\n\n    .dataframe thead th {\n        text-align: right;\n    }\n</style>\n<table border=\"1\" class=\"dataframe\">\n  <thead>\n    <tr style=\"text-align: right;\">\n      <th></th>\n      <th>Name</th>\n      <th>Email</th>\n    </tr>\n  </thead>\n  <tbody>\n    <tr>\n      <th>1</th>\n      <td>Abhishek</td>\n      <td>ak13@gmail.com</td>\n    </tr>\n    <tr>\n      <th>5</th>\n      <td>Ashish</td>\n      <td>as12@gmail.com</td>\n    </tr>\n  </tbody>\n</table>\n</div>"
     },
     "metadata": {},
     "output_type": "execute_result",
     "execution_count": 22
    }
   ],
   "source": [
    "dfnew.loc[[1,5], ['Name','Email']]"
   ],
   "metadata": {
    "collapsed": false,
    "pycharm": {
     "name": "#%%\n",
     "is_executing": false
    }
   }
  },
  {
   "cell_type": "code",
   "execution_count": 23,
   "outputs": [
    {
     "data": {
      "text/plain": "(13, 4)"
     },
     "metadata": {},
     "output_type": "execute_result",
     "execution_count": 23
    }
   ],
   "source": [
    "dfnew.shape"
   ],
   "metadata": {
    "collapsed": false,
    "pycharm": {
     "name": "#%%\n",
     "is_executing": false
    }
   }
  },
  {
   "cell_type": "code",
   "execution_count": 24,
   "outputs": [
    {
     "data": {
      "text/plain": "1     ak13@gmail.com\n2      ak1@gmail.com\n3     sk29@gmail.com\n4     sd18@gmail.com\n5     as12@gmail.com\n6     fs25@gmail.com\n7     ak04@gmail.com\n8     pg16@gmail.com\n9     ak05@gmail.com\n10    dg08@gmail.com\n11    hp12@gmail.com\n12    rr27@gmail.com\n13    rp05@gmail.com\nName: Email, dtype: object"
     },
     "metadata": {},
     "output_type": "execute_result",
     "execution_count": 24
    }
   ],
   "source": [
    "dfnew['Email']"
   ],
   "metadata": {
    "collapsed": false,
    "pycharm": {
     "name": "#%%\n",
     "is_executing": false
    }
   }
  },
  {
   "cell_type": "code",
   "execution_count": 25,
   "outputs": [
    {
     "data": {
      "text/plain": "DB    3\nSY    3\nNO    2\nPN    1\nAT    1\nDL    1\nGR    1\nNJ    1\nName: City, dtype: int64"
     },
     "metadata": {},
     "output_type": "execute_result",
     "execution_count": 25
    }
   ],
   "source": [
    "dfnew['City'].value_counts()"
   ],
   "metadata": {
    "collapsed": false,
    "pycharm": {
     "name": "#%%\n",
     "is_executing": false
    }
   }
  },
  {
   "cell_type": "code",
   "execution_count": 26,
   "outputs": [
    {
     "data": {
      "text/plain": "1     SY\n2     AT\n3     SY\n11    DB\nName: City, dtype: object"
     },
     "metadata": {},
     "output_type": "execute_result",
     "execution_count": 26
    }
   ],
   "source": [
    "dfnew.loc[[1, 2, 3, 11],'City']\n"
   ],
   "metadata": {
    "collapsed": false,
    "pycharm": {
     "name": "#%%\n",
     "is_executing": false
    }
   }
  },
  {
   "cell_type": "code",
   "execution_count": 27,
   "outputs": [
    {
     "data": {
      "text/plain": "3     SY\n4     NO\n5     DL\n6     GR\n7     NO\n8     PN\n9     DB\n10    NJ\n11    DB\nName: City, dtype: object"
     },
     "metadata": {},
     "output_type": "execute_result",
     "execution_count": 27
    }
   ],
   "source": [
    "dfnew.loc[3:11,'City']\n"
   ],
   "metadata": {
    "collapsed": false,
    "pycharm": {
     "name": "#%%\n",
     "is_executing": false
    }
   }
  },
  {
   "cell_type": "code",
   "execution_count": 28,
   "outputs": [
    {
     "data": {
      "text/plain": "    Age City           Email\n3    42   SY  sk29@gmail.com\n4    44   NO  sd18@gmail.com\n5    42   DL  as12@gmail.com\n6    41   GR  fs25@gmail.com\n7    42   NO  ak04@gmail.com\n8    42   PN  pg16@gmail.com\n9    42   DB  ak05@gmail.com\n10   40   NJ  dg08@gmail.com\n11   40   DB  hp12@gmail.com",
      "text/html": "<div>\n<style scoped>\n    .dataframe tbody tr th:only-of-type {\n        vertical-align: middle;\n    }\n\n    .dataframe tbody tr th {\n        vertical-align: top;\n    }\n\n    .dataframe thead th {\n        text-align: right;\n    }\n</style>\n<table border=\"1\" class=\"dataframe\">\n  <thead>\n    <tr style=\"text-align: right;\">\n      <th></th>\n      <th>Age</th>\n      <th>City</th>\n      <th>Email</th>\n    </tr>\n  </thead>\n  <tbody>\n    <tr>\n      <th>3</th>\n      <td>42</td>\n      <td>SY</td>\n      <td>sk29@gmail.com</td>\n    </tr>\n    <tr>\n      <th>4</th>\n      <td>44</td>\n      <td>NO</td>\n      <td>sd18@gmail.com</td>\n    </tr>\n    <tr>\n      <th>5</th>\n      <td>42</td>\n      <td>DL</td>\n      <td>as12@gmail.com</td>\n    </tr>\n    <tr>\n      <th>6</th>\n      <td>41</td>\n      <td>GR</td>\n      <td>fs25@gmail.com</td>\n    </tr>\n    <tr>\n      <th>7</th>\n      <td>42</td>\n      <td>NO</td>\n      <td>ak04@gmail.com</td>\n    </tr>\n    <tr>\n      <th>8</th>\n      <td>42</td>\n      <td>PN</td>\n      <td>pg16@gmail.com</td>\n    </tr>\n    <tr>\n      <th>9</th>\n      <td>42</td>\n      <td>DB</td>\n      <td>ak05@gmail.com</td>\n    </tr>\n    <tr>\n      <th>10</th>\n      <td>40</td>\n      <td>NJ</td>\n      <td>dg08@gmail.com</td>\n    </tr>\n    <tr>\n      <th>11</th>\n      <td>40</td>\n      <td>DB</td>\n      <td>hp12@gmail.com</td>\n    </tr>\n  </tbody>\n</table>\n</div>"
     },
     "metadata": {},
     "output_type": "execute_result",
     "execution_count": 28
    }
   ],
   "source": [
    "dfnew.loc[3:11,'Age':'Email']"
   ],
   "metadata": {
    "collapsed": false,
    "pycharm": {
     "name": "#%%\n",
     "is_executing": false
    }
   }
  },
  {
   "cell_type": "code",
   "execution_count": 28,
   "outputs": [],
   "source": [
    "\n"
   ],
   "metadata": {
    "collapsed": false,
    "pycharm": {
     "name": "#%%\n",
     "is_executing": false
    }
   }
  }
 ],
 "metadata": {
  "kernelspec": {
   "display_name": "Python 3",
   "language": "python",
   "name": "python3"
  },
  "language_info": {
   "codemirror_mode": {
    "name": "ipython",
    "version": 3
   },
   "file_extension": ".py",
   "mimetype": "text/x-python",
   "name": "python",
   "nbconvert_exporter": "python",
   "pygments_lexer": "ipython3",
   "version": "3.8.3"
  },
  "pycharm": {
   "stem_cell": {
    "cell_type": "raw",
    "source": [],
    "metadata": {
     "collapsed": false
    }
   }
  }
 },
 "nbformat": 4,
 "nbformat_minor": 4
}