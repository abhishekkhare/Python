{
 "cells": [
  {
   "cell_type": "code",
   "execution_count": 195,
   "metadata": {
    "pycharm": {
     "is_executing": false
    }
   },
   "outputs": [],
   "source": [
    "import pandas as pd\n",
    "pd.options.display.max_rows = 100\n",
    "pd.options.display.max_columns = 100"
   ]
  },
  {
   "cell_type": "code",
   "execution_count": 196,
   "metadata": {
    "pycharm": {
     "is_executing": false
    }
   },
   "outputs": [
    {
     "data": {
      "text/html": [
       "<div>\n",
       "<style scoped>\n",
       "    .dataframe tbody tr th:only-of-type {\n",
       "        vertical-align: middle;\n",
       "    }\n",
       "\n",
       "    .dataframe tbody tr th {\n",
       "        vertical-align: top;\n",
       "    }\n",
       "\n",
       "    .dataframe thead th {\n",
       "        text-align: right;\n",
       "    }\n",
       "</style>\n",
       "<table border=\"1\" class=\"dataframe\">\n",
       "  <thead>\n",
       "    <tr style=\"text-align: right;\">\n",
       "      <th></th>\n",
       "      <th>S.No.</th>\n",
       "      <th>Name</th>\n",
       "      <th>Age</th>\n",
       "      <th>City</th>\n",
       "      <th>Email</th>\n",
       "      <th>CitiesLivedInPast</th>\n",
       "    </tr>\n",
       "  </thead>\n",
       "  <tbody>\n",
       "    <tr>\n",
       "      <th>0</th>\n",
       "      <td>1</td>\n",
       "      <td>Abhishek</td>\n",
       "      <td>41</td>\n",
       "      <td>SY</td>\n",
       "      <td>ak13@gmail.com</td>\n",
       "      <td>LKO;GR;NO</td>\n",
       "    </tr>\n",
       "    <tr>\n",
       "      <th>1</th>\n",
       "      <td>2</td>\n",
       "      <td>Abhishek1</td>\n",
       "      <td>41</td>\n",
       "      <td>AT</td>\n",
       "      <td>ak1@gmail.com</td>\n",
       "      <td>LKO;CHN</td>\n",
       "    </tr>\n",
       "    <tr>\n",
       "      <th>2</th>\n",
       "      <td>3</td>\n",
       "      <td>Saurabh</td>\n",
       "      <td>42</td>\n",
       "      <td>SY</td>\n",
       "      <td>sk29@gmail.com</td>\n",
       "      <td>LKO;CHN;CAL;NO</td>\n",
       "    </tr>\n",
       "    <tr>\n",
       "      <th>3</th>\n",
       "      <td>4</td>\n",
       "      <td>Sando</td>\n",
       "      <td>44</td>\n",
       "      <td>NO</td>\n",
       "      <td>sd18@gmail.com</td>\n",
       "      <td>LKO;CHN;CAL;NO;GR</td>\n",
       "    </tr>\n",
       "    <tr>\n",
       "      <th>4</th>\n",
       "      <td>5</td>\n",
       "      <td>Ashish</td>\n",
       "      <td>42</td>\n",
       "      <td>DL</td>\n",
       "      <td>as12@gmail.com</td>\n",
       "      <td>LKO</td>\n",
       "    </tr>\n",
       "    <tr>\n",
       "      <th>5</th>\n",
       "      <td>6</td>\n",
       "      <td>Faheem</td>\n",
       "      <td>41</td>\n",
       "      <td>GR</td>\n",
       "      <td>fs25@gmail.com</td>\n",
       "      <td>LKO;BAN;NO;DL</td>\n",
       "    </tr>\n",
       "    <tr>\n",
       "      <th>6</th>\n",
       "      <td>7</td>\n",
       "      <td>Anurag</td>\n",
       "      <td>42</td>\n",
       "      <td>NO</td>\n",
       "      <td>ak04@gmail.com</td>\n",
       "      <td>LKO;BUB;GR;NO</td>\n",
       "    </tr>\n",
       "    <tr>\n",
       "      <th>7</th>\n",
       "      <td>8</td>\n",
       "      <td>Pradeep</td>\n",
       "      <td>42</td>\n",
       "      <td>PN</td>\n",
       "      <td>pg16@gmail.com</td>\n",
       "      <td>LKO;CHN;GR;PN</td>\n",
       "    </tr>\n",
       "    <tr>\n",
       "      <th>8</th>\n",
       "      <td>9</td>\n",
       "      <td>Anand</td>\n",
       "      <td>42</td>\n",
       "      <td>DB</td>\n",
       "      <td>ak05@gmail.com</td>\n",
       "      <td>HYD</td>\n",
       "    </tr>\n",
       "    <tr>\n",
       "      <th>9</th>\n",
       "      <td>10</td>\n",
       "      <td>Deek</td>\n",
       "      <td>40</td>\n",
       "      <td>NJ</td>\n",
       "      <td>dg08@gmail.com</td>\n",
       "      <td>NO;CNB</td>\n",
       "    </tr>\n",
       "    <tr>\n",
       "      <th>10</th>\n",
       "      <td>11</td>\n",
       "      <td>Hitesh</td>\n",
       "      <td>40</td>\n",
       "      <td>DB</td>\n",
       "      <td>hp12@gmail.com</td>\n",
       "      <td>NaN</td>\n",
       "    </tr>\n",
       "    <tr>\n",
       "      <th>11</th>\n",
       "      <td>12</td>\n",
       "      <td>Roops</td>\n",
       "      <td>41</td>\n",
       "      <td>SY</td>\n",
       "      <td>rr27@gmail.com</td>\n",
       "      <td>LKO;CNB;NO</td>\n",
       "    </tr>\n",
       "    <tr>\n",
       "      <th>12</th>\n",
       "      <td>13</td>\n",
       "      <td>Rash</td>\n",
       "      <td>41</td>\n",
       "      <td>DB</td>\n",
       "      <td>rp05@gmail.com</td>\n",
       "      <td>NaN</td>\n",
       "    </tr>\n",
       "    <tr>\n",
       "      <th>13</th>\n",
       "      <td>14</td>\n",
       "      <td>Sean</td>\n",
       "      <td>33</td>\n",
       "      <td>SY</td>\n",
       "      <td>sk10@gmail.com</td>\n",
       "      <td>NaN</td>\n",
       "    </tr>\n",
       "    <tr>\n",
       "      <th>14</th>\n",
       "      <td>15</td>\n",
       "      <td>Andrew</td>\n",
       "      <td>33</td>\n",
       "      <td>SY</td>\n",
       "      <td>ap21@gmail.com</td>\n",
       "      <td>NaN</td>\n",
       "    </tr>\n",
       "    <tr>\n",
       "      <th>15</th>\n",
       "      <td>16</td>\n",
       "      <td>Ishanvi</td>\n",
       "      <td>10</td>\n",
       "      <td>SY</td>\n",
       "      <td>ik09@gmail.com</td>\n",
       "      <td>NO</td>\n",
       "    </tr>\n",
       "    <tr>\n",
       "      <th>16</th>\n",
       "      <td>17</td>\n",
       "      <td>Arjun</td>\n",
       "      <td>5</td>\n",
       "      <td>SY</td>\n",
       "      <td>ak20@gmail.com</td>\n",
       "      <td>NaN</td>\n",
       "    </tr>\n",
       "    <tr>\n",
       "      <th>17</th>\n",
       "      <td>18</td>\n",
       "      <td>GrandPa</td>\n",
       "      <td>78</td>\n",
       "      <td>SY</td>\n",
       "      <td>gp00@gmail.com</td>\n",
       "      <td>NaN</td>\n",
       "    </tr>\n",
       "    <tr>\n",
       "      <th>18</th>\n",
       "      <td>19</td>\n",
       "      <td>Shivani</td>\n",
       "      <td>41</td>\n",
       "      <td>SY</td>\n",
       "      <td>ss00@gmail.com</td>\n",
       "      <td>LKO;NO</td>\n",
       "    </tr>\n",
       "  </tbody>\n",
       "</table>\n",
       "</div>"
      ],
      "text/plain": [
       "    S.No.       Name  Age City           Email  CitiesLivedInPast\n",
       "0       1   Abhishek   41   SY  ak13@gmail.com          LKO;GR;NO\n",
       "1       2  Abhishek1   41   AT   ak1@gmail.com            LKO;CHN\n",
       "2       3    Saurabh   42   SY  sk29@gmail.com     LKO;CHN;CAL;NO\n",
       "3       4      Sando   44   NO  sd18@gmail.com  LKO;CHN;CAL;NO;GR\n",
       "4       5     Ashish   42   DL  as12@gmail.com                LKO\n",
       "5       6     Faheem   41   GR  fs25@gmail.com      LKO;BAN;NO;DL\n",
       "6       7     Anurag   42   NO  ak04@gmail.com      LKO;BUB;GR;NO\n",
       "7       8    Pradeep   42   PN  pg16@gmail.com      LKO;CHN;GR;PN\n",
       "8       9      Anand   42   DB  ak05@gmail.com                HYD\n",
       "9      10       Deek   40   NJ  dg08@gmail.com             NO;CNB\n",
       "10     11     Hitesh   40   DB  hp12@gmail.com                NaN\n",
       "11     12      Roops   41   SY  rr27@gmail.com         LKO;CNB;NO\n",
       "12     13       Rash   41   DB  rp05@gmail.com                NaN\n",
       "13     14       Sean   33   SY  sk10@gmail.com                NaN\n",
       "14     15     Andrew   33   SY  ap21@gmail.com                NaN\n",
       "15     16    Ishanvi   10   SY  ik09@gmail.com                 NO\n",
       "16     17      Arjun    5   SY  ak20@gmail.com                NaN\n",
       "17     18    GrandPa   78   SY  gp00@gmail.com                NaN\n",
       "18     19    Shivani   41   SY  ss00@gmail.com             LKO;NO"
      ]
     },
     "execution_count": 196,
     "metadata": {},
     "output_type": "execute_result"
    }
   ],
   "source": [
    "# Read a CSV file into a dataframe\n",
    "df = pd.read_csv('data/friends.csv')\n",
    "df"
   ]
  },
  {
   "cell_type": "code",
   "execution_count": 197,
   "metadata": {
    "pycharm": {
     "is_executing": false
    }
   },
   "outputs": [
    {
     "data": {
      "text/plain": [
       "41.0"
      ]
     },
     "execution_count": 197,
     "metadata": {},
     "output_type": "execute_result"
    }
   ],
   "source": [
    "df['Age'].median()"
   ]
  },
  {
   "cell_type": "code",
   "execution_count": 198,
   "metadata": {
    "pycharm": {
     "is_executing": false
    }
   },
   "outputs": [
    {
     "data": {
      "text/plain": [
       "S.No.    10.0\n",
       "Age      41.0\n",
       "dtype: float64"
      ]
     },
     "execution_count": 198,
     "metadata": {},
     "output_type": "execute_result"
    }
   ],
   "source": [
    "df.median() # works only on numerical value"
   ]
  },
  {
   "cell_type": "code",
   "execution_count": 199,
   "metadata": {
    "pycharm": {
     "is_executing": false
    }
   },
   "outputs": [
    {
     "data": {
      "text/html": [
       "<div>\n",
       "<style scoped>\n",
       "    .dataframe tbody tr th:only-of-type {\n",
       "        vertical-align: middle;\n",
       "    }\n",
       "\n",
       "    .dataframe tbody tr th {\n",
       "        vertical-align: top;\n",
       "    }\n",
       "\n",
       "    .dataframe thead th {\n",
       "        text-align: right;\n",
       "    }\n",
       "</style>\n",
       "<table border=\"1\" class=\"dataframe\">\n",
       "  <thead>\n",
       "    <tr style=\"text-align: right;\">\n",
       "      <th></th>\n",
       "      <th>S.No.</th>\n",
       "      <th>Age</th>\n",
       "    </tr>\n",
       "  </thead>\n",
       "  <tbody>\n",
       "    <tr>\n",
       "      <th>count</th>\n",
       "      <td>19.000000</td>\n",
       "      <td>19.000000</td>\n",
       "    </tr>\n",
       "    <tr>\n",
       "      <th>mean</th>\n",
       "      <td>10.000000</td>\n",
       "      <td>38.894737</td>\n",
       "    </tr>\n",
       "    <tr>\n",
       "      <th>std</th>\n",
       "      <td>5.627314</td>\n",
       "      <td>14.309650</td>\n",
       "    </tr>\n",
       "    <tr>\n",
       "      <th>min</th>\n",
       "      <td>1.000000</td>\n",
       "      <td>5.000000</td>\n",
       "    </tr>\n",
       "    <tr>\n",
       "      <th>25%</th>\n",
       "      <td>5.500000</td>\n",
       "      <td>40.000000</td>\n",
       "    </tr>\n",
       "    <tr>\n",
       "      <th>50%</th>\n",
       "      <td>10.000000</td>\n",
       "      <td>41.000000</td>\n",
       "    </tr>\n",
       "    <tr>\n",
       "      <th>75%</th>\n",
       "      <td>14.500000</td>\n",
       "      <td>42.000000</td>\n",
       "    </tr>\n",
       "    <tr>\n",
       "      <th>max</th>\n",
       "      <td>19.000000</td>\n",
       "      <td>78.000000</td>\n",
       "    </tr>\n",
       "  </tbody>\n",
       "</table>\n",
       "</div>"
      ],
      "text/plain": [
       "           S.No.        Age\n",
       "count  19.000000  19.000000\n",
       "mean   10.000000  38.894737\n",
       "std     5.627314  14.309650\n",
       "min     1.000000   5.000000\n",
       "25%     5.500000  40.000000\n",
       "50%    10.000000  41.000000\n",
       "75%    14.500000  42.000000\n",
       "max    19.000000  78.000000"
      ]
     },
     "execution_count": 199,
     "metadata": {},
     "output_type": "execute_result"
    }
   ],
   "source": [
    "df.describe() # works only on numerical values and provides some details about them"
   ]
  },
  {
   "cell_type": "code",
   "execution_count": 200,
   "metadata": {
    "pycharm": {
     "is_executing": false
    }
   },
   "outputs": [
    {
     "data": {
      "text/plain": [
       "count    19.000000\n",
       "mean     38.894737\n",
       "std      14.309650\n",
       "min       5.000000\n",
       "25%      40.000000\n",
       "50%      41.000000\n",
       "75%      42.000000\n",
       "max      78.000000\n",
       "Name: Age, dtype: float64"
      ]
     },
     "execution_count": 200,
     "metadata": {},
     "output_type": "execute_result"
    }
   ],
   "source": [
    "df['Age'].describe()"
   ]
  },
  {
   "cell_type": "code",
   "execution_count": 201,
   "metadata": {
    "pycharm": {
     "is_executing": false
    }
   },
   "outputs": [
    {
     "data": {
      "text/plain": [
       "13"
      ]
     },
     "execution_count": 201,
     "metadata": {},
     "output_type": "execute_result"
    }
   ],
   "source": [
    "df['CitiesLivedInPast'].count()"
   ]
  },
  {
   "cell_type": "code",
   "execution_count": 202,
   "metadata": {
    "pycharm": {
     "is_executing": false
    }
   },
   "outputs": [
    {
     "data": {
      "text/plain": [
       "19"
      ]
     },
     "execution_count": 202,
     "metadata": {},
     "output_type": "execute_result"
    }
   ],
   "source": [
    "df['Age'].count()"
   ]
  },
  {
   "cell_type": "code",
   "execution_count": 203,
   "metadata": {
    "pycharm": {
     "is_executing": false
    }
   },
   "outputs": [
    {
     "data": {
      "text/plain": [
       "SY    9\n",
       "DB    3\n",
       "NO    2\n",
       "PN    1\n",
       "GR    1\n",
       "AT    1\n",
       "DL    1\n",
       "NJ    1\n",
       "Name: City, dtype: int64"
      ]
     },
     "execution_count": 203,
     "metadata": {},
     "output_type": "execute_result"
    }
   ],
   "source": [
    "df['City'].value_counts()"
   ]
  },
  {
   "cell_type": "code",
   "execution_count": 204,
   "metadata": {
    "pycharm": {
     "is_executing": false
    }
   },
   "outputs": [
    {
     "data": {
      "text/plain": [
       "SY    47.368421\n",
       "DB    15.789474\n",
       "NO    10.526316\n",
       "PN     5.263158\n",
       "GR     5.263158\n",
       "AT     5.263158\n",
       "DL     5.263158\n",
       "NJ     5.263158\n",
       "Name: City, dtype: float64"
      ]
     },
     "execution_count": 204,
     "metadata": {},
     "output_type": "execute_result"
    }
   ],
   "source": [
    "df['City'].value_counts(normalize=True)*100 # gives the response in percentage"
   ]
  },
  {
   "cell_type": "markdown",
   "metadata": {},
   "source": [
    "### Group By  - has 3 steps\n",
    "- **Split**\n",
    "- **Apply Function**\n",
    "- **Combine Results**"
   ]
  },
  {
   "cell_type": "code",
   "execution_count": 205,
   "metadata": {
    "pycharm": {
     "is_executing": false
    }
   },
   "outputs": [
    {
     "data": {
      "text/plain": [
       "<pandas.core.groupby.generic.DataFrameGroupBy object at 0x12151a240>"
      ]
     },
     "execution_count": 205,
     "metadata": {},
     "output_type": "execute_result"
    }
   ],
   "source": [
    "# Split the object - \n",
    "dfGroupBy = df.groupby(['City'])\n",
    "dfGroupBy"
   ]
  },
  {
   "cell_type": "code",
   "execution_count": 206,
   "metadata": {
    "pycharm": {
     "is_executing": false
    }
   },
   "outputs": [
    {
     "data": {
      "text/html": [
       "<div>\n",
       "<style scoped>\n",
       "    .dataframe tbody tr th:only-of-type {\n",
       "        vertical-align: middle;\n",
       "    }\n",
       "\n",
       "    .dataframe tbody tr th {\n",
       "        vertical-align: top;\n",
       "    }\n",
       "\n",
       "    .dataframe thead th {\n",
       "        text-align: right;\n",
       "    }\n",
       "</style>\n",
       "<table border=\"1\" class=\"dataframe\">\n",
       "  <thead>\n",
       "    <tr style=\"text-align: right;\">\n",
       "      <th></th>\n",
       "      <th>S.No.</th>\n",
       "      <th>Name</th>\n",
       "      <th>Age</th>\n",
       "      <th>City</th>\n",
       "      <th>Email</th>\n",
       "      <th>CitiesLivedInPast</th>\n",
       "    </tr>\n",
       "  </thead>\n",
       "  <tbody>\n",
       "    <tr>\n",
       "      <th>0</th>\n",
       "      <td>1</td>\n",
       "      <td>Abhishek</td>\n",
       "      <td>41</td>\n",
       "      <td>SY</td>\n",
       "      <td>ak13@gmail.com</td>\n",
       "      <td>LKO;GR;NO</td>\n",
       "    </tr>\n",
       "    <tr>\n",
       "      <th>2</th>\n",
       "      <td>3</td>\n",
       "      <td>Saurabh</td>\n",
       "      <td>42</td>\n",
       "      <td>SY</td>\n",
       "      <td>sk29@gmail.com</td>\n",
       "      <td>LKO;CHN;CAL;NO</td>\n",
       "    </tr>\n",
       "    <tr>\n",
       "      <th>11</th>\n",
       "      <td>12</td>\n",
       "      <td>Roops</td>\n",
       "      <td>41</td>\n",
       "      <td>SY</td>\n",
       "      <td>rr27@gmail.com</td>\n",
       "      <td>LKO;CNB;NO</td>\n",
       "    </tr>\n",
       "    <tr>\n",
       "      <th>13</th>\n",
       "      <td>14</td>\n",
       "      <td>Sean</td>\n",
       "      <td>33</td>\n",
       "      <td>SY</td>\n",
       "      <td>sk10@gmail.com</td>\n",
       "      <td>NaN</td>\n",
       "    </tr>\n",
       "    <tr>\n",
       "      <th>14</th>\n",
       "      <td>15</td>\n",
       "      <td>Andrew</td>\n",
       "      <td>33</td>\n",
       "      <td>SY</td>\n",
       "      <td>ap21@gmail.com</td>\n",
       "      <td>NaN</td>\n",
       "    </tr>\n",
       "    <tr>\n",
       "      <th>15</th>\n",
       "      <td>16</td>\n",
       "      <td>Ishanvi</td>\n",
       "      <td>10</td>\n",
       "      <td>SY</td>\n",
       "      <td>ik09@gmail.com</td>\n",
       "      <td>NO</td>\n",
       "    </tr>\n",
       "    <tr>\n",
       "      <th>16</th>\n",
       "      <td>17</td>\n",
       "      <td>Arjun</td>\n",
       "      <td>5</td>\n",
       "      <td>SY</td>\n",
       "      <td>ak20@gmail.com</td>\n",
       "      <td>NaN</td>\n",
       "    </tr>\n",
       "    <tr>\n",
       "      <th>17</th>\n",
       "      <td>18</td>\n",
       "      <td>GrandPa</td>\n",
       "      <td>78</td>\n",
       "      <td>SY</td>\n",
       "      <td>gp00@gmail.com</td>\n",
       "      <td>NaN</td>\n",
       "    </tr>\n",
       "    <tr>\n",
       "      <th>18</th>\n",
       "      <td>19</td>\n",
       "      <td>Shivani</td>\n",
       "      <td>41</td>\n",
       "      <td>SY</td>\n",
       "      <td>ss00@gmail.com</td>\n",
       "      <td>LKO;NO</td>\n",
       "    </tr>\n",
       "  </tbody>\n",
       "</table>\n",
       "</div>"
      ],
      "text/plain": [
       "    S.No.      Name  Age City           Email CitiesLivedInPast\n",
       "0       1  Abhishek   41   SY  ak13@gmail.com         LKO;GR;NO\n",
       "2       3   Saurabh   42   SY  sk29@gmail.com    LKO;CHN;CAL;NO\n",
       "11     12     Roops   41   SY  rr27@gmail.com        LKO;CNB;NO\n",
       "13     14      Sean   33   SY  sk10@gmail.com               NaN\n",
       "14     15    Andrew   33   SY  ap21@gmail.com               NaN\n",
       "15     16   Ishanvi   10   SY  ik09@gmail.com                NO\n",
       "16     17     Arjun    5   SY  ak20@gmail.com               NaN\n",
       "17     18   GrandPa   78   SY  gp00@gmail.com               NaN\n",
       "18     19   Shivani   41   SY  ss00@gmail.com            LKO;NO"
      ]
     },
     "execution_count": 206,
     "metadata": {},
     "output_type": "execute_result"
    }
   ],
   "source": [
    "dfGroupBy.get_group('SY') # get the group for city SY"
   ]
  },
  {
   "cell_type": "code",
   "execution_count": 207,
   "metadata": {
    "pycharm": {
     "is_executing": false
    }
   },
   "outputs": [
    {
     "data": {
      "text/html": [
       "<div>\n",
       "<style scoped>\n",
       "    .dataframe tbody tr th:only-of-type {\n",
       "        vertical-align: middle;\n",
       "    }\n",
       "\n",
       "    .dataframe tbody tr th {\n",
       "        vertical-align: top;\n",
       "    }\n",
       "\n",
       "    .dataframe thead th {\n",
       "        text-align: right;\n",
       "    }\n",
       "</style>\n",
       "<table border=\"1\" class=\"dataframe\">\n",
       "  <thead>\n",
       "    <tr style=\"text-align: right;\">\n",
       "      <th></th>\n",
       "      <th>S.No.</th>\n",
       "      <th>Name</th>\n",
       "      <th>Age</th>\n",
       "      <th>City</th>\n",
       "      <th>Email</th>\n",
       "      <th>CitiesLivedInPast</th>\n",
       "    </tr>\n",
       "  </thead>\n",
       "  <tbody>\n",
       "    <tr>\n",
       "      <th>3</th>\n",
       "      <td>4</td>\n",
       "      <td>Sando</td>\n",
       "      <td>44</td>\n",
       "      <td>NO</td>\n",
       "      <td>sd18@gmail.com</td>\n",
       "      <td>LKO;CHN;CAL;NO;GR</td>\n",
       "    </tr>\n",
       "    <tr>\n",
       "      <th>6</th>\n",
       "      <td>7</td>\n",
       "      <td>Anurag</td>\n",
       "      <td>42</td>\n",
       "      <td>NO</td>\n",
       "      <td>ak04@gmail.com</td>\n",
       "      <td>LKO;BUB;GR;NO</td>\n",
       "    </tr>\n",
       "  </tbody>\n",
       "</table>\n",
       "</div>"
      ],
      "text/plain": [
       "   S.No.    Name  Age City           Email  CitiesLivedInPast\n",
       "3      4   Sando   44   NO  sd18@gmail.com  LKO;CHN;CAL;NO;GR\n",
       "6      7  Anurag   42   NO  ak04@gmail.com      LKO;BUB;GR;NO"
      ]
     },
     "execution_count": 207,
     "metadata": {},
     "output_type": "execute_result"
    }
   ],
   "source": [
    "dfGroupBy.get_group('NO') # get the group for city NO"
   ]
  },
  {
   "cell_type": "code",
   "execution_count": 208,
   "metadata": {
    "pycharm": {
     "is_executing": false
    }
   },
   "outputs": [],
   "source": [
    "# this is similar to creating a filter\n",
    "filterSY = df['City'] == 'SY'\n",
    "filterNO = df['City'] == 'NO'\n",
    "filterDB = df['City'] == 'DB'"
   ]
  },
  {
   "cell_type": "code",
   "execution_count": 209,
   "metadata": {
    "pycharm": {
     "is_executing": false
    }
   },
   "outputs": [
    {
     "data": {
      "text/html": [
       "<div>\n",
       "<style scoped>\n",
       "    .dataframe tbody tr th:only-of-type {\n",
       "        vertical-align: middle;\n",
       "    }\n",
       "\n",
       "    .dataframe tbody tr th {\n",
       "        vertical-align: top;\n",
       "    }\n",
       "\n",
       "    .dataframe thead th {\n",
       "        text-align: right;\n",
       "    }\n",
       "</style>\n",
       "<table border=\"1\" class=\"dataframe\">\n",
       "  <thead>\n",
       "    <tr style=\"text-align: right;\">\n",
       "      <th></th>\n",
       "      <th>S.No.</th>\n",
       "      <th>Name</th>\n",
       "      <th>Age</th>\n",
       "      <th>City</th>\n",
       "      <th>Email</th>\n",
       "      <th>CitiesLivedInPast</th>\n",
       "    </tr>\n",
       "  </thead>\n",
       "  <tbody>\n",
       "    <tr>\n",
       "      <th>0</th>\n",
       "      <td>1</td>\n",
       "      <td>Abhishek</td>\n",
       "      <td>41</td>\n",
       "      <td>SY</td>\n",
       "      <td>ak13@gmail.com</td>\n",
       "      <td>LKO;GR;NO</td>\n",
       "    </tr>\n",
       "    <tr>\n",
       "      <th>2</th>\n",
       "      <td>3</td>\n",
       "      <td>Saurabh</td>\n",
       "      <td>42</td>\n",
       "      <td>SY</td>\n",
       "      <td>sk29@gmail.com</td>\n",
       "      <td>LKO;CHN;CAL;NO</td>\n",
       "    </tr>\n",
       "    <tr>\n",
       "      <th>11</th>\n",
       "      <td>12</td>\n",
       "      <td>Roops</td>\n",
       "      <td>41</td>\n",
       "      <td>SY</td>\n",
       "      <td>rr27@gmail.com</td>\n",
       "      <td>LKO;CNB;NO</td>\n",
       "    </tr>\n",
       "    <tr>\n",
       "      <th>13</th>\n",
       "      <td>14</td>\n",
       "      <td>Sean</td>\n",
       "      <td>33</td>\n",
       "      <td>SY</td>\n",
       "      <td>sk10@gmail.com</td>\n",
       "      <td>NaN</td>\n",
       "    </tr>\n",
       "    <tr>\n",
       "      <th>14</th>\n",
       "      <td>15</td>\n",
       "      <td>Andrew</td>\n",
       "      <td>33</td>\n",
       "      <td>SY</td>\n",
       "      <td>ap21@gmail.com</td>\n",
       "      <td>NaN</td>\n",
       "    </tr>\n",
       "    <tr>\n",
       "      <th>15</th>\n",
       "      <td>16</td>\n",
       "      <td>Ishanvi</td>\n",
       "      <td>10</td>\n",
       "      <td>SY</td>\n",
       "      <td>ik09@gmail.com</td>\n",
       "      <td>NO</td>\n",
       "    </tr>\n",
       "    <tr>\n",
       "      <th>16</th>\n",
       "      <td>17</td>\n",
       "      <td>Arjun</td>\n",
       "      <td>5</td>\n",
       "      <td>SY</td>\n",
       "      <td>ak20@gmail.com</td>\n",
       "      <td>NaN</td>\n",
       "    </tr>\n",
       "    <tr>\n",
       "      <th>17</th>\n",
       "      <td>18</td>\n",
       "      <td>GrandPa</td>\n",
       "      <td>78</td>\n",
       "      <td>SY</td>\n",
       "      <td>gp00@gmail.com</td>\n",
       "      <td>NaN</td>\n",
       "    </tr>\n",
       "    <tr>\n",
       "      <th>18</th>\n",
       "      <td>19</td>\n",
       "      <td>Shivani</td>\n",
       "      <td>41</td>\n",
       "      <td>SY</td>\n",
       "      <td>ss00@gmail.com</td>\n",
       "      <td>LKO;NO</td>\n",
       "    </tr>\n",
       "  </tbody>\n",
       "</table>\n",
       "</div>"
      ],
      "text/plain": [
       "    S.No.      Name  Age City           Email CitiesLivedInPast\n",
       "0       1  Abhishek   41   SY  ak13@gmail.com         LKO;GR;NO\n",
       "2       3   Saurabh   42   SY  sk29@gmail.com    LKO;CHN;CAL;NO\n",
       "11     12     Roops   41   SY  rr27@gmail.com        LKO;CNB;NO\n",
       "13     14      Sean   33   SY  sk10@gmail.com               NaN\n",
       "14     15    Andrew   33   SY  ap21@gmail.com               NaN\n",
       "15     16   Ishanvi   10   SY  ik09@gmail.com                NO\n",
       "16     17     Arjun    5   SY  ak20@gmail.com               NaN\n",
       "17     18   GrandPa   78   SY  gp00@gmail.com               NaN\n",
       "18     19   Shivani   41   SY  ss00@gmail.com            LKO;NO"
      ]
     },
     "execution_count": 209,
     "metadata": {},
     "output_type": "execute_result"
    }
   ],
   "source": [
    "df.loc[filterSY]"
   ]
  },
  {
   "cell_type": "code",
   "execution_count": 210,
   "metadata": {
    "pycharm": {
     "is_executing": false
    }
   },
   "outputs": [
    {
     "data": {
      "text/html": [
       "<div>\n",
       "<style scoped>\n",
       "    .dataframe tbody tr th:only-of-type {\n",
       "        vertical-align: middle;\n",
       "    }\n",
       "\n",
       "    .dataframe tbody tr th {\n",
       "        vertical-align: top;\n",
       "    }\n",
       "\n",
       "    .dataframe thead th {\n",
       "        text-align: right;\n",
       "    }\n",
       "</style>\n",
       "<table border=\"1\" class=\"dataframe\">\n",
       "  <thead>\n",
       "    <tr style=\"text-align: right;\">\n",
       "      <th></th>\n",
       "      <th>S.No.</th>\n",
       "      <th>Name</th>\n",
       "      <th>Age</th>\n",
       "      <th>City</th>\n",
       "      <th>Email</th>\n",
       "      <th>CitiesLivedInPast</th>\n",
       "    </tr>\n",
       "  </thead>\n",
       "  <tbody>\n",
       "    <tr>\n",
       "      <th>3</th>\n",
       "      <td>4</td>\n",
       "      <td>Sando</td>\n",
       "      <td>44</td>\n",
       "      <td>NO</td>\n",
       "      <td>sd18@gmail.com</td>\n",
       "      <td>LKO;CHN;CAL;NO;GR</td>\n",
       "    </tr>\n",
       "    <tr>\n",
       "      <th>6</th>\n",
       "      <td>7</td>\n",
       "      <td>Anurag</td>\n",
       "      <td>42</td>\n",
       "      <td>NO</td>\n",
       "      <td>ak04@gmail.com</td>\n",
       "      <td>LKO;BUB;GR;NO</td>\n",
       "    </tr>\n",
       "  </tbody>\n",
       "</table>\n",
       "</div>"
      ],
      "text/plain": [
       "   S.No.    Name  Age City           Email  CitiesLivedInPast\n",
       "3      4   Sando   44   NO  sd18@gmail.com  LKO;CHN;CAL;NO;GR\n",
       "6      7  Anurag   42   NO  ak04@gmail.com      LKO;BUB;GR;NO"
      ]
     },
     "execution_count": 210,
     "metadata": {},
     "output_type": "execute_result"
    }
   ],
   "source": [
    "df.loc[filterNO]"
   ]
  },
  {
   "cell_type": "code",
   "execution_count": 211,
   "metadata": {
    "pycharm": {
     "is_executing": false
    }
   },
   "outputs": [
    {
     "data": {
      "text/html": [
       "<div>\n",
       "<style scoped>\n",
       "    .dataframe tbody tr th:only-of-type {\n",
       "        vertical-align: middle;\n",
       "    }\n",
       "\n",
       "    .dataframe tbody tr th {\n",
       "        vertical-align: top;\n",
       "    }\n",
       "\n",
       "    .dataframe thead th {\n",
       "        text-align: right;\n",
       "    }\n",
       "</style>\n",
       "<table border=\"1\" class=\"dataframe\">\n",
       "  <thead>\n",
       "    <tr style=\"text-align: right;\">\n",
       "      <th></th>\n",
       "      <th>S.No.</th>\n",
       "      <th>Name</th>\n",
       "      <th>Age</th>\n",
       "      <th>City</th>\n",
       "      <th>Email</th>\n",
       "      <th>CitiesLivedInPast</th>\n",
       "    </tr>\n",
       "  </thead>\n",
       "  <tbody>\n",
       "    <tr>\n",
       "      <th>8</th>\n",
       "      <td>9</td>\n",
       "      <td>Anand</td>\n",
       "      <td>42</td>\n",
       "      <td>DB</td>\n",
       "      <td>ak05@gmail.com</td>\n",
       "      <td>HYD</td>\n",
       "    </tr>\n",
       "    <tr>\n",
       "      <th>10</th>\n",
       "      <td>11</td>\n",
       "      <td>Hitesh</td>\n",
       "      <td>40</td>\n",
       "      <td>DB</td>\n",
       "      <td>hp12@gmail.com</td>\n",
       "      <td>NaN</td>\n",
       "    </tr>\n",
       "    <tr>\n",
       "      <th>12</th>\n",
       "      <td>13</td>\n",
       "      <td>Rash</td>\n",
       "      <td>41</td>\n",
       "      <td>DB</td>\n",
       "      <td>rp05@gmail.com</td>\n",
       "      <td>NaN</td>\n",
       "    </tr>\n",
       "  </tbody>\n",
       "</table>\n",
       "</div>"
      ],
      "text/plain": [
       "    S.No.    Name  Age City           Email CitiesLivedInPast\n",
       "8       9   Anand   42   DB  ak05@gmail.com               HYD\n",
       "10     11  Hitesh   40   DB  hp12@gmail.com               NaN\n",
       "12     13    Rash   41   DB  rp05@gmail.com               NaN"
      ]
     },
     "execution_count": 211,
     "metadata": {},
     "output_type": "execute_result"
    }
   ],
   "source": [
    "df.loc[filterDB]"
   ]
  },
  {
   "cell_type": "code",
   "execution_count": 212,
   "metadata": {
    "pycharm": {
     "is_executing": false
    }
   },
   "outputs": [
    {
     "name": "stdout",
     "output_type": "stream",
     "text": [
      "value_counts \n",
      " 41    3\n",
      "33    2\n",
      "78    1\n",
      "10    1\n",
      "42    1\n",
      "5     1\n",
      "Name: Age, dtype: int64\n",
      "max \n",
      " 78\n",
      "sum \n",
      " 324\n",
      "mean \n",
      " 36.0\n"
     ]
    }
   ],
   "source": [
    "print('value_counts \\n',df.loc[filterSY]['Age'].value_counts())\n",
    "print('max \\n',df.loc[filterSY]['Age'].max())\n",
    "print('sum \\n',df.loc[filterSY]['Age'].sum())\n",
    "print('mean \\n',df.loc[filterSY]['Age'].mean())"
   ]
  },
  {
   "cell_type": "code",
   "execution_count": 213,
   "metadata": {
    "pycharm": {
     "is_executing": false
    }
   },
   "outputs": [
    {
     "name": "stdout",
     "output_type": "stream",
     "text": [
      "value_counts \n",
      " 42    1\n",
      "44    1\n",
      "Name: Age, dtype: int64\n",
      "max \n",
      " 44\n",
      "sum \n",
      " 86\n",
      "mean \n",
      " 43.0\n"
     ]
    }
   ],
   "source": [
    "print('value_counts \\n',df.loc[filterNO]['Age'].value_counts())\n",
    "print('max \\n',df.loc[filterNO]['Age'].max())\n",
    "print('sum \\n',df.loc[filterNO]['Age'].sum())\n",
    "print('mean \\n',df.loc[filterNO]['Age'].mean())"
   ]
  },
  {
   "cell_type": "code",
   "execution_count": 214,
   "metadata": {
    "pycharm": {
     "is_executing": false
    }
   },
   "outputs": [
    {
     "name": "stdout",
     "output_type": "stream",
     "text": [
      "value_counts \n",
      " 42    1\n",
      "41    1\n",
      "40    1\n",
      "Name: Age, dtype: int64\n",
      "max \n",
      " 42\n",
      "sum \n",
      " 123\n",
      "mean \n",
      " 41.0\n"
     ]
    }
   ],
   "source": [
    "print('value_counts \\n',df.loc[filterDB]['Age'].value_counts())\n",
    "print('max \\n',df.loc[filterDB]['Age'].max())\n",
    "print('sum \\n',df.loc[filterDB]['Age'].sum())\n",
    "print('mean \\n',df.loc[filterDB]['Age'].mean())"
   ]
  },
  {
   "cell_type": "code",
   "execution_count": 215,
   "metadata": {
    "pycharm": {
     "is_executing": false
    }
   },
   "outputs": [
    {
     "data": {
      "text/plain": [
       "City  Age\n",
       "AT    41     1\n",
       "DB    40     1\n",
       "      41     1\n",
       "      42     1\n",
       "DL    42     1\n",
       "GR    41     1\n",
       "NJ    40     1\n",
       "NO    42     1\n",
       "      44     1\n",
       "PN    42     1\n",
       "SY    41     3\n",
       "      33     2\n",
       "      5      1\n",
       "      10     1\n",
       "      42     1\n",
       "      78     1\n",
       "Name: Age, dtype: int64"
      ]
     },
     "execution_count": 215,
     "metadata": {},
     "output_type": "execute_result"
    }
   ],
   "source": [
    "dfGroupBy['Age'].value_counts()"
   ]
  },
  {
   "cell_type": "code",
   "execution_count": 216,
   "metadata": {},
   "outputs": [
    {
     "data": {
      "text/plain": [
       "Age\n",
       "41    3\n",
       "33    2\n",
       "5     1\n",
       "10    1\n",
       "42    1\n",
       "78    1\n",
       "Name: Age, dtype: int64"
      ]
     },
     "execution_count": 216,
     "metadata": {},
     "output_type": "execute_result"
    }
   ],
   "source": [
    "dfGroupBy['Age'].value_counts().loc['SY']"
   ]
  },
  {
   "cell_type": "code",
   "execution_count": 217,
   "metadata": {},
   "outputs": [
    {
     "data": {
      "text/plain": [
       "Age\n",
       "40    1\n",
       "41    1\n",
       "42    1\n",
       "Name: Age, dtype: int64"
      ]
     },
     "execution_count": 217,
     "metadata": {},
     "output_type": "execute_result"
    }
   ],
   "source": [
    "dfGroupBy['Age'].value_counts().loc['DB']"
   ]
  },
  {
   "cell_type": "code",
   "execution_count": 218,
   "metadata": {},
   "outputs": [
    {
     "data": {
      "text/plain": [
       "Age\n",
       "41    33.333333\n",
       "33    22.222222\n",
       "5     11.111111\n",
       "10    11.111111\n",
       "42    11.111111\n",
       "78    11.111111\n",
       "Name: Age, dtype: float64"
      ]
     },
     "execution_count": 218,
     "metadata": {},
     "output_type": "execute_result"
    }
   ],
   "source": [
    "dfGroupBy['Age'].value_counts(normalize=True).loc['SY']*100 #percentage "
   ]
  },
  {
   "cell_type": "code",
   "execution_count": 219,
   "metadata": {},
   "outputs": [
    {
     "data": {
      "text/plain": [
       "41"
      ]
     },
     "execution_count": 219,
     "metadata": {},
     "output_type": "execute_result"
    }
   ],
   "source": [
    "dfGroupBy['Age'].median().loc['SY']"
   ]
  },
  {
   "cell_type": "code",
   "execution_count": 220,
   "metadata": {},
   "outputs": [
    {
     "data": {
      "text/html": [
       "<div>\n",
       "<style scoped>\n",
       "    .dataframe tbody tr th:only-of-type {\n",
       "        vertical-align: middle;\n",
       "    }\n",
       "\n",
       "    .dataframe tbody tr th {\n",
       "        vertical-align: top;\n",
       "    }\n",
       "\n",
       "    .dataframe thead th {\n",
       "        text-align: right;\n",
       "    }\n",
       "</style>\n",
       "<table border=\"1\" class=\"dataframe\">\n",
       "  <thead>\n",
       "    <tr style=\"text-align: right;\">\n",
       "      <th></th>\n",
       "      <th>median</th>\n",
       "      <th>mean</th>\n",
       "    </tr>\n",
       "    <tr>\n",
       "      <th>City</th>\n",
       "      <th></th>\n",
       "      <th></th>\n",
       "    </tr>\n",
       "  </thead>\n",
       "  <tbody>\n",
       "    <tr>\n",
       "      <th>AT</th>\n",
       "      <td>41</td>\n",
       "      <td>41</td>\n",
       "    </tr>\n",
       "    <tr>\n",
       "      <th>DB</th>\n",
       "      <td>41</td>\n",
       "      <td>41</td>\n",
       "    </tr>\n",
       "    <tr>\n",
       "      <th>DL</th>\n",
       "      <td>42</td>\n",
       "      <td>42</td>\n",
       "    </tr>\n",
       "    <tr>\n",
       "      <th>GR</th>\n",
       "      <td>41</td>\n",
       "      <td>41</td>\n",
       "    </tr>\n",
       "    <tr>\n",
       "      <th>NJ</th>\n",
       "      <td>40</td>\n",
       "      <td>40</td>\n",
       "    </tr>\n",
       "    <tr>\n",
       "      <th>NO</th>\n",
       "      <td>43</td>\n",
       "      <td>43</td>\n",
       "    </tr>\n",
       "    <tr>\n",
       "      <th>PN</th>\n",
       "      <td>42</td>\n",
       "      <td>42</td>\n",
       "    </tr>\n",
       "    <tr>\n",
       "      <th>SY</th>\n",
       "      <td>41</td>\n",
       "      <td>36</td>\n",
       "    </tr>\n",
       "  </tbody>\n",
       "</table>\n",
       "</div>"
      ],
      "text/plain": [
       "      median  mean\n",
       "City              \n",
       "AT        41    41\n",
       "DB        41    41\n",
       "DL        42    42\n",
       "GR        41    41\n",
       "NJ        40    40\n",
       "NO        43    43\n",
       "PN        42    42\n",
       "SY        41    36"
      ]
     },
     "execution_count": 220,
     "metadata": {},
     "output_type": "execute_result"
    }
   ],
   "source": [
    "dfGroupBy['Age'].agg(['median','mean'])"
   ]
  },
  {
   "cell_type": "code",
   "execution_count": 221,
   "metadata": {},
   "outputs": [
    {
     "data": {
      "text/plain": [
       "median    41\n",
       "mean      36\n",
       "Name: SY, dtype: int64"
      ]
     },
     "execution_count": 221,
     "metadata": {},
     "output_type": "execute_result"
    }
   ],
   "source": [
    "dfGroupBy['Age'].agg(['median','mean']).loc['SY']"
   ]
  },
  {
   "cell_type": "code",
   "execution_count": 222,
   "metadata": {},
   "outputs": [
    {
     "data": {
      "text/plain": [
       "0      True\n",
       "2      True\n",
       "11     True\n",
       "13    False\n",
       "14    False\n",
       "15    False\n",
       "16    False\n",
       "17    False\n",
       "18     True\n",
       "Name: CitiesLivedInPast, dtype: bool"
      ]
     },
     "execution_count": 222,
     "metadata": {},
     "output_type": "execute_result"
    }
   ],
   "source": [
    "df.loc[filterSY]['CitiesLivedInPast'].str.contains('LKO', na = False)"
   ]
  },
  {
   "cell_type": "code",
   "execution_count": 223,
   "metadata": {},
   "outputs": [
    {
     "data": {
      "text/plain": [
       "4"
      ]
     },
     "execution_count": 223,
     "metadata": {},
     "output_type": "execute_result"
    }
   ],
   "source": [
    "df.loc[filterSY]['CitiesLivedInPast'].str.contains('LKO', na = False).sum()"
   ]
  },
  {
   "cell_type": "code",
   "execution_count": 224,
   "metadata": {},
   "outputs": [
    {
     "ename": "AttributeError",
     "evalue": "'SeriesGroupBy' object has no attribute 'str'",
     "output_type": "error",
     "traceback": [
      "\u001b[0;31m---------------------------------------------------------------------------\u001b[0m",
      "\u001b[0;31mAttributeError\u001b[0m                            Traceback (most recent call last)",
      "\u001b[0;32m<ipython-input-224-80c67e717c80>\u001b[0m in \u001b[0;36m<module>\u001b[0;34m\u001b[0m\n\u001b[0;32m----> 1\u001b[0;31m \u001b[0mdfGroupBy\u001b[0m\u001b[0;34m[\u001b[0m\u001b[0;34m'CitiesLivedInPast'\u001b[0m\u001b[0;34m]\u001b[0m\u001b[0;34m.\u001b[0m\u001b[0mstr\u001b[0m\u001b[0;34m.\u001b[0m\u001b[0mcontains\u001b[0m\u001b[0;34m(\u001b[0m\u001b[0;34m'LKO'\u001b[0m\u001b[0;34m,\u001b[0m \u001b[0mna\u001b[0m \u001b[0;34m=\u001b[0m \u001b[0;32mFalse\u001b[0m\u001b[0;34m)\u001b[0m\u001b[0;34m\u001b[0m\u001b[0;34m\u001b[0m\u001b[0m\n\u001b[0m",
      "\u001b[0;32m~/python/workspace/venv/lib/python3.7/site-packages/pandas/core/groupby/groupby.py\u001b[0m in \u001b[0;36m__getattr__\u001b[0;34m(self, attr)\u001b[0m\n\u001b[1;32m    579\u001b[0m \u001b[0;34m\u001b[0m\u001b[0m\n\u001b[1;32m    580\u001b[0m         raise AttributeError(\n\u001b[0;32m--> 581\u001b[0;31m             \u001b[0;34mf\"'{type(self).__name__}' object has no attribute '{attr}'\"\u001b[0m\u001b[0;34m\u001b[0m\u001b[0;34m\u001b[0m\u001b[0m\n\u001b[0m\u001b[1;32m    582\u001b[0m         )\n\u001b[1;32m    583\u001b[0m \u001b[0;34m\u001b[0m\u001b[0m\n",
      "\u001b[0;31mAttributeError\u001b[0m: 'SeriesGroupBy' object has no attribute 'str'"
     ]
    }
   ],
   "source": [
    "dfGroupBy['CitiesLivedInPast'].str.contains('LKO', na = False)"
   ]
  },
  {
   "cell_type": "code",
   "execution_count": 225,
   "metadata": {},
   "outputs": [
    {
     "data": {
      "text/plain": [
       "0      True\n",
       "1      True\n",
       "2      True\n",
       "3      True\n",
       "4      True\n",
       "5      True\n",
       "6      True\n",
       "7      True\n",
       "8     False\n",
       "9     False\n",
       "10    False\n",
       "11     True\n",
       "12    False\n",
       "13    False\n",
       "14    False\n",
       "15    False\n",
       "16    False\n",
       "17    False\n",
       "18     True\n",
       "Name: CitiesLivedInPast, dtype: bool"
      ]
     },
     "execution_count": 225,
     "metadata": {},
     "output_type": "execute_result"
    }
   ],
   "source": [
    "dfGroupBy['CitiesLivedInPast'].apply(lambda x: x.str.contains('LKO', na = False))"
   ]
  },
  {
   "cell_type": "code",
   "execution_count": 226,
   "metadata": {},
   "outputs": [
    {
     "data": {
      "text/plain": [
       "City\n",
       "AT    1\n",
       "DB    0\n",
       "DL    1\n",
       "GR    1\n",
       "NJ    0\n",
       "NO    2\n",
       "PN    1\n",
       "SY    4\n",
       "Name: CitiesLivedInPast, dtype: int64"
      ]
     },
     "execution_count": 226,
     "metadata": {},
     "output_type": "execute_result"
    }
   ],
   "source": [
    "dfGroupBy['CitiesLivedInPast'].apply(lambda x: x.str.contains('LKO', na = False).sum())"
   ]
  },
  {
   "cell_type": "code",
   "execution_count": 227,
   "metadata": {},
   "outputs": [
    {
     "name": "stdout",
     "output_type": "stream",
     "text": [
      "SY    9\n",
      "DB    3\n",
      "NO    2\n",
      "PN    1\n",
      "GR    1\n",
      "AT    1\n",
      "DL    1\n",
      "NJ    1\n",
      "Name: City, dtype: int64\n"
     ]
    }
   ],
   "source": [
    "city_count = df['City'].value_counts()\n",
    "print(city_count)\n",
    "frndswhoLivedInLKO = dfGroupBy['CitiesLivedInPast'].apply(lambda x: x.str.contains('LKO', na = False).sum())"
   ]
  },
  {
   "cell_type": "code",
   "execution_count": 228,
   "metadata": {},
   "outputs": [
    {
     "data": {
      "text/html": [
       "<div>\n",
       "<style scoped>\n",
       "    .dataframe tbody tr th:only-of-type {\n",
       "        vertical-align: middle;\n",
       "    }\n",
       "\n",
       "    .dataframe tbody tr th {\n",
       "        vertical-align: top;\n",
       "    }\n",
       "\n",
       "    .dataframe thead th {\n",
       "        text-align: right;\n",
       "    }\n",
       "</style>\n",
       "<table border=\"1\" class=\"dataframe\">\n",
       "  <thead>\n",
       "    <tr style=\"text-align: right;\">\n",
       "      <th></th>\n",
       "      <th>City</th>\n",
       "      <th>CitiesLivedInPast</th>\n",
       "    </tr>\n",
       "  </thead>\n",
       "  <tbody>\n",
       "    <tr>\n",
       "      <th>SY</th>\n",
       "      <td>9</td>\n",
       "      <td>4</td>\n",
       "    </tr>\n",
       "    <tr>\n",
       "      <th>DB</th>\n",
       "      <td>3</td>\n",
       "      <td>0</td>\n",
       "    </tr>\n",
       "    <tr>\n",
       "      <th>NO</th>\n",
       "      <td>2</td>\n",
       "      <td>2</td>\n",
       "    </tr>\n",
       "    <tr>\n",
       "      <th>PN</th>\n",
       "      <td>1</td>\n",
       "      <td>1</td>\n",
       "    </tr>\n",
       "    <tr>\n",
       "      <th>GR</th>\n",
       "      <td>1</td>\n",
       "      <td>1</td>\n",
       "    </tr>\n",
       "    <tr>\n",
       "      <th>AT</th>\n",
       "      <td>1</td>\n",
       "      <td>1</td>\n",
       "    </tr>\n",
       "    <tr>\n",
       "      <th>DL</th>\n",
       "      <td>1</td>\n",
       "      <td>1</td>\n",
       "    </tr>\n",
       "    <tr>\n",
       "      <th>NJ</th>\n",
       "      <td>1</td>\n",
       "      <td>0</td>\n",
       "    </tr>\n",
       "  </tbody>\n",
       "</table>\n",
       "</div>"
      ],
      "text/plain": [
       "    City  CitiesLivedInPast\n",
       "SY     9                  4\n",
       "DB     3                  0\n",
       "NO     2                  2\n",
       "PN     1                  1\n",
       "GR     1                  1\n",
       "AT     1                  1\n",
       "DL     1                  1\n",
       "NJ     1                  0"
      ]
     },
     "execution_count": 228,
     "metadata": {},
     "output_type": "execute_result"
    }
   ],
   "source": [
    "lko_df = pd.concat([city_count,frndswhoLivedInLKO], axis = 1, sort = False)\n",
    "lko_df"
   ]
  },
  {
   "cell_type": "code",
   "execution_count": 229,
   "metadata": {},
   "outputs": [
    {
     "data": {
      "text/html": [
       "<div>\n",
       "<style scoped>\n",
       "    .dataframe tbody tr th:only-of-type {\n",
       "        vertical-align: middle;\n",
       "    }\n",
       "\n",
       "    .dataframe tbody tr th {\n",
       "        vertical-align: top;\n",
       "    }\n",
       "\n",
       "    .dataframe thead th {\n",
       "        text-align: right;\n",
       "    }\n",
       "</style>\n",
       "<table border=\"1\" class=\"dataframe\">\n",
       "  <thead>\n",
       "    <tr style=\"text-align: right;\">\n",
       "      <th></th>\n",
       "      <th>Number of Friends in City</th>\n",
       "      <th>Friends who have lived in LKO</th>\n",
       "    </tr>\n",
       "  </thead>\n",
       "  <tbody>\n",
       "    <tr>\n",
       "      <th>SY</th>\n",
       "      <td>9</td>\n",
       "      <td>4</td>\n",
       "    </tr>\n",
       "    <tr>\n",
       "      <th>DB</th>\n",
       "      <td>3</td>\n",
       "      <td>0</td>\n",
       "    </tr>\n",
       "    <tr>\n",
       "      <th>NO</th>\n",
       "      <td>2</td>\n",
       "      <td>2</td>\n",
       "    </tr>\n",
       "    <tr>\n",
       "      <th>PN</th>\n",
       "      <td>1</td>\n",
       "      <td>1</td>\n",
       "    </tr>\n",
       "    <tr>\n",
       "      <th>GR</th>\n",
       "      <td>1</td>\n",
       "      <td>1</td>\n",
       "    </tr>\n",
       "    <tr>\n",
       "      <th>AT</th>\n",
       "      <td>1</td>\n",
       "      <td>1</td>\n",
       "    </tr>\n",
       "    <tr>\n",
       "      <th>DL</th>\n",
       "      <td>1</td>\n",
       "      <td>1</td>\n",
       "    </tr>\n",
       "    <tr>\n",
       "      <th>NJ</th>\n",
       "      <td>1</td>\n",
       "      <td>0</td>\n",
       "    </tr>\n",
       "  </tbody>\n",
       "</table>\n",
       "</div>"
      ],
      "text/plain": [
       "    Number of Friends in City  Friends who have lived in LKO\n",
       "SY                          9                              4\n",
       "DB                          3                              0\n",
       "NO                          2                              2\n",
       "PN                          1                              1\n",
       "GR                          1                              1\n",
       "AT                          1                              1\n",
       "DL                          1                              1\n",
       "NJ                          1                              0"
      ]
     },
     "execution_count": 229,
     "metadata": {},
     "output_type": "execute_result"
    }
   ],
   "source": [
    "lko_df.rename(columns={'City':'Number of Friends in City', 'CitiesLivedInPast':'Friends who have lived in LKO'}, inplace = True)\n",
    "lko_df"
   ]
  },
  {
   "cell_type": "code",
   "execution_count": 230,
   "metadata": {},
   "outputs": [
    {
     "data": {
      "text/html": [
       "<div>\n",
       "<style scoped>\n",
       "    .dataframe tbody tr th:only-of-type {\n",
       "        vertical-align: middle;\n",
       "    }\n",
       "\n",
       "    .dataframe tbody tr th {\n",
       "        vertical-align: top;\n",
       "    }\n",
       "\n",
       "    .dataframe thead th {\n",
       "        text-align: right;\n",
       "    }\n",
       "</style>\n",
       "<table border=\"1\" class=\"dataframe\">\n",
       "  <thead>\n",
       "    <tr style=\"text-align: right;\">\n",
       "      <th></th>\n",
       "      <th>Number of Friends in City</th>\n",
       "      <th>Friends who have lived in LKO</th>\n",
       "      <th>Percentage of Friend who have lived in LKO</th>\n",
       "    </tr>\n",
       "  </thead>\n",
       "  <tbody>\n",
       "    <tr>\n",
       "      <th>SY</th>\n",
       "      <td>9</td>\n",
       "      <td>4</td>\n",
       "      <td>44.444444</td>\n",
       "    </tr>\n",
       "    <tr>\n",
       "      <th>DB</th>\n",
       "      <td>3</td>\n",
       "      <td>0</td>\n",
       "      <td>0.000000</td>\n",
       "    </tr>\n",
       "    <tr>\n",
       "      <th>NO</th>\n",
       "      <td>2</td>\n",
       "      <td>2</td>\n",
       "      <td>100.000000</td>\n",
       "    </tr>\n",
       "    <tr>\n",
       "      <th>PN</th>\n",
       "      <td>1</td>\n",
       "      <td>1</td>\n",
       "      <td>100.000000</td>\n",
       "    </tr>\n",
       "    <tr>\n",
       "      <th>GR</th>\n",
       "      <td>1</td>\n",
       "      <td>1</td>\n",
       "      <td>100.000000</td>\n",
       "    </tr>\n",
       "    <tr>\n",
       "      <th>AT</th>\n",
       "      <td>1</td>\n",
       "      <td>1</td>\n",
       "      <td>100.000000</td>\n",
       "    </tr>\n",
       "    <tr>\n",
       "      <th>DL</th>\n",
       "      <td>1</td>\n",
       "      <td>1</td>\n",
       "      <td>100.000000</td>\n",
       "    </tr>\n",
       "    <tr>\n",
       "      <th>NJ</th>\n",
       "      <td>1</td>\n",
       "      <td>0</td>\n",
       "      <td>0.000000</td>\n",
       "    </tr>\n",
       "  </tbody>\n",
       "</table>\n",
       "</div>"
      ],
      "text/plain": [
       "    Number of Friends in City  Friends who have lived in LKO  \\\n",
       "SY                          9                              4   \n",
       "DB                          3                              0   \n",
       "NO                          2                              2   \n",
       "PN                          1                              1   \n",
       "GR                          1                              1   \n",
       "AT                          1                              1   \n",
       "DL                          1                              1   \n",
       "NJ                          1                              0   \n",
       "\n",
       "    Percentage of Friend who have lived in LKO  \n",
       "SY                                   44.444444  \n",
       "DB                                    0.000000  \n",
       "NO                                  100.000000  \n",
       "PN                                  100.000000  \n",
       "GR                                  100.000000  \n",
       "AT                                  100.000000  \n",
       "DL                                  100.000000  \n",
       "NJ                                    0.000000  "
      ]
     },
     "execution_count": 230,
     "metadata": {},
     "output_type": "execute_result"
    }
   ],
   "source": [
    "lko_df['Percentage of Friend who have lived in LKO'] = (lko_df['Friends who have lived in LKO']/lko_df['Number of Friends in City'])*100\n",
    "lko_df"
   ]
  },
  {
   "cell_type": "code",
   "execution_count": 231,
   "metadata": {},
   "outputs": [
    {
     "data": {
      "text/html": [
       "<div>\n",
       "<style scoped>\n",
       "    .dataframe tbody tr th:only-of-type {\n",
       "        vertical-align: middle;\n",
       "    }\n",
       "\n",
       "    .dataframe tbody tr th {\n",
       "        vertical-align: top;\n",
       "    }\n",
       "\n",
       "    .dataframe thead th {\n",
       "        text-align: right;\n",
       "    }\n",
       "</style>\n",
       "<table border=\"1\" class=\"dataframe\">\n",
       "  <thead>\n",
       "    <tr style=\"text-align: right;\">\n",
       "      <th></th>\n",
       "      <th>Number of Friends in City</th>\n",
       "      <th>Friends who have lived in LKO</th>\n",
       "      <th>Percentage of Friend who have lived in LKO</th>\n",
       "    </tr>\n",
       "  </thead>\n",
       "  <tbody>\n",
       "    <tr>\n",
       "      <th>NO</th>\n",
       "      <td>2</td>\n",
       "      <td>2</td>\n",
       "      <td>100.000000</td>\n",
       "    </tr>\n",
       "    <tr>\n",
       "      <th>PN</th>\n",
       "      <td>1</td>\n",
       "      <td>1</td>\n",
       "      <td>100.000000</td>\n",
       "    </tr>\n",
       "    <tr>\n",
       "      <th>GR</th>\n",
       "      <td>1</td>\n",
       "      <td>1</td>\n",
       "      <td>100.000000</td>\n",
       "    </tr>\n",
       "    <tr>\n",
       "      <th>AT</th>\n",
       "      <td>1</td>\n",
       "      <td>1</td>\n",
       "      <td>100.000000</td>\n",
       "    </tr>\n",
       "    <tr>\n",
       "      <th>DL</th>\n",
       "      <td>1</td>\n",
       "      <td>1</td>\n",
       "      <td>100.000000</td>\n",
       "    </tr>\n",
       "    <tr>\n",
       "      <th>SY</th>\n",
       "      <td>9</td>\n",
       "      <td>4</td>\n",
       "      <td>44.444444</td>\n",
       "    </tr>\n",
       "    <tr>\n",
       "      <th>DB</th>\n",
       "      <td>3</td>\n",
       "      <td>0</td>\n",
       "      <td>0.000000</td>\n",
       "    </tr>\n",
       "    <tr>\n",
       "      <th>NJ</th>\n",
       "      <td>1</td>\n",
       "      <td>0</td>\n",
       "      <td>0.000000</td>\n",
       "    </tr>\n",
       "  </tbody>\n",
       "</table>\n",
       "</div>"
      ],
      "text/plain": [
       "    Number of Friends in City  Friends who have lived in LKO  \\\n",
       "NO                          2                              2   \n",
       "PN                          1                              1   \n",
       "GR                          1                              1   \n",
       "AT                          1                              1   \n",
       "DL                          1                              1   \n",
       "SY                          9                              4   \n",
       "DB                          3                              0   \n",
       "NJ                          1                              0   \n",
       "\n",
       "    Percentage of Friend who have lived in LKO  \n",
       "NO                                  100.000000  \n",
       "PN                                  100.000000  \n",
       "GR                                  100.000000  \n",
       "AT                                  100.000000  \n",
       "DL                                  100.000000  \n",
       "SY                                   44.444444  \n",
       "DB                                    0.000000  \n",
       "NJ                                    0.000000  "
      ]
     },
     "execution_count": 231,
     "metadata": {},
     "output_type": "execute_result"
    }
   ],
   "source": [
    "lko_df.sort_values('Percentage of Friend who have lived in LKO', ascending = False, inplace=True)\n",
    "lko_df"
   ]
  },
  {
   "cell_type": "code",
   "execution_count": null,
   "metadata": {},
   "outputs": [],
   "source": []
  }
 ],
 "metadata": {
  "kernelspec": {
   "display_name": "Python 3",
   "language": "python",
   "name": "python3"
  },
  "language_info": {
   "codemirror_mode": {
    "name": "ipython",
    "version": 3
   },
   "file_extension": ".py",
   "mimetype": "text/x-python",
   "name": "python",
   "nbconvert_exporter": "python",
   "pygments_lexer": "ipython3",
   "version": "3.7.3"
  }
 },
 "nbformat": 4,
 "nbformat_minor": 4
}
