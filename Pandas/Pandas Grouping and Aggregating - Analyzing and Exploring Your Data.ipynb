{
 "cells": [
  {
   "cell_type": "code",
   "execution_count": 1,
   "metadata": {
    "pycharm": {
     "is_executing": false
    }
   },
   "outputs": [],
   "source": [
    "import pandas as pd\n",
    "pd.options.display.max_rows = 100\n",
    "pd.options.display.max_columns = 100"
   ]
  },
  {
   "cell_type": "code",
   "execution_count": 2,
   "metadata": {
    "pycharm": {
     "is_executing": false
    }
   },
   "outputs": [
    {
     "data": {
      "text/plain": "    S.No.       Name  Age City           Email  CitiesLivedInPast\n0       1   Abhishek   41   SY  ak13@gmail.com          LKO;GR;NO\n1       2  Abhishek1   41   AT   ak1@gmail.com            LKO;CHN\n2       3    Saurabh   42   SY  sk29@gmail.com     LKO;CHN;CAL;NO\n3       4      Sando   44   NO  sd18@gmail.com  LKO;CHN;CAL;NO;GR\n4       5     Ashish   42   DL  as12@gmail.com                LKO\n5       6     Faheem   41   GR  fs25@gmail.com      LKO;BAN;NO;DL\n6       7     Anurag   42   NO  ak04@gmail.com      LKO;BUB;GR;NO\n7       8    Pradeep   42   PN  pg16@gmail.com      LKO;CHN;GR;PN\n8       9      Anand   42   DB  ak05@gmail.com                HYD\n9      10       Deek   40   NJ  dg08@gmail.com             NO;CNB\n10     11     Hitesh   40   DB  hp12@gmail.com                NaN\n11     12      Roops   41   SY  rr27@gmail.com         LKO;CNB;NO\n12     13       Rash   41   DB  rp05@gmail.com                NaN\n13     14       Sean   33   SY  sk10@gmail.com                NaN\n14     15     Andrew   33   SY  ap21@gmail.com                NaN\n15     16    Ishanvi   10   SY  ik09@gmail.com                 NO\n16     17      Arjun    5   SY  ak20@gmail.com                NaN\n17     18    GrandPa   78   SY  gp00@gmail.com                NaN\n18     19    Shivani   41   SY  ss00@gmail.com             LKO;NO",
      "text/html": "<div>\n<style scoped>\n    .dataframe tbody tr th:only-of-type {\n        vertical-align: middle;\n    }\n\n    .dataframe tbody tr th {\n        vertical-align: top;\n    }\n\n    .dataframe thead th {\n        text-align: right;\n    }\n</style>\n<table border=\"1\" class=\"dataframe\">\n  <thead>\n    <tr style=\"text-align: right;\">\n      <th></th>\n      <th>S.No.</th>\n      <th>Name</th>\n      <th>Age</th>\n      <th>City</th>\n      <th>Email</th>\n      <th>CitiesLivedInPast</th>\n    </tr>\n  </thead>\n  <tbody>\n    <tr>\n      <th>0</th>\n      <td>1</td>\n      <td>Abhishek</td>\n      <td>41</td>\n      <td>SY</td>\n      <td>ak13@gmail.com</td>\n      <td>LKO;GR;NO</td>\n    </tr>\n    <tr>\n      <th>1</th>\n      <td>2</td>\n      <td>Abhishek1</td>\n      <td>41</td>\n      <td>AT</td>\n      <td>ak1@gmail.com</td>\n      <td>LKO;CHN</td>\n    </tr>\n    <tr>\n      <th>2</th>\n      <td>3</td>\n      <td>Saurabh</td>\n      <td>42</td>\n      <td>SY</td>\n      <td>sk29@gmail.com</td>\n      <td>LKO;CHN;CAL;NO</td>\n    </tr>\n    <tr>\n      <th>3</th>\n      <td>4</td>\n      <td>Sando</td>\n      <td>44</td>\n      <td>NO</td>\n      <td>sd18@gmail.com</td>\n      <td>LKO;CHN;CAL;NO;GR</td>\n    </tr>\n    <tr>\n      <th>4</th>\n      <td>5</td>\n      <td>Ashish</td>\n      <td>42</td>\n      <td>DL</td>\n      <td>as12@gmail.com</td>\n      <td>LKO</td>\n    </tr>\n    <tr>\n      <th>5</th>\n      <td>6</td>\n      <td>Faheem</td>\n      <td>41</td>\n      <td>GR</td>\n      <td>fs25@gmail.com</td>\n      <td>LKO;BAN;NO;DL</td>\n    </tr>\n    <tr>\n      <th>6</th>\n      <td>7</td>\n      <td>Anurag</td>\n      <td>42</td>\n      <td>NO</td>\n      <td>ak04@gmail.com</td>\n      <td>LKO;BUB;GR;NO</td>\n    </tr>\n    <tr>\n      <th>7</th>\n      <td>8</td>\n      <td>Pradeep</td>\n      <td>42</td>\n      <td>PN</td>\n      <td>pg16@gmail.com</td>\n      <td>LKO;CHN;GR;PN</td>\n    </tr>\n    <tr>\n      <th>8</th>\n      <td>9</td>\n      <td>Anand</td>\n      <td>42</td>\n      <td>DB</td>\n      <td>ak05@gmail.com</td>\n      <td>HYD</td>\n    </tr>\n    <tr>\n      <th>9</th>\n      <td>10</td>\n      <td>Deek</td>\n      <td>40</td>\n      <td>NJ</td>\n      <td>dg08@gmail.com</td>\n      <td>NO;CNB</td>\n    </tr>\n    <tr>\n      <th>10</th>\n      <td>11</td>\n      <td>Hitesh</td>\n      <td>40</td>\n      <td>DB</td>\n      <td>hp12@gmail.com</td>\n      <td>NaN</td>\n    </tr>\n    <tr>\n      <th>11</th>\n      <td>12</td>\n      <td>Roops</td>\n      <td>41</td>\n      <td>SY</td>\n      <td>rr27@gmail.com</td>\n      <td>LKO;CNB;NO</td>\n    </tr>\n    <tr>\n      <th>12</th>\n      <td>13</td>\n      <td>Rash</td>\n      <td>41</td>\n      <td>DB</td>\n      <td>rp05@gmail.com</td>\n      <td>NaN</td>\n    </tr>\n    <tr>\n      <th>13</th>\n      <td>14</td>\n      <td>Sean</td>\n      <td>33</td>\n      <td>SY</td>\n      <td>sk10@gmail.com</td>\n      <td>NaN</td>\n    </tr>\n    <tr>\n      <th>14</th>\n      <td>15</td>\n      <td>Andrew</td>\n      <td>33</td>\n      <td>SY</td>\n      <td>ap21@gmail.com</td>\n      <td>NaN</td>\n    </tr>\n    <tr>\n      <th>15</th>\n      <td>16</td>\n      <td>Ishanvi</td>\n      <td>10</td>\n      <td>SY</td>\n      <td>ik09@gmail.com</td>\n      <td>NO</td>\n    </tr>\n    <tr>\n      <th>16</th>\n      <td>17</td>\n      <td>Arjun</td>\n      <td>5</td>\n      <td>SY</td>\n      <td>ak20@gmail.com</td>\n      <td>NaN</td>\n    </tr>\n    <tr>\n      <th>17</th>\n      <td>18</td>\n      <td>GrandPa</td>\n      <td>78</td>\n      <td>SY</td>\n      <td>gp00@gmail.com</td>\n      <td>NaN</td>\n    </tr>\n    <tr>\n      <th>18</th>\n      <td>19</td>\n      <td>Shivani</td>\n      <td>41</td>\n      <td>SY</td>\n      <td>ss00@gmail.com</td>\n      <td>LKO;NO</td>\n    </tr>\n  </tbody>\n</table>\n</div>"
     },
     "metadata": {},
     "output_type": "execute_result",
     "execution_count": 2
    }
   ],
   "source": [
    "# Read a CSV file into a dataframe\n",
    "df = pd.read_csv('data/friends.csv')\n",
    "df"
   ]
  },
  {
   "cell_type": "code",
   "execution_count": 3,
   "metadata": {
    "pycharm": {
     "is_executing": false
    }
   },
   "outputs": [
    {
     "data": {
      "text/plain": "41.0"
     },
     "metadata": {},
     "output_type": "execute_result",
     "execution_count": 3
    }
   ],
   "source": [
    "df['Age'].median()"
   ]
  },
  {
   "cell_type": "code",
   "execution_count": 4,
   "metadata": {
    "pycharm": {
     "is_executing": false
    }
   },
   "outputs": [
    {
     "data": {
      "text/plain": "S.No.    10.0\nAge      41.0\ndtype: float64"
     },
     "metadata": {},
     "output_type": "execute_result",
     "execution_count": 4
    }
   ],
   "source": [
    "df.median() # works only on numerical value"
   ]
  },
  {
   "cell_type": "code",
   "execution_count": 5,
   "metadata": {
    "pycharm": {
     "is_executing": false
    }
   },
   "outputs": [
    {
     "data": {
      "text/plain": "           S.No.        Age\ncount  19.000000  19.000000\nmean   10.000000  38.894737\nstd     5.627314  14.309650\nmin     1.000000   5.000000\n25%     5.500000  40.000000\n50%    10.000000  41.000000\n75%    14.500000  42.000000\nmax    19.000000  78.000000",
      "text/html": "<div>\n<style scoped>\n    .dataframe tbody tr th:only-of-type {\n        vertical-align: middle;\n    }\n\n    .dataframe tbody tr th {\n        vertical-align: top;\n    }\n\n    .dataframe thead th {\n        text-align: right;\n    }\n</style>\n<table border=\"1\" class=\"dataframe\">\n  <thead>\n    <tr style=\"text-align: right;\">\n      <th></th>\n      <th>S.No.</th>\n      <th>Age</th>\n    </tr>\n  </thead>\n  <tbody>\n    <tr>\n      <th>count</th>\n      <td>19.000000</td>\n      <td>19.000000</td>\n    </tr>\n    <tr>\n      <th>mean</th>\n      <td>10.000000</td>\n      <td>38.894737</td>\n    </tr>\n    <tr>\n      <th>std</th>\n      <td>5.627314</td>\n      <td>14.309650</td>\n    </tr>\n    <tr>\n      <th>min</th>\n      <td>1.000000</td>\n      <td>5.000000</td>\n    </tr>\n    <tr>\n      <th>25%</th>\n      <td>5.500000</td>\n      <td>40.000000</td>\n    </tr>\n    <tr>\n      <th>50%</th>\n      <td>10.000000</td>\n      <td>41.000000</td>\n    </tr>\n    <tr>\n      <th>75%</th>\n      <td>14.500000</td>\n      <td>42.000000</td>\n    </tr>\n    <tr>\n      <th>max</th>\n      <td>19.000000</td>\n      <td>78.000000</td>\n    </tr>\n  </tbody>\n</table>\n</div>"
     },
     "metadata": {},
     "output_type": "execute_result",
     "execution_count": 5
    }
   ],
   "source": [
    "df.describe() # works only on numerical values and provides some details about them"
   ]
  },
  {
   "cell_type": "code",
   "execution_count": 6,
   "metadata": {
    "pycharm": {
     "is_executing": false
    }
   },
   "outputs": [
    {
     "data": {
      "text/plain": "count    19.000000\nmean     38.894737\nstd      14.309650\nmin       5.000000\n25%      40.000000\n50%      41.000000\n75%      42.000000\nmax      78.000000\nName: Age, dtype: float64"
     },
     "metadata": {},
     "output_type": "execute_result",
     "execution_count": 6
    }
   ],
   "source": [
    "df['Age'].describe()"
   ]
  },
  {
   "cell_type": "code",
   "execution_count": 7,
   "metadata": {
    "pycharm": {
     "is_executing": false
    }
   },
   "outputs": [
    {
     "data": {
      "text/plain": "13"
     },
     "metadata": {},
     "output_type": "execute_result",
     "execution_count": 7
    }
   ],
   "source": [
    "df['CitiesLivedInPast'].count()"
   ]
  },
  {
   "cell_type": "code",
   "execution_count": 8,
   "metadata": {
    "pycharm": {
     "is_executing": false
    }
   },
   "outputs": [
    {
     "data": {
      "text/plain": "19"
     },
     "metadata": {},
     "output_type": "execute_result",
     "execution_count": 8
    }
   ],
   "source": [
    "df['Age'].count()"
   ]
  },
  {
   "cell_type": "code",
   "execution_count": 9,
   "metadata": {
    "pycharm": {
     "is_executing": false
    }
   },
   "outputs": [
    {
     "data": {
      "text/plain": "SY    9\nDB    3\nNO    2\nAT    1\nGR    1\nPN    1\nNJ    1\nDL    1\nName: City, dtype: int64"
     },
     "metadata": {},
     "output_type": "execute_result",
     "execution_count": 9
    }
   ],
   "source": [
    "df['City'].value_counts()"
   ]
  },
  {
   "cell_type": "code",
   "execution_count": 10,
   "metadata": {
    "pycharm": {
     "is_executing": false
    }
   },
   "outputs": [
    {
     "data": {
      "text/plain": "SY    47.368421\nDB    15.789474\nNO    10.526316\nAT     5.263158\nGR     5.263158\nPN     5.263158\nNJ     5.263158\nDL     5.263158\nName: City, dtype: float64"
     },
     "metadata": {},
     "output_type": "execute_result",
     "execution_count": 10
    }
   ],
   "source": [
    "df['City'].value_counts(normalize=True)*100 # gives the response in percentage"
   ]
  },
  {
   "cell_type": "markdown",
   "metadata": {},
   "source": [
    "### Group By  - has 3 steps\n",
    "- **Split**\n",
    "- **Apply Function**\n",
    "- **Combine Results**"
   ]
  },
  {
   "cell_type": "code",
   "execution_count": 11,
   "metadata": {
    "pycharm": {
     "is_executing": false
    }
   },
   "outputs": [
    {
     "data": {
      "text/plain": "<pandas.core.groupby.generic.DataFrameGroupBy object at 0x121832240>"
     },
     "metadata": {},
     "output_type": "execute_result",
     "execution_count": 11
    }
   ],
   "source": [
    "# Split the object - \n",
    "dfGroupBy = df.groupby(['City'])\n",
    "dfGroupBy"
   ]
  },
  {
   "cell_type": "code",
   "execution_count": 12,
   "metadata": {
    "pycharm": {
     "is_executing": false
    }
   },
   "outputs": [
    {
     "data": {
      "text/plain": "    S.No.      Name  Age City           Email CitiesLivedInPast\n0       1  Abhishek   41   SY  ak13@gmail.com         LKO;GR;NO\n2       3   Saurabh   42   SY  sk29@gmail.com    LKO;CHN;CAL;NO\n11     12     Roops   41   SY  rr27@gmail.com        LKO;CNB;NO\n13     14      Sean   33   SY  sk10@gmail.com               NaN\n14     15    Andrew   33   SY  ap21@gmail.com               NaN\n15     16   Ishanvi   10   SY  ik09@gmail.com                NO\n16     17     Arjun    5   SY  ak20@gmail.com               NaN\n17     18   GrandPa   78   SY  gp00@gmail.com               NaN\n18     19   Shivani   41   SY  ss00@gmail.com            LKO;NO",
      "text/html": "<div>\n<style scoped>\n    .dataframe tbody tr th:only-of-type {\n        vertical-align: middle;\n    }\n\n    .dataframe tbody tr th {\n        vertical-align: top;\n    }\n\n    .dataframe thead th {\n        text-align: right;\n    }\n</style>\n<table border=\"1\" class=\"dataframe\">\n  <thead>\n    <tr style=\"text-align: right;\">\n      <th></th>\n      <th>S.No.</th>\n      <th>Name</th>\n      <th>Age</th>\n      <th>City</th>\n      <th>Email</th>\n      <th>CitiesLivedInPast</th>\n    </tr>\n  </thead>\n  <tbody>\n    <tr>\n      <th>0</th>\n      <td>1</td>\n      <td>Abhishek</td>\n      <td>41</td>\n      <td>SY</td>\n      <td>ak13@gmail.com</td>\n      <td>LKO;GR;NO</td>\n    </tr>\n    <tr>\n      <th>2</th>\n      <td>3</td>\n      <td>Saurabh</td>\n      <td>42</td>\n      <td>SY</td>\n      <td>sk29@gmail.com</td>\n      <td>LKO;CHN;CAL;NO</td>\n    </tr>\n    <tr>\n      <th>11</th>\n      <td>12</td>\n      <td>Roops</td>\n      <td>41</td>\n      <td>SY</td>\n      <td>rr27@gmail.com</td>\n      <td>LKO;CNB;NO</td>\n    </tr>\n    <tr>\n      <th>13</th>\n      <td>14</td>\n      <td>Sean</td>\n      <td>33</td>\n      <td>SY</td>\n      <td>sk10@gmail.com</td>\n      <td>NaN</td>\n    </tr>\n    <tr>\n      <th>14</th>\n      <td>15</td>\n      <td>Andrew</td>\n      <td>33</td>\n      <td>SY</td>\n      <td>ap21@gmail.com</td>\n      <td>NaN</td>\n    </tr>\n    <tr>\n      <th>15</th>\n      <td>16</td>\n      <td>Ishanvi</td>\n      <td>10</td>\n      <td>SY</td>\n      <td>ik09@gmail.com</td>\n      <td>NO</td>\n    </tr>\n    <tr>\n      <th>16</th>\n      <td>17</td>\n      <td>Arjun</td>\n      <td>5</td>\n      <td>SY</td>\n      <td>ak20@gmail.com</td>\n      <td>NaN</td>\n    </tr>\n    <tr>\n      <th>17</th>\n      <td>18</td>\n      <td>GrandPa</td>\n      <td>78</td>\n      <td>SY</td>\n      <td>gp00@gmail.com</td>\n      <td>NaN</td>\n    </tr>\n    <tr>\n      <th>18</th>\n      <td>19</td>\n      <td>Shivani</td>\n      <td>41</td>\n      <td>SY</td>\n      <td>ss00@gmail.com</td>\n      <td>LKO;NO</td>\n    </tr>\n  </tbody>\n</table>\n</div>"
     },
     "metadata": {},
     "output_type": "execute_result",
     "execution_count": 12
    }
   ],
   "source": [
    "dfGroupBy.get_group('SY') # get the group for city SY"
   ]
  },
  {
   "cell_type": "code",
   "execution_count": 13,
   "metadata": {
    "pycharm": {
     "is_executing": false
    }
   },
   "outputs": [
    {
     "data": {
      "text/plain": "   S.No.    Name  Age City           Email  CitiesLivedInPast\n3      4   Sando   44   NO  sd18@gmail.com  LKO;CHN;CAL;NO;GR\n6      7  Anurag   42   NO  ak04@gmail.com      LKO;BUB;GR;NO",
      "text/html": "<div>\n<style scoped>\n    .dataframe tbody tr th:only-of-type {\n        vertical-align: middle;\n    }\n\n    .dataframe tbody tr th {\n        vertical-align: top;\n    }\n\n    .dataframe thead th {\n        text-align: right;\n    }\n</style>\n<table border=\"1\" class=\"dataframe\">\n  <thead>\n    <tr style=\"text-align: right;\">\n      <th></th>\n      <th>S.No.</th>\n      <th>Name</th>\n      <th>Age</th>\n      <th>City</th>\n      <th>Email</th>\n      <th>CitiesLivedInPast</th>\n    </tr>\n  </thead>\n  <tbody>\n    <tr>\n      <th>3</th>\n      <td>4</td>\n      <td>Sando</td>\n      <td>44</td>\n      <td>NO</td>\n      <td>sd18@gmail.com</td>\n      <td>LKO;CHN;CAL;NO;GR</td>\n    </tr>\n    <tr>\n      <th>6</th>\n      <td>7</td>\n      <td>Anurag</td>\n      <td>42</td>\n      <td>NO</td>\n      <td>ak04@gmail.com</td>\n      <td>LKO;BUB;GR;NO</td>\n    </tr>\n  </tbody>\n</table>\n</div>"
     },
     "metadata": {},
     "output_type": "execute_result",
     "execution_count": 13
    }
   ],
   "source": [
    "dfGroupBy.get_group('NO') # get the group for city NO"
   ]
  },
  {
   "cell_type": "code",
   "execution_count": 14,
   "metadata": {
    "pycharm": {
     "is_executing": false
    }
   },
   "outputs": [],
   "source": [
    "# this is similar to creating a filter\n",
    "filterSY = df['City'] == 'SY'\n",
    "filterNO = df['City'] == 'NO'\n",
    "filterDB = df['City'] == 'DB'"
   ]
  },
  {
   "cell_type": "code",
   "execution_count": 15,
   "metadata": {
    "pycharm": {
     "is_executing": false
    }
   },
   "outputs": [
    {
     "data": {
      "text/plain": "    S.No.      Name  Age City           Email CitiesLivedInPast\n0       1  Abhishek   41   SY  ak13@gmail.com         LKO;GR;NO\n2       3   Saurabh   42   SY  sk29@gmail.com    LKO;CHN;CAL;NO\n11     12     Roops   41   SY  rr27@gmail.com        LKO;CNB;NO\n13     14      Sean   33   SY  sk10@gmail.com               NaN\n14     15    Andrew   33   SY  ap21@gmail.com               NaN\n15     16   Ishanvi   10   SY  ik09@gmail.com                NO\n16     17     Arjun    5   SY  ak20@gmail.com               NaN\n17     18   GrandPa   78   SY  gp00@gmail.com               NaN\n18     19   Shivani   41   SY  ss00@gmail.com            LKO;NO",
      "text/html": "<div>\n<style scoped>\n    .dataframe tbody tr th:only-of-type {\n        vertical-align: middle;\n    }\n\n    .dataframe tbody tr th {\n        vertical-align: top;\n    }\n\n    .dataframe thead th {\n        text-align: right;\n    }\n</style>\n<table border=\"1\" class=\"dataframe\">\n  <thead>\n    <tr style=\"text-align: right;\">\n      <th></th>\n      <th>S.No.</th>\n      <th>Name</th>\n      <th>Age</th>\n      <th>City</th>\n      <th>Email</th>\n      <th>CitiesLivedInPast</th>\n    </tr>\n  </thead>\n  <tbody>\n    <tr>\n      <th>0</th>\n      <td>1</td>\n      <td>Abhishek</td>\n      <td>41</td>\n      <td>SY</td>\n      <td>ak13@gmail.com</td>\n      <td>LKO;GR;NO</td>\n    </tr>\n    <tr>\n      <th>2</th>\n      <td>3</td>\n      <td>Saurabh</td>\n      <td>42</td>\n      <td>SY</td>\n      <td>sk29@gmail.com</td>\n      <td>LKO;CHN;CAL;NO</td>\n    </tr>\n    <tr>\n      <th>11</th>\n      <td>12</td>\n      <td>Roops</td>\n      <td>41</td>\n      <td>SY</td>\n      <td>rr27@gmail.com</td>\n      <td>LKO;CNB;NO</td>\n    </tr>\n    <tr>\n      <th>13</th>\n      <td>14</td>\n      <td>Sean</td>\n      <td>33</td>\n      <td>SY</td>\n      <td>sk10@gmail.com</td>\n      <td>NaN</td>\n    </tr>\n    <tr>\n      <th>14</th>\n      <td>15</td>\n      <td>Andrew</td>\n      <td>33</td>\n      <td>SY</td>\n      <td>ap21@gmail.com</td>\n      <td>NaN</td>\n    </tr>\n    <tr>\n      <th>15</th>\n      <td>16</td>\n      <td>Ishanvi</td>\n      <td>10</td>\n      <td>SY</td>\n      <td>ik09@gmail.com</td>\n      <td>NO</td>\n    </tr>\n    <tr>\n      <th>16</th>\n      <td>17</td>\n      <td>Arjun</td>\n      <td>5</td>\n      <td>SY</td>\n      <td>ak20@gmail.com</td>\n      <td>NaN</td>\n    </tr>\n    <tr>\n      <th>17</th>\n      <td>18</td>\n      <td>GrandPa</td>\n      <td>78</td>\n      <td>SY</td>\n      <td>gp00@gmail.com</td>\n      <td>NaN</td>\n    </tr>\n    <tr>\n      <th>18</th>\n      <td>19</td>\n      <td>Shivani</td>\n      <td>41</td>\n      <td>SY</td>\n      <td>ss00@gmail.com</td>\n      <td>LKO;NO</td>\n    </tr>\n  </tbody>\n</table>\n</div>"
     },
     "metadata": {},
     "output_type": "execute_result",
     "execution_count": 15
    }
   ],
   "source": [
    "df.loc[filterSY]"
   ]
  },
  {
   "cell_type": "code",
   "execution_count": 16,
   "metadata": {
    "pycharm": {
     "is_executing": false
    }
   },
   "outputs": [
    {
     "data": {
      "text/plain": "   S.No.    Name  Age City           Email  CitiesLivedInPast\n3      4   Sando   44   NO  sd18@gmail.com  LKO;CHN;CAL;NO;GR\n6      7  Anurag   42   NO  ak04@gmail.com      LKO;BUB;GR;NO",
      "text/html": "<div>\n<style scoped>\n    .dataframe tbody tr th:only-of-type {\n        vertical-align: middle;\n    }\n\n    .dataframe tbody tr th {\n        vertical-align: top;\n    }\n\n    .dataframe thead th {\n        text-align: right;\n    }\n</style>\n<table border=\"1\" class=\"dataframe\">\n  <thead>\n    <tr style=\"text-align: right;\">\n      <th></th>\n      <th>S.No.</th>\n      <th>Name</th>\n      <th>Age</th>\n      <th>City</th>\n      <th>Email</th>\n      <th>CitiesLivedInPast</th>\n    </tr>\n  </thead>\n  <tbody>\n    <tr>\n      <th>3</th>\n      <td>4</td>\n      <td>Sando</td>\n      <td>44</td>\n      <td>NO</td>\n      <td>sd18@gmail.com</td>\n      <td>LKO;CHN;CAL;NO;GR</td>\n    </tr>\n    <tr>\n      <th>6</th>\n      <td>7</td>\n      <td>Anurag</td>\n      <td>42</td>\n      <td>NO</td>\n      <td>ak04@gmail.com</td>\n      <td>LKO;BUB;GR;NO</td>\n    </tr>\n  </tbody>\n</table>\n</div>"
     },
     "metadata": {},
     "output_type": "execute_result",
     "execution_count": 16
    }
   ],
   "source": [
    "df.loc[filterNO]"
   ]
  },
  {
   "cell_type": "code",
   "execution_count": 17,
   "metadata": {
    "pycharm": {
     "is_executing": false
    }
   },
   "outputs": [
    {
     "data": {
      "text/plain": "    S.No.    Name  Age City           Email CitiesLivedInPast\n8       9   Anand   42   DB  ak05@gmail.com               HYD\n10     11  Hitesh   40   DB  hp12@gmail.com               NaN\n12     13    Rash   41   DB  rp05@gmail.com               NaN",
      "text/html": "<div>\n<style scoped>\n    .dataframe tbody tr th:only-of-type {\n        vertical-align: middle;\n    }\n\n    .dataframe tbody tr th {\n        vertical-align: top;\n    }\n\n    .dataframe thead th {\n        text-align: right;\n    }\n</style>\n<table border=\"1\" class=\"dataframe\">\n  <thead>\n    <tr style=\"text-align: right;\">\n      <th></th>\n      <th>S.No.</th>\n      <th>Name</th>\n      <th>Age</th>\n      <th>City</th>\n      <th>Email</th>\n      <th>CitiesLivedInPast</th>\n    </tr>\n  </thead>\n  <tbody>\n    <tr>\n      <th>8</th>\n      <td>9</td>\n      <td>Anand</td>\n      <td>42</td>\n      <td>DB</td>\n      <td>ak05@gmail.com</td>\n      <td>HYD</td>\n    </tr>\n    <tr>\n      <th>10</th>\n      <td>11</td>\n      <td>Hitesh</td>\n      <td>40</td>\n      <td>DB</td>\n      <td>hp12@gmail.com</td>\n      <td>NaN</td>\n    </tr>\n    <tr>\n      <th>12</th>\n      <td>13</td>\n      <td>Rash</td>\n      <td>41</td>\n      <td>DB</td>\n      <td>rp05@gmail.com</td>\n      <td>NaN</td>\n    </tr>\n  </tbody>\n</table>\n</div>"
     },
     "metadata": {},
     "output_type": "execute_result",
     "execution_count": 17
    }
   ],
   "source": [
    "df.loc[filterDB]"
   ]
  },
  {
   "cell_type": "code",
   "execution_count": 18,
   "metadata": {
    "pycharm": {
     "is_executing": false
    }
   },
   "outputs": [
    {
     "name": "stdout",
     "text": [
      "value_counts \n",
      " 41    3\n",
      "33    2\n",
      "78    1\n",
      "10    1\n",
      "42    1\n",
      "5     1\n",
      "Name: Age, dtype: int64\n",
      "max \n",
      " 78\n",
      "sum \n",
      " 324\n",
      "mean \n",
      " 36.0\n"
     ],
     "output_type": "stream"
    }
   ],
   "source": [
    "print('value_counts \\n',df.loc[filterSY]['Age'].value_counts())\n",
    "print('max \\n',df.loc[filterSY]['Age'].max())\n",
    "print('sum \\n',df.loc[filterSY]['Age'].sum())\n",
    "print('mean \\n',df.loc[filterSY]['Age'].mean())"
   ]
  },
  {
   "cell_type": "code",
   "execution_count": 19,
   "metadata": {
    "pycharm": {
     "is_executing": false
    }
   },
   "outputs": [
    {
     "name": "stdout",
     "text": [
      "value_counts \n",
      " 42    1\n",
      "44    1\n",
      "Name: Age, dtype: int64\n",
      "max \n",
      " 44\n",
      "sum \n",
      " 86\n",
      "mean \n",
      " 43.0\n"
     ],
     "output_type": "stream"
    }
   ],
   "source": [
    "print('value_counts \\n',df.loc[filterNO]['Age'].value_counts())\n",
    "print('max \\n',df.loc[filterNO]['Age'].max())\n",
    "print('sum \\n',df.loc[filterNO]['Age'].sum())\n",
    "print('mean \\n',df.loc[filterNO]['Age'].mean())"
   ]
  },
  {
   "cell_type": "code",
   "execution_count": 20,
   "metadata": {
    "pycharm": {
     "is_executing": false
    }
   },
   "outputs": [
    {
     "name": "stdout",
     "text": [
      "value_counts \n",
      " 42    1\n",
      "41    1\n",
      "40    1\n",
      "Name: Age, dtype: int64\n",
      "max \n",
      " 42\n",
      "sum \n",
      " 123\n",
      "mean \n",
      " 41.0\n"
     ],
     "output_type": "stream"
    }
   ],
   "source": [
    "print('value_counts \\n',df.loc[filterDB]['Age'].value_counts())\n",
    "print('max \\n',df.loc[filterDB]['Age'].max())\n",
    "print('sum \\n',df.loc[filterDB]['Age'].sum())\n",
    "print('mean \\n',df.loc[filterDB]['Age'].mean())"
   ]
  },
  {
   "cell_type": "code",
   "execution_count": 21,
   "metadata": {
    "pycharm": {
     "is_executing": false
    }
   },
   "outputs": [
    {
     "data": {
      "text/plain": "City  Age\nAT    41     1\nDB    40     1\n      41     1\n      42     1\nDL    42     1\nGR    41     1\nNJ    40     1\nNO    42     1\n      44     1\nPN    42     1\nSY    41     3\n      33     2\n      5      1\n      10     1\n      42     1\n      78     1\nName: Age, dtype: int64"
     },
     "metadata": {},
     "output_type": "execute_result",
     "execution_count": 21
    }
   ],
   "source": [
    "dfGroupBy['Age'].value_counts()"
   ]
  },
  {
   "cell_type": "code",
   "execution_count": 22,
   "metadata": {
    "pycharm": {
     "is_executing": false
    }
   },
   "outputs": [
    {
     "data": {
      "text/plain": "Age\n41    3\n33    2\n5     1\n10    1\n42    1\n78    1\nName: Age, dtype: int64"
     },
     "metadata": {},
     "output_type": "execute_result",
     "execution_count": 22
    }
   ],
   "source": [
    "dfGroupBy['Age'].value_counts().loc['SY']"
   ]
  },
  {
   "cell_type": "code",
   "execution_count": 23,
   "metadata": {
    "pycharm": {
     "is_executing": false
    }
   },
   "outputs": [
    {
     "data": {
      "text/plain": "Age\n40    1\n41    1\n42    1\nName: Age, dtype: int64"
     },
     "metadata": {},
     "output_type": "execute_result",
     "execution_count": 23
    }
   ],
   "source": [
    "dfGroupBy['Age'].value_counts().loc['DB']"
   ]
  },
  {
   "cell_type": "code",
   "execution_count": 24,
   "metadata": {
    "pycharm": {
     "is_executing": false
    }
   },
   "outputs": [
    {
     "data": {
      "text/plain": "Age\n41    33.333333\n33    22.222222\n5     11.111111\n10    11.111111\n42    11.111111\n78    11.111111\nName: Age, dtype: float64"
     },
     "metadata": {},
     "output_type": "execute_result",
     "execution_count": 24
    }
   ],
   "source": [
    "dfGroupBy['Age'].value_counts(normalize=True).loc['SY']*100 #percentage "
   ]
  },
  {
   "cell_type": "code",
   "execution_count": 25,
   "metadata": {
    "pycharm": {
     "is_executing": false
    }
   },
   "outputs": [
    {
     "data": {
      "text/plain": "41"
     },
     "metadata": {},
     "output_type": "execute_result",
     "execution_count": 25
    }
   ],
   "source": [
    "dfGroupBy['Age'].median().loc['SY']"
   ]
  },
  {
   "cell_type": "code",
   "execution_count": 26,
   "metadata": {
    "pycharm": {
     "is_executing": false
    }
   },
   "outputs": [
    {
     "data": {
      "text/plain": "      median  mean\nCity              \nAT        41    41\nDB        41    41\nDL        42    42\nGR        41    41\nNJ        40    40\nNO        43    43\nPN        42    42\nSY        41    36",
      "text/html": "<div>\n<style scoped>\n    .dataframe tbody tr th:only-of-type {\n        vertical-align: middle;\n    }\n\n    .dataframe tbody tr th {\n        vertical-align: top;\n    }\n\n    .dataframe thead th {\n        text-align: right;\n    }\n</style>\n<table border=\"1\" class=\"dataframe\">\n  <thead>\n    <tr style=\"text-align: right;\">\n      <th></th>\n      <th>median</th>\n      <th>mean</th>\n    </tr>\n    <tr>\n      <th>City</th>\n      <th></th>\n      <th></th>\n    </tr>\n  </thead>\n  <tbody>\n    <tr>\n      <th>AT</th>\n      <td>41</td>\n      <td>41</td>\n    </tr>\n    <tr>\n      <th>DB</th>\n      <td>41</td>\n      <td>41</td>\n    </tr>\n    <tr>\n      <th>DL</th>\n      <td>42</td>\n      <td>42</td>\n    </tr>\n    <tr>\n      <th>GR</th>\n      <td>41</td>\n      <td>41</td>\n    </tr>\n    <tr>\n      <th>NJ</th>\n      <td>40</td>\n      <td>40</td>\n    </tr>\n    <tr>\n      <th>NO</th>\n      <td>43</td>\n      <td>43</td>\n    </tr>\n    <tr>\n      <th>PN</th>\n      <td>42</td>\n      <td>42</td>\n    </tr>\n    <tr>\n      <th>SY</th>\n      <td>41</td>\n      <td>36</td>\n    </tr>\n  </tbody>\n</table>\n</div>"
     },
     "metadata": {},
     "output_type": "execute_result",
     "execution_count": 26
    }
   ],
   "source": [
    "dfGroupBy['Age'].agg(['median','mean'])"
   ]
  },
  {
   "cell_type": "code",
   "execution_count": 27,
   "metadata": {
    "pycharm": {
     "is_executing": false
    }
   },
   "outputs": [
    {
     "data": {
      "text/plain": "median    41\nmean      36\nName: SY, dtype: int64"
     },
     "metadata": {},
     "output_type": "execute_result",
     "execution_count": 27
    }
   ],
   "source": [
    "dfGroupBy['Age'].agg(['median','mean']).loc['SY']"
   ]
  },
  {
   "cell_type": "code",
   "execution_count": 28,
   "metadata": {
    "pycharm": {
     "is_executing": false
    }
   },
   "outputs": [
    {
     "data": {
      "text/plain": "0      True\n2      True\n11     True\n13    False\n14    False\n15    False\n16    False\n17    False\n18     True\nName: CitiesLivedInPast, dtype: bool"
     },
     "metadata": {},
     "output_type": "execute_result",
     "execution_count": 28
    }
   ],
   "source": [
    "df.loc[filterSY]['CitiesLivedInPast'].str.contains('LKO', na = False)"
   ]
  },
  {
   "cell_type": "code",
   "execution_count": 29,
   "metadata": {
    "pycharm": {
     "is_executing": false
    }
   },
   "outputs": [
    {
     "data": {
      "text/plain": "4"
     },
     "metadata": {},
     "output_type": "execute_result",
     "execution_count": 29
    }
   ],
   "source": [
    "df.loc[filterSY]['CitiesLivedInPast'].str.contains('LKO', na = False).sum()"
   ]
  },
  {
   "cell_type": "code",
   "execution_count": 30,
   "metadata": {
    "pycharm": {
     "is_executing": false
    }
   },
   "outputs": [
    {
     "traceback": [
      "\u001b[0;31m---------------------------------------------------------------------------\u001b[0m",
      "\u001b[0;31mAttributeError\u001b[0m                            Traceback (most recent call last)",
      "\u001b[0;32m<ipython-input-30-d00816ad4305>\u001b[0m in \u001b[0;36m<module>\u001b[0;34m\u001b[0m\n\u001b[0;32m----> 1\u001b[0;31m \u001b[0mdfGroupBy\u001b[0m\u001b[0;34m[\u001b[0m\u001b[0;34m'CitiesLivedInPast'\u001b[0m\u001b[0;34m]\u001b[0m\u001b[0;34m.\u001b[0m\u001b[0mstr\u001b[0m\u001b[0;34m.\u001b[0m\u001b[0mcontains\u001b[0m\u001b[0;34m(\u001b[0m\u001b[0;34m'LKO'\u001b[0m\u001b[0;34m,\u001b[0m \u001b[0mna\u001b[0m \u001b[0;34m=\u001b[0m \u001b[0;32mFalse\u001b[0m\u001b[0;34m)\u001b[0m\u001b[0;34m\u001b[0m\u001b[0;34m\u001b[0m\u001b[0m\n\u001b[0m\u001b[1;32m      2\u001b[0m \u001b[0;34m\u001b[0m\u001b[0m\n",
      "\u001b[0;32m~/python/workspace/venv/lib/python3.7/site-packages/pandas/core/groupby/groupby.py\u001b[0m in \u001b[0;36m__getattr__\u001b[0;34m(self, attr)\u001b[0m\n\u001b[1;32m    579\u001b[0m \u001b[0;34m\u001b[0m\u001b[0m\n\u001b[1;32m    580\u001b[0m         raise AttributeError(\n\u001b[0;32m--> 581\u001b[0;31m             \u001b[0;34mf\"'{type(self).__name__}' object has no attribute '{attr}'\"\u001b[0m\u001b[0;34m\u001b[0m\u001b[0;34m\u001b[0m\u001b[0m\n\u001b[0m\u001b[1;32m    582\u001b[0m         )\n\u001b[1;32m    583\u001b[0m \u001b[0;34m\u001b[0m\u001b[0m\n",
      "\u001b[0;31mAttributeError\u001b[0m: 'SeriesGroupBy' object has no attribute 'str'"
     ],
     "ename": "AttributeError",
     "evalue": "'SeriesGroupBy' object has no attribute 'str'",
     "output_type": "error"
    }
   ],
   "source": [
    "dfGroupBy['CitiesLivedInPast'].str.contains('LKO', na = False)"
   ]
  },
  {
   "cell_type": "code",
   "execution_count": null,
   "metadata": {
    "pycharm": {
     "is_executing": false
    }
   },
   "outputs": [],
   "source": [
    "dfGroupBy['CitiesLivedInPast'].apply(lambda x: x.str.contains('LKO', na = False))"
   ]
  },
  {
   "cell_type": "code",
   "execution_count": null,
   "metadata": {
    "pycharm": {
     "is_executing": false
    }
   },
   "outputs": [],
   "source": [
    "dfGroupBy['CitiesLivedInPast'].apply(lambda x: x.str.contains('LKO', na = False).sum())"
   ]
  },
  {
   "cell_type": "code",
   "execution_count": null,
   "metadata": {
    "pycharm": {
     "is_executing": false
    }
   },
   "outputs": [],
   "source": [
    "city_count = df['City'].value_counts()\n",
    "print(city_count)\n",
    "frndswhoLivedInLKO = dfGroupBy['CitiesLivedInPast'].apply(lambda x: x.str.contains('LKO', na = False).sum())"
   ]
  },
  {
   "cell_type": "code",
   "execution_count": null,
   "metadata": {
    "pycharm": {
     "is_executing": false
    }
   },
   "outputs": [],
   "source": [
    "lko_df = pd.concat([city_count,frndswhoLivedInLKO], axis = 1, sort = False)\n",
    "lko_df"
   ]
  },
  {
   "cell_type": "code",
   "execution_count": null,
   "metadata": {
    "pycharm": {
     "is_executing": false
    }
   },
   "outputs": [],
   "source": [
    "lko_df.rename(columns={'City':'Number of Friends in City', 'CitiesLivedInPast':'Friends who have lived in LKO'}, inplace = True)\n",
    "lko_df"
   ]
  },
  {
   "cell_type": "code",
   "execution_count": null,
   "metadata": {
    "pycharm": {
     "is_executing": false
    }
   },
   "outputs": [],
   "source": [
    "lko_df['Percentage of Friend who have lived in LKO'] = (lko_df['Friends who have lived in LKO']/lko_df['Number of Friends in City'])*100\n",
    "lko_df"
   ]
  },
  {
   "cell_type": "code",
   "execution_count": null,
   "metadata": {
    "pycharm": {
     "is_executing": false
    }
   },
   "outputs": [],
   "source": [
    "lko_df.sort_values('Percentage of Friend who have lived in LKO', ascending = False, inplace=True)\n",
    "lko_df"
   ]
  },
  {
   "cell_type": "code",
   "execution_count": null,
   "metadata": {
    "pycharm": {
     "is_executing": false
    }
   },
   "outputs": [],
   "source": []
  }
 ],
 "metadata": {
  "kernelspec": {
   "display_name": "Python 3",
   "language": "python",
   "name": "python3"
  },
  "language_info": {
   "codemirror_mode": {
    "name": "ipython",
    "version": 3
   },
   "file_extension": ".py",
   "mimetype": "text/x-python",
   "name": "python",
   "nbconvert_exporter": "python",
   "pygments_lexer": "ipython3",
   "version": "3.7.3"
  },
  "pycharm": {
   "stem_cell": {
    "cell_type": "raw",
    "source": [],
    "metadata": {
     "collapsed": false
    }
   }
  }
 },
 "nbformat": 4,
 "nbformat_minor": 4
}