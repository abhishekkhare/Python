{
 "cells": [
  {
   "cell_type": "code",
   "execution_count": 1,
   "metadata": {
    "pycharm": {
     "is_executing": false
    }
   },
   "outputs": [],
   "source": [
    "import pandas as pd\n",
    "pd.options.display.max_rows = 100\n",
    "pd.options.display.max_columns = 100"
   ]
  },
  {
   "cell_type": "code",
   "execution_count": 2,
   "metadata": {
    "pycharm": {
     "is_executing": false
    }
   },
   "outputs": [
    {
     "data": {
      "text/plain": "    S.No.       Name  Age City           Email  CitiesLivedInPast\n0       1   Abhishek   41   SY  ak13@gmail.com          LKO;GR;NO\n1       2  Abhishek1   41   AT   ak1@gmail.com            LKO;CHN\n2       3    Saurabh   42   SY  sk29@gmail.com     LKO;CHN;CAL;NO\n3       4      Sando   44   NO  sd18@gmail.com  LKO;CHN;CAL;NO;GR\n4       5     Ashish   42   DL  as12@gmail.com                LKO\n5       6     Faheem   41   GR  fs25@gmail.com      LKO;BAN;NO;DL\n6       7     Anurag   42   NO  ak04@gmail.com      LKO;BUB;GR;NO\n7       8    Pradeep   42   PN  pg16@gmail.com      LKO;CHN;GR;PN\n8       9      Anand   42   DB  ak05@gmail.com                HYD\n9      10       Deek   40   NJ  dg08@gmail.com             NO;CNB\n10     11     Hitesh   40   DB  hp12@gmail.com                NaN\n11     12      Roops   41   SY  rr27@gmail.com         LKO;CNB;NO\n12     13       Rash   41   DB  rp05@gmail.com                NaN\n13     14       Sean   33   SY  sk10@gmail.com                NaN\n14     15     Andrew   33   SY  ap21@gmail.com                NaN\n15     16    Ishanvi   10   SY  ik09@gmail.com                 NO\n16     17      Arjun    5   SY  ak20@gmail.com                NaN\n17     18    GrandPa   78   SY  gp00@gmail.com                NaN\n18     19    Shivani   41   SY  ss00@gmail.com             LKO;NO",
      "text/html": "<div>\n<style scoped>\n    .dataframe tbody tr th:only-of-type {\n        vertical-align: middle;\n    }\n\n    .dataframe tbody tr th {\n        vertical-align: top;\n    }\n\n    .dataframe thead th {\n        text-align: right;\n    }\n</style>\n<table border=\"1\" class=\"dataframe\">\n  <thead>\n    <tr style=\"text-align: right;\">\n      <th></th>\n      <th>S.No.</th>\n      <th>Name</th>\n      <th>Age</th>\n      <th>City</th>\n      <th>Email</th>\n      <th>CitiesLivedInPast</th>\n    </tr>\n  </thead>\n  <tbody>\n    <tr>\n      <th>0</th>\n      <td>1</td>\n      <td>Abhishek</td>\n      <td>41</td>\n      <td>SY</td>\n      <td>ak13@gmail.com</td>\n      <td>LKO;GR;NO</td>\n    </tr>\n    <tr>\n      <th>1</th>\n      <td>2</td>\n      <td>Abhishek1</td>\n      <td>41</td>\n      <td>AT</td>\n      <td>ak1@gmail.com</td>\n      <td>LKO;CHN</td>\n    </tr>\n    <tr>\n      <th>2</th>\n      <td>3</td>\n      <td>Saurabh</td>\n      <td>42</td>\n      <td>SY</td>\n      <td>sk29@gmail.com</td>\n      <td>LKO;CHN;CAL;NO</td>\n    </tr>\n    <tr>\n      <th>3</th>\n      <td>4</td>\n      <td>Sando</td>\n      <td>44</td>\n      <td>NO</td>\n      <td>sd18@gmail.com</td>\n      <td>LKO;CHN;CAL;NO;GR</td>\n    </tr>\n    <tr>\n      <th>4</th>\n      <td>5</td>\n      <td>Ashish</td>\n      <td>42</td>\n      <td>DL</td>\n      <td>as12@gmail.com</td>\n      <td>LKO</td>\n    </tr>\n    <tr>\n      <th>5</th>\n      <td>6</td>\n      <td>Faheem</td>\n      <td>41</td>\n      <td>GR</td>\n      <td>fs25@gmail.com</td>\n      <td>LKO;BAN;NO;DL</td>\n    </tr>\n    <tr>\n      <th>6</th>\n      <td>7</td>\n      <td>Anurag</td>\n      <td>42</td>\n      <td>NO</td>\n      <td>ak04@gmail.com</td>\n      <td>LKO;BUB;GR;NO</td>\n    </tr>\n    <tr>\n      <th>7</th>\n      <td>8</td>\n      <td>Pradeep</td>\n      <td>42</td>\n      <td>PN</td>\n      <td>pg16@gmail.com</td>\n      <td>LKO;CHN;GR;PN</td>\n    </tr>\n    <tr>\n      <th>8</th>\n      <td>9</td>\n      <td>Anand</td>\n      <td>42</td>\n      <td>DB</td>\n      <td>ak05@gmail.com</td>\n      <td>HYD</td>\n    </tr>\n    <tr>\n      <th>9</th>\n      <td>10</td>\n      <td>Deek</td>\n      <td>40</td>\n      <td>NJ</td>\n      <td>dg08@gmail.com</td>\n      <td>NO;CNB</td>\n    </tr>\n    <tr>\n      <th>10</th>\n      <td>11</td>\n      <td>Hitesh</td>\n      <td>40</td>\n      <td>DB</td>\n      <td>hp12@gmail.com</td>\n      <td>NaN</td>\n    </tr>\n    <tr>\n      <th>11</th>\n      <td>12</td>\n      <td>Roops</td>\n      <td>41</td>\n      <td>SY</td>\n      <td>rr27@gmail.com</td>\n      <td>LKO;CNB;NO</td>\n    </tr>\n    <tr>\n      <th>12</th>\n      <td>13</td>\n      <td>Rash</td>\n      <td>41</td>\n      <td>DB</td>\n      <td>rp05@gmail.com</td>\n      <td>NaN</td>\n    </tr>\n    <tr>\n      <th>13</th>\n      <td>14</td>\n      <td>Sean</td>\n      <td>33</td>\n      <td>SY</td>\n      <td>sk10@gmail.com</td>\n      <td>NaN</td>\n    </tr>\n    <tr>\n      <th>14</th>\n      <td>15</td>\n      <td>Andrew</td>\n      <td>33</td>\n      <td>SY</td>\n      <td>ap21@gmail.com</td>\n      <td>NaN</td>\n    </tr>\n    <tr>\n      <th>15</th>\n      <td>16</td>\n      <td>Ishanvi</td>\n      <td>10</td>\n      <td>SY</td>\n      <td>ik09@gmail.com</td>\n      <td>NO</td>\n    </tr>\n    <tr>\n      <th>16</th>\n      <td>17</td>\n      <td>Arjun</td>\n      <td>5</td>\n      <td>SY</td>\n      <td>ak20@gmail.com</td>\n      <td>NaN</td>\n    </tr>\n    <tr>\n      <th>17</th>\n      <td>18</td>\n      <td>GrandPa</td>\n      <td>78</td>\n      <td>SY</td>\n      <td>gp00@gmail.com</td>\n      <td>NaN</td>\n    </tr>\n    <tr>\n      <th>18</th>\n      <td>19</td>\n      <td>Shivani</td>\n      <td>41</td>\n      <td>SY</td>\n      <td>ss00@gmail.com</td>\n      <td>LKO;NO</td>\n    </tr>\n  </tbody>\n</table>\n</div>"
     },
     "metadata": {},
     "output_type": "execute_result",
     "execution_count": 2
    }
   ],
   "source": [
    "# Read a CSV file into a dataframe\n",
    "df = pd.read_csv('data/friends.csv')\n",
    "df"
   ]
  },
  {
   "cell_type": "code",
   "execution_count": 3,
   "metadata": {
    "pycharm": {
     "is_executing": false
    }
   },
   "outputs": [
    {
     "name": "stdout",
     "text": [
      "<class 'pandas.core.series.Series'>\n"
     ],
     "output_type": "stream"
    },
    {
     "data": {
      "text/plain": "0     False\n1     False\n2     False\n3     False\n4     False\n5     False\n6     False\n7     False\n8     False\n9      True\n10     True\n11    False\n12    False\n13    False\n14    False\n15    False\n16    False\n17    False\n18    False\nName: Age, dtype: bool"
     },
     "metadata": {},
     "output_type": "execute_result",
     "execution_count": 3
    }
   ],
   "source": [
    "\n",
    "filter1 = df['Age'] == 40 # we get back a series object\n",
    "print(type(filter1))\n",
    "filter1"
   ]
  },
  {
   "cell_type": "code",
   "execution_count": 4,
   "metadata": {
    "pycharm": {
     "is_executing": false
    }
   },
   "outputs": [
    {
     "data": {
      "text/plain": "    S.No.    Name  Age City           Email CitiesLivedInPast\n9      10    Deek   40   NJ  dg08@gmail.com            NO;CNB\n10     11  Hitesh   40   DB  hp12@gmail.com               NaN",
      "text/html": "<div>\n<style scoped>\n    .dataframe tbody tr th:only-of-type {\n        vertical-align: middle;\n    }\n\n    .dataframe tbody tr th {\n        vertical-align: top;\n    }\n\n    .dataframe thead th {\n        text-align: right;\n    }\n</style>\n<table border=\"1\" class=\"dataframe\">\n  <thead>\n    <tr style=\"text-align: right;\">\n      <th></th>\n      <th>S.No.</th>\n      <th>Name</th>\n      <th>Age</th>\n      <th>City</th>\n      <th>Email</th>\n      <th>CitiesLivedInPast</th>\n    </tr>\n  </thead>\n  <tbody>\n    <tr>\n      <th>9</th>\n      <td>10</td>\n      <td>Deek</td>\n      <td>40</td>\n      <td>NJ</td>\n      <td>dg08@gmail.com</td>\n      <td>NO;CNB</td>\n    </tr>\n    <tr>\n      <th>10</th>\n      <td>11</td>\n      <td>Hitesh</td>\n      <td>40</td>\n      <td>DB</td>\n      <td>hp12@gmail.com</td>\n      <td>NaN</td>\n    </tr>\n  </tbody>\n</table>\n</div>"
     },
     "metadata": {},
     "output_type": "execute_result",
     "execution_count": 4
    }
   ],
   "source": [
    "df[filter1] # dataframe with the filter will return a dataframe with items for which filter is true"
   ]
  },
  {
   "cell_type": "code",
   "execution_count": 5,
   "metadata": {
    "pycharm": {
     "is_executing": false
    }
   },
   "outputs": [
    {
     "data": {
      "text/plain": "    S.No.       Name  Age City           Email CitiesLivedInPast\n0       1   Abhishek   41   SY  ak13@gmail.com         LKO;GR;NO\n1       2  Abhishek1   41   AT   ak1@gmail.com           LKO;CHN\n5       6     Faheem   41   GR  fs25@gmail.com     LKO;BAN;NO;DL\n11     12      Roops   41   SY  rr27@gmail.com        LKO;CNB;NO\n12     13       Rash   41   DB  rp05@gmail.com               NaN\n18     19    Shivani   41   SY  ss00@gmail.com            LKO;NO",
      "text/html": "<div>\n<style scoped>\n    .dataframe tbody tr th:only-of-type {\n        vertical-align: middle;\n    }\n\n    .dataframe tbody tr th {\n        vertical-align: top;\n    }\n\n    .dataframe thead th {\n        text-align: right;\n    }\n</style>\n<table border=\"1\" class=\"dataframe\">\n  <thead>\n    <tr style=\"text-align: right;\">\n      <th></th>\n      <th>S.No.</th>\n      <th>Name</th>\n      <th>Age</th>\n      <th>City</th>\n      <th>Email</th>\n      <th>CitiesLivedInPast</th>\n    </tr>\n  </thead>\n  <tbody>\n    <tr>\n      <th>0</th>\n      <td>1</td>\n      <td>Abhishek</td>\n      <td>41</td>\n      <td>SY</td>\n      <td>ak13@gmail.com</td>\n      <td>LKO;GR;NO</td>\n    </tr>\n    <tr>\n      <th>1</th>\n      <td>2</td>\n      <td>Abhishek1</td>\n      <td>41</td>\n      <td>AT</td>\n      <td>ak1@gmail.com</td>\n      <td>LKO;CHN</td>\n    </tr>\n    <tr>\n      <th>5</th>\n      <td>6</td>\n      <td>Faheem</td>\n      <td>41</td>\n      <td>GR</td>\n      <td>fs25@gmail.com</td>\n      <td>LKO;BAN;NO;DL</td>\n    </tr>\n    <tr>\n      <th>11</th>\n      <td>12</td>\n      <td>Roops</td>\n      <td>41</td>\n      <td>SY</td>\n      <td>rr27@gmail.com</td>\n      <td>LKO;CNB;NO</td>\n    </tr>\n    <tr>\n      <th>12</th>\n      <td>13</td>\n      <td>Rash</td>\n      <td>41</td>\n      <td>DB</td>\n      <td>rp05@gmail.com</td>\n      <td>NaN</td>\n    </tr>\n    <tr>\n      <th>18</th>\n      <td>19</td>\n      <td>Shivani</td>\n      <td>41</td>\n      <td>SY</td>\n      <td>ss00@gmail.com</td>\n      <td>LKO;NO</td>\n    </tr>\n  </tbody>\n</table>\n</div>"
     },
     "metadata": {},
     "output_type": "execute_result",
     "execution_count": 5
    }
   ],
   "source": [
    "df[df['Age'] == 41] # can also be written like this."
   ]
  },
  {
   "cell_type": "code",
   "execution_count": 6,
   "metadata": {
    "pycharm": {
     "is_executing": false
    }
   },
   "outputs": [
    {
     "data": {
      "text/plain": "    S.No.    Name  Age City           Email CitiesLivedInPast\n9      10    Deek   40   NJ  dg08@gmail.com            NO;CNB\n10     11  Hitesh   40   DB  hp12@gmail.com               NaN",
      "text/html": "<div>\n<style scoped>\n    .dataframe tbody tr th:only-of-type {\n        vertical-align: middle;\n    }\n\n    .dataframe tbody tr th {\n        vertical-align: top;\n    }\n\n    .dataframe thead th {\n        text-align: right;\n    }\n</style>\n<table border=\"1\" class=\"dataframe\">\n  <thead>\n    <tr style=\"text-align: right;\">\n      <th></th>\n      <th>S.No.</th>\n      <th>Name</th>\n      <th>Age</th>\n      <th>City</th>\n      <th>Email</th>\n      <th>CitiesLivedInPast</th>\n    </tr>\n  </thead>\n  <tbody>\n    <tr>\n      <th>9</th>\n      <td>10</td>\n      <td>Deek</td>\n      <td>40</td>\n      <td>NJ</td>\n      <td>dg08@gmail.com</td>\n      <td>NO;CNB</td>\n    </tr>\n    <tr>\n      <th>10</th>\n      <td>11</td>\n      <td>Hitesh</td>\n      <td>40</td>\n      <td>DB</td>\n      <td>hp12@gmail.com</td>\n      <td>NaN</td>\n    </tr>\n  </tbody>\n</table>\n</div>"
     },
     "metadata": {},
     "output_type": "execute_result",
     "execution_count": 6
    }
   ],
   "source": [
    "df.loc[filter1] # same result"
   ]
  },
  {
   "cell_type": "code",
   "execution_count": 7,
   "metadata": {
    "pycharm": {
     "is_executing": false
    }
   },
   "outputs": [
    {
     "data": {
      "text/plain": "9     dg08@gmail.com\n10    hp12@gmail.com\nName: Email, dtype: object"
     },
     "metadata": {},
     "output_type": "execute_result",
     "execution_count": 7
    }
   ],
   "source": [
    "df.loc[filter1,'Email'] "
   ]
  },
  {
   "cell_type": "code",
   "execution_count": 8,
   "metadata": {
    "pycharm": {
     "is_executing": false
    }
   },
   "outputs": [
    {
     "data": {
      "text/plain": "             Email City\n9   dg08@gmail.com   NJ\n10  hp12@gmail.com   DB",
      "text/html": "<div>\n<style scoped>\n    .dataframe tbody tr th:only-of-type {\n        vertical-align: middle;\n    }\n\n    .dataframe tbody tr th {\n        vertical-align: top;\n    }\n\n    .dataframe thead th {\n        text-align: right;\n    }\n</style>\n<table border=\"1\" class=\"dataframe\">\n  <thead>\n    <tr style=\"text-align: right;\">\n      <th></th>\n      <th>Email</th>\n      <th>City</th>\n    </tr>\n  </thead>\n  <tbody>\n    <tr>\n      <th>9</th>\n      <td>dg08@gmail.com</td>\n      <td>NJ</td>\n    </tr>\n    <tr>\n      <th>10</th>\n      <td>hp12@gmail.com</td>\n      <td>DB</td>\n    </tr>\n  </tbody>\n</table>\n</div>"
     },
     "metadata": {},
     "output_type": "execute_result",
     "execution_count": 8
    }
   ],
   "source": [
    "df.loc[filter1,['Email','City']] # but this can be used if we want the result to have few columns"
   ]
  },
  {
   "cell_type": "code",
   "execution_count": 9,
   "metadata": {
    "pycharm": {
     "is_executing": false
    }
   },
   "outputs": [
    {
     "data": {
      "text/plain": "   S.No.   Name  Age City           Email CitiesLivedInPast\n8      9  Anand   42   DB  ak05@gmail.com               HYD",
      "text/html": "<div>\n<style scoped>\n    .dataframe tbody tr th:only-of-type {\n        vertical-align: middle;\n    }\n\n    .dataframe tbody tr th {\n        vertical-align: top;\n    }\n\n    .dataframe thead th {\n        text-align: right;\n    }\n</style>\n<table border=\"1\" class=\"dataframe\">\n  <thead>\n    <tr style=\"text-align: right;\">\n      <th></th>\n      <th>S.No.</th>\n      <th>Name</th>\n      <th>Age</th>\n      <th>City</th>\n      <th>Email</th>\n      <th>CitiesLivedInPast</th>\n    </tr>\n  </thead>\n  <tbody>\n    <tr>\n      <th>8</th>\n      <td>9</td>\n      <td>Anand</td>\n      <td>42</td>\n      <td>DB</td>\n      <td>ak05@gmail.com</td>\n      <td>HYD</td>\n    </tr>\n  </tbody>\n</table>\n</div>"
     },
     "metadata": {},
     "output_type": "execute_result",
     "execution_count": 9
    }
   ],
   "source": [
    "filter2 = ((df['Age'] > 41) & (df['City'] == 'DB')) # AND\n",
    "df.loc[filter2]"
   ]
  },
  {
   "cell_type": "code",
   "execution_count": 10,
   "metadata": {
    "pycharm": {
     "is_executing": false
    }
   },
   "outputs": [
    {
     "data": {
      "text/plain": "    S.No.     Name  Age City           Email  CitiesLivedInPast\n2       3  Saurabh   42   SY  sk29@gmail.com     LKO;CHN;CAL;NO\n3       4    Sando   44   NO  sd18@gmail.com  LKO;CHN;CAL;NO;GR\n4       5   Ashish   42   DL  as12@gmail.com                LKO\n6       7   Anurag   42   NO  ak04@gmail.com      LKO;BUB;GR;NO\n7       8  Pradeep   42   PN  pg16@gmail.com      LKO;CHN;GR;PN\n8       9    Anand   42   DB  ak05@gmail.com                HYD\n10     11   Hitesh   40   DB  hp12@gmail.com                NaN\n12     13     Rash   41   DB  rp05@gmail.com                NaN\n17     18  GrandPa   78   SY  gp00@gmail.com                NaN",
      "text/html": "<div>\n<style scoped>\n    .dataframe tbody tr th:only-of-type {\n        vertical-align: middle;\n    }\n\n    .dataframe tbody tr th {\n        vertical-align: top;\n    }\n\n    .dataframe thead th {\n        text-align: right;\n    }\n</style>\n<table border=\"1\" class=\"dataframe\">\n  <thead>\n    <tr style=\"text-align: right;\">\n      <th></th>\n      <th>S.No.</th>\n      <th>Name</th>\n      <th>Age</th>\n      <th>City</th>\n      <th>Email</th>\n      <th>CitiesLivedInPast</th>\n    </tr>\n  </thead>\n  <tbody>\n    <tr>\n      <th>2</th>\n      <td>3</td>\n      <td>Saurabh</td>\n      <td>42</td>\n      <td>SY</td>\n      <td>sk29@gmail.com</td>\n      <td>LKO;CHN;CAL;NO</td>\n    </tr>\n    <tr>\n      <th>3</th>\n      <td>4</td>\n      <td>Sando</td>\n      <td>44</td>\n      <td>NO</td>\n      <td>sd18@gmail.com</td>\n      <td>LKO;CHN;CAL;NO;GR</td>\n    </tr>\n    <tr>\n      <th>4</th>\n      <td>5</td>\n      <td>Ashish</td>\n      <td>42</td>\n      <td>DL</td>\n      <td>as12@gmail.com</td>\n      <td>LKO</td>\n    </tr>\n    <tr>\n      <th>6</th>\n      <td>7</td>\n      <td>Anurag</td>\n      <td>42</td>\n      <td>NO</td>\n      <td>ak04@gmail.com</td>\n      <td>LKO;BUB;GR;NO</td>\n    </tr>\n    <tr>\n      <th>7</th>\n      <td>8</td>\n      <td>Pradeep</td>\n      <td>42</td>\n      <td>PN</td>\n      <td>pg16@gmail.com</td>\n      <td>LKO;CHN;GR;PN</td>\n    </tr>\n    <tr>\n      <th>8</th>\n      <td>9</td>\n      <td>Anand</td>\n      <td>42</td>\n      <td>DB</td>\n      <td>ak05@gmail.com</td>\n      <td>HYD</td>\n    </tr>\n    <tr>\n      <th>10</th>\n      <td>11</td>\n      <td>Hitesh</td>\n      <td>40</td>\n      <td>DB</td>\n      <td>hp12@gmail.com</td>\n      <td>NaN</td>\n    </tr>\n    <tr>\n      <th>12</th>\n      <td>13</td>\n      <td>Rash</td>\n      <td>41</td>\n      <td>DB</td>\n      <td>rp05@gmail.com</td>\n      <td>NaN</td>\n    </tr>\n    <tr>\n      <th>17</th>\n      <td>18</td>\n      <td>GrandPa</td>\n      <td>78</td>\n      <td>SY</td>\n      <td>gp00@gmail.com</td>\n      <td>NaN</td>\n    </tr>\n  </tbody>\n</table>\n</div>"
     },
     "metadata": {},
     "output_type": "execute_result",
     "execution_count": 10
    }
   ],
   "source": [
    "filter3 = ((df['Age'] > 41) | (df['City'] == 'DB')) # OR\n",
    "df.loc[filter3]"
   ]
  },
  {
   "cell_type": "code",
   "execution_count": 11,
   "metadata": {
    "pycharm": {
     "is_executing": false
    }
   },
   "outputs": [
    {
     "data": {
      "text/plain": "    S.No.       Name  Age City           Email  CitiesLivedInPast\n0       1   Abhishek   41   SY  ak13@gmail.com          LKO;GR;NO\n1       2  Abhishek1   41   AT   ak1@gmail.com            LKO;CHN\n2       3    Saurabh   42   SY  sk29@gmail.com     LKO;CHN;CAL;NO\n3       4      Sando   44   NO  sd18@gmail.com  LKO;CHN;CAL;NO;GR\n4       5     Ashish   42   DL  as12@gmail.com                LKO\n5       6     Faheem   41   GR  fs25@gmail.com      LKO;BAN;NO;DL\n6       7     Anurag   42   NO  ak04@gmail.com      LKO;BUB;GR;NO\n7       8    Pradeep   42   PN  pg16@gmail.com      LKO;CHN;GR;PN\n9      10       Deek   40   NJ  dg08@gmail.com             NO;CNB\n10     11     Hitesh   40   DB  hp12@gmail.com                NaN\n11     12      Roops   41   SY  rr27@gmail.com         LKO;CNB;NO\n12     13       Rash   41   DB  rp05@gmail.com                NaN\n13     14       Sean   33   SY  sk10@gmail.com                NaN\n14     15     Andrew   33   SY  ap21@gmail.com                NaN\n15     16    Ishanvi   10   SY  ik09@gmail.com                 NO\n16     17      Arjun    5   SY  ak20@gmail.com                NaN\n17     18    GrandPa   78   SY  gp00@gmail.com                NaN\n18     19    Shivani   41   SY  ss00@gmail.com             LKO;NO",
      "text/html": "<div>\n<style scoped>\n    .dataframe tbody tr th:only-of-type {\n        vertical-align: middle;\n    }\n\n    .dataframe tbody tr th {\n        vertical-align: top;\n    }\n\n    .dataframe thead th {\n        text-align: right;\n    }\n</style>\n<table border=\"1\" class=\"dataframe\">\n  <thead>\n    <tr style=\"text-align: right;\">\n      <th></th>\n      <th>S.No.</th>\n      <th>Name</th>\n      <th>Age</th>\n      <th>City</th>\n      <th>Email</th>\n      <th>CitiesLivedInPast</th>\n    </tr>\n  </thead>\n  <tbody>\n    <tr>\n      <th>0</th>\n      <td>1</td>\n      <td>Abhishek</td>\n      <td>41</td>\n      <td>SY</td>\n      <td>ak13@gmail.com</td>\n      <td>LKO;GR;NO</td>\n    </tr>\n    <tr>\n      <th>1</th>\n      <td>2</td>\n      <td>Abhishek1</td>\n      <td>41</td>\n      <td>AT</td>\n      <td>ak1@gmail.com</td>\n      <td>LKO;CHN</td>\n    </tr>\n    <tr>\n      <th>2</th>\n      <td>3</td>\n      <td>Saurabh</td>\n      <td>42</td>\n      <td>SY</td>\n      <td>sk29@gmail.com</td>\n      <td>LKO;CHN;CAL;NO</td>\n    </tr>\n    <tr>\n      <th>3</th>\n      <td>4</td>\n      <td>Sando</td>\n      <td>44</td>\n      <td>NO</td>\n      <td>sd18@gmail.com</td>\n      <td>LKO;CHN;CAL;NO;GR</td>\n    </tr>\n    <tr>\n      <th>4</th>\n      <td>5</td>\n      <td>Ashish</td>\n      <td>42</td>\n      <td>DL</td>\n      <td>as12@gmail.com</td>\n      <td>LKO</td>\n    </tr>\n    <tr>\n      <th>5</th>\n      <td>6</td>\n      <td>Faheem</td>\n      <td>41</td>\n      <td>GR</td>\n      <td>fs25@gmail.com</td>\n      <td>LKO;BAN;NO;DL</td>\n    </tr>\n    <tr>\n      <th>6</th>\n      <td>7</td>\n      <td>Anurag</td>\n      <td>42</td>\n      <td>NO</td>\n      <td>ak04@gmail.com</td>\n      <td>LKO;BUB;GR;NO</td>\n    </tr>\n    <tr>\n      <th>7</th>\n      <td>8</td>\n      <td>Pradeep</td>\n      <td>42</td>\n      <td>PN</td>\n      <td>pg16@gmail.com</td>\n      <td>LKO;CHN;GR;PN</td>\n    </tr>\n    <tr>\n      <th>9</th>\n      <td>10</td>\n      <td>Deek</td>\n      <td>40</td>\n      <td>NJ</td>\n      <td>dg08@gmail.com</td>\n      <td>NO;CNB</td>\n    </tr>\n    <tr>\n      <th>10</th>\n      <td>11</td>\n      <td>Hitesh</td>\n      <td>40</td>\n      <td>DB</td>\n      <td>hp12@gmail.com</td>\n      <td>NaN</td>\n    </tr>\n    <tr>\n      <th>11</th>\n      <td>12</td>\n      <td>Roops</td>\n      <td>41</td>\n      <td>SY</td>\n      <td>rr27@gmail.com</td>\n      <td>LKO;CNB;NO</td>\n    </tr>\n    <tr>\n      <th>12</th>\n      <td>13</td>\n      <td>Rash</td>\n      <td>41</td>\n      <td>DB</td>\n      <td>rp05@gmail.com</td>\n      <td>NaN</td>\n    </tr>\n    <tr>\n      <th>13</th>\n      <td>14</td>\n      <td>Sean</td>\n      <td>33</td>\n      <td>SY</td>\n      <td>sk10@gmail.com</td>\n      <td>NaN</td>\n    </tr>\n    <tr>\n      <th>14</th>\n      <td>15</td>\n      <td>Andrew</td>\n      <td>33</td>\n      <td>SY</td>\n      <td>ap21@gmail.com</td>\n      <td>NaN</td>\n    </tr>\n    <tr>\n      <th>15</th>\n      <td>16</td>\n      <td>Ishanvi</td>\n      <td>10</td>\n      <td>SY</td>\n      <td>ik09@gmail.com</td>\n      <td>NO</td>\n    </tr>\n    <tr>\n      <th>16</th>\n      <td>17</td>\n      <td>Arjun</td>\n      <td>5</td>\n      <td>SY</td>\n      <td>ak20@gmail.com</td>\n      <td>NaN</td>\n    </tr>\n    <tr>\n      <th>17</th>\n      <td>18</td>\n      <td>GrandPa</td>\n      <td>78</td>\n      <td>SY</td>\n      <td>gp00@gmail.com</td>\n      <td>NaN</td>\n    </tr>\n    <tr>\n      <th>18</th>\n      <td>19</td>\n      <td>Shivani</td>\n      <td>41</td>\n      <td>SY</td>\n      <td>ss00@gmail.com</td>\n      <td>LKO;NO</td>\n    </tr>\n  </tbody>\n</table>\n</div>"
     },
     "metadata": {},
     "output_type": "execute_result",
     "execution_count": 11
    }
   ],
   "source": [
    "df.loc[~filter2] # ~ results in the opposite of the filter"
   ]
  },
  {
   "cell_type": "code",
   "execution_count": 12,
   "metadata": {
    "pycharm": {
     "is_executing": false
    }
   },
   "outputs": [
    {
     "data": {
      "text/plain": "    S.No.       Name  Age City           Email CitiesLivedInPast\n0       1   Abhishek   41   SY  ak13@gmail.com         LKO;GR;NO\n1       2  Abhishek1   41   AT   ak1@gmail.com           LKO;CHN\n5       6     Faheem   41   GR  fs25@gmail.com     LKO;BAN;NO;DL\n9      10       Deek   40   NJ  dg08@gmail.com            NO;CNB\n11     12      Roops   41   SY  rr27@gmail.com        LKO;CNB;NO\n13     14       Sean   33   SY  sk10@gmail.com               NaN\n14     15     Andrew   33   SY  ap21@gmail.com               NaN\n15     16    Ishanvi   10   SY  ik09@gmail.com                NO\n16     17      Arjun    5   SY  ak20@gmail.com               NaN\n18     19    Shivani   41   SY  ss00@gmail.com            LKO;NO",
      "text/html": "<div>\n<style scoped>\n    .dataframe tbody tr th:only-of-type {\n        vertical-align: middle;\n    }\n\n    .dataframe tbody tr th {\n        vertical-align: top;\n    }\n\n    .dataframe thead th {\n        text-align: right;\n    }\n</style>\n<table border=\"1\" class=\"dataframe\">\n  <thead>\n    <tr style=\"text-align: right;\">\n      <th></th>\n      <th>S.No.</th>\n      <th>Name</th>\n      <th>Age</th>\n      <th>City</th>\n      <th>Email</th>\n      <th>CitiesLivedInPast</th>\n    </tr>\n  </thead>\n  <tbody>\n    <tr>\n      <th>0</th>\n      <td>1</td>\n      <td>Abhishek</td>\n      <td>41</td>\n      <td>SY</td>\n      <td>ak13@gmail.com</td>\n      <td>LKO;GR;NO</td>\n    </tr>\n    <tr>\n      <th>1</th>\n      <td>2</td>\n      <td>Abhishek1</td>\n      <td>41</td>\n      <td>AT</td>\n      <td>ak1@gmail.com</td>\n      <td>LKO;CHN</td>\n    </tr>\n    <tr>\n      <th>5</th>\n      <td>6</td>\n      <td>Faheem</td>\n      <td>41</td>\n      <td>GR</td>\n      <td>fs25@gmail.com</td>\n      <td>LKO;BAN;NO;DL</td>\n    </tr>\n    <tr>\n      <th>9</th>\n      <td>10</td>\n      <td>Deek</td>\n      <td>40</td>\n      <td>NJ</td>\n      <td>dg08@gmail.com</td>\n      <td>NO;CNB</td>\n    </tr>\n    <tr>\n      <th>11</th>\n      <td>12</td>\n      <td>Roops</td>\n      <td>41</td>\n      <td>SY</td>\n      <td>rr27@gmail.com</td>\n      <td>LKO;CNB;NO</td>\n    </tr>\n    <tr>\n      <th>13</th>\n      <td>14</td>\n      <td>Sean</td>\n      <td>33</td>\n      <td>SY</td>\n      <td>sk10@gmail.com</td>\n      <td>NaN</td>\n    </tr>\n    <tr>\n      <th>14</th>\n      <td>15</td>\n      <td>Andrew</td>\n      <td>33</td>\n      <td>SY</td>\n      <td>ap21@gmail.com</td>\n      <td>NaN</td>\n    </tr>\n    <tr>\n      <th>15</th>\n      <td>16</td>\n      <td>Ishanvi</td>\n      <td>10</td>\n      <td>SY</td>\n      <td>ik09@gmail.com</td>\n      <td>NO</td>\n    </tr>\n    <tr>\n      <th>16</th>\n      <td>17</td>\n      <td>Arjun</td>\n      <td>5</td>\n      <td>SY</td>\n      <td>ak20@gmail.com</td>\n      <td>NaN</td>\n    </tr>\n    <tr>\n      <th>18</th>\n      <td>19</td>\n      <td>Shivani</td>\n      <td>41</td>\n      <td>SY</td>\n      <td>ss00@gmail.com</td>\n      <td>LKO;NO</td>\n    </tr>\n  </tbody>\n</table>\n</div>"
     },
     "metadata": {},
     "output_type": "execute_result",
     "execution_count": 12
    }
   ],
   "source": [
    "df.loc[~filter3] # ~ results in the opposite of the filter"
   ]
  },
  {
   "cell_type": "code",
   "execution_count": 13,
   "metadata": {
    "pycharm": {
     "is_executing": false
    }
   },
   "outputs": [
    {
     "data": {
      "text/plain": "    S.No.      Name  Age City           Email  CitiesLivedInPast\n0       1  Abhishek   41   SY  ak13@gmail.com          LKO;GR;NO\n2       3   Saurabh   42   SY  sk29@gmail.com     LKO;CHN;CAL;NO\n3       4     Sando   44   NO  sd18@gmail.com  LKO;CHN;CAL;NO;GR\n6       7    Anurag   42   NO  ak04@gmail.com      LKO;BUB;GR;NO\n8       9     Anand   42   DB  ak05@gmail.com                HYD\n10     11    Hitesh   40   DB  hp12@gmail.com                NaN\n11     12     Roops   41   SY  rr27@gmail.com         LKO;CNB;NO\n12     13      Rash   41   DB  rp05@gmail.com                NaN\n13     14      Sean   33   SY  sk10@gmail.com                NaN\n14     15    Andrew   33   SY  ap21@gmail.com                NaN\n15     16   Ishanvi   10   SY  ik09@gmail.com                 NO\n16     17     Arjun    5   SY  ak20@gmail.com                NaN\n17     18   GrandPa   78   SY  gp00@gmail.com                NaN\n18     19   Shivani   41   SY  ss00@gmail.com             LKO;NO",
      "text/html": "<div>\n<style scoped>\n    .dataframe tbody tr th:only-of-type {\n        vertical-align: middle;\n    }\n\n    .dataframe tbody tr th {\n        vertical-align: top;\n    }\n\n    .dataframe thead th {\n        text-align: right;\n    }\n</style>\n<table border=\"1\" class=\"dataframe\">\n  <thead>\n    <tr style=\"text-align: right;\">\n      <th></th>\n      <th>S.No.</th>\n      <th>Name</th>\n      <th>Age</th>\n      <th>City</th>\n      <th>Email</th>\n      <th>CitiesLivedInPast</th>\n    </tr>\n  </thead>\n  <tbody>\n    <tr>\n      <th>0</th>\n      <td>1</td>\n      <td>Abhishek</td>\n      <td>41</td>\n      <td>SY</td>\n      <td>ak13@gmail.com</td>\n      <td>LKO;GR;NO</td>\n    </tr>\n    <tr>\n      <th>2</th>\n      <td>3</td>\n      <td>Saurabh</td>\n      <td>42</td>\n      <td>SY</td>\n      <td>sk29@gmail.com</td>\n      <td>LKO;CHN;CAL;NO</td>\n    </tr>\n    <tr>\n      <th>3</th>\n      <td>4</td>\n      <td>Sando</td>\n      <td>44</td>\n      <td>NO</td>\n      <td>sd18@gmail.com</td>\n      <td>LKO;CHN;CAL;NO;GR</td>\n    </tr>\n    <tr>\n      <th>6</th>\n      <td>7</td>\n      <td>Anurag</td>\n      <td>42</td>\n      <td>NO</td>\n      <td>ak04@gmail.com</td>\n      <td>LKO;BUB;GR;NO</td>\n    </tr>\n    <tr>\n      <th>8</th>\n      <td>9</td>\n      <td>Anand</td>\n      <td>42</td>\n      <td>DB</td>\n      <td>ak05@gmail.com</td>\n      <td>HYD</td>\n    </tr>\n    <tr>\n      <th>10</th>\n      <td>11</td>\n      <td>Hitesh</td>\n      <td>40</td>\n      <td>DB</td>\n      <td>hp12@gmail.com</td>\n      <td>NaN</td>\n    </tr>\n    <tr>\n      <th>11</th>\n      <td>12</td>\n      <td>Roops</td>\n      <td>41</td>\n      <td>SY</td>\n      <td>rr27@gmail.com</td>\n      <td>LKO;CNB;NO</td>\n    </tr>\n    <tr>\n      <th>12</th>\n      <td>13</td>\n      <td>Rash</td>\n      <td>41</td>\n      <td>DB</td>\n      <td>rp05@gmail.com</td>\n      <td>NaN</td>\n    </tr>\n    <tr>\n      <th>13</th>\n      <td>14</td>\n      <td>Sean</td>\n      <td>33</td>\n      <td>SY</td>\n      <td>sk10@gmail.com</td>\n      <td>NaN</td>\n    </tr>\n    <tr>\n      <th>14</th>\n      <td>15</td>\n      <td>Andrew</td>\n      <td>33</td>\n      <td>SY</td>\n      <td>ap21@gmail.com</td>\n      <td>NaN</td>\n    </tr>\n    <tr>\n      <th>15</th>\n      <td>16</td>\n      <td>Ishanvi</td>\n      <td>10</td>\n      <td>SY</td>\n      <td>ik09@gmail.com</td>\n      <td>NO</td>\n    </tr>\n    <tr>\n      <th>16</th>\n      <td>17</td>\n      <td>Arjun</td>\n      <td>5</td>\n      <td>SY</td>\n      <td>ak20@gmail.com</td>\n      <td>NaN</td>\n    </tr>\n    <tr>\n      <th>17</th>\n      <td>18</td>\n      <td>GrandPa</td>\n      <td>78</td>\n      <td>SY</td>\n      <td>gp00@gmail.com</td>\n      <td>NaN</td>\n    </tr>\n    <tr>\n      <th>18</th>\n      <td>19</td>\n      <td>Shivani</td>\n      <td>41</td>\n      <td>SY</td>\n      <td>ss00@gmail.com</td>\n      <td>LKO;NO</td>\n    </tr>\n  </tbody>\n</table>\n</div>"
     },
     "metadata": {},
     "output_type": "execute_result",
     "execution_count": 13
    }
   ],
   "source": [
    "cities = ['SY','DB','NO']\n",
    "filter4 = (df['City'].isin(cities)) # Create filter using isin which is equivalent to IN clause of SQL\n",
    "df.loc[filter4]"
   ]
  },
  {
   "cell_type": "code",
   "execution_count": 14,
   "metadata": {
    "pycharm": {
     "is_executing": false
    }
   },
   "outputs": [
    {
     "data": {
      "text/plain": "    S.No.       Name  Age City           Email  CitiesLivedInPast\n0       1   Abhishek   41   SY  ak13@gmail.com          LKO;GR;NO\n1       2  Abhishek1   41   AT   ak1@gmail.com            LKO;CHN\n2       3    Saurabh   42   SY  sk29@gmail.com     LKO;CHN;CAL;NO\n3       4      Sando   44   NO  sd18@gmail.com  LKO;CHN;CAL;NO;GR\n4       5     Ashish   42   DL  as12@gmail.com                LKO\n5       6     Faheem   41   GR  fs25@gmail.com      LKO;BAN;NO;DL\n6       7     Anurag   42   NO  ak04@gmail.com      LKO;BUB;GR;NO\n7       8    Pradeep   42   PN  pg16@gmail.com      LKO;CHN;GR;PN\n11     12      Roops   41   SY  rr27@gmail.com         LKO;CNB;NO\n18     19    Shivani   41   SY  ss00@gmail.com             LKO;NO",
      "text/html": "<div>\n<style scoped>\n    .dataframe tbody tr th:only-of-type {\n        vertical-align: middle;\n    }\n\n    .dataframe tbody tr th {\n        vertical-align: top;\n    }\n\n    .dataframe thead th {\n        text-align: right;\n    }\n</style>\n<table border=\"1\" class=\"dataframe\">\n  <thead>\n    <tr style=\"text-align: right;\">\n      <th></th>\n      <th>S.No.</th>\n      <th>Name</th>\n      <th>Age</th>\n      <th>City</th>\n      <th>Email</th>\n      <th>CitiesLivedInPast</th>\n    </tr>\n  </thead>\n  <tbody>\n    <tr>\n      <th>0</th>\n      <td>1</td>\n      <td>Abhishek</td>\n      <td>41</td>\n      <td>SY</td>\n      <td>ak13@gmail.com</td>\n      <td>LKO;GR;NO</td>\n    </tr>\n    <tr>\n      <th>1</th>\n      <td>2</td>\n      <td>Abhishek1</td>\n      <td>41</td>\n      <td>AT</td>\n      <td>ak1@gmail.com</td>\n      <td>LKO;CHN</td>\n    </tr>\n    <tr>\n      <th>2</th>\n      <td>3</td>\n      <td>Saurabh</td>\n      <td>42</td>\n      <td>SY</td>\n      <td>sk29@gmail.com</td>\n      <td>LKO;CHN;CAL;NO</td>\n    </tr>\n    <tr>\n      <th>3</th>\n      <td>4</td>\n      <td>Sando</td>\n      <td>44</td>\n      <td>NO</td>\n      <td>sd18@gmail.com</td>\n      <td>LKO;CHN;CAL;NO;GR</td>\n    </tr>\n    <tr>\n      <th>4</th>\n      <td>5</td>\n      <td>Ashish</td>\n      <td>42</td>\n      <td>DL</td>\n      <td>as12@gmail.com</td>\n      <td>LKO</td>\n    </tr>\n    <tr>\n      <th>5</th>\n      <td>6</td>\n      <td>Faheem</td>\n      <td>41</td>\n      <td>GR</td>\n      <td>fs25@gmail.com</td>\n      <td>LKO;BAN;NO;DL</td>\n    </tr>\n    <tr>\n      <th>6</th>\n      <td>7</td>\n      <td>Anurag</td>\n      <td>42</td>\n      <td>NO</td>\n      <td>ak04@gmail.com</td>\n      <td>LKO;BUB;GR;NO</td>\n    </tr>\n    <tr>\n      <th>7</th>\n      <td>8</td>\n      <td>Pradeep</td>\n      <td>42</td>\n      <td>PN</td>\n      <td>pg16@gmail.com</td>\n      <td>LKO;CHN;GR;PN</td>\n    </tr>\n    <tr>\n      <th>11</th>\n      <td>12</td>\n      <td>Roops</td>\n      <td>41</td>\n      <td>SY</td>\n      <td>rr27@gmail.com</td>\n      <td>LKO;CNB;NO</td>\n    </tr>\n    <tr>\n      <th>18</th>\n      <td>19</td>\n      <td>Shivani</td>\n      <td>41</td>\n      <td>SY</td>\n      <td>ss00@gmail.com</td>\n      <td>LKO;NO</td>\n    </tr>\n  </tbody>\n</table>\n</div>"
     },
     "metadata": {},
     "output_type": "execute_result",
     "execution_count": 14
    }
   ],
   "source": [
    "citiesInPastFilter = df['CitiesLivedInPast'].str.contains('LKO', na= False)\n",
    "df.loc[citiesInPastFilter]"
   ]
  },
  {
   "cell_type": "code",
   "execution_count": 15,
   "metadata": {
    "pycharm": {
     "is_executing": false
    }
   },
   "outputs": [
    {
     "data": {
      "text/plain": "    S.No.       Name  Age City           Email  CitiesLivedInPast\n0       1   Abhishek   41   SY  ak13@gmail.com          LKO;GR;NO\n1       2  Abhishek1   41   AT   ak1@gmail.com            LKO;CHN\n2       3    Saurabh   42   SY  sk29@gmail.com     LKO;CHN;CAL;NO\n3       4      Sando   44   NO  sd18@gmail.com  LKO;CHN;CAL;NO;GR\n4       5     Ashish   42   DL  as12@gmail.com                LKO\n5       6     Faheem   41   GR  fs25@gmail.com      LKO;BAN;NO;DL\n6       7     Anurag   42   NO  ak04@gmail.com      LKO;BUB;GR;NO\n7       8    Pradeep   42   PN  pg16@gmail.com      LKO;CHN;GR;PN\n10     11     Hitesh   40   DB  hp12@gmail.com                NaN\n11     12      Roops   41   SY  rr27@gmail.com         LKO;CNB;NO\n12     13       Rash   41   DB  rp05@gmail.com                NaN\n13     14       Sean   33   SY  sk10@gmail.com                NaN\n14     15     Andrew   33   SY  ap21@gmail.com                NaN\n16     17      Arjun    5   SY  ak20@gmail.com                NaN\n17     18    GrandPa   78   SY  gp00@gmail.com                NaN\n18     19    Shivani   41   SY  ss00@gmail.com             LKO;NO",
      "text/html": "<div>\n<style scoped>\n    .dataframe tbody tr th:only-of-type {\n        vertical-align: middle;\n    }\n\n    .dataframe tbody tr th {\n        vertical-align: top;\n    }\n\n    .dataframe thead th {\n        text-align: right;\n    }\n</style>\n<table border=\"1\" class=\"dataframe\">\n  <thead>\n    <tr style=\"text-align: right;\">\n      <th></th>\n      <th>S.No.</th>\n      <th>Name</th>\n      <th>Age</th>\n      <th>City</th>\n      <th>Email</th>\n      <th>CitiesLivedInPast</th>\n    </tr>\n  </thead>\n  <tbody>\n    <tr>\n      <th>0</th>\n      <td>1</td>\n      <td>Abhishek</td>\n      <td>41</td>\n      <td>SY</td>\n      <td>ak13@gmail.com</td>\n      <td>LKO;GR;NO</td>\n    </tr>\n    <tr>\n      <th>1</th>\n      <td>2</td>\n      <td>Abhishek1</td>\n      <td>41</td>\n      <td>AT</td>\n      <td>ak1@gmail.com</td>\n      <td>LKO;CHN</td>\n    </tr>\n    <tr>\n      <th>2</th>\n      <td>3</td>\n      <td>Saurabh</td>\n      <td>42</td>\n      <td>SY</td>\n      <td>sk29@gmail.com</td>\n      <td>LKO;CHN;CAL;NO</td>\n    </tr>\n    <tr>\n      <th>3</th>\n      <td>4</td>\n      <td>Sando</td>\n      <td>44</td>\n      <td>NO</td>\n      <td>sd18@gmail.com</td>\n      <td>LKO;CHN;CAL;NO;GR</td>\n    </tr>\n    <tr>\n      <th>4</th>\n      <td>5</td>\n      <td>Ashish</td>\n      <td>42</td>\n      <td>DL</td>\n      <td>as12@gmail.com</td>\n      <td>LKO</td>\n    </tr>\n    <tr>\n      <th>5</th>\n      <td>6</td>\n      <td>Faheem</td>\n      <td>41</td>\n      <td>GR</td>\n      <td>fs25@gmail.com</td>\n      <td>LKO;BAN;NO;DL</td>\n    </tr>\n    <tr>\n      <th>6</th>\n      <td>7</td>\n      <td>Anurag</td>\n      <td>42</td>\n      <td>NO</td>\n      <td>ak04@gmail.com</td>\n      <td>LKO;BUB;GR;NO</td>\n    </tr>\n    <tr>\n      <th>7</th>\n      <td>8</td>\n      <td>Pradeep</td>\n      <td>42</td>\n      <td>PN</td>\n      <td>pg16@gmail.com</td>\n      <td>LKO;CHN;GR;PN</td>\n    </tr>\n    <tr>\n      <th>10</th>\n      <td>11</td>\n      <td>Hitesh</td>\n      <td>40</td>\n      <td>DB</td>\n      <td>hp12@gmail.com</td>\n      <td>NaN</td>\n    </tr>\n    <tr>\n      <th>11</th>\n      <td>12</td>\n      <td>Roops</td>\n      <td>41</td>\n      <td>SY</td>\n      <td>rr27@gmail.com</td>\n      <td>LKO;CNB;NO</td>\n    </tr>\n    <tr>\n      <th>12</th>\n      <td>13</td>\n      <td>Rash</td>\n      <td>41</td>\n      <td>DB</td>\n      <td>rp05@gmail.com</td>\n      <td>NaN</td>\n    </tr>\n    <tr>\n      <th>13</th>\n      <td>14</td>\n      <td>Sean</td>\n      <td>33</td>\n      <td>SY</td>\n      <td>sk10@gmail.com</td>\n      <td>NaN</td>\n    </tr>\n    <tr>\n      <th>14</th>\n      <td>15</td>\n      <td>Andrew</td>\n      <td>33</td>\n      <td>SY</td>\n      <td>ap21@gmail.com</td>\n      <td>NaN</td>\n    </tr>\n    <tr>\n      <th>16</th>\n      <td>17</td>\n      <td>Arjun</td>\n      <td>5</td>\n      <td>SY</td>\n      <td>ak20@gmail.com</td>\n      <td>NaN</td>\n    </tr>\n    <tr>\n      <th>17</th>\n      <td>18</td>\n      <td>GrandPa</td>\n      <td>78</td>\n      <td>SY</td>\n      <td>gp00@gmail.com</td>\n      <td>NaN</td>\n    </tr>\n    <tr>\n      <th>18</th>\n      <td>19</td>\n      <td>Shivani</td>\n      <td>41</td>\n      <td>SY</td>\n      <td>ss00@gmail.com</td>\n      <td>LKO;NO</td>\n    </tr>\n  </tbody>\n</table>\n</div>"
     },
     "metadata": {},
     "output_type": "execute_result",
     "execution_count": 15
    }
   ],
   "source": [
    "citiesInPastFilter = df['CitiesLivedInPast'].str.contains('LKO', na= True) # na is for NaN values\n",
    "df.loc[citiesInPastFilter]"
   ]
  },
  {
   "cell_type": "code",
   "execution_count": 15,
   "metadata": {
    "pycharm": {
     "is_executing": false
    }
   },
   "outputs": [],
   "source": []
  }
 ],
 "metadata": {
  "kernelspec": {
   "display_name": "Python 3",
   "language": "python",
   "name": "python3"
  },
  "language_info": {
   "codemirror_mode": {
    "name": "ipython",
    "version": 3
   },
   "file_extension": ".py",
   "mimetype": "text/x-python",
   "name": "python",
   "nbconvert_exporter": "python",
   "pygments_lexer": "ipython3",
   "version": "3.7.3"
  },
  "pycharm": {
   "stem_cell": {
    "cell_type": "raw",
    "source": [],
    "metadata": {
     "collapsed": false
    }
   }
  }
 },
 "nbformat": 4,
 "nbformat_minor": 4
}