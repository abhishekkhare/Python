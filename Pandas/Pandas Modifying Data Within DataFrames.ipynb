{
 "cells": [
  {
   "cell_type": "code",
   "execution_count": 1,
   "metadata": {},
   "outputs": [],
   "source": [
    "import pandas as pd\n",
    "pd.options.display.max_rows = 100\n",
    "pd.options.display.max_columns = 100"
   ]
  },
  {
   "cell_type": "code",
   "execution_count": 2,
   "metadata": {},
   "outputs": [
    {
     "data": {
      "text/plain": "    S.No.       Name  Age City           Email  CitiesLivedInPast\n0       1   Abhishek   41   SY  ak13@gmail.com          LKO;GR;NO\n1       2  Abhishek1   41   AT   ak1@gmail.com            LKO;CHN\n2       3    Saurabh   42   SY  sk29@gmail.com     LKO;CHN;CAL;NO\n3       4      Sando   44   NO  sd18@gmail.com  LKO;CHN;CAL;NO;GR\n4       5     Ashish   42   DL  as12@gmail.com                LKO\n5       6     Faheem   41   GR  fs25@gmail.com      LKO;BAN;NO;DL\n6       7     Anurag   42   NO  ak04@gmail.com      LKO;BUB;GR;NO\n7       8    Pradeep   42   PN  pg16@gmail.com      LKO;CHN;GR;PN\n8       9      Anand   42   DB  ak05@gmail.com                HYD\n9      10       Deek   40   NJ  dg08@gmail.com             NO;CNB\n10     11     Hitesh   40   DB  hp12@gmail.com                NaN\n11     12      Roops   41   SY  rr27@gmail.com         LKO;CNB;NO\n12     13       Rash   41   DB  rp05@gmail.com                NaN\n13     14       Sean   33   SY  sk10@gmail.com                NaN\n14     15     Andrew   33   SY  ap21@gmail.com                NaN\n15     16    Ishanvi   10   SY  ik09@gmail.com                 NO\n16     17      Arjun    5   SY  ak20@gmail.com                NaN\n17     18    GrandPa   78   SY  gp00@gmail.com                NaN\n18     19    Shivani   41   SY  ss00@gmail.com             LKO;NO",
      "text/html": "<div>\n<style scoped>\n    .dataframe tbody tr th:only-of-type {\n        vertical-align: middle;\n    }\n\n    .dataframe tbody tr th {\n        vertical-align: top;\n    }\n\n    .dataframe thead th {\n        text-align: right;\n    }\n</style>\n<table border=\"1\" class=\"dataframe\">\n  <thead>\n    <tr style=\"text-align: right;\">\n      <th></th>\n      <th>S.No.</th>\n      <th>Name</th>\n      <th>Age</th>\n      <th>City</th>\n      <th>Email</th>\n      <th>CitiesLivedInPast</th>\n    </tr>\n  </thead>\n  <tbody>\n    <tr>\n      <th>0</th>\n      <td>1</td>\n      <td>Abhishek</td>\n      <td>41</td>\n      <td>SY</td>\n      <td>ak13@gmail.com</td>\n      <td>LKO;GR;NO</td>\n    </tr>\n    <tr>\n      <th>1</th>\n      <td>2</td>\n      <td>Abhishek1</td>\n      <td>41</td>\n      <td>AT</td>\n      <td>ak1@gmail.com</td>\n      <td>LKO;CHN</td>\n    </tr>\n    <tr>\n      <th>2</th>\n      <td>3</td>\n      <td>Saurabh</td>\n      <td>42</td>\n      <td>SY</td>\n      <td>sk29@gmail.com</td>\n      <td>LKO;CHN;CAL;NO</td>\n    </tr>\n    <tr>\n      <th>3</th>\n      <td>4</td>\n      <td>Sando</td>\n      <td>44</td>\n      <td>NO</td>\n      <td>sd18@gmail.com</td>\n      <td>LKO;CHN;CAL;NO;GR</td>\n    </tr>\n    <tr>\n      <th>4</th>\n      <td>5</td>\n      <td>Ashish</td>\n      <td>42</td>\n      <td>DL</td>\n      <td>as12@gmail.com</td>\n      <td>LKO</td>\n    </tr>\n    <tr>\n      <th>5</th>\n      <td>6</td>\n      <td>Faheem</td>\n      <td>41</td>\n      <td>GR</td>\n      <td>fs25@gmail.com</td>\n      <td>LKO;BAN;NO;DL</td>\n    </tr>\n    <tr>\n      <th>6</th>\n      <td>7</td>\n      <td>Anurag</td>\n      <td>42</td>\n      <td>NO</td>\n      <td>ak04@gmail.com</td>\n      <td>LKO;BUB;GR;NO</td>\n    </tr>\n    <tr>\n      <th>7</th>\n      <td>8</td>\n      <td>Pradeep</td>\n      <td>42</td>\n      <td>PN</td>\n      <td>pg16@gmail.com</td>\n      <td>LKO;CHN;GR;PN</td>\n    </tr>\n    <tr>\n      <th>8</th>\n      <td>9</td>\n      <td>Anand</td>\n      <td>42</td>\n      <td>DB</td>\n      <td>ak05@gmail.com</td>\n      <td>HYD</td>\n    </tr>\n    <tr>\n      <th>9</th>\n      <td>10</td>\n      <td>Deek</td>\n      <td>40</td>\n      <td>NJ</td>\n      <td>dg08@gmail.com</td>\n      <td>NO;CNB</td>\n    </tr>\n    <tr>\n      <th>10</th>\n      <td>11</td>\n      <td>Hitesh</td>\n      <td>40</td>\n      <td>DB</td>\n      <td>hp12@gmail.com</td>\n      <td>NaN</td>\n    </tr>\n    <tr>\n      <th>11</th>\n      <td>12</td>\n      <td>Roops</td>\n      <td>41</td>\n      <td>SY</td>\n      <td>rr27@gmail.com</td>\n      <td>LKO;CNB;NO</td>\n    </tr>\n    <tr>\n      <th>12</th>\n      <td>13</td>\n      <td>Rash</td>\n      <td>41</td>\n      <td>DB</td>\n      <td>rp05@gmail.com</td>\n      <td>NaN</td>\n    </tr>\n    <tr>\n      <th>13</th>\n      <td>14</td>\n      <td>Sean</td>\n      <td>33</td>\n      <td>SY</td>\n      <td>sk10@gmail.com</td>\n      <td>NaN</td>\n    </tr>\n    <tr>\n      <th>14</th>\n      <td>15</td>\n      <td>Andrew</td>\n      <td>33</td>\n      <td>SY</td>\n      <td>ap21@gmail.com</td>\n      <td>NaN</td>\n    </tr>\n    <tr>\n      <th>15</th>\n      <td>16</td>\n      <td>Ishanvi</td>\n      <td>10</td>\n      <td>SY</td>\n      <td>ik09@gmail.com</td>\n      <td>NO</td>\n    </tr>\n    <tr>\n      <th>16</th>\n      <td>17</td>\n      <td>Arjun</td>\n      <td>5</td>\n      <td>SY</td>\n      <td>ak20@gmail.com</td>\n      <td>NaN</td>\n    </tr>\n    <tr>\n      <th>17</th>\n      <td>18</td>\n      <td>GrandPa</td>\n      <td>78</td>\n      <td>SY</td>\n      <td>gp00@gmail.com</td>\n      <td>NaN</td>\n    </tr>\n    <tr>\n      <th>18</th>\n      <td>19</td>\n      <td>Shivani</td>\n      <td>41</td>\n      <td>SY</td>\n      <td>ss00@gmail.com</td>\n      <td>LKO;NO</td>\n    </tr>\n  </tbody>\n</table>\n</div>"
     },
     "execution_count": 2,
     "metadata": {},
     "output_type": "execute_result"
    }
   ],
   "source": [
    "# Read a CSV file into a dataframe\n",
    "df = pd.read_csv('data/friends.csv')\n",
    "df"
   ]
  },
  {
   "cell_type": "markdown",
   "metadata": {},
   "source": [
    "## Update Columns"
   ]
  },
  {
   "cell_type": "code",
   "execution_count": 3,
   "metadata": {},
   "outputs": [
    {
     "data": {
      "text/plain": "Index(['S.No.', 'Name', 'Age', 'City', 'Email', 'CitiesLivedInPast'], dtype='object')"
     },
     "execution_count": 3,
     "metadata": {},
     "output_type": "execute_result"
    }
   ],
   "source": [
    "df.columns"
   ]
  },
  {
   "cell_type": "code",
   "execution_count": 4,
   "metadata": {},
   "outputs": [],
   "source": [
    "df.columns = ['S.No.', 'Name', 'Age', 'Current City', 'Email Address', 'CitiesLivedInPast']"
   ]
  },
  {
   "cell_type": "code",
   "execution_count": 5,
   "metadata": {},
   "outputs": [
    {
     "data": {
      "text/plain": "Index(['S.No.', 'Name', 'Age', 'Current City', 'Email Address',\n       'CitiesLivedInPast'],\n      dtype='object')"
     },
     "execution_count": 5,
     "metadata": {},
     "output_type": "execute_result"
    }
   ],
   "source": [
    "df.columns"
   ]
  },
  {
   "cell_type": "code",
   "execution_count": 6,
   "metadata": {},
   "outputs": [
    {
     "data": {
      "text/plain": "Index(['S.NO.', 'NAME', 'AGE', 'CURRENT CITY', 'EMAIL ADDRESS',\n       'CITIESLIVEDINPAST'],\n      dtype='object')"
     },
     "execution_count": 6,
     "metadata": {},
     "output_type": "execute_result"
    }
   ],
   "source": [
    "df.columns = [x.upper() for x in df.columns]\n",
    "df.columns"
   ]
  },
  {
   "cell_type": "code",
   "execution_count": 7,
   "metadata": {},
   "outputs": [
    {
     "data": {
      "text/plain": "Index(['S.NO.', 'NAME', 'AGE', 'CURRENT_CITY', 'EMAIL_ADDRESS',\n       'CITIESLIVEDINPAST'],\n      dtype='object')"
     },
     "execution_count": 7,
     "metadata": {},
     "output_type": "execute_result"
    }
   ],
   "source": [
    "df.columns = df.columns.str.replace(' ', '_')\n",
    "df.columns"
   ]
  },
  {
   "cell_type": "code",
   "execution_count": 8,
   "metadata": {},
   "outputs": [
    {
     "data": {
      "text/plain": "Index(['s.no.', 'name', 'age', 'current_city', 'email_address',\n       'citieslivedinpast'],\n      dtype='object')"
     },
     "execution_count": 8,
     "metadata": {},
     "output_type": "execute_result"
    }
   ],
   "source": [
    "df.columns = [x.lower() for x in df.columns]\n",
    "df.columns"
   ]
  },
  {
   "cell_type": "code",
   "execution_count": 9,
   "metadata": {},
   "outputs": [
    {
     "data": {
      "text/plain": "    s.no.       name  age city           email  citieslivedinpast\n0       1   Abhishek   41   SY  ak13@gmail.com          LKO;GR;NO\n1       2  Abhishek1   41   AT   ak1@gmail.com            LKO;CHN\n2       3    Saurabh   42   SY  sk29@gmail.com     LKO;CHN;CAL;NO\n3       4      Sando   44   NO  sd18@gmail.com  LKO;CHN;CAL;NO;GR\n4       5     Ashish   42   DL  as12@gmail.com                LKO\n5       6     Faheem   41   GR  fs25@gmail.com      LKO;BAN;NO;DL\n6       7     Anurag   42   NO  ak04@gmail.com      LKO;BUB;GR;NO\n7       8    Pradeep   42   PN  pg16@gmail.com      LKO;CHN;GR;PN\n8       9      Anand   42   DB  ak05@gmail.com                HYD\n9      10       Deek   40   NJ  dg08@gmail.com             NO;CNB\n10     11     Hitesh   40   DB  hp12@gmail.com                NaN\n11     12      Roops   41   SY  rr27@gmail.com         LKO;CNB;NO\n12     13       Rash   41   DB  rp05@gmail.com                NaN\n13     14       Sean   33   SY  sk10@gmail.com                NaN\n14     15     Andrew   33   SY  ap21@gmail.com                NaN\n15     16    Ishanvi   10   SY  ik09@gmail.com                 NO\n16     17      Arjun    5   SY  ak20@gmail.com                NaN\n17     18    GrandPa   78   SY  gp00@gmail.com                NaN\n18     19    Shivani   41   SY  ss00@gmail.com             LKO;NO",
      "text/html": "<div>\n<style scoped>\n    .dataframe tbody tr th:only-of-type {\n        vertical-align: middle;\n    }\n\n    .dataframe tbody tr th {\n        vertical-align: top;\n    }\n\n    .dataframe thead th {\n        text-align: right;\n    }\n</style>\n<table border=\"1\" class=\"dataframe\">\n  <thead>\n    <tr style=\"text-align: right;\">\n      <th></th>\n      <th>s.no.</th>\n      <th>name</th>\n      <th>age</th>\n      <th>city</th>\n      <th>email</th>\n      <th>citieslivedinpast</th>\n    </tr>\n  </thead>\n  <tbody>\n    <tr>\n      <th>0</th>\n      <td>1</td>\n      <td>Abhishek</td>\n      <td>41</td>\n      <td>SY</td>\n      <td>ak13@gmail.com</td>\n      <td>LKO;GR;NO</td>\n    </tr>\n    <tr>\n      <th>1</th>\n      <td>2</td>\n      <td>Abhishek1</td>\n      <td>41</td>\n      <td>AT</td>\n      <td>ak1@gmail.com</td>\n      <td>LKO;CHN</td>\n    </tr>\n    <tr>\n      <th>2</th>\n      <td>3</td>\n      <td>Saurabh</td>\n      <td>42</td>\n      <td>SY</td>\n      <td>sk29@gmail.com</td>\n      <td>LKO;CHN;CAL;NO</td>\n    </tr>\n    <tr>\n      <th>3</th>\n      <td>4</td>\n      <td>Sando</td>\n      <td>44</td>\n      <td>NO</td>\n      <td>sd18@gmail.com</td>\n      <td>LKO;CHN;CAL;NO;GR</td>\n    </tr>\n    <tr>\n      <th>4</th>\n      <td>5</td>\n      <td>Ashish</td>\n      <td>42</td>\n      <td>DL</td>\n      <td>as12@gmail.com</td>\n      <td>LKO</td>\n    </tr>\n    <tr>\n      <th>5</th>\n      <td>6</td>\n      <td>Faheem</td>\n      <td>41</td>\n      <td>GR</td>\n      <td>fs25@gmail.com</td>\n      <td>LKO;BAN;NO;DL</td>\n    </tr>\n    <tr>\n      <th>6</th>\n      <td>7</td>\n      <td>Anurag</td>\n      <td>42</td>\n      <td>NO</td>\n      <td>ak04@gmail.com</td>\n      <td>LKO;BUB;GR;NO</td>\n    </tr>\n    <tr>\n      <th>7</th>\n      <td>8</td>\n      <td>Pradeep</td>\n      <td>42</td>\n      <td>PN</td>\n      <td>pg16@gmail.com</td>\n      <td>LKO;CHN;GR;PN</td>\n    </tr>\n    <tr>\n      <th>8</th>\n      <td>9</td>\n      <td>Anand</td>\n      <td>42</td>\n      <td>DB</td>\n      <td>ak05@gmail.com</td>\n      <td>HYD</td>\n    </tr>\n    <tr>\n      <th>9</th>\n      <td>10</td>\n      <td>Deek</td>\n      <td>40</td>\n      <td>NJ</td>\n      <td>dg08@gmail.com</td>\n      <td>NO;CNB</td>\n    </tr>\n    <tr>\n      <th>10</th>\n      <td>11</td>\n      <td>Hitesh</td>\n      <td>40</td>\n      <td>DB</td>\n      <td>hp12@gmail.com</td>\n      <td>NaN</td>\n    </tr>\n    <tr>\n      <th>11</th>\n      <td>12</td>\n      <td>Roops</td>\n      <td>41</td>\n      <td>SY</td>\n      <td>rr27@gmail.com</td>\n      <td>LKO;CNB;NO</td>\n    </tr>\n    <tr>\n      <th>12</th>\n      <td>13</td>\n      <td>Rash</td>\n      <td>41</td>\n      <td>DB</td>\n      <td>rp05@gmail.com</td>\n      <td>NaN</td>\n    </tr>\n    <tr>\n      <th>13</th>\n      <td>14</td>\n      <td>Sean</td>\n      <td>33</td>\n      <td>SY</td>\n      <td>sk10@gmail.com</td>\n      <td>NaN</td>\n    </tr>\n    <tr>\n      <th>14</th>\n      <td>15</td>\n      <td>Andrew</td>\n      <td>33</td>\n      <td>SY</td>\n      <td>ap21@gmail.com</td>\n      <td>NaN</td>\n    </tr>\n    <tr>\n      <th>15</th>\n      <td>16</td>\n      <td>Ishanvi</td>\n      <td>10</td>\n      <td>SY</td>\n      <td>ik09@gmail.com</td>\n      <td>NO</td>\n    </tr>\n    <tr>\n      <th>16</th>\n      <td>17</td>\n      <td>Arjun</td>\n      <td>5</td>\n      <td>SY</td>\n      <td>ak20@gmail.com</td>\n      <td>NaN</td>\n    </tr>\n    <tr>\n      <th>17</th>\n      <td>18</td>\n      <td>GrandPa</td>\n      <td>78</td>\n      <td>SY</td>\n      <td>gp00@gmail.com</td>\n      <td>NaN</td>\n    </tr>\n    <tr>\n      <th>18</th>\n      <td>19</td>\n      <td>Shivani</td>\n      <td>41</td>\n      <td>SY</td>\n      <td>ss00@gmail.com</td>\n      <td>LKO;NO</td>\n    </tr>\n  </tbody>\n</table>\n</div>"
     },
     "execution_count": 9,
     "metadata": {},
     "output_type": "execute_result"
    }
   ],
   "source": [
    "df.rename(columns = {'current_city':'city','email_address': 'email'})"
   ]
  },
  {
   "cell_type": "code",
   "execution_count": 10,
   "metadata": {},
   "outputs": [
    {
     "name": "stdout",
     "output_type": "stream",
     "text": [
      "Index(['s.no.', 'name', 'age', 'current_city', 'email_address',\n",
      "       'citieslivedinpast'],\n",
      "      dtype='object')\n"
     ]
    },
    {
     "data": {
      "text/plain": "Index(['s.no.', 'name', 'age', 'city', 'email', 'citieslivedinpast'], dtype='object')"
     },
     "execution_count": 10,
     "metadata": {},
     "output_type": "execute_result"
    }
   ],
   "source": [
    "print(df.columns) # changes did not happen, since rename was missing the inplace attribute\n",
    "df.rename(columns = {'current_city':'city','email_address': 'email'}, inplace = True)\n",
    "df.columns"
   ]
  },
  {
   "cell_type": "markdown",
   "metadata": {},
   "source": [
    "## Update Rows"
   ]
  },
  {
   "cell_type": "code",
   "execution_count": 11,
   "metadata": {},
   "outputs": [
    {
     "data": {
      "text/plain": "    s.no.       name age city           email  citieslivedinpast\n0       1   Abhishek  41   SY  ak13@gmail.com          LKO;GR;NO\n1       2  Abhishek1  41   AT   ak1@gmail.com            LKO;CHN\n2       3    Saurabh  42   SY  sk29@gmail.com     LKO;CHN;CAL;NO\n3       4      Sando  44   NO  sd18@gmail.com  LKO;CHN;CAL;NO;GR\n4       5     Ashish  42   DL  as12@gmail.com                LKO\n5       6     Faheem  41   GR  fs25@gmail.com      LKO;BAN;NO;DL\n6       7     Anurag  42   NO  ak04@gmail.com      LKO;BUB;GR;NO\n7       8    Pradeep  42   PN  pg16@gmail.com      LKO;CHN;GR;PN\n8       9      Anand  42   DB  ak05@gmail.com                HYD\n9      10    Deeksha  40   NJ  dg08@gmail.com         NO;CNB;BLY\n10     11     Hitesh  40   DB  hp12@gmail.com                NaN\n11     12      Roops  41   SY  rr27@gmail.com         LKO;CNB;NO\n12     13       Rash  41   DB  rp05@gmail.com                NaN\n13     14       Sean  33   SY  sk10@gmail.com                NaN\n14     15     Andrew  33   SY  ap21@gmail.com                NaN\n15     16    Ishanvi  10   SY  ik09@gmail.com                 NO\n16     17      Arjun   5   SY  ak20@gmail.com                NaN\n17     18    GrandPa  78   SY  gp00@gmail.com                NaN\n18     19    Shivani  41   SY  ss00@gmail.com             LKO;NO",
      "text/html": "<div>\n<style scoped>\n    .dataframe tbody tr th:only-of-type {\n        vertical-align: middle;\n    }\n\n    .dataframe tbody tr th {\n        vertical-align: top;\n    }\n\n    .dataframe thead th {\n        text-align: right;\n    }\n</style>\n<table border=\"1\" class=\"dataframe\">\n  <thead>\n    <tr style=\"text-align: right;\">\n      <th></th>\n      <th>s.no.</th>\n      <th>name</th>\n      <th>age</th>\n      <th>city</th>\n      <th>email</th>\n      <th>citieslivedinpast</th>\n    </tr>\n  </thead>\n  <tbody>\n    <tr>\n      <th>0</th>\n      <td>1</td>\n      <td>Abhishek</td>\n      <td>41</td>\n      <td>SY</td>\n      <td>ak13@gmail.com</td>\n      <td>LKO;GR;NO</td>\n    </tr>\n    <tr>\n      <th>1</th>\n      <td>2</td>\n      <td>Abhishek1</td>\n      <td>41</td>\n      <td>AT</td>\n      <td>ak1@gmail.com</td>\n      <td>LKO;CHN</td>\n    </tr>\n    <tr>\n      <th>2</th>\n      <td>3</td>\n      <td>Saurabh</td>\n      <td>42</td>\n      <td>SY</td>\n      <td>sk29@gmail.com</td>\n      <td>LKO;CHN;CAL;NO</td>\n    </tr>\n    <tr>\n      <th>3</th>\n      <td>4</td>\n      <td>Sando</td>\n      <td>44</td>\n      <td>NO</td>\n      <td>sd18@gmail.com</td>\n      <td>LKO;CHN;CAL;NO;GR</td>\n    </tr>\n    <tr>\n      <th>4</th>\n      <td>5</td>\n      <td>Ashish</td>\n      <td>42</td>\n      <td>DL</td>\n      <td>as12@gmail.com</td>\n      <td>LKO</td>\n    </tr>\n    <tr>\n      <th>5</th>\n      <td>6</td>\n      <td>Faheem</td>\n      <td>41</td>\n      <td>GR</td>\n      <td>fs25@gmail.com</td>\n      <td>LKO;BAN;NO;DL</td>\n    </tr>\n    <tr>\n      <th>6</th>\n      <td>7</td>\n      <td>Anurag</td>\n      <td>42</td>\n      <td>NO</td>\n      <td>ak04@gmail.com</td>\n      <td>LKO;BUB;GR;NO</td>\n    </tr>\n    <tr>\n      <th>7</th>\n      <td>8</td>\n      <td>Pradeep</td>\n      <td>42</td>\n      <td>PN</td>\n      <td>pg16@gmail.com</td>\n      <td>LKO;CHN;GR;PN</td>\n    </tr>\n    <tr>\n      <th>8</th>\n      <td>9</td>\n      <td>Anand</td>\n      <td>42</td>\n      <td>DB</td>\n      <td>ak05@gmail.com</td>\n      <td>HYD</td>\n    </tr>\n    <tr>\n      <th>9</th>\n      <td>10</td>\n      <td>Deeksha</td>\n      <td>40</td>\n      <td>NJ</td>\n      <td>dg08@gmail.com</td>\n      <td>NO;CNB;BLY</td>\n    </tr>\n    <tr>\n      <th>10</th>\n      <td>11</td>\n      <td>Hitesh</td>\n      <td>40</td>\n      <td>DB</td>\n      <td>hp12@gmail.com</td>\n      <td>NaN</td>\n    </tr>\n    <tr>\n      <th>11</th>\n      <td>12</td>\n      <td>Roops</td>\n      <td>41</td>\n      <td>SY</td>\n      <td>rr27@gmail.com</td>\n      <td>LKO;CNB;NO</td>\n    </tr>\n    <tr>\n      <th>12</th>\n      <td>13</td>\n      <td>Rash</td>\n      <td>41</td>\n      <td>DB</td>\n      <td>rp05@gmail.com</td>\n      <td>NaN</td>\n    </tr>\n    <tr>\n      <th>13</th>\n      <td>14</td>\n      <td>Sean</td>\n      <td>33</td>\n      <td>SY</td>\n      <td>sk10@gmail.com</td>\n      <td>NaN</td>\n    </tr>\n    <tr>\n      <th>14</th>\n      <td>15</td>\n      <td>Andrew</td>\n      <td>33</td>\n      <td>SY</td>\n      <td>ap21@gmail.com</td>\n      <td>NaN</td>\n    </tr>\n    <tr>\n      <th>15</th>\n      <td>16</td>\n      <td>Ishanvi</td>\n      <td>10</td>\n      <td>SY</td>\n      <td>ik09@gmail.com</td>\n      <td>NO</td>\n    </tr>\n    <tr>\n      <th>16</th>\n      <td>17</td>\n      <td>Arjun</td>\n      <td>5</td>\n      <td>SY</td>\n      <td>ak20@gmail.com</td>\n      <td>NaN</td>\n    </tr>\n    <tr>\n      <th>17</th>\n      <td>18</td>\n      <td>GrandPa</td>\n      <td>78</td>\n      <td>SY</td>\n      <td>gp00@gmail.com</td>\n      <td>NaN</td>\n    </tr>\n    <tr>\n      <th>18</th>\n      <td>19</td>\n      <td>Shivani</td>\n      <td>41</td>\n      <td>SY</td>\n      <td>ss00@gmail.com</td>\n      <td>LKO;NO</td>\n    </tr>\n  </tbody>\n</table>\n</div>"
     },
     "execution_count": 11,
     "metadata": {},
     "output_type": "execute_result"
    }
   ],
   "source": [
    "df.loc[9] = [10,'Deeksha','40','NJ','dg08@gmail.com','NO;CNB;BLY']\n",
    "df"
   ]
  },
  {
   "cell_type": "code",
   "execution_count": 12,
   "metadata": {},
   "outputs": [
    {
     "data": {
      "text/plain": "    s.no.       name age city           email  citieslivedinpast\n0       1   Abhishek  41   SY  ak13@gmail.com          LKO;GR;NO\n1       2  Abhishek1  41   AT   ak1@gmail.com            LKO;CHN\n2       3    Saurabh  42   SY  sk29@gmail.com     LKO;CHN;CAL;NO\n3       4      Sando  44   NO  sd18@gmail.com  LKO;CHN;CAL;NO;GR\n4       5     Ashish  42   DL  as12@gmail.com                LKO\n5       6     Faheem  41   GR  fs25@gmail.com      LKO;BAN;NO;DL\n6       7     Anurag  42   NO  ak04@gmail.com      LKO;BUB;GR;NO\n7       8    Pradeep  42   PN  pg16@gmail.com      LKO;CHN;GR;PN\n8       9      Anand  42   DB  ak05@gmail.com                HYD\n9      10    Deeksha  40   NJ  dg08@gmail.com         NO;CNB;BLY\n10     11     Hitesh  40   DB  hp12@gmail.com                NaN\n11     12    Roopali  41   SY  rr27@gmail.com      LKO;CNB;NO;SM\n12     13       Rash  41   DB  rp05@gmail.com                NaN\n13     14       Sean  33   SY  sk10@gmail.com                NaN\n14     15     Andrew  33   SY  ap21@gmail.com                NaN\n15     16    Ishanvi  10   SY  ik09@gmail.com                 NO\n16     17      Arjun   5   SY  ak20@gmail.com                NaN\n17     18    GrandPa  78   SY  gp00@gmail.com                NaN\n18     19    Shivani  41   SY  ss00@gmail.com             LKO;NO",
      "text/html": "<div>\n<style scoped>\n    .dataframe tbody tr th:only-of-type {\n        vertical-align: middle;\n    }\n\n    .dataframe tbody tr th {\n        vertical-align: top;\n    }\n\n    .dataframe thead th {\n        text-align: right;\n    }\n</style>\n<table border=\"1\" class=\"dataframe\">\n  <thead>\n    <tr style=\"text-align: right;\">\n      <th></th>\n      <th>s.no.</th>\n      <th>name</th>\n      <th>age</th>\n      <th>city</th>\n      <th>email</th>\n      <th>citieslivedinpast</th>\n    </tr>\n  </thead>\n  <tbody>\n    <tr>\n      <th>0</th>\n      <td>1</td>\n      <td>Abhishek</td>\n      <td>41</td>\n      <td>SY</td>\n      <td>ak13@gmail.com</td>\n      <td>LKO;GR;NO</td>\n    </tr>\n    <tr>\n      <th>1</th>\n      <td>2</td>\n      <td>Abhishek1</td>\n      <td>41</td>\n      <td>AT</td>\n      <td>ak1@gmail.com</td>\n      <td>LKO;CHN</td>\n    </tr>\n    <tr>\n      <th>2</th>\n      <td>3</td>\n      <td>Saurabh</td>\n      <td>42</td>\n      <td>SY</td>\n      <td>sk29@gmail.com</td>\n      <td>LKO;CHN;CAL;NO</td>\n    </tr>\n    <tr>\n      <th>3</th>\n      <td>4</td>\n      <td>Sando</td>\n      <td>44</td>\n      <td>NO</td>\n      <td>sd18@gmail.com</td>\n      <td>LKO;CHN;CAL;NO;GR</td>\n    </tr>\n    <tr>\n      <th>4</th>\n      <td>5</td>\n      <td>Ashish</td>\n      <td>42</td>\n      <td>DL</td>\n      <td>as12@gmail.com</td>\n      <td>LKO</td>\n    </tr>\n    <tr>\n      <th>5</th>\n      <td>6</td>\n      <td>Faheem</td>\n      <td>41</td>\n      <td>GR</td>\n      <td>fs25@gmail.com</td>\n      <td>LKO;BAN;NO;DL</td>\n    </tr>\n    <tr>\n      <th>6</th>\n      <td>7</td>\n      <td>Anurag</td>\n      <td>42</td>\n      <td>NO</td>\n      <td>ak04@gmail.com</td>\n      <td>LKO;BUB;GR;NO</td>\n    </tr>\n    <tr>\n      <th>7</th>\n      <td>8</td>\n      <td>Pradeep</td>\n      <td>42</td>\n      <td>PN</td>\n      <td>pg16@gmail.com</td>\n      <td>LKO;CHN;GR;PN</td>\n    </tr>\n    <tr>\n      <th>8</th>\n      <td>9</td>\n      <td>Anand</td>\n      <td>42</td>\n      <td>DB</td>\n      <td>ak05@gmail.com</td>\n      <td>HYD</td>\n    </tr>\n    <tr>\n      <th>9</th>\n      <td>10</td>\n      <td>Deeksha</td>\n      <td>40</td>\n      <td>NJ</td>\n      <td>dg08@gmail.com</td>\n      <td>NO;CNB;BLY</td>\n    </tr>\n    <tr>\n      <th>10</th>\n      <td>11</td>\n      <td>Hitesh</td>\n      <td>40</td>\n      <td>DB</td>\n      <td>hp12@gmail.com</td>\n      <td>NaN</td>\n    </tr>\n    <tr>\n      <th>11</th>\n      <td>12</td>\n      <td>Roopali</td>\n      <td>41</td>\n      <td>SY</td>\n      <td>rr27@gmail.com</td>\n      <td>LKO;CNB;NO;SM</td>\n    </tr>\n    <tr>\n      <th>12</th>\n      <td>13</td>\n      <td>Rash</td>\n      <td>41</td>\n      <td>DB</td>\n      <td>rp05@gmail.com</td>\n      <td>NaN</td>\n    </tr>\n    <tr>\n      <th>13</th>\n      <td>14</td>\n      <td>Sean</td>\n      <td>33</td>\n      <td>SY</td>\n      <td>sk10@gmail.com</td>\n      <td>NaN</td>\n    </tr>\n    <tr>\n      <th>14</th>\n      <td>15</td>\n      <td>Andrew</td>\n      <td>33</td>\n      <td>SY</td>\n      <td>ap21@gmail.com</td>\n      <td>NaN</td>\n    </tr>\n    <tr>\n      <th>15</th>\n      <td>16</td>\n      <td>Ishanvi</td>\n      <td>10</td>\n      <td>SY</td>\n      <td>ik09@gmail.com</td>\n      <td>NO</td>\n    </tr>\n    <tr>\n      <th>16</th>\n      <td>17</td>\n      <td>Arjun</td>\n      <td>5</td>\n      <td>SY</td>\n      <td>ak20@gmail.com</td>\n      <td>NaN</td>\n    </tr>\n    <tr>\n      <th>17</th>\n      <td>18</td>\n      <td>GrandPa</td>\n      <td>78</td>\n      <td>SY</td>\n      <td>gp00@gmail.com</td>\n      <td>NaN</td>\n    </tr>\n    <tr>\n      <th>18</th>\n      <td>19</td>\n      <td>Shivani</td>\n      <td>41</td>\n      <td>SY</td>\n      <td>ss00@gmail.com</td>\n      <td>LKO;NO</td>\n    </tr>\n  </tbody>\n</table>\n</div>"
     },
     "execution_count": 12,
     "metadata": {},
     "output_type": "execute_result"
    }
   ],
   "source": [
    "df.loc[11,['name','citieslivedinpast']] = ['Roopali','LKO;CNB;NO;SM']\n",
    "df"
   ]
  },
  {
   "cell_type": "code",
   "execution_count": 13,
   "metadata": {},
   "outputs": [
    {
     "data": {
      "text/plain": "12    Rash\nName: name, dtype: object"
     },
     "execution_count": 13,
     "metadata": {},
     "output_type": "execute_result"
    }
   ],
   "source": [
    "filter1 = (df['email'] == 'rp05@gmail.com')\n",
    "df[filter1]['name']"
   ]
  },
  {
   "cell_type": "code",
   "execution_count": 14,
   "metadata": {},
   "outputs": [
    {
     "name": "stderr",
     "output_type": "stream",
     "text": [
      "/Users/ak670612/python/workspace/venv/lib/python3.7/site-packages/ipykernel_launcher.py:1: SettingWithCopyWarning: \n",
      "A value is trying to be set on a copy of a slice from a DataFrame.\n",
      "Try using .loc[row_indexer,col_indexer] = value instead\n",
      "\n",
      "See the caveats in the documentation: https://pandas.pydata.org/pandas-docs/stable/user_guide/indexing.html#returning-a-view-versus-a-copy\n",
      "  \"\"\"Entry point for launching an IPython kernel.\n"
     ]
    }
   ],
   "source": [
    "df[filter1]['name'] = 'Rashmi'"
   ]
  },
  {
   "cell_type": "code",
   "execution_count": 15,
   "metadata": {
    "scrolled": true
   },
   "outputs": [
    {
     "data": {
      "text/plain": "    s.no.       name age city           email  citieslivedinpast\n0       1   Abhishek  41   SY  ak13@gmail.com          LKO;GR;NO\n1       2  Abhishek1  41   AT   ak1@gmail.com            LKO;CHN\n2       3    Saurabh  42   SY  sk29@gmail.com     LKO;CHN;CAL;NO\n3       4      Sando  44   NO  sd18@gmail.com  LKO;CHN;CAL;NO;GR\n4       5     Ashish  42   DL  as12@gmail.com                LKO\n5       6     Faheem  41   GR  fs25@gmail.com      LKO;BAN;NO;DL\n6       7     Anurag  42   NO  ak04@gmail.com      LKO;BUB;GR;NO\n7       8    Pradeep  42   PN  pg16@gmail.com      LKO;CHN;GR;PN\n8       9      Anand  42   DB  ak05@gmail.com                HYD\n9      10    Deeksha  40   NJ  dg08@gmail.com         NO;CNB;BLY\n10     11     Hitesh  40   DB  hp12@gmail.com                NaN\n11     12    Roopali  41   SY  rr27@gmail.com      LKO;CNB;NO;SM\n12     13     Rashmi  41   DB  rp05@gmail.com                NaN\n13     14       Sean  33   SY  sk10@gmail.com                NaN\n14     15     Andrew  33   SY  ap21@gmail.com                NaN\n15     16    Ishanvi  10   SY  ik09@gmail.com                 NO\n16     17      Arjun   5   SY  ak20@gmail.com                NaN\n17     18    GrandPa  78   SY  gp00@gmail.com                NaN\n18     19    Shivani  41   SY  ss00@gmail.com             LKO;NO",
      "text/html": "<div>\n<style scoped>\n    .dataframe tbody tr th:only-of-type {\n        vertical-align: middle;\n    }\n\n    .dataframe tbody tr th {\n        vertical-align: top;\n    }\n\n    .dataframe thead th {\n        text-align: right;\n    }\n</style>\n<table border=\"1\" class=\"dataframe\">\n  <thead>\n    <tr style=\"text-align: right;\">\n      <th></th>\n      <th>s.no.</th>\n      <th>name</th>\n      <th>age</th>\n      <th>city</th>\n      <th>email</th>\n      <th>citieslivedinpast</th>\n    </tr>\n  </thead>\n  <tbody>\n    <tr>\n      <th>0</th>\n      <td>1</td>\n      <td>Abhishek</td>\n      <td>41</td>\n      <td>SY</td>\n      <td>ak13@gmail.com</td>\n      <td>LKO;GR;NO</td>\n    </tr>\n    <tr>\n      <th>1</th>\n      <td>2</td>\n      <td>Abhishek1</td>\n      <td>41</td>\n      <td>AT</td>\n      <td>ak1@gmail.com</td>\n      <td>LKO;CHN</td>\n    </tr>\n    <tr>\n      <th>2</th>\n      <td>3</td>\n      <td>Saurabh</td>\n      <td>42</td>\n      <td>SY</td>\n      <td>sk29@gmail.com</td>\n      <td>LKO;CHN;CAL;NO</td>\n    </tr>\n    <tr>\n      <th>3</th>\n      <td>4</td>\n      <td>Sando</td>\n      <td>44</td>\n      <td>NO</td>\n      <td>sd18@gmail.com</td>\n      <td>LKO;CHN;CAL;NO;GR</td>\n    </tr>\n    <tr>\n      <th>4</th>\n      <td>5</td>\n      <td>Ashish</td>\n      <td>42</td>\n      <td>DL</td>\n      <td>as12@gmail.com</td>\n      <td>LKO</td>\n    </tr>\n    <tr>\n      <th>5</th>\n      <td>6</td>\n      <td>Faheem</td>\n      <td>41</td>\n      <td>GR</td>\n      <td>fs25@gmail.com</td>\n      <td>LKO;BAN;NO;DL</td>\n    </tr>\n    <tr>\n      <th>6</th>\n      <td>7</td>\n      <td>Anurag</td>\n      <td>42</td>\n      <td>NO</td>\n      <td>ak04@gmail.com</td>\n      <td>LKO;BUB;GR;NO</td>\n    </tr>\n    <tr>\n      <th>7</th>\n      <td>8</td>\n      <td>Pradeep</td>\n      <td>42</td>\n      <td>PN</td>\n      <td>pg16@gmail.com</td>\n      <td>LKO;CHN;GR;PN</td>\n    </tr>\n    <tr>\n      <th>8</th>\n      <td>9</td>\n      <td>Anand</td>\n      <td>42</td>\n      <td>DB</td>\n      <td>ak05@gmail.com</td>\n      <td>HYD</td>\n    </tr>\n    <tr>\n      <th>9</th>\n      <td>10</td>\n      <td>Deeksha</td>\n      <td>40</td>\n      <td>NJ</td>\n      <td>dg08@gmail.com</td>\n      <td>NO;CNB;BLY</td>\n    </tr>\n    <tr>\n      <th>10</th>\n      <td>11</td>\n      <td>Hitesh</td>\n      <td>40</td>\n      <td>DB</td>\n      <td>hp12@gmail.com</td>\n      <td>NaN</td>\n    </tr>\n    <tr>\n      <th>11</th>\n      <td>12</td>\n      <td>Roopali</td>\n      <td>41</td>\n      <td>SY</td>\n      <td>rr27@gmail.com</td>\n      <td>LKO;CNB;NO;SM</td>\n    </tr>\n    <tr>\n      <th>12</th>\n      <td>13</td>\n      <td>Rashmi</td>\n      <td>41</td>\n      <td>DB</td>\n      <td>rp05@gmail.com</td>\n      <td>NaN</td>\n    </tr>\n    <tr>\n      <th>13</th>\n      <td>14</td>\n      <td>Sean</td>\n      <td>33</td>\n      <td>SY</td>\n      <td>sk10@gmail.com</td>\n      <td>NaN</td>\n    </tr>\n    <tr>\n      <th>14</th>\n      <td>15</td>\n      <td>Andrew</td>\n      <td>33</td>\n      <td>SY</td>\n      <td>ap21@gmail.com</td>\n      <td>NaN</td>\n    </tr>\n    <tr>\n      <th>15</th>\n      <td>16</td>\n      <td>Ishanvi</td>\n      <td>10</td>\n      <td>SY</td>\n      <td>ik09@gmail.com</td>\n      <td>NO</td>\n    </tr>\n    <tr>\n      <th>16</th>\n      <td>17</td>\n      <td>Arjun</td>\n      <td>5</td>\n      <td>SY</td>\n      <td>ak20@gmail.com</td>\n      <td>NaN</td>\n    </tr>\n    <tr>\n      <th>17</th>\n      <td>18</td>\n      <td>GrandPa</td>\n      <td>78</td>\n      <td>SY</td>\n      <td>gp00@gmail.com</td>\n      <td>NaN</td>\n    </tr>\n    <tr>\n      <th>18</th>\n      <td>19</td>\n      <td>Shivani</td>\n      <td>41</td>\n      <td>SY</td>\n      <td>ss00@gmail.com</td>\n      <td>LKO;NO</td>\n    </tr>\n  </tbody>\n</table>\n</div>"
     },
     "execution_count": 15,
     "metadata": {},
     "output_type": "execute_result"
    }
   ],
   "source": [
    "df.loc[filter1,'name'] = 'Rashmi'\n",
    "df"
   ]
  },
  {
   "cell_type": "markdown",
   "metadata": {},
   "source": [
    "## Multiple Rows"
   ]
  },
  {
   "cell_type": "code",
   "execution_count": 16,
   "metadata": {},
   "outputs": [
    {
     "data": {
      "text/plain": "0      ABHISHEK\n1     ABHISHEK1\n2       SAURABH\n3         SANDO\n4        ASHISH\n5        FAHEEM\n6        ANURAG\n7       PRADEEP\n8         ANAND\n9       DEEKSHA\n10       HITESH\n11      ROOPALI\n12       RASHMI\n13         SEAN\n14       ANDREW\n15      ISHANVI\n16        ARJUN\n17      GRANDPA\n18      SHIVANI\nName: name, dtype: object"
     },
     "execution_count": 16,
     "metadata": {},
     "output_type": "execute_result"
    }
   ],
   "source": [
    "df['name'].str.upper()"
   ]
  },
  {
   "cell_type": "code",
   "execution_count": 17,
   "metadata": {},
   "outputs": [
    {
     "data": {
      "text/plain": "    s.no.       name age city           email  citieslivedinpast\n0       1   Abhishek  41   SY  ak13@gmail.com          LKO;GR;NO\n1       2  Abhishek1  41   AT   ak1@gmail.com            LKO;CHN\n2       3    Saurabh  42   SY  sk29@gmail.com     LKO;CHN;CAL;NO\n3       4      Sando  44   NO  sd18@gmail.com  LKO;CHN;CAL;NO;GR\n4       5     Ashish  42   DL  as12@gmail.com                LKO\n5       6     Faheem  41   GR  fs25@gmail.com      LKO;BAN;NO;DL\n6       7     Anurag  42   NO  ak04@gmail.com      LKO;BUB;GR;NO\n7       8    Pradeep  42   PN  pg16@gmail.com      LKO;CHN;GR;PN\n8       9      Anand  42   DB  ak05@gmail.com                HYD\n9      10    Deeksha  40   NJ  dg08@gmail.com         NO;CNB;BLY\n10     11     Hitesh  40   DB  hp12@gmail.com                NaN\n11     12    Roopali  41   SY  rr27@gmail.com      LKO;CNB;NO;SM\n12     13     Rashmi  41   DB  rp05@gmail.com                NaN\n13     14       Sean  33   SY  sk10@gmail.com                NaN\n14     15     Andrew  33   SY  ap21@gmail.com                NaN\n15     16    Ishanvi  10   SY  ik09@gmail.com                 NO\n16     17      Arjun   5   SY  ak20@gmail.com                NaN\n17     18    GrandPa  78   SY  gp00@gmail.com                NaN\n18     19    Shivani  41   SY  ss00@gmail.com             LKO;NO",
      "text/html": "<div>\n<style scoped>\n    .dataframe tbody tr th:only-of-type {\n        vertical-align: middle;\n    }\n\n    .dataframe tbody tr th {\n        vertical-align: top;\n    }\n\n    .dataframe thead th {\n        text-align: right;\n    }\n</style>\n<table border=\"1\" class=\"dataframe\">\n  <thead>\n    <tr style=\"text-align: right;\">\n      <th></th>\n      <th>s.no.</th>\n      <th>name</th>\n      <th>age</th>\n      <th>city</th>\n      <th>email</th>\n      <th>citieslivedinpast</th>\n    </tr>\n  </thead>\n  <tbody>\n    <tr>\n      <th>0</th>\n      <td>1</td>\n      <td>Abhishek</td>\n      <td>41</td>\n      <td>SY</td>\n      <td>ak13@gmail.com</td>\n      <td>LKO;GR;NO</td>\n    </tr>\n    <tr>\n      <th>1</th>\n      <td>2</td>\n      <td>Abhishek1</td>\n      <td>41</td>\n      <td>AT</td>\n      <td>ak1@gmail.com</td>\n      <td>LKO;CHN</td>\n    </tr>\n    <tr>\n      <th>2</th>\n      <td>3</td>\n      <td>Saurabh</td>\n      <td>42</td>\n      <td>SY</td>\n      <td>sk29@gmail.com</td>\n      <td>LKO;CHN;CAL;NO</td>\n    </tr>\n    <tr>\n      <th>3</th>\n      <td>4</td>\n      <td>Sando</td>\n      <td>44</td>\n      <td>NO</td>\n      <td>sd18@gmail.com</td>\n      <td>LKO;CHN;CAL;NO;GR</td>\n    </tr>\n    <tr>\n      <th>4</th>\n      <td>5</td>\n      <td>Ashish</td>\n      <td>42</td>\n      <td>DL</td>\n      <td>as12@gmail.com</td>\n      <td>LKO</td>\n    </tr>\n    <tr>\n      <th>5</th>\n      <td>6</td>\n      <td>Faheem</td>\n      <td>41</td>\n      <td>GR</td>\n      <td>fs25@gmail.com</td>\n      <td>LKO;BAN;NO;DL</td>\n    </tr>\n    <tr>\n      <th>6</th>\n      <td>7</td>\n      <td>Anurag</td>\n      <td>42</td>\n      <td>NO</td>\n      <td>ak04@gmail.com</td>\n      <td>LKO;BUB;GR;NO</td>\n    </tr>\n    <tr>\n      <th>7</th>\n      <td>8</td>\n      <td>Pradeep</td>\n      <td>42</td>\n      <td>PN</td>\n      <td>pg16@gmail.com</td>\n      <td>LKO;CHN;GR;PN</td>\n    </tr>\n    <tr>\n      <th>8</th>\n      <td>9</td>\n      <td>Anand</td>\n      <td>42</td>\n      <td>DB</td>\n      <td>ak05@gmail.com</td>\n      <td>HYD</td>\n    </tr>\n    <tr>\n      <th>9</th>\n      <td>10</td>\n      <td>Deeksha</td>\n      <td>40</td>\n      <td>NJ</td>\n      <td>dg08@gmail.com</td>\n      <td>NO;CNB;BLY</td>\n    </tr>\n    <tr>\n      <th>10</th>\n      <td>11</td>\n      <td>Hitesh</td>\n      <td>40</td>\n      <td>DB</td>\n      <td>hp12@gmail.com</td>\n      <td>NaN</td>\n    </tr>\n    <tr>\n      <th>11</th>\n      <td>12</td>\n      <td>Roopali</td>\n      <td>41</td>\n      <td>SY</td>\n      <td>rr27@gmail.com</td>\n      <td>LKO;CNB;NO;SM</td>\n    </tr>\n    <tr>\n      <th>12</th>\n      <td>13</td>\n      <td>Rashmi</td>\n      <td>41</td>\n      <td>DB</td>\n      <td>rp05@gmail.com</td>\n      <td>NaN</td>\n    </tr>\n    <tr>\n      <th>13</th>\n      <td>14</td>\n      <td>Sean</td>\n      <td>33</td>\n      <td>SY</td>\n      <td>sk10@gmail.com</td>\n      <td>NaN</td>\n    </tr>\n    <tr>\n      <th>14</th>\n      <td>15</td>\n      <td>Andrew</td>\n      <td>33</td>\n      <td>SY</td>\n      <td>ap21@gmail.com</td>\n      <td>NaN</td>\n    </tr>\n    <tr>\n      <th>15</th>\n      <td>16</td>\n      <td>Ishanvi</td>\n      <td>10</td>\n      <td>SY</td>\n      <td>ik09@gmail.com</td>\n      <td>NO</td>\n    </tr>\n    <tr>\n      <th>16</th>\n      <td>17</td>\n      <td>Arjun</td>\n      <td>5</td>\n      <td>SY</td>\n      <td>ak20@gmail.com</td>\n      <td>NaN</td>\n    </tr>\n    <tr>\n      <th>17</th>\n      <td>18</td>\n      <td>GrandPa</td>\n      <td>78</td>\n      <td>SY</td>\n      <td>gp00@gmail.com</td>\n      <td>NaN</td>\n    </tr>\n    <tr>\n      <th>18</th>\n      <td>19</td>\n      <td>Shivani</td>\n      <td>41</td>\n      <td>SY</td>\n      <td>ss00@gmail.com</td>\n      <td>LKO;NO</td>\n    </tr>\n  </tbody>\n</table>\n</div>"
     },
     "execution_count": 17,
     "metadata": {},
     "output_type": "execute_result"
    }
   ],
   "source": [
    "df"
   ]
  },
  {
   "cell_type": "code",
   "execution_count": 18,
   "metadata": {},
   "outputs": [],
   "source": [
    "df['name'] = df['name'].str.upper()"
   ]
  },
  {
   "cell_type": "code",
   "execution_count": 19,
   "metadata": {},
   "outputs": [
    {
     "data": {
      "text/plain": "    s.no.       name age city           email  citieslivedinpast\n0       1   ABHISHEK  41   SY  ak13@gmail.com          LKO;GR;NO\n1       2  ABHISHEK1  41   AT   ak1@gmail.com            LKO;CHN\n2       3    SAURABH  42   SY  sk29@gmail.com     LKO;CHN;CAL;NO\n3       4      SANDO  44   NO  sd18@gmail.com  LKO;CHN;CAL;NO;GR\n4       5     ASHISH  42   DL  as12@gmail.com                LKO\n5       6     FAHEEM  41   GR  fs25@gmail.com      LKO;BAN;NO;DL\n6       7     ANURAG  42   NO  ak04@gmail.com      LKO;BUB;GR;NO\n7       8    PRADEEP  42   PN  pg16@gmail.com      LKO;CHN;GR;PN\n8       9      ANAND  42   DB  ak05@gmail.com                HYD\n9      10    DEEKSHA  40   NJ  dg08@gmail.com         NO;CNB;BLY\n10     11     HITESH  40   DB  hp12@gmail.com                NaN\n11     12    ROOPALI  41   SY  rr27@gmail.com      LKO;CNB;NO;SM\n12     13     RASHMI  41   DB  rp05@gmail.com                NaN\n13     14       SEAN  33   SY  sk10@gmail.com                NaN\n14     15     ANDREW  33   SY  ap21@gmail.com                NaN\n15     16    ISHANVI  10   SY  ik09@gmail.com                 NO\n16     17      ARJUN   5   SY  ak20@gmail.com                NaN\n17     18    GRANDPA  78   SY  gp00@gmail.com                NaN\n18     19    SHIVANI  41   SY  ss00@gmail.com             LKO;NO",
      "text/html": "<div>\n<style scoped>\n    .dataframe tbody tr th:only-of-type {\n        vertical-align: middle;\n    }\n\n    .dataframe tbody tr th {\n        vertical-align: top;\n    }\n\n    .dataframe thead th {\n        text-align: right;\n    }\n</style>\n<table border=\"1\" class=\"dataframe\">\n  <thead>\n    <tr style=\"text-align: right;\">\n      <th></th>\n      <th>s.no.</th>\n      <th>name</th>\n      <th>age</th>\n      <th>city</th>\n      <th>email</th>\n      <th>citieslivedinpast</th>\n    </tr>\n  </thead>\n  <tbody>\n    <tr>\n      <th>0</th>\n      <td>1</td>\n      <td>ABHISHEK</td>\n      <td>41</td>\n      <td>SY</td>\n      <td>ak13@gmail.com</td>\n      <td>LKO;GR;NO</td>\n    </tr>\n    <tr>\n      <th>1</th>\n      <td>2</td>\n      <td>ABHISHEK1</td>\n      <td>41</td>\n      <td>AT</td>\n      <td>ak1@gmail.com</td>\n      <td>LKO;CHN</td>\n    </tr>\n    <tr>\n      <th>2</th>\n      <td>3</td>\n      <td>SAURABH</td>\n      <td>42</td>\n      <td>SY</td>\n      <td>sk29@gmail.com</td>\n      <td>LKO;CHN;CAL;NO</td>\n    </tr>\n    <tr>\n      <th>3</th>\n      <td>4</td>\n      <td>SANDO</td>\n      <td>44</td>\n      <td>NO</td>\n      <td>sd18@gmail.com</td>\n      <td>LKO;CHN;CAL;NO;GR</td>\n    </tr>\n    <tr>\n      <th>4</th>\n      <td>5</td>\n      <td>ASHISH</td>\n      <td>42</td>\n      <td>DL</td>\n      <td>as12@gmail.com</td>\n      <td>LKO</td>\n    </tr>\n    <tr>\n      <th>5</th>\n      <td>6</td>\n      <td>FAHEEM</td>\n      <td>41</td>\n      <td>GR</td>\n      <td>fs25@gmail.com</td>\n      <td>LKO;BAN;NO;DL</td>\n    </tr>\n    <tr>\n      <th>6</th>\n      <td>7</td>\n      <td>ANURAG</td>\n      <td>42</td>\n      <td>NO</td>\n      <td>ak04@gmail.com</td>\n      <td>LKO;BUB;GR;NO</td>\n    </tr>\n    <tr>\n      <th>7</th>\n      <td>8</td>\n      <td>PRADEEP</td>\n      <td>42</td>\n      <td>PN</td>\n      <td>pg16@gmail.com</td>\n      <td>LKO;CHN;GR;PN</td>\n    </tr>\n    <tr>\n      <th>8</th>\n      <td>9</td>\n      <td>ANAND</td>\n      <td>42</td>\n      <td>DB</td>\n      <td>ak05@gmail.com</td>\n      <td>HYD</td>\n    </tr>\n    <tr>\n      <th>9</th>\n      <td>10</td>\n      <td>DEEKSHA</td>\n      <td>40</td>\n      <td>NJ</td>\n      <td>dg08@gmail.com</td>\n      <td>NO;CNB;BLY</td>\n    </tr>\n    <tr>\n      <th>10</th>\n      <td>11</td>\n      <td>HITESH</td>\n      <td>40</td>\n      <td>DB</td>\n      <td>hp12@gmail.com</td>\n      <td>NaN</td>\n    </tr>\n    <tr>\n      <th>11</th>\n      <td>12</td>\n      <td>ROOPALI</td>\n      <td>41</td>\n      <td>SY</td>\n      <td>rr27@gmail.com</td>\n      <td>LKO;CNB;NO;SM</td>\n    </tr>\n    <tr>\n      <th>12</th>\n      <td>13</td>\n      <td>RASHMI</td>\n      <td>41</td>\n      <td>DB</td>\n      <td>rp05@gmail.com</td>\n      <td>NaN</td>\n    </tr>\n    <tr>\n      <th>13</th>\n      <td>14</td>\n      <td>SEAN</td>\n      <td>33</td>\n      <td>SY</td>\n      <td>sk10@gmail.com</td>\n      <td>NaN</td>\n    </tr>\n    <tr>\n      <th>14</th>\n      <td>15</td>\n      <td>ANDREW</td>\n      <td>33</td>\n      <td>SY</td>\n      <td>ap21@gmail.com</td>\n      <td>NaN</td>\n    </tr>\n    <tr>\n      <th>15</th>\n      <td>16</td>\n      <td>ISHANVI</td>\n      <td>10</td>\n      <td>SY</td>\n      <td>ik09@gmail.com</td>\n      <td>NO</td>\n    </tr>\n    <tr>\n      <th>16</th>\n      <td>17</td>\n      <td>ARJUN</td>\n      <td>5</td>\n      <td>SY</td>\n      <td>ak20@gmail.com</td>\n      <td>NaN</td>\n    </tr>\n    <tr>\n      <th>17</th>\n      <td>18</td>\n      <td>GRANDPA</td>\n      <td>78</td>\n      <td>SY</td>\n      <td>gp00@gmail.com</td>\n      <td>NaN</td>\n    </tr>\n    <tr>\n      <th>18</th>\n      <td>19</td>\n      <td>SHIVANI</td>\n      <td>41</td>\n      <td>SY</td>\n      <td>ss00@gmail.com</td>\n      <td>LKO;NO</td>\n    </tr>\n  </tbody>\n</table>\n</div>"
     },
     "execution_count": 19,
     "metadata": {},
     "output_type": "execute_result"
    }
   ],
   "source": [
    "df"
   ]
  },
  {
   "cell_type": "markdown",
   "metadata": {},
   "source": [
    "## apply - applies to every Series object in the dataframe"
   ]
  },
  {
   "cell_type": "code",
   "execution_count": 20,
   "metadata": {},
   "outputs": [
    {
     "data": {
      "text/plain": "0     8\n1     9\n2     7\n3     5\n4     6\n5     6\n6     6\n7     7\n8     5\n9     7\n10    6\n11    7\n12    6\n13    4\n14    6\n15    7\n16    5\n17    7\n18    7\nName: name, dtype: int64"
     },
     "execution_count": 20,
     "metadata": {},
     "output_type": "execute_result"
    }
   ],
   "source": [
    "df['name'].apply(len)"
   ]
  },
  {
   "cell_type": "code",
   "execution_count": 21,
   "metadata": {},
   "outputs": [
    {
     "data": {
      "text/plain": "    s.no.       name age city           email  citieslivedinpast\n0       1   ABHISHEK  41   SY  ak13@gmail.com          LKO;GR;NO\n1       2  ABHISHEK1  41   AT   ak1@gmail.com            LKO;CHN\n2       3    SAURABH  42   SY  sk29@gmail.com     LKO;CHN;CAL;NO\n3       4      SANDO  44   NO  sd18@gmail.com  LKO;CHN;CAL;NO;GR\n4       5     ASHISH  42   DL  as12@gmail.com                LKO\n5       6     FAHEEM  41   GR  fs25@gmail.com      LKO;BAN;NO;DL\n6       7     ANURAG  42   NO  ak04@gmail.com      LKO;BUB;GR;NO\n7       8    PRADEEP  42   PN  pg16@gmail.com      LKO;CHN;GR;PN\n8       9      ANAND  42   DB  ak05@gmail.com                HYD\n9      10    DEEKSHA  40   NJ  dg08@gmail.com         NO;CNB;BLY\n10     11     HITESH  40   DB  hp12@gmail.com                NaN\n11     12    ROOPALI  41   SY  rr27@gmail.com      LKO;CNB;NO;SM\n12     13     RASHMI  41   DB  rp05@gmail.com                NaN\n13     14       SEAN  33   SY  sk10@gmail.com                NaN\n14     15     ANDREW  33   SY  ap21@gmail.com                NaN\n15     16    ISHANVI  10   SY  ik09@gmail.com                 NO\n16     17      ARJUN   5   SY  ak20@gmail.com                NaN\n17     18    GRANDPA  78   SY  gp00@gmail.com                NaN\n18     19    SHIVANI  41   SY  ss00@gmail.com             LKO;NO",
      "text/html": "<div>\n<style scoped>\n    .dataframe tbody tr th:only-of-type {\n        vertical-align: middle;\n    }\n\n    .dataframe tbody tr th {\n        vertical-align: top;\n    }\n\n    .dataframe thead th {\n        text-align: right;\n    }\n</style>\n<table border=\"1\" class=\"dataframe\">\n  <thead>\n    <tr style=\"text-align: right;\">\n      <th></th>\n      <th>s.no.</th>\n      <th>name</th>\n      <th>age</th>\n      <th>city</th>\n      <th>email</th>\n      <th>citieslivedinpast</th>\n    </tr>\n  </thead>\n  <tbody>\n    <tr>\n      <th>0</th>\n      <td>1</td>\n      <td>ABHISHEK</td>\n      <td>41</td>\n      <td>SY</td>\n      <td>ak13@gmail.com</td>\n      <td>LKO;GR;NO</td>\n    </tr>\n    <tr>\n      <th>1</th>\n      <td>2</td>\n      <td>ABHISHEK1</td>\n      <td>41</td>\n      <td>AT</td>\n      <td>ak1@gmail.com</td>\n      <td>LKO;CHN</td>\n    </tr>\n    <tr>\n      <th>2</th>\n      <td>3</td>\n      <td>SAURABH</td>\n      <td>42</td>\n      <td>SY</td>\n      <td>sk29@gmail.com</td>\n      <td>LKO;CHN;CAL;NO</td>\n    </tr>\n    <tr>\n      <th>3</th>\n      <td>4</td>\n      <td>SANDO</td>\n      <td>44</td>\n      <td>NO</td>\n      <td>sd18@gmail.com</td>\n      <td>LKO;CHN;CAL;NO;GR</td>\n    </tr>\n    <tr>\n      <th>4</th>\n      <td>5</td>\n      <td>ASHISH</td>\n      <td>42</td>\n      <td>DL</td>\n      <td>as12@gmail.com</td>\n      <td>LKO</td>\n    </tr>\n    <tr>\n      <th>5</th>\n      <td>6</td>\n      <td>FAHEEM</td>\n      <td>41</td>\n      <td>GR</td>\n      <td>fs25@gmail.com</td>\n      <td>LKO;BAN;NO;DL</td>\n    </tr>\n    <tr>\n      <th>6</th>\n      <td>7</td>\n      <td>ANURAG</td>\n      <td>42</td>\n      <td>NO</td>\n      <td>ak04@gmail.com</td>\n      <td>LKO;BUB;GR;NO</td>\n    </tr>\n    <tr>\n      <th>7</th>\n      <td>8</td>\n      <td>PRADEEP</td>\n      <td>42</td>\n      <td>PN</td>\n      <td>pg16@gmail.com</td>\n      <td>LKO;CHN;GR;PN</td>\n    </tr>\n    <tr>\n      <th>8</th>\n      <td>9</td>\n      <td>ANAND</td>\n      <td>42</td>\n      <td>DB</td>\n      <td>ak05@gmail.com</td>\n      <td>HYD</td>\n    </tr>\n    <tr>\n      <th>9</th>\n      <td>10</td>\n      <td>DEEKSHA</td>\n      <td>40</td>\n      <td>NJ</td>\n      <td>dg08@gmail.com</td>\n      <td>NO;CNB;BLY</td>\n    </tr>\n    <tr>\n      <th>10</th>\n      <td>11</td>\n      <td>HITESH</td>\n      <td>40</td>\n      <td>DB</td>\n      <td>hp12@gmail.com</td>\n      <td>NaN</td>\n    </tr>\n    <tr>\n      <th>11</th>\n      <td>12</td>\n      <td>ROOPALI</td>\n      <td>41</td>\n      <td>SY</td>\n      <td>rr27@gmail.com</td>\n      <td>LKO;CNB;NO;SM</td>\n    </tr>\n    <tr>\n      <th>12</th>\n      <td>13</td>\n      <td>RASHMI</td>\n      <td>41</td>\n      <td>DB</td>\n      <td>rp05@gmail.com</td>\n      <td>NaN</td>\n    </tr>\n    <tr>\n      <th>13</th>\n      <td>14</td>\n      <td>SEAN</td>\n      <td>33</td>\n      <td>SY</td>\n      <td>sk10@gmail.com</td>\n      <td>NaN</td>\n    </tr>\n    <tr>\n      <th>14</th>\n      <td>15</td>\n      <td>ANDREW</td>\n      <td>33</td>\n      <td>SY</td>\n      <td>ap21@gmail.com</td>\n      <td>NaN</td>\n    </tr>\n    <tr>\n      <th>15</th>\n      <td>16</td>\n      <td>ISHANVI</td>\n      <td>10</td>\n      <td>SY</td>\n      <td>ik09@gmail.com</td>\n      <td>NO</td>\n    </tr>\n    <tr>\n      <th>16</th>\n      <td>17</td>\n      <td>ARJUN</td>\n      <td>5</td>\n      <td>SY</td>\n      <td>ak20@gmail.com</td>\n      <td>NaN</td>\n    </tr>\n    <tr>\n      <th>17</th>\n      <td>18</td>\n      <td>GRANDPA</td>\n      <td>78</td>\n      <td>SY</td>\n      <td>gp00@gmail.com</td>\n      <td>NaN</td>\n    </tr>\n    <tr>\n      <th>18</th>\n      <td>19</td>\n      <td>SHIVANI</td>\n      <td>41</td>\n      <td>SY</td>\n      <td>ss00@gmail.com</td>\n      <td>LKO;NO</td>\n    </tr>\n  </tbody>\n</table>\n</div>"
     },
     "execution_count": 21,
     "metadata": {},
     "output_type": "execute_result"
    }
   ],
   "source": [
    "df"
   ]
  },
  {
   "cell_type": "code",
   "execution_count": 22,
   "metadata": {},
   "outputs": [],
   "source": [
    "def update_name(name):\n",
    "    return name.lower()"
   ]
  },
  {
   "cell_type": "code",
   "execution_count": 23,
   "metadata": {},
   "outputs": [
    {
     "data": {
      "text/plain": "0      abhishek\n1     abhishek1\n2       saurabh\n3         sando\n4        ashish\n5        faheem\n6        anurag\n7       pradeep\n8         anand\n9       deeksha\n10       hitesh\n11      roopali\n12       rashmi\n13         sean\n14       andrew\n15      ishanvi\n16        arjun\n17      grandpa\n18      shivani\nName: name, dtype: object"
     },
     "execution_count": 23,
     "metadata": {},
     "output_type": "execute_result"
    }
   ],
   "source": [
    "df['name'].apply(update_name)"
   ]
  },
  {
   "cell_type": "code",
   "execution_count": 24,
   "metadata": {},
   "outputs": [
    {
     "data": {
      "text/plain": "    s.no.       name age city           email  citieslivedinpast\n0       1   abhishek  41   SY  ak13@gmail.com          LKO;GR;NO\n1       2  abhishek1  41   AT   ak1@gmail.com            LKO;CHN\n2       3    saurabh  42   SY  sk29@gmail.com     LKO;CHN;CAL;NO\n3       4      sando  44   NO  sd18@gmail.com  LKO;CHN;CAL;NO;GR\n4       5     ashish  42   DL  as12@gmail.com                LKO\n5       6     faheem  41   GR  fs25@gmail.com      LKO;BAN;NO;DL\n6       7     anurag  42   NO  ak04@gmail.com      LKO;BUB;GR;NO\n7       8    pradeep  42   PN  pg16@gmail.com      LKO;CHN;GR;PN\n8       9      anand  42   DB  ak05@gmail.com                HYD\n9      10    deeksha  40   NJ  dg08@gmail.com         NO;CNB;BLY\n10     11     hitesh  40   DB  hp12@gmail.com                NaN\n11     12    roopali  41   SY  rr27@gmail.com      LKO;CNB;NO;SM\n12     13     rashmi  41   DB  rp05@gmail.com                NaN\n13     14       sean  33   SY  sk10@gmail.com                NaN\n14     15     andrew  33   SY  ap21@gmail.com                NaN\n15     16    ishanvi  10   SY  ik09@gmail.com                 NO\n16     17      arjun   5   SY  ak20@gmail.com                NaN\n17     18    grandpa  78   SY  gp00@gmail.com                NaN\n18     19    shivani  41   SY  ss00@gmail.com             LKO;NO",
      "text/html": "<div>\n<style scoped>\n    .dataframe tbody tr th:only-of-type {\n        vertical-align: middle;\n    }\n\n    .dataframe tbody tr th {\n        vertical-align: top;\n    }\n\n    .dataframe thead th {\n        text-align: right;\n    }\n</style>\n<table border=\"1\" class=\"dataframe\">\n  <thead>\n    <tr style=\"text-align: right;\">\n      <th></th>\n      <th>s.no.</th>\n      <th>name</th>\n      <th>age</th>\n      <th>city</th>\n      <th>email</th>\n      <th>citieslivedinpast</th>\n    </tr>\n  </thead>\n  <tbody>\n    <tr>\n      <th>0</th>\n      <td>1</td>\n      <td>abhishek</td>\n      <td>41</td>\n      <td>SY</td>\n      <td>ak13@gmail.com</td>\n      <td>LKO;GR;NO</td>\n    </tr>\n    <tr>\n      <th>1</th>\n      <td>2</td>\n      <td>abhishek1</td>\n      <td>41</td>\n      <td>AT</td>\n      <td>ak1@gmail.com</td>\n      <td>LKO;CHN</td>\n    </tr>\n    <tr>\n      <th>2</th>\n      <td>3</td>\n      <td>saurabh</td>\n      <td>42</td>\n      <td>SY</td>\n      <td>sk29@gmail.com</td>\n      <td>LKO;CHN;CAL;NO</td>\n    </tr>\n    <tr>\n      <th>3</th>\n      <td>4</td>\n      <td>sando</td>\n      <td>44</td>\n      <td>NO</td>\n      <td>sd18@gmail.com</td>\n      <td>LKO;CHN;CAL;NO;GR</td>\n    </tr>\n    <tr>\n      <th>4</th>\n      <td>5</td>\n      <td>ashish</td>\n      <td>42</td>\n      <td>DL</td>\n      <td>as12@gmail.com</td>\n      <td>LKO</td>\n    </tr>\n    <tr>\n      <th>5</th>\n      <td>6</td>\n      <td>faheem</td>\n      <td>41</td>\n      <td>GR</td>\n      <td>fs25@gmail.com</td>\n      <td>LKO;BAN;NO;DL</td>\n    </tr>\n    <tr>\n      <th>6</th>\n      <td>7</td>\n      <td>anurag</td>\n      <td>42</td>\n      <td>NO</td>\n      <td>ak04@gmail.com</td>\n      <td>LKO;BUB;GR;NO</td>\n    </tr>\n    <tr>\n      <th>7</th>\n      <td>8</td>\n      <td>pradeep</td>\n      <td>42</td>\n      <td>PN</td>\n      <td>pg16@gmail.com</td>\n      <td>LKO;CHN;GR;PN</td>\n    </tr>\n    <tr>\n      <th>8</th>\n      <td>9</td>\n      <td>anand</td>\n      <td>42</td>\n      <td>DB</td>\n      <td>ak05@gmail.com</td>\n      <td>HYD</td>\n    </tr>\n    <tr>\n      <th>9</th>\n      <td>10</td>\n      <td>deeksha</td>\n      <td>40</td>\n      <td>NJ</td>\n      <td>dg08@gmail.com</td>\n      <td>NO;CNB;BLY</td>\n    </tr>\n    <tr>\n      <th>10</th>\n      <td>11</td>\n      <td>hitesh</td>\n      <td>40</td>\n      <td>DB</td>\n      <td>hp12@gmail.com</td>\n      <td>NaN</td>\n    </tr>\n    <tr>\n      <th>11</th>\n      <td>12</td>\n      <td>roopali</td>\n      <td>41</td>\n      <td>SY</td>\n      <td>rr27@gmail.com</td>\n      <td>LKO;CNB;NO;SM</td>\n    </tr>\n    <tr>\n      <th>12</th>\n      <td>13</td>\n      <td>rashmi</td>\n      <td>41</td>\n      <td>DB</td>\n      <td>rp05@gmail.com</td>\n      <td>NaN</td>\n    </tr>\n    <tr>\n      <th>13</th>\n      <td>14</td>\n      <td>sean</td>\n      <td>33</td>\n      <td>SY</td>\n      <td>sk10@gmail.com</td>\n      <td>NaN</td>\n    </tr>\n    <tr>\n      <th>14</th>\n      <td>15</td>\n      <td>andrew</td>\n      <td>33</td>\n      <td>SY</td>\n      <td>ap21@gmail.com</td>\n      <td>NaN</td>\n    </tr>\n    <tr>\n      <th>15</th>\n      <td>16</td>\n      <td>ishanvi</td>\n      <td>10</td>\n      <td>SY</td>\n      <td>ik09@gmail.com</td>\n      <td>NO</td>\n    </tr>\n    <tr>\n      <th>16</th>\n      <td>17</td>\n      <td>arjun</td>\n      <td>5</td>\n      <td>SY</td>\n      <td>ak20@gmail.com</td>\n      <td>NaN</td>\n    </tr>\n    <tr>\n      <th>17</th>\n      <td>18</td>\n      <td>grandpa</td>\n      <td>78</td>\n      <td>SY</td>\n      <td>gp00@gmail.com</td>\n      <td>NaN</td>\n    </tr>\n    <tr>\n      <th>18</th>\n      <td>19</td>\n      <td>shivani</td>\n      <td>41</td>\n      <td>SY</td>\n      <td>ss00@gmail.com</td>\n      <td>LKO;NO</td>\n    </tr>\n  </tbody>\n</table>\n</div>"
     },
     "execution_count": 24,
     "metadata": {},
     "output_type": "execute_result"
    }
   ],
   "source": [
    "df['name'] = df['name'].apply(update_name)\n",
    "df"
   ]
  },
  {
   "cell_type": "code",
   "execution_count": 25,
   "metadata": {},
   "outputs": [
    {
     "data": {
      "text/plain": "    s.no.       name age city           email  citieslivedinpast\n0       1   ABHISHEK  41   SY  ak13@gmail.com          LKO;GR;NO\n1       2  ABHISHEK1  41   AT   ak1@gmail.com            LKO;CHN\n2       3    SAURABH  42   SY  sk29@gmail.com     LKO;CHN;CAL;NO\n3       4      SANDO  44   NO  sd18@gmail.com  LKO;CHN;CAL;NO;GR\n4       5     ASHISH  42   DL  as12@gmail.com                LKO\n5       6     FAHEEM  41   GR  fs25@gmail.com      LKO;BAN;NO;DL\n6       7     ANURAG  42   NO  ak04@gmail.com      LKO;BUB;GR;NO\n7       8    PRADEEP  42   PN  pg16@gmail.com      LKO;CHN;GR;PN\n8       9      ANAND  42   DB  ak05@gmail.com                HYD\n9      10    DEEKSHA  40   NJ  dg08@gmail.com         NO;CNB;BLY\n10     11     HITESH  40   DB  hp12@gmail.com                NaN\n11     12    ROOPALI  41   SY  rr27@gmail.com      LKO;CNB;NO;SM\n12     13     RASHMI  41   DB  rp05@gmail.com                NaN\n13     14       SEAN  33   SY  sk10@gmail.com                NaN\n14     15     ANDREW  33   SY  ap21@gmail.com                NaN\n15     16    ISHANVI  10   SY  ik09@gmail.com                 NO\n16     17      ARJUN   5   SY  ak20@gmail.com                NaN\n17     18    GRANDPA  78   SY  gp00@gmail.com                NaN\n18     19    SHIVANI  41   SY  ss00@gmail.com             LKO;NO",
      "text/html": "<div>\n<style scoped>\n    .dataframe tbody tr th:only-of-type {\n        vertical-align: middle;\n    }\n\n    .dataframe tbody tr th {\n        vertical-align: top;\n    }\n\n    .dataframe thead th {\n        text-align: right;\n    }\n</style>\n<table border=\"1\" class=\"dataframe\">\n  <thead>\n    <tr style=\"text-align: right;\">\n      <th></th>\n      <th>s.no.</th>\n      <th>name</th>\n      <th>age</th>\n      <th>city</th>\n      <th>email</th>\n      <th>citieslivedinpast</th>\n    </tr>\n  </thead>\n  <tbody>\n    <tr>\n      <th>0</th>\n      <td>1</td>\n      <td>ABHISHEK</td>\n      <td>41</td>\n      <td>SY</td>\n      <td>ak13@gmail.com</td>\n      <td>LKO;GR;NO</td>\n    </tr>\n    <tr>\n      <th>1</th>\n      <td>2</td>\n      <td>ABHISHEK1</td>\n      <td>41</td>\n      <td>AT</td>\n      <td>ak1@gmail.com</td>\n      <td>LKO;CHN</td>\n    </tr>\n    <tr>\n      <th>2</th>\n      <td>3</td>\n      <td>SAURABH</td>\n      <td>42</td>\n      <td>SY</td>\n      <td>sk29@gmail.com</td>\n      <td>LKO;CHN;CAL;NO</td>\n    </tr>\n    <tr>\n      <th>3</th>\n      <td>4</td>\n      <td>SANDO</td>\n      <td>44</td>\n      <td>NO</td>\n      <td>sd18@gmail.com</td>\n      <td>LKO;CHN;CAL;NO;GR</td>\n    </tr>\n    <tr>\n      <th>4</th>\n      <td>5</td>\n      <td>ASHISH</td>\n      <td>42</td>\n      <td>DL</td>\n      <td>as12@gmail.com</td>\n      <td>LKO</td>\n    </tr>\n    <tr>\n      <th>5</th>\n      <td>6</td>\n      <td>FAHEEM</td>\n      <td>41</td>\n      <td>GR</td>\n      <td>fs25@gmail.com</td>\n      <td>LKO;BAN;NO;DL</td>\n    </tr>\n    <tr>\n      <th>6</th>\n      <td>7</td>\n      <td>ANURAG</td>\n      <td>42</td>\n      <td>NO</td>\n      <td>ak04@gmail.com</td>\n      <td>LKO;BUB;GR;NO</td>\n    </tr>\n    <tr>\n      <th>7</th>\n      <td>8</td>\n      <td>PRADEEP</td>\n      <td>42</td>\n      <td>PN</td>\n      <td>pg16@gmail.com</td>\n      <td>LKO;CHN;GR;PN</td>\n    </tr>\n    <tr>\n      <th>8</th>\n      <td>9</td>\n      <td>ANAND</td>\n      <td>42</td>\n      <td>DB</td>\n      <td>ak05@gmail.com</td>\n      <td>HYD</td>\n    </tr>\n    <tr>\n      <th>9</th>\n      <td>10</td>\n      <td>DEEKSHA</td>\n      <td>40</td>\n      <td>NJ</td>\n      <td>dg08@gmail.com</td>\n      <td>NO;CNB;BLY</td>\n    </tr>\n    <tr>\n      <th>10</th>\n      <td>11</td>\n      <td>HITESH</td>\n      <td>40</td>\n      <td>DB</td>\n      <td>hp12@gmail.com</td>\n      <td>NaN</td>\n    </tr>\n    <tr>\n      <th>11</th>\n      <td>12</td>\n      <td>ROOPALI</td>\n      <td>41</td>\n      <td>SY</td>\n      <td>rr27@gmail.com</td>\n      <td>LKO;CNB;NO;SM</td>\n    </tr>\n    <tr>\n      <th>12</th>\n      <td>13</td>\n      <td>RASHMI</td>\n      <td>41</td>\n      <td>DB</td>\n      <td>rp05@gmail.com</td>\n      <td>NaN</td>\n    </tr>\n    <tr>\n      <th>13</th>\n      <td>14</td>\n      <td>SEAN</td>\n      <td>33</td>\n      <td>SY</td>\n      <td>sk10@gmail.com</td>\n      <td>NaN</td>\n    </tr>\n    <tr>\n      <th>14</th>\n      <td>15</td>\n      <td>ANDREW</td>\n      <td>33</td>\n      <td>SY</td>\n      <td>ap21@gmail.com</td>\n      <td>NaN</td>\n    </tr>\n    <tr>\n      <th>15</th>\n      <td>16</td>\n      <td>ISHANVI</td>\n      <td>10</td>\n      <td>SY</td>\n      <td>ik09@gmail.com</td>\n      <td>NO</td>\n    </tr>\n    <tr>\n      <th>16</th>\n      <td>17</td>\n      <td>ARJUN</td>\n      <td>5</td>\n      <td>SY</td>\n      <td>ak20@gmail.com</td>\n      <td>NaN</td>\n    </tr>\n    <tr>\n      <th>17</th>\n      <td>18</td>\n      <td>GRANDPA</td>\n      <td>78</td>\n      <td>SY</td>\n      <td>gp00@gmail.com</td>\n      <td>NaN</td>\n    </tr>\n    <tr>\n      <th>18</th>\n      <td>19</td>\n      <td>SHIVANI</td>\n      <td>41</td>\n      <td>SY</td>\n      <td>ss00@gmail.com</td>\n      <td>LKO;NO</td>\n    </tr>\n  </tbody>\n</table>\n</div>"
     },
     "execution_count": 25,
     "metadata": {},
     "output_type": "execute_result"
    }
   ],
   "source": [
    "df['name'] = df['name'].apply(lambda x:x.upper())\n",
    "df"
   ]
  },
  {
   "cell_type": "code",
   "execution_count": 26,
   "metadata": {},
   "outputs": [
    {
     "data": {
      "text/plain": "s.no.                19\nname                 19\nage                  19\ncity                 19\nemail                19\ncitieslivedinpast    19\ndtype: int64"
     },
     "execution_count": 26,
     "metadata": {},
     "output_type": "execute_result"
    }
   ],
   "source": [
    "df.apply(len) # the length function is applied to each series object - rows count"
   ]
  },
  {
   "cell_type": "code",
   "execution_count": 27,
   "metadata": {},
   "outputs": [
    {
     "data": {
      "text/plain": "0     6\n1     6\n2     6\n3     6\n4     6\n5     6\n6     6\n7     6\n8     6\n9     6\n10    6\n11    6\n12    6\n13    6\n14    6\n15    6\n16    6\n17    6\n18    6\ndtype: int64"
     },
     "execution_count": 27,
     "metadata": {},
     "output_type": "execute_result"
    }
   ],
   "source": [
    "df.apply(len, axis =1) # the length function is applied to each series object - column count"
   ]
  },
  {
   "cell_type": "code",
   "execution_count": 28,
   "metadata": {
    "scrolled": true
   },
   "outputs": [
    {
     "data": {
      "text/plain": "    s.no.                name   age  city                         email  \\\n0       2    ABHISHEKABHISHEK    82  SYSY  ak13@gmail.comak13@gmail.com   \n1       4  ABHISHEK1ABHISHEK1    82  ATAT    ak1@gmail.comak1@gmail.com   \n2       6      SAURABHSAURABH    84  SYSY  sk29@gmail.comsk29@gmail.com   \n3       8          SANDOSANDO    88  NONO  sd18@gmail.comsd18@gmail.com   \n4      10        ASHISHASHISH    84  DLDL  as12@gmail.comas12@gmail.com   \n5      12        FAHEEMFAHEEM    82  GRGR  fs25@gmail.comfs25@gmail.com   \n6      14        ANURAGANURAG    84  NONO  ak04@gmail.comak04@gmail.com   \n7      16      PRADEEPPRADEEP    84  PNPN  pg16@gmail.compg16@gmail.com   \n8      18          ANANDANAND    84  DBDB  ak05@gmail.comak05@gmail.com   \n9      20      DEEKSHADEEKSHA  4040  NJNJ  dg08@gmail.comdg08@gmail.com   \n10     22        HITESHHITESH    80  DBDB  hp12@gmail.comhp12@gmail.com   \n11     24      ROOPALIROOPALI    82  SYSY  rr27@gmail.comrr27@gmail.com   \n12     26        RASHMIRASHMI    82  DBDB  rp05@gmail.comrp05@gmail.com   \n13     28            SEANSEAN    66  SYSY  sk10@gmail.comsk10@gmail.com   \n14     30        ANDREWANDREW    66  SYSY  ap21@gmail.comap21@gmail.com   \n15     32      ISHANVIISHANVI    20  SYSY  ik09@gmail.comik09@gmail.com   \n16     34          ARJUNARJUN    10  SYSY  ak20@gmail.comak20@gmail.com   \n17     36      GRANDPAGRANDPA   156  SYSY  gp00@gmail.comgp00@gmail.com   \n18     38      SHIVANISHIVANI    82  SYSY  ss00@gmail.comss00@gmail.com   \n\n                     citieslivedinpast  \n0                   LKO;GR;NOLKO;GR;NO  \n1                       LKO;CHNLKO;CHN  \n2         LKO;CHN;CAL;NOLKO;CHN;CAL;NO  \n3   LKO;CHN;CAL;NO;GRLKO;CHN;CAL;NO;GR  \n4                               LKOLKO  \n5           LKO;BAN;NO;DLLKO;BAN;NO;DL  \n6           LKO;BUB;GR;NOLKO;BUB;GR;NO  \n7           LKO;CHN;GR;PNLKO;CHN;GR;PN  \n8                               HYDHYD  \n9                 NO;CNB;BLYNO;CNB;BLY  \n10                                 NaN  \n11          LKO;CNB;NO;SMLKO;CNB;NO;SM  \n12                                 NaN  \n13                                 NaN  \n14                                 NaN  \n15                                NONO  \n16                                 NaN  \n17                                 NaN  \n18                        LKO;NOLKO;NO  ",
      "text/html": "<div>\n<style scoped>\n    .dataframe tbody tr th:only-of-type {\n        vertical-align: middle;\n    }\n\n    .dataframe tbody tr th {\n        vertical-align: top;\n    }\n\n    .dataframe thead th {\n        text-align: right;\n    }\n</style>\n<table border=\"1\" class=\"dataframe\">\n  <thead>\n    <tr style=\"text-align: right;\">\n      <th></th>\n      <th>s.no.</th>\n      <th>name</th>\n      <th>age</th>\n      <th>city</th>\n      <th>email</th>\n      <th>citieslivedinpast</th>\n    </tr>\n  </thead>\n  <tbody>\n    <tr>\n      <th>0</th>\n      <td>2</td>\n      <td>ABHISHEKABHISHEK</td>\n      <td>82</td>\n      <td>SYSY</td>\n      <td>ak13@gmail.comak13@gmail.com</td>\n      <td>LKO;GR;NOLKO;GR;NO</td>\n    </tr>\n    <tr>\n      <th>1</th>\n      <td>4</td>\n      <td>ABHISHEK1ABHISHEK1</td>\n      <td>82</td>\n      <td>ATAT</td>\n      <td>ak1@gmail.comak1@gmail.com</td>\n      <td>LKO;CHNLKO;CHN</td>\n    </tr>\n    <tr>\n      <th>2</th>\n      <td>6</td>\n      <td>SAURABHSAURABH</td>\n      <td>84</td>\n      <td>SYSY</td>\n      <td>sk29@gmail.comsk29@gmail.com</td>\n      <td>LKO;CHN;CAL;NOLKO;CHN;CAL;NO</td>\n    </tr>\n    <tr>\n      <th>3</th>\n      <td>8</td>\n      <td>SANDOSANDO</td>\n      <td>88</td>\n      <td>NONO</td>\n      <td>sd18@gmail.comsd18@gmail.com</td>\n      <td>LKO;CHN;CAL;NO;GRLKO;CHN;CAL;NO;GR</td>\n    </tr>\n    <tr>\n      <th>4</th>\n      <td>10</td>\n      <td>ASHISHASHISH</td>\n      <td>84</td>\n      <td>DLDL</td>\n      <td>as12@gmail.comas12@gmail.com</td>\n      <td>LKOLKO</td>\n    </tr>\n    <tr>\n      <th>5</th>\n      <td>12</td>\n      <td>FAHEEMFAHEEM</td>\n      <td>82</td>\n      <td>GRGR</td>\n      <td>fs25@gmail.comfs25@gmail.com</td>\n      <td>LKO;BAN;NO;DLLKO;BAN;NO;DL</td>\n    </tr>\n    <tr>\n      <th>6</th>\n      <td>14</td>\n      <td>ANURAGANURAG</td>\n      <td>84</td>\n      <td>NONO</td>\n      <td>ak04@gmail.comak04@gmail.com</td>\n      <td>LKO;BUB;GR;NOLKO;BUB;GR;NO</td>\n    </tr>\n    <tr>\n      <th>7</th>\n      <td>16</td>\n      <td>PRADEEPPRADEEP</td>\n      <td>84</td>\n      <td>PNPN</td>\n      <td>pg16@gmail.compg16@gmail.com</td>\n      <td>LKO;CHN;GR;PNLKO;CHN;GR;PN</td>\n    </tr>\n    <tr>\n      <th>8</th>\n      <td>18</td>\n      <td>ANANDANAND</td>\n      <td>84</td>\n      <td>DBDB</td>\n      <td>ak05@gmail.comak05@gmail.com</td>\n      <td>HYDHYD</td>\n    </tr>\n    <tr>\n      <th>9</th>\n      <td>20</td>\n      <td>DEEKSHADEEKSHA</td>\n      <td>4040</td>\n      <td>NJNJ</td>\n      <td>dg08@gmail.comdg08@gmail.com</td>\n      <td>NO;CNB;BLYNO;CNB;BLY</td>\n    </tr>\n    <tr>\n      <th>10</th>\n      <td>22</td>\n      <td>HITESHHITESH</td>\n      <td>80</td>\n      <td>DBDB</td>\n      <td>hp12@gmail.comhp12@gmail.com</td>\n      <td>NaN</td>\n    </tr>\n    <tr>\n      <th>11</th>\n      <td>24</td>\n      <td>ROOPALIROOPALI</td>\n      <td>82</td>\n      <td>SYSY</td>\n      <td>rr27@gmail.comrr27@gmail.com</td>\n      <td>LKO;CNB;NO;SMLKO;CNB;NO;SM</td>\n    </tr>\n    <tr>\n      <th>12</th>\n      <td>26</td>\n      <td>RASHMIRASHMI</td>\n      <td>82</td>\n      <td>DBDB</td>\n      <td>rp05@gmail.comrp05@gmail.com</td>\n      <td>NaN</td>\n    </tr>\n    <tr>\n      <th>13</th>\n      <td>28</td>\n      <td>SEANSEAN</td>\n      <td>66</td>\n      <td>SYSY</td>\n      <td>sk10@gmail.comsk10@gmail.com</td>\n      <td>NaN</td>\n    </tr>\n    <tr>\n      <th>14</th>\n      <td>30</td>\n      <td>ANDREWANDREW</td>\n      <td>66</td>\n      <td>SYSY</td>\n      <td>ap21@gmail.comap21@gmail.com</td>\n      <td>NaN</td>\n    </tr>\n    <tr>\n      <th>15</th>\n      <td>32</td>\n      <td>ISHANVIISHANVI</td>\n      <td>20</td>\n      <td>SYSY</td>\n      <td>ik09@gmail.comik09@gmail.com</td>\n      <td>NONO</td>\n    </tr>\n    <tr>\n      <th>16</th>\n      <td>34</td>\n      <td>ARJUNARJUN</td>\n      <td>10</td>\n      <td>SYSY</td>\n      <td>ak20@gmail.comak20@gmail.com</td>\n      <td>NaN</td>\n    </tr>\n    <tr>\n      <th>17</th>\n      <td>36</td>\n      <td>GRANDPAGRANDPA</td>\n      <td>156</td>\n      <td>SYSY</td>\n      <td>gp00@gmail.comgp00@gmail.com</td>\n      <td>NaN</td>\n    </tr>\n    <tr>\n      <th>18</th>\n      <td>38</td>\n      <td>SHIVANISHIVANI</td>\n      <td>82</td>\n      <td>SYSY</td>\n      <td>ss00@gmail.comss00@gmail.com</td>\n      <td>LKO;NOLKO;NO</td>\n    </tr>\n  </tbody>\n</table>\n</div>"
     },
     "execution_count": 28,
     "metadata": {},
     "output_type": "execute_result"
    }
   ],
   "source": [
    "df.apply(lambda x: x + x) # the apply is applied to every element in the DF since no particular row or column was specified."
   ]
  },
  {
   "cell_type": "code",
   "execution_count": 29,
   "metadata": {},
   "outputs": [
    {
     "data": {
      "text/plain": "         name city           email\n0    ABHISHEK   SY  ak13@gmail.com\n1   ABHISHEK1   AT   ak1@gmail.com\n2     SAURABH   SY  sk29@gmail.com\n3       SANDO   NO  sd18@gmail.com\n4      ASHISH   DL  as12@gmail.com\n5      FAHEEM   GR  fs25@gmail.com\n6      ANURAG   NO  ak04@gmail.com\n7     PRADEEP   PN  pg16@gmail.com\n8       ANAND   DB  ak05@gmail.com\n9     DEEKSHA   NJ  dg08@gmail.com\n10     HITESH   DB  hp12@gmail.com\n11    ROOPALI   SY  rr27@gmail.com\n12     RASHMI   DB  rp05@gmail.com\n13       SEAN   SY  sk10@gmail.com\n14     ANDREW   SY  ap21@gmail.com\n15    ISHANVI   SY  ik09@gmail.com\n16      ARJUN   SY  ak20@gmail.com\n17    GRANDPA   SY  gp00@gmail.com\n18    SHIVANI   SY  ss00@gmail.com",
      "text/html": "<div>\n<style scoped>\n    .dataframe tbody tr th:only-of-type {\n        vertical-align: middle;\n    }\n\n    .dataframe tbody tr th {\n        vertical-align: top;\n    }\n\n    .dataframe thead th {\n        text-align: right;\n    }\n</style>\n<table border=\"1\" class=\"dataframe\">\n  <thead>\n    <tr style=\"text-align: right;\">\n      <th></th>\n      <th>name</th>\n      <th>city</th>\n      <th>email</th>\n    </tr>\n  </thead>\n  <tbody>\n    <tr>\n      <th>0</th>\n      <td>ABHISHEK</td>\n      <td>SY</td>\n      <td>ak13@gmail.com</td>\n    </tr>\n    <tr>\n      <th>1</th>\n      <td>ABHISHEK1</td>\n      <td>AT</td>\n      <td>ak1@gmail.com</td>\n    </tr>\n    <tr>\n      <th>2</th>\n      <td>SAURABH</td>\n      <td>SY</td>\n      <td>sk29@gmail.com</td>\n    </tr>\n    <tr>\n      <th>3</th>\n      <td>SANDO</td>\n      <td>NO</td>\n      <td>sd18@gmail.com</td>\n    </tr>\n    <tr>\n      <th>4</th>\n      <td>ASHISH</td>\n      <td>DL</td>\n      <td>as12@gmail.com</td>\n    </tr>\n    <tr>\n      <th>5</th>\n      <td>FAHEEM</td>\n      <td>GR</td>\n      <td>fs25@gmail.com</td>\n    </tr>\n    <tr>\n      <th>6</th>\n      <td>ANURAG</td>\n      <td>NO</td>\n      <td>ak04@gmail.com</td>\n    </tr>\n    <tr>\n      <th>7</th>\n      <td>PRADEEP</td>\n      <td>PN</td>\n      <td>pg16@gmail.com</td>\n    </tr>\n    <tr>\n      <th>8</th>\n      <td>ANAND</td>\n      <td>DB</td>\n      <td>ak05@gmail.com</td>\n    </tr>\n    <tr>\n      <th>9</th>\n      <td>DEEKSHA</td>\n      <td>NJ</td>\n      <td>dg08@gmail.com</td>\n    </tr>\n    <tr>\n      <th>10</th>\n      <td>HITESH</td>\n      <td>DB</td>\n      <td>hp12@gmail.com</td>\n    </tr>\n    <tr>\n      <th>11</th>\n      <td>ROOPALI</td>\n      <td>SY</td>\n      <td>rr27@gmail.com</td>\n    </tr>\n    <tr>\n      <th>12</th>\n      <td>RASHMI</td>\n      <td>DB</td>\n      <td>rp05@gmail.com</td>\n    </tr>\n    <tr>\n      <th>13</th>\n      <td>SEAN</td>\n      <td>SY</td>\n      <td>sk10@gmail.com</td>\n    </tr>\n    <tr>\n      <th>14</th>\n      <td>ANDREW</td>\n      <td>SY</td>\n      <td>ap21@gmail.com</td>\n    </tr>\n    <tr>\n      <th>15</th>\n      <td>ISHANVI</td>\n      <td>SY</td>\n      <td>ik09@gmail.com</td>\n    </tr>\n    <tr>\n      <th>16</th>\n      <td>ARJUN</td>\n      <td>SY</td>\n      <td>ak20@gmail.com</td>\n    </tr>\n    <tr>\n      <th>17</th>\n      <td>GRANDPA</td>\n      <td>SY</td>\n      <td>gp00@gmail.com</td>\n    </tr>\n    <tr>\n      <th>18</th>\n      <td>SHIVANI</td>\n      <td>SY</td>\n      <td>ss00@gmail.com</td>\n    </tr>\n  </tbody>\n</table>\n</div>"
     },
     "execution_count": 29,
     "metadata": {},
     "output_type": "execute_result"
    }
   ],
   "source": [
    "dfnew  = df[['name', 'city','email']]\n",
    "dfnew"
   ]
  },
  {
   "cell_type": "code",
   "execution_count": 30,
   "metadata": {
    "scrolled": true
   },
   "outputs": [
    {
     "data": {
      "text/plain": "0     14\n1     13\n2     14\n3     14\n4     14\n5     14\n6     14\n7     14\n8     14\n9     14\n10    14\n11    14\n12    14\n13    14\n14    14\n15    14\n16    14\n17    14\n18    14\nName: email, dtype: int64"
     },
     "execution_count": 30,
     "metadata": {},
     "output_type": "execute_result"
    }
   ],
   "source": [
    "dfnew['email'].apply(len)"
   ]
  },
  {
   "cell_type": "code",
   "execution_count": 31,
   "metadata": {},
   "outputs": [
    {
     "data": {
      "text/plain": "name     19\ncity     19\nemail    19\ndtype: int64"
     },
     "execution_count": 31,
     "metadata": {},
     "output_type": "execute_result"
    }
   ],
   "source": [
    "dfnew.apply(len)"
   ]
  },
  {
   "cell_type": "code",
   "execution_count": 32,
   "metadata": {
    "scrolled": false
   },
   "outputs": [
    {
     "data": {
      "text/plain": "0     3\n1     3\n2     3\n3     3\n4     3\n5     3\n6     3\n7     3\n8     3\n9     3\n10    3\n11    3\n12    3\n13    3\n14    3\n15    3\n16    3\n17    3\n18    3\ndtype: int64"
     },
     "execution_count": 32,
     "metadata": {},
     "output_type": "execute_result"
    }
   ],
   "source": [
    "dfnew.apply(len, axis = 'columns')"
   ]
  },
  {
   "cell_type": "code",
   "execution_count": 33,
   "metadata": {
    "scrolled": true
   },
   "outputs": [
    {
     "data": {
      "text/plain": "name           ABHISHEK\ncity                 AT\nemail    ak04@gmail.com\ndtype: object"
     },
     "execution_count": 33,
     "metadata": {},
     "output_type": "execute_result"
    }
   ],
   "source": [
    "dfnew.apply(pd.Series.min) "
   ]
  },
  {
   "cell_type": "code",
   "execution_count": 34,
   "metadata": {},
   "outputs": [
    {
     "data": {
      "text/plain": "name            SHIVANI\ncity                 SY\nemail    ss00@gmail.com\ndtype: object"
     },
     "execution_count": 34,
     "metadata": {},
     "output_type": "execute_result"
    }
   ],
   "source": [
    "dfnew.apply(lambda x: x.max()) "
   ]
  },
  {
   "cell_type": "markdown",
   "metadata": {
    "pycharm": {
     "is_executing": false
    }
   },
   "source": [
    "### applymap -  applies only to Dataframes and not to series objects. Applies to every item in the DataFrame.\n"
   ]
  },
  {
   "cell_type": "code",
   "execution_count": 35,
   "metadata": {},
   "outputs": [
    {
     "data": {
      "text/plain": "    name  city  email\n0      8     2     14\n1      9     2     13\n2      7     2     14\n3      5     2     14\n4      6     2     14\n5      6     2     14\n6      6     2     14\n7      7     2     14\n8      5     2     14\n9      7     2     14\n10     6     2     14\n11     7     2     14\n12     6     2     14\n13     4     2     14\n14     6     2     14\n15     7     2     14\n16     5     2     14\n17     7     2     14\n18     7     2     14",
      "text/html": "<div>\n<style scoped>\n    .dataframe tbody tr th:only-of-type {\n        vertical-align: middle;\n    }\n\n    .dataframe tbody tr th {\n        vertical-align: top;\n    }\n\n    .dataframe thead th {\n        text-align: right;\n    }\n</style>\n<table border=\"1\" class=\"dataframe\">\n  <thead>\n    <tr style=\"text-align: right;\">\n      <th></th>\n      <th>name</th>\n      <th>city</th>\n      <th>email</th>\n    </tr>\n  </thead>\n  <tbody>\n    <tr>\n      <th>0</th>\n      <td>8</td>\n      <td>2</td>\n      <td>14</td>\n    </tr>\n    <tr>\n      <th>1</th>\n      <td>9</td>\n      <td>2</td>\n      <td>13</td>\n    </tr>\n    <tr>\n      <th>2</th>\n      <td>7</td>\n      <td>2</td>\n      <td>14</td>\n    </tr>\n    <tr>\n      <th>3</th>\n      <td>5</td>\n      <td>2</td>\n      <td>14</td>\n    </tr>\n    <tr>\n      <th>4</th>\n      <td>6</td>\n      <td>2</td>\n      <td>14</td>\n    </tr>\n    <tr>\n      <th>5</th>\n      <td>6</td>\n      <td>2</td>\n      <td>14</td>\n    </tr>\n    <tr>\n      <th>6</th>\n      <td>6</td>\n      <td>2</td>\n      <td>14</td>\n    </tr>\n    <tr>\n      <th>7</th>\n      <td>7</td>\n      <td>2</td>\n      <td>14</td>\n    </tr>\n    <tr>\n      <th>8</th>\n      <td>5</td>\n      <td>2</td>\n      <td>14</td>\n    </tr>\n    <tr>\n      <th>9</th>\n      <td>7</td>\n      <td>2</td>\n      <td>14</td>\n    </tr>\n    <tr>\n      <th>10</th>\n      <td>6</td>\n      <td>2</td>\n      <td>14</td>\n    </tr>\n    <tr>\n      <th>11</th>\n      <td>7</td>\n      <td>2</td>\n      <td>14</td>\n    </tr>\n    <tr>\n      <th>12</th>\n      <td>6</td>\n      <td>2</td>\n      <td>14</td>\n    </tr>\n    <tr>\n      <th>13</th>\n      <td>4</td>\n      <td>2</td>\n      <td>14</td>\n    </tr>\n    <tr>\n      <th>14</th>\n      <td>6</td>\n      <td>2</td>\n      <td>14</td>\n    </tr>\n    <tr>\n      <th>15</th>\n      <td>7</td>\n      <td>2</td>\n      <td>14</td>\n    </tr>\n    <tr>\n      <th>16</th>\n      <td>5</td>\n      <td>2</td>\n      <td>14</td>\n    </tr>\n    <tr>\n      <th>17</th>\n      <td>7</td>\n      <td>2</td>\n      <td>14</td>\n    </tr>\n    <tr>\n      <th>18</th>\n      <td>7</td>\n      <td>2</td>\n      <td>14</td>\n    </tr>\n  </tbody>\n</table>\n</div>"
     },
     "execution_count": 35,
     "metadata": {},
     "output_type": "execute_result"
    }
   ],
   "source": [
    "dfnew.applymap(len)"
   ]
  },
  {
   "cell_type": "code",
   "execution_count": 36,
   "metadata": {},
   "outputs": [
    {
     "data": {
      "text/plain": "   name city email\n0     S    Y     o\n1     S    T     o\n2     U    Y     s\n3     S    O     s\n4     S    L     s\n5     M    R     s\n6     U    O     o\n7     R    P     p\n8     N    D     o\n9     S    N     o\n10    T    D     p\n11    R    Y     r\n12    S    D     r\n13    S    Y     s\n14    W    Y     p\n15    V    Y     o\n16    U    Y     o\n17    R    Y     p\n18    V    Y     s",
      "text/html": "<div>\n<style scoped>\n    .dataframe tbody tr th:only-of-type {\n        vertical-align: middle;\n    }\n\n    .dataframe tbody tr th {\n        vertical-align: top;\n    }\n\n    .dataframe thead th {\n        text-align: right;\n    }\n</style>\n<table border=\"1\" class=\"dataframe\">\n  <thead>\n    <tr style=\"text-align: right;\">\n      <th></th>\n      <th>name</th>\n      <th>city</th>\n      <th>email</th>\n    </tr>\n  </thead>\n  <tbody>\n    <tr>\n      <th>0</th>\n      <td>S</td>\n      <td>Y</td>\n      <td>o</td>\n    </tr>\n    <tr>\n      <th>1</th>\n      <td>S</td>\n      <td>T</td>\n      <td>o</td>\n    </tr>\n    <tr>\n      <th>2</th>\n      <td>U</td>\n      <td>Y</td>\n      <td>s</td>\n    </tr>\n    <tr>\n      <th>3</th>\n      <td>S</td>\n      <td>O</td>\n      <td>s</td>\n    </tr>\n    <tr>\n      <th>4</th>\n      <td>S</td>\n      <td>L</td>\n      <td>s</td>\n    </tr>\n    <tr>\n      <th>5</th>\n      <td>M</td>\n      <td>R</td>\n      <td>s</td>\n    </tr>\n    <tr>\n      <th>6</th>\n      <td>U</td>\n      <td>O</td>\n      <td>o</td>\n    </tr>\n    <tr>\n      <th>7</th>\n      <td>R</td>\n      <td>P</td>\n      <td>p</td>\n    </tr>\n    <tr>\n      <th>8</th>\n      <td>N</td>\n      <td>D</td>\n      <td>o</td>\n    </tr>\n    <tr>\n      <th>9</th>\n      <td>S</td>\n      <td>N</td>\n      <td>o</td>\n    </tr>\n    <tr>\n      <th>10</th>\n      <td>T</td>\n      <td>D</td>\n      <td>p</td>\n    </tr>\n    <tr>\n      <th>11</th>\n      <td>R</td>\n      <td>Y</td>\n      <td>r</td>\n    </tr>\n    <tr>\n      <th>12</th>\n      <td>S</td>\n      <td>D</td>\n      <td>r</td>\n    </tr>\n    <tr>\n      <th>13</th>\n      <td>S</td>\n      <td>Y</td>\n      <td>s</td>\n    </tr>\n    <tr>\n      <th>14</th>\n      <td>W</td>\n      <td>Y</td>\n      <td>p</td>\n    </tr>\n    <tr>\n      <th>15</th>\n      <td>V</td>\n      <td>Y</td>\n      <td>o</td>\n    </tr>\n    <tr>\n      <th>16</th>\n      <td>U</td>\n      <td>Y</td>\n      <td>o</td>\n    </tr>\n    <tr>\n      <th>17</th>\n      <td>R</td>\n      <td>Y</td>\n      <td>p</td>\n    </tr>\n    <tr>\n      <th>18</th>\n      <td>V</td>\n      <td>Y</td>\n      <td>s</td>\n    </tr>\n  </tbody>\n</table>\n</div>"
     },
     "execution_count": 36,
     "metadata": {},
     "output_type": "execute_result"
    }
   ],
   "source": [
    "dfnew.applymap(max)"
   ]
  },
  {
   "cell_type": "code",
   "execution_count": 37,
   "metadata": {},
   "outputs": [
    {
     "data": {
      "text/plain": "         name city           email\n0    abhishek   sy  ak13@gmail.com\n1   abhishek1   at   ak1@gmail.com\n2     saurabh   sy  sk29@gmail.com\n3       sando   no  sd18@gmail.com\n4      ashish   dl  as12@gmail.com\n5      faheem   gr  fs25@gmail.com\n6      anurag   no  ak04@gmail.com\n7     pradeep   pn  pg16@gmail.com\n8       anand   db  ak05@gmail.com\n9     deeksha   nj  dg08@gmail.com\n10     hitesh   db  hp12@gmail.com\n11    roopali   sy  rr27@gmail.com\n12     rashmi   db  rp05@gmail.com\n13       sean   sy  sk10@gmail.com\n14     andrew   sy  ap21@gmail.com\n15    ishanvi   sy  ik09@gmail.com\n16      arjun   sy  ak20@gmail.com\n17    grandpa   sy  gp00@gmail.com\n18    shivani   sy  ss00@gmail.com",
      "text/html": "<div>\n<style scoped>\n    .dataframe tbody tr th:only-of-type {\n        vertical-align: middle;\n    }\n\n    .dataframe tbody tr th {\n        vertical-align: top;\n    }\n\n    .dataframe thead th {\n        text-align: right;\n    }\n</style>\n<table border=\"1\" class=\"dataframe\">\n  <thead>\n    <tr style=\"text-align: right;\">\n      <th></th>\n      <th>name</th>\n      <th>city</th>\n      <th>email</th>\n    </tr>\n  </thead>\n  <tbody>\n    <tr>\n      <th>0</th>\n      <td>abhishek</td>\n      <td>sy</td>\n      <td>ak13@gmail.com</td>\n    </tr>\n    <tr>\n      <th>1</th>\n      <td>abhishek1</td>\n      <td>at</td>\n      <td>ak1@gmail.com</td>\n    </tr>\n    <tr>\n      <th>2</th>\n      <td>saurabh</td>\n      <td>sy</td>\n      <td>sk29@gmail.com</td>\n    </tr>\n    <tr>\n      <th>3</th>\n      <td>sando</td>\n      <td>no</td>\n      <td>sd18@gmail.com</td>\n    </tr>\n    <tr>\n      <th>4</th>\n      <td>ashish</td>\n      <td>dl</td>\n      <td>as12@gmail.com</td>\n    </tr>\n    <tr>\n      <th>5</th>\n      <td>faheem</td>\n      <td>gr</td>\n      <td>fs25@gmail.com</td>\n    </tr>\n    <tr>\n      <th>6</th>\n      <td>anurag</td>\n      <td>no</td>\n      <td>ak04@gmail.com</td>\n    </tr>\n    <tr>\n      <th>7</th>\n      <td>pradeep</td>\n      <td>pn</td>\n      <td>pg16@gmail.com</td>\n    </tr>\n    <tr>\n      <th>8</th>\n      <td>anand</td>\n      <td>db</td>\n      <td>ak05@gmail.com</td>\n    </tr>\n    <tr>\n      <th>9</th>\n      <td>deeksha</td>\n      <td>nj</td>\n      <td>dg08@gmail.com</td>\n    </tr>\n    <tr>\n      <th>10</th>\n      <td>hitesh</td>\n      <td>db</td>\n      <td>hp12@gmail.com</td>\n    </tr>\n    <tr>\n      <th>11</th>\n      <td>roopali</td>\n      <td>sy</td>\n      <td>rr27@gmail.com</td>\n    </tr>\n    <tr>\n      <th>12</th>\n      <td>rashmi</td>\n      <td>db</td>\n      <td>rp05@gmail.com</td>\n    </tr>\n    <tr>\n      <th>13</th>\n      <td>sean</td>\n      <td>sy</td>\n      <td>sk10@gmail.com</td>\n    </tr>\n    <tr>\n      <th>14</th>\n      <td>andrew</td>\n      <td>sy</td>\n      <td>ap21@gmail.com</td>\n    </tr>\n    <tr>\n      <th>15</th>\n      <td>ishanvi</td>\n      <td>sy</td>\n      <td>ik09@gmail.com</td>\n    </tr>\n    <tr>\n      <th>16</th>\n      <td>arjun</td>\n      <td>sy</td>\n      <td>ak20@gmail.com</td>\n    </tr>\n    <tr>\n      <th>17</th>\n      <td>grandpa</td>\n      <td>sy</td>\n      <td>gp00@gmail.com</td>\n    </tr>\n    <tr>\n      <th>18</th>\n      <td>shivani</td>\n      <td>sy</td>\n      <td>ss00@gmail.com</td>\n    </tr>\n  </tbody>\n</table>\n</div>"
     },
     "execution_count": 37,
     "metadata": {},
     "output_type": "execute_result"
    }
   ],
   "source": [
    "dfnew1 = dfnew.applymap(str.lower)\n",
    "dfnew1"
   ]
  },
  {
   "cell_type": "markdown",
   "metadata": {},
   "source": [
    "### Map - works only on the Series object"
   ]
  },
  {
   "cell_type": "code",
   "execution_count": 38,
   "metadata": {},
   "outputs": [],
   "source": [
    "dfnew2 = dfnew1['city'].map({'sy':'Sunnyvale', 'at':'Atlanta','no':'Noida','dl':'Delhi','gr':'Gurugram','pn':'Pune','db':'Dublin'})"
   ]
  },
  {
   "cell_type": "code",
   "execution_count": 39,
   "metadata": {},
   "outputs": [
    {
     "data": {
      "text/plain": "0     Sunnyvale\n1       Atlanta\n2     Sunnyvale\n3         Noida\n4         Delhi\n5      Gurugram\n6         Noida\n7          Pune\n8        Dublin\n9           NaN\n10       Dublin\n11    Sunnyvale\n12       Dublin\n13    Sunnyvale\n14    Sunnyvale\n15    Sunnyvale\n16    Sunnyvale\n17    Sunnyvale\n18    Sunnyvale\nName: city, dtype: object"
     },
     "execution_count": 39,
     "metadata": {},
     "output_type": "execute_result"
    }
   ],
   "source": [
    "dfnew2 # nj is converted to Nan"
   ]
  },
  {
   "cell_type": "code",
   "execution_count": 40,
   "metadata": {},
   "outputs": [
    {
     "data": {
      "text/plain": "0     Sunnyvale\n1       Atlanta\n2     Sunnyvale\n3         Noida\n4         Delhi\n5      Gurugram\n6         Noida\n7          Pune\n8        Dublin\n9            nj\n10       Dublin\n11    Sunnyvale\n12       Dublin\n13    Sunnyvale\n14    Sunnyvale\n15    Sunnyvale\n16    Sunnyvale\n17    Sunnyvale\n18    Sunnyvale\nName: city, dtype: object"
     },
     "execution_count": 40,
     "metadata": {},
     "output_type": "execute_result"
    }
   ],
   "source": [
    "dfnew3 = dfnew1['city'].replace({'sy':'Sunnyvale', 'at':'Atlanta','no':'Noida','dl':'Delhi','gr':'Gurugram','pn':'Pune','db':'Dublin'})\n",
    "dfnew3 # nj is not converted\n"
   ]
  },
  {
   "cell_type": "code",
   "execution_count": 40,
   "metadata": {},
   "outputs": [],
   "source": []
  }
 ],
 "metadata": {
  "kernelspec": {
   "display_name": "Python 3",
   "language": "python",
   "name": "python3"
  },
  "language_info": {
   "codemirror_mode": {
    "name": "ipython",
    "version": 3
   },
   "file_extension": ".py",
   "mimetype": "text/x-python",
   "name": "python",
   "nbconvert_exporter": "python",
   "pygments_lexer": "ipython3",
   "version": "3.7.3"
  }
 },
 "nbformat": 4,
 "nbformat_minor": 4
}