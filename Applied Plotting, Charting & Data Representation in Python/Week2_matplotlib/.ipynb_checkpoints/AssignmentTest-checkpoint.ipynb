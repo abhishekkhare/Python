{
 "cells": [
  {
   "cell_type": "code",
   "execution_count": 15,
   "metadata": {},
   "outputs": [
    {
     "data": {
      "text/html": [
       "<div>\n",
       "<style scoped>\n",
       "    .dataframe tbody tr th:only-of-type {\n",
       "        vertical-align: middle;\n",
       "    }\n",
       "\n",
       "    .dataframe tbody tr th {\n",
       "        vertical-align: top;\n",
       "    }\n",
       "\n",
       "    .dataframe thead th {\n",
       "        text-align: right;\n",
       "    }\n",
       "</style>\n",
       "<table border=\"1\" class=\"dataframe\">\n",
       "  <thead>\n",
       "    <tr style=\"text-align: right;\">\n",
       "      <th></th>\n",
       "      <th>ID</th>\n",
       "      <th>Date</th>\n",
       "      <th>Element</th>\n",
       "      <th>Data_Value</th>\n",
       "      <th>Year</th>\n",
       "      <th>Month_Day</th>\n",
       "    </tr>\n",
       "  </thead>\n",
       "  <tbody>\n",
       "    <tr>\n",
       "      <th>55067</th>\n",
       "      <td>USC00200032</td>\n",
       "      <td>2005-01-01</td>\n",
       "      <td>TMIN</td>\n",
       "      <td>-28</td>\n",
       "      <td>2005</td>\n",
       "      <td>01-01</td>\n",
       "    </tr>\n",
       "    <tr>\n",
       "      <th>55102</th>\n",
       "      <td>USC00200032</td>\n",
       "      <td>2005-01-01</td>\n",
       "      <td>TMAX</td>\n",
       "      <td>67</td>\n",
       "      <td>2005</td>\n",
       "      <td>01-01</td>\n",
       "    </tr>\n",
       "    <tr>\n",
       "      <th>49823</th>\n",
       "      <td>USC00200228</td>\n",
       "      <td>2005-01-01</td>\n",
       "      <td>TMAX</td>\n",
       "      <td>150</td>\n",
       "      <td>2005</td>\n",
       "      <td>01-01</td>\n",
       "    </tr>\n",
       "    <tr>\n",
       "      <th>49827</th>\n",
       "      <td>USC00200228</td>\n",
       "      <td>2005-01-01</td>\n",
       "      <td>TMIN</td>\n",
       "      <td>-39</td>\n",
       "      <td>2005</td>\n",
       "      <td>01-01</td>\n",
       "    </tr>\n",
       "    <tr>\n",
       "      <th>35771</th>\n",
       "      <td>USC00200230</td>\n",
       "      <td>2005-01-01</td>\n",
       "      <td>TMAX</td>\n",
       "      <td>122</td>\n",
       "      <td>2005</td>\n",
       "      <td>01-01</td>\n",
       "    </tr>\n",
       "  </tbody>\n",
       "</table>\n",
       "</div>"
      ],
      "text/plain": [
       "                ID       Date Element  Data_Value  Year Month_Day\n",
       "55067  USC00200032 2005-01-01    TMIN         -28  2005     01-01\n",
       "55102  USC00200032 2005-01-01    TMAX          67  2005     01-01\n",
       "49823  USC00200228 2005-01-01    TMAX         150  2005     01-01\n",
       "49827  USC00200228 2005-01-01    TMIN         -39  2005     01-01\n",
       "35771  USC00200230 2005-01-01    TMAX         122  2005     01-01"
      ]
     },
     "execution_count": 15,
     "metadata": {},
     "output_type": "execute_result"
    }
   ],
   "source": [
    "import matplotlib.pyplot as plt\n",
    "import pandas as pd\n",
    "dfOriginal = pd.read_csv('fb441e62df2d58994928907a91895ec62c2c42e6cd075c2700843b89.csv')\n",
    "dfOriginal['Date'] = pd.to_datetime(dfOriginal['Date'])\n",
    "dfOriginal['Year'] = dfOriginal['Date'].dt.year\n",
    "dfOriginal['Month_Day'] = dfOriginal['Date'].dt.strftime('%m-%d')\n",
    "# sort the data based on Date and ID\n",
    "dfOriginal = dfOriginal.sort_values(['Date', 'ID'])\n",
    "dfOriginal.head()"
   ]
  },
  {
   "cell_type": "code",
   "execution_count": 16,
   "metadata": {
    "pycharm": {
     "name": "#%%\n"
    }
   },
   "outputs": [
    {
     "data": {
      "text/plain": [
       "ID            165002\n",
       "Date          165002\n",
       "Element       165002\n",
       "Data_Value    165002\n",
       "Year          165002\n",
       "Month_Day     165002\n",
       "dtype: int64"
      ]
     },
     "execution_count": 16,
     "metadata": {},
     "output_type": "execute_result"
    }
   ],
   "source": [
    "# Remove data for Feb 29th\n",
    "dfOriginal = dfOriginal[dfOriginal['Month_Day']!='02-29']\n",
    "dfOriginal.count()"
   ]
  },
  {
   "cell_type": "code",
   "execution_count": 17,
   "metadata": {
    "pycharm": {
     "name": "#%%\n"
    }
   },
   "outputs": [
    {
     "data": {
      "text/html": [
       "<div>\n",
       "<style scoped>\n",
       "    .dataframe tbody tr th:only-of-type {\n",
       "        vertical-align: middle;\n",
       "    }\n",
       "\n",
       "    .dataframe tbody tr th {\n",
       "        vertical-align: top;\n",
       "    }\n",
       "\n",
       "    .dataframe thead th {\n",
       "        text-align: right;\n",
       "    }\n",
       "</style>\n",
       "<table border=\"1\" class=\"dataframe\">\n",
       "  <thead>\n",
       "    <tr style=\"text-align: right;\">\n",
       "      <th></th>\n",
       "      <th>ID</th>\n",
       "      <th>Date</th>\n",
       "      <th>Element</th>\n",
       "      <th>Data_Value</th>\n",
       "      <th>Year</th>\n",
       "      <th>Month_Day</th>\n",
       "    </tr>\n",
       "  </thead>\n",
       "  <tbody>\n",
       "    <tr>\n",
       "      <th>36842</th>\n",
       "      <td>USW00014833</td>\n",
       "      <td>2015-12-31</td>\n",
       "      <td>TMAX</td>\n",
       "      <td>-1.0</td>\n",
       "      <td>2015</td>\n",
       "      <td>12-31</td>\n",
       "    </tr>\n",
       "    <tr>\n",
       "      <th>37904</th>\n",
       "      <td>USW00014853</td>\n",
       "      <td>2015-12-31</td>\n",
       "      <td>TMAX</td>\n",
       "      <td>1.7</td>\n",
       "      <td>2015</td>\n",
       "      <td>12-31</td>\n",
       "    </tr>\n",
       "    <tr>\n",
       "      <th>37905</th>\n",
       "      <td>USW00014853</td>\n",
       "      <td>2015-12-31</td>\n",
       "      <td>TMIN</td>\n",
       "      <td>0.0</td>\n",
       "      <td>2015</td>\n",
       "      <td>12-31</td>\n",
       "    </tr>\n",
       "    <tr>\n",
       "      <th>61120</th>\n",
       "      <td>USW00094889</td>\n",
       "      <td>2015-12-31</td>\n",
       "      <td>TMAX</td>\n",
       "      <td>-0.5</td>\n",
       "      <td>2015</td>\n",
       "      <td>12-31</td>\n",
       "    </tr>\n",
       "    <tr>\n",
       "      <th>61135</th>\n",
       "      <td>USW00094889</td>\n",
       "      <td>2015-12-31</td>\n",
       "      <td>TMIN</td>\n",
       "      <td>-2.1</td>\n",
       "      <td>2015</td>\n",
       "      <td>12-31</td>\n",
       "    </tr>\n",
       "  </tbody>\n",
       "</table>\n",
       "</div>"
      ],
      "text/plain": [
       "                ID       Date Element  Data_Value  Year Month_Day\n",
       "36842  USW00014833 2015-12-31    TMAX        -1.0  2015     12-31\n",
       "37904  USW00014853 2015-12-31    TMAX         1.7  2015     12-31\n",
       "37905  USW00014853 2015-12-31    TMIN         0.0  2015     12-31\n",
       "61120  USW00094889 2015-12-31    TMAX        -0.5  2015     12-31\n",
       "61135  USW00094889 2015-12-31    TMIN        -2.1  2015     12-31"
      ]
     },
     "execution_count": 17,
     "metadata": {},
     "output_type": "execute_result"
    }
   ],
   "source": [
    "# get temperature in degrees C \n",
    "dfOriginal['Data_Value'] = dfOriginal['Data_Value'].apply(lambda x: x / 10)\n",
    "dfOriginal.tail(5)"
   ]
  },
  {
   "cell_type": "code",
   "execution_count": 28,
   "metadata": {
    "pycharm": {
     "name": "#%%\n"
    }
   },
   "outputs": [
    {
     "data": {
      "text/html": [
       "<div>\n",
       "<style scoped>\n",
       "    .dataframe tbody tr th:only-of-type {\n",
       "        vertical-align: middle;\n",
       "    }\n",
       "\n",
       "    .dataframe tbody tr th {\n",
       "        vertical-align: top;\n",
       "    }\n",
       "\n",
       "    .dataframe thead th {\n",
       "        text-align: right;\n",
       "    }\n",
       "</style>\n",
       "<table border=\"1\" class=\"dataframe\">\n",
       "  <thead>\n",
       "    <tr style=\"text-align: right;\">\n",
       "      <th></th>\n",
       "      <th>Month_Day</th>\n",
       "      <th>max</th>\n",
       "      <th>min</th>\n",
       "    </tr>\n",
       "  </thead>\n",
       "  <tbody>\n",
       "    <tr>\n",
       "      <th>0</th>\n",
       "      <td>01-01</td>\n",
       "      <td>15.6</td>\n",
       "      <td>-16.0</td>\n",
       "    </tr>\n",
       "    <tr>\n",
       "      <th>1</th>\n",
       "      <td>01-02</td>\n",
       "      <td>13.9</td>\n",
       "      <td>-26.7</td>\n",
       "    </tr>\n",
       "    <tr>\n",
       "      <th>2</th>\n",
       "      <td>01-03</td>\n",
       "      <td>13.3</td>\n",
       "      <td>-26.7</td>\n",
       "    </tr>\n",
       "    <tr>\n",
       "      <th>3</th>\n",
       "      <td>01-04</td>\n",
       "      <td>10.6</td>\n",
       "      <td>-26.1</td>\n",
       "    </tr>\n",
       "    <tr>\n",
       "      <th>4</th>\n",
       "      <td>01-05</td>\n",
       "      <td>12.8</td>\n",
       "      <td>-15.0</td>\n",
       "    </tr>\n",
       "    <tr>\n",
       "      <th>...</th>\n",
       "      <td>...</td>\n",
       "      <td>...</td>\n",
       "      <td>...</td>\n",
       "    </tr>\n",
       "    <tr>\n",
       "      <th>360</th>\n",
       "      <td>12-27</td>\n",
       "      <td>18.9</td>\n",
       "      <td>-13.8</td>\n",
       "    </tr>\n",
       "    <tr>\n",
       "      <th>361</th>\n",
       "      <td>12-28</td>\n",
       "      <td>19.4</td>\n",
       "      <td>-16.6</td>\n",
       "    </tr>\n",
       "    <tr>\n",
       "      <th>362</th>\n",
       "      <td>12-29</td>\n",
       "      <td>12.8</td>\n",
       "      <td>-15.0</td>\n",
       "    </tr>\n",
       "    <tr>\n",
       "      <th>363</th>\n",
       "      <td>12-30</td>\n",
       "      <td>11.7</td>\n",
       "      <td>-14.4</td>\n",
       "    </tr>\n",
       "    <tr>\n",
       "      <th>364</th>\n",
       "      <td>12-31</td>\n",
       "      <td>13.9</td>\n",
       "      <td>-15.0</td>\n",
       "    </tr>\n",
       "  </tbody>\n",
       "</table>\n",
       "<p>365 rows × 3 columns</p>\n",
       "</div>"
      ],
      "text/plain": [
       "    Month_Day   max   min\n",
       "0       01-01  15.6 -16.0\n",
       "1       01-02  13.9 -26.7\n",
       "2       01-03  13.3 -26.7\n",
       "3       01-04  10.6 -26.1\n",
       "4       01-05  12.8 -15.0\n",
       "..        ...   ...   ...\n",
       "360     12-27  18.9 -13.8\n",
       "361     12-28  19.4 -16.6\n",
       "362     12-29  12.8 -15.0\n",
       "363     12-30  11.7 -14.4\n",
       "364     12-31  13.9 -15.0\n",
       "\n",
       "[365 rows x 3 columns]"
      ]
     },
     "execution_count": 28,
     "metadata": {},
     "output_type": "execute_result"
    }
   ],
   "source": [
    "# Remove data for 2015\n",
    "df1=dfOriginal.copy()\n",
    "filter1 = ((dfOriginal['Year'] >= 2005) & (dfOriginal['Year'] < 2015))\n",
    "df1 = df1.loc[filter1]\n",
    "#print(dfOriginal.count())\n",
    "#print(df1.count())\n",
    "result1 = df1.groupby('Month_Day')['Data_Value'].agg(['max', 'min']).reset_index()\n",
    "result1"
   ]
  },
  {
   "cell_type": "code",
   "execution_count": 26,
   "metadata": {
    "pycharm": {
     "name": "#%%\n"
    }
   },
   "outputs": [
    {
     "data": {
      "text/plain": [
       "<matplotlib.legend.Legend at 0x1296f5748>"
      ]
     },
     "execution_count": 26,
     "metadata": {},
     "output_type": "execute_result"
    },
    {
     "data": {
      "image/png": "[encoded data removed]",
      "text/plain": [
       "<Figure size 432x288 with 1 Axes>"
      ]
     },
     "metadata": {
      "needs_background": "light"
     },
     "output_type": "display_data"
    }
   ],
   "source": [
    "#Part 1 of assignment\n",
    "plt.figure()\n",
    "plt.plot(result1['Month_Day'] ,result1['max'], color='b', label='record low 2005-2014')\n",
    "plt.plot(result1['Month_Day'] ,result1['min'], color='r',  label='record high 2005-2014')\n",
    "plt.gca().fill_between(result1['Month_Day'], \n",
    "                       result1['min'], result1['max'], \n",
    "                       facecolor='blue', \n",
    "                       alpha=0.25)\n",
    "plt.legend(loc='best')"
   ]
  },
  {
   "cell_type": "code",
   "execution_count": 30,
   "metadata": {
    "pycharm": {
     "name": "#%%\n"
    }
   },
   "outputs": [
    {
     "data": {
      "text/plain": [
       "<matplotlib.collections.PathCollection at 0x12a7bc7b8>"
      ]
     },
     "execution_count": 30,
     "metadata": {},
     "output_type": "execute_result"
    },
    {
     "data": {
      "image/png": "[encoded data removed]",
      "text/plain": [
       "<Figure size 432x288 with 1 Axes>"
      ]
     },
     "metadata": {
      "needs_background": "light"
     },
     "output_type": "display_data"
    }
   ],
   "source": [
    "# data for 2015 only\n",
    "df2=dfOriginal.copy()\n",
    "filter2 = ((dfOriginal['Year'] >= 2015))\n",
    "df2 = df2.loc[filter2]\n",
    "#print(dfOriginal.count())\n",
    "#print(df2.count())\n",
    "result2 = df2.groupby('Month_Day')['Data_Value'].agg(['max', 'min']).rename(columns={'max': 'max2015', 'min': 'min2015'}).reset_index()\n",
    "#print(result2)\n",
    "# Merge the pre2015 and 2015 DataFrames\n",
    "result2 = pd.merge(result1, result2, how='outer', left_on='Month_Day', right_on='Month_Day')\n",
    "result2\n",
    "# Determine if min or max is more extreme than pre2015\n",
    "result2['min_record_in_2015'] = result2['min2015'] < result2['min']\n",
    "result2['max_record_in_2015'] = result2['max2015'] > result2['max']\n",
    "    \n",
    "# Remove the rows with both values False\n",
    "result2 = result2[(result2.min_record_in_2015 == True) | (result2.max_record_in_2015 == True)]\n",
    "#print(result2)\n",
    "plt.scatter(result2['Month_Day'], result2['min'], color='m', marker='o', s=60, label='record low achieved in 2015')\n",
    "plt.scatter(result2['Month_Day'], result2['max'], color='k', marker='o', s=60, label='record high achieved in 2015')"
   ]
  },
  {
   "cell_type": "code",
   "execution_count": 31,
   "metadata": {
    "pycharm": {
     "name": "#%%\n"
    }
   },
   "outputs": [
    {
     "data": {
      "text/plain": [
       "([<matplotlib.axis.XTick at 0x12a7a3630>,\n",
       "  <matplotlib.axis.XTick at 0x12a7a3a20>,\n",
       "  <matplotlib.axis.XTick at 0x12a7d0940>,\n",
       "  <matplotlib.axis.XTick at 0x12a79e198>,\n",
       "  <matplotlib.axis.XTick at 0x12a79efd0>,\n",
       "  <matplotlib.axis.XTick at 0x12a79dbe0>,\n",
       "  <matplotlib.axis.XTick at 0x12a79d748>,\n",
       "  <matplotlib.axis.XTick at 0x12a79d278>,\n",
       "  <matplotlib.axis.XTick at 0x12a79cda0>,\n",
       "  <matplotlib.axis.XTick at 0x12a79c8d0>,\n",
       "  <matplotlib.axis.XTick at 0x12a79c438>,\n",
       "  <matplotlib.axis.XTick at 0x12a79bf28>],\n",
       " [Text(15, 0, 'Jan'),\n",
       "  Text(45, 0, 'Feb'),\n",
       "  Text(75, 0, 'Mar'),\n",
       "  Text(105, 0, 'Apr'),\n",
       "  Text(135, 0, 'May'),\n",
       "  Text(165, 0, 'Jun'),\n",
       "  Text(195, 0, 'Jul'),\n",
       "  Text(225, 0, 'Aug'),\n",
       "  Text(255, 0, 'Sep'),\n",
       "  Text(285, 0, 'Oct'),\n",
       "  Text(315, 0, 'Nov'),\n",
       "  Text(345, 0, 'Dec')])"
      ]
     },
     "execution_count": 31,
     "metadata": {},
     "output_type": "execute_result"
    },
    {
     "data": {
      "image/png": "[encoded data removed]",
      "text/plain": [
       "<Figure size 432x288 with 1 Axes>"
      ]
     },
     "metadata": {
      "needs_background": "light"
     },
     "output_type": "display_data"
    }
   ],
   "source": [
    "plt.figure()\n",
    "plt.plot(result1['Month_Day'] ,result1['max'], color='b', lw=0.5, label='record low 2005-2014')\n",
    "plt.plot(result1['Month_Day'] ,result1['min'], color='r', lw=0.5, label='record high 2005-2014')\n",
    "plt.gca().fill_between(result1['Month_Day'], \n",
    "                       result1['min'], result1['max'], \n",
    "                       facecolor='blue', \n",
    "                       alpha=0.25)\n",
    "plt.scatter(result2['Month_Day'], result2['min'], color='m', marker='o', s=60, label='record low achieved in 2015')\n",
    "plt.scatter(result2['Month_Day'], result2['max'], color='k', marker='o', s=60, label='record high achieved in 2015')\n",
    "plt.legend(loc='best')\n",
    "plt.ylabel('Temperature (Deg C)')\n",
    "plt.title('Record Temperatures for each Day of the Year')\n",
    "a = [0, 30, 60, 90, 120, 150, 180, 210, 240, 270, 300, 330]\n",
    "b = [i+15 for i in a]\n",
    "Month_name = ['Jan', 'Feb', 'Mar', 'Apr', 'May', 'Jun', 'Jul', 'Aug', 'Sep', 'Oct', 'Nov', 'Dec']\n",
    "plt.xticks(b, Month_name)"
   ]
  },
  {
   "cell_type": "code",
   "execution_count": null,
   "metadata": {},
   "outputs": [],
   "source": []
  }
 ],
 "metadata": {
  "kernelspec": {
   "display_name": "Python 3",
   "language": "python",
   "name": "python3"
  },
  "language_info": {
   "codemirror_mode": {
    "name": "ipython",
    "version": 3
   },
   "file_extension": ".py",
   "mimetype": "text/x-python",
   "name": "python",
   "nbconvert_exporter": "python",
   "pygments_lexer": "ipython3",
   "version": "3.7.3"
  },
  "pycharm": {
   "stem_cell": {
    "cell_type": "raw",
    "metadata": {
     "collapsed": false
    },
    "source": []
   }
  }
 },
 "nbformat": 4,
 "nbformat_minor": 4
}
