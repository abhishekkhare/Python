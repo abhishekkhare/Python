{
 "cells": [
  {
   "cell_type": "markdown",
   "metadata": {
    "collapsed": true
   },
   "source": [
    "#### 1 Region and Domain\n",
    "State the region and the domain category that your data sets are about.\n",
    "\n",
    "India,\n",
    "\n",
    "Average Rainfall, Maximum and Minimum Temperature\n",
    "\n",
    "#### 2 Research Question\n",
    "How has the average rainfall, Maximum and Minimum Temperature has changed over the decades between 1901-2015.\n",
    "\n",
    "#### 3 Links\n",
    "[rainfall-in-india](https://www.kaggle.com/rajanand/rainfall-in-india/)\n",
    "\n",
    "[weather-data-in-india-from-1901-to-2015](https://www.kaggle.com/mahendran1/weather-data-in-india-from-1901-to-2017)\n",
    "\n"
   ]
  },
  {
   "cell_type": "code",
   "execution_count": 1,
   "metadata": {},
   "outputs": [],
   "source": [
    "import pandas as pd\n",
    "import numpy as np\n",
    "import matplotlib.pyplot as plt \n",
    "\n",
    "plt.style.use('seaborn')"
   ]
  },
  {
   "cell_type": "code",
   "execution_count": 2,
   "metadata": {},
   "outputs": [
    {
     "data": {
      "text/plain": "                 SUBDIVISION  YEAR   JAN    FEB   MAR    APR    MAY    JUN  \\\n0  ANDAMAN & NICOBAR ISLANDS  1901  49.2   87.1  29.2    2.3  528.8  517.5   \n1  ANDAMAN & NICOBAR ISLANDS  1902   0.0  159.8  12.2    0.0  446.1  537.1   \n2  ANDAMAN & NICOBAR ISLANDS  1903  12.7  144.0   0.0    1.0  235.1  479.9   \n3  ANDAMAN & NICOBAR ISLANDS  1904   9.4   14.7   0.0  202.4  304.5  495.1   \n4  ANDAMAN & NICOBAR ISLANDS  1905   1.3    0.0   3.3   26.9  279.5  628.7   \n\n     JUL    AUG    SEP    OCT    NOV    DEC  ANNUAL  Jan-Feb  Mar-May  \\\n0  365.1  481.1  332.6  388.5  558.2   33.6  3373.2    136.3    560.3   \n1  228.9  753.7  666.2  197.2  359.0  160.5  3520.7    159.8    458.3   \n2  728.4  326.7  339.0  181.2  284.4  225.0  2957.4    156.7    236.1   \n3  502.0  160.1  820.4  222.2  308.7   40.1  3079.6     24.1    506.9   \n4  368.7  330.5  297.0  260.7   25.4  344.7  2566.7      1.3    309.7   \n\n   Jun-Sep  Oct-Dec  \n0   1696.3    980.3  \n1   2185.9    716.7  \n2   1874.0    690.6  \n3   1977.6    571.0  \n4   1624.9    630.8  ",
      "text/html": "<div>\n<style scoped>\n    .dataframe tbody tr th:only-of-type {\n        vertical-align: middle;\n    }\n\n    .dataframe tbody tr th {\n        vertical-align: top;\n    }\n\n    .dataframe thead th {\n        text-align: right;\n    }\n</style>\n<table border=\"1\" class=\"dataframe\">\n  <thead>\n    <tr style=\"text-align: right;\">\n      <th></th>\n      <th>SUBDIVISION</th>\n      <th>YEAR</th>\n      <th>JAN</th>\n      <th>FEB</th>\n      <th>MAR</th>\n      <th>APR</th>\n      <th>MAY</th>\n      <th>JUN</th>\n      <th>JUL</th>\n      <th>AUG</th>\n      <th>SEP</th>\n      <th>OCT</th>\n      <th>NOV</th>\n      <th>DEC</th>\n      <th>ANNUAL</th>\n      <th>Jan-Feb</th>\n      <th>Mar-May</th>\n      <th>Jun-Sep</th>\n      <th>Oct-Dec</th>\n    </tr>\n  </thead>\n  <tbody>\n    <tr>\n      <th>0</th>\n      <td>ANDAMAN &amp; NICOBAR ISLANDS</td>\n      <td>1901</td>\n      <td>49.2</td>\n      <td>87.1</td>\n      <td>29.2</td>\n      <td>2.3</td>\n      <td>528.8</td>\n      <td>517.5</td>\n      <td>365.1</td>\n      <td>481.1</td>\n      <td>332.6</td>\n      <td>388.5</td>\n      <td>558.2</td>\n      <td>33.6</td>\n      <td>3373.2</td>\n      <td>136.3</td>\n      <td>560.3</td>\n      <td>1696.3</td>\n      <td>980.3</td>\n    </tr>\n    <tr>\n      <th>1</th>\n      <td>ANDAMAN &amp; NICOBAR ISLANDS</td>\n      <td>1902</td>\n      <td>0.0</td>\n      <td>159.8</td>\n      <td>12.2</td>\n      <td>0.0</td>\n      <td>446.1</td>\n      <td>537.1</td>\n      <td>228.9</td>\n      <td>753.7</td>\n      <td>666.2</td>\n      <td>197.2</td>\n      <td>359.0</td>\n      <td>160.5</td>\n      <td>3520.7</td>\n      <td>159.8</td>\n      <td>458.3</td>\n      <td>2185.9</td>\n      <td>716.7</td>\n    </tr>\n    <tr>\n      <th>2</th>\n      <td>ANDAMAN &amp; NICOBAR ISLANDS</td>\n      <td>1903</td>\n      <td>12.7</td>\n      <td>144.0</td>\n      <td>0.0</td>\n      <td>1.0</td>\n      <td>235.1</td>\n      <td>479.9</td>\n      <td>728.4</td>\n      <td>326.7</td>\n      <td>339.0</td>\n      <td>181.2</td>\n      <td>284.4</td>\n      <td>225.0</td>\n      <td>2957.4</td>\n      <td>156.7</td>\n      <td>236.1</td>\n      <td>1874.0</td>\n      <td>690.6</td>\n    </tr>\n    <tr>\n      <th>3</th>\n      <td>ANDAMAN &amp; NICOBAR ISLANDS</td>\n      <td>1904</td>\n      <td>9.4</td>\n      <td>14.7</td>\n      <td>0.0</td>\n      <td>202.4</td>\n      <td>304.5</td>\n      <td>495.1</td>\n      <td>502.0</td>\n      <td>160.1</td>\n      <td>820.4</td>\n      <td>222.2</td>\n      <td>308.7</td>\n      <td>40.1</td>\n      <td>3079.6</td>\n      <td>24.1</td>\n      <td>506.9</td>\n      <td>1977.6</td>\n      <td>571.0</td>\n    </tr>\n    <tr>\n      <th>4</th>\n      <td>ANDAMAN &amp; NICOBAR ISLANDS</td>\n      <td>1905</td>\n      <td>1.3</td>\n      <td>0.0</td>\n      <td>3.3</td>\n      <td>26.9</td>\n      <td>279.5</td>\n      <td>628.7</td>\n      <td>368.7</td>\n      <td>330.5</td>\n      <td>297.0</td>\n      <td>260.7</td>\n      <td>25.4</td>\n      <td>344.7</td>\n      <td>2566.7</td>\n      <td>1.3</td>\n      <td>309.7</td>\n      <td>1624.9</td>\n      <td>630.8</td>\n    </tr>\n  </tbody>\n</table>\n</div>"
     },
     "execution_count": 2,
     "metadata": {},
     "output_type": "execute_result"
    }
   ],
   "source": [
    "rainfallDfBase = pd.read_csv('rainfall in india 1901-2015.csv')\n",
    "rainfallDfBase.head()"
   ]
  },
  {
   "cell_type": "code",
   "execution_count": 3,
   "metadata": {},
   "outputs": [
    {
     "data": {
      "text/plain": "   Unnamed: 0  YEAR    JAN    FEB    MAR    APR    MAY    JUN    JUL    AUG  \\\n0           0  1901  17.99  19.43  23.49  26.41  28.28  28.60  27.49  26.98   \n1           1  1902  19.00  20.39  24.10  26.54  28.68  28.44  27.29  27.05   \n2           2  1903  18.32  19.79  22.46  26.03  27.93  28.41  28.04  26.63   \n3           3  1904  17.77  19.39  22.95  26.73  27.83  27.85  26.84  26.73   \n4           4  1905  17.40  17.79  21.78  24.84  28.32  28.69  27.67  27.47   \n\n     SEP    OCT    NOV    DEC  \n0  26.26  25.08  21.73  18.95  \n1  25.95  24.37  21.33  18.78  \n2  26.34  24.57  20.96  18.29  \n3  25.84  24.36  21.07  18.84  \n4  26.29  26.16  22.07  18.71  ",
      "text/html": "<div>\n<style scoped>\n    .dataframe tbody tr th:only-of-type {\n        vertical-align: middle;\n    }\n\n    .dataframe tbody tr th {\n        vertical-align: top;\n    }\n\n    .dataframe thead th {\n        text-align: right;\n    }\n</style>\n<table border=\"1\" class=\"dataframe\">\n  <thead>\n    <tr style=\"text-align: right;\">\n      <th></th>\n      <th>Unnamed: 0</th>\n      <th>YEAR</th>\n      <th>JAN</th>\n      <th>FEB</th>\n      <th>MAR</th>\n      <th>APR</th>\n      <th>MAY</th>\n      <th>JUN</th>\n      <th>JUL</th>\n      <th>AUG</th>\n      <th>SEP</th>\n      <th>OCT</th>\n      <th>NOV</th>\n      <th>DEC</th>\n    </tr>\n  </thead>\n  <tbody>\n    <tr>\n      <th>0</th>\n      <td>0</td>\n      <td>1901</td>\n      <td>17.99</td>\n      <td>19.43</td>\n      <td>23.49</td>\n      <td>26.41</td>\n      <td>28.28</td>\n      <td>28.60</td>\n      <td>27.49</td>\n      <td>26.98</td>\n      <td>26.26</td>\n      <td>25.08</td>\n      <td>21.73</td>\n      <td>18.95</td>\n    </tr>\n    <tr>\n      <th>1</th>\n      <td>1</td>\n      <td>1902</td>\n      <td>19.00</td>\n      <td>20.39</td>\n      <td>24.10</td>\n      <td>26.54</td>\n      <td>28.68</td>\n      <td>28.44</td>\n      <td>27.29</td>\n      <td>27.05</td>\n      <td>25.95</td>\n      <td>24.37</td>\n      <td>21.33</td>\n      <td>18.78</td>\n    </tr>\n    <tr>\n      <th>2</th>\n      <td>2</td>\n      <td>1903</td>\n      <td>18.32</td>\n      <td>19.79</td>\n      <td>22.46</td>\n      <td>26.03</td>\n      <td>27.93</td>\n      <td>28.41</td>\n      <td>28.04</td>\n      <td>26.63</td>\n      <td>26.34</td>\n      <td>24.57</td>\n      <td>20.96</td>\n      <td>18.29</td>\n    </tr>\n    <tr>\n      <th>3</th>\n      <td>3</td>\n      <td>1904</td>\n      <td>17.77</td>\n      <td>19.39</td>\n      <td>22.95</td>\n      <td>26.73</td>\n      <td>27.83</td>\n      <td>27.85</td>\n      <td>26.84</td>\n      <td>26.73</td>\n      <td>25.84</td>\n      <td>24.36</td>\n      <td>21.07</td>\n      <td>18.84</td>\n    </tr>\n    <tr>\n      <th>4</th>\n      <td>4</td>\n      <td>1905</td>\n      <td>17.40</td>\n      <td>17.79</td>\n      <td>21.78</td>\n      <td>24.84</td>\n      <td>28.32</td>\n      <td>28.69</td>\n      <td>27.67</td>\n      <td>27.47</td>\n      <td>26.29</td>\n      <td>26.16</td>\n      <td>22.07</td>\n      <td>18.71</td>\n    </tr>\n  </tbody>\n</table>\n</div>"
     },
     "execution_count": 3,
     "metadata": {},
     "output_type": "execute_result"
    }
   ],
   "source": [
    "temperatureBase = pd.read_csv('Temprature in india 1901-2015.csv')\n",
    "temperatureBase.head()"
   ]
  },
  {
   "cell_type": "code",
   "execution_count": 4,
   "metadata": {},
   "outputs": [
    {
     "data": {
      "text/plain": "   YEAR        JAN        FEB        MAR        APR        MAY         JUN  \\\n0  1901  35.220000  40.508571  21.097143  46.388571  70.434286  194.608571   \n1  1902   8.520000   8.305714  20.951429  45.771429  72.040000  168.820000   \n2  1903  16.851429  14.342857  26.577143  16.974286  80.237143  171.988571   \n3  1904  11.697143   9.391429  28.880000  41.402857  92.454286  237.485714   \n4  1905  23.200000  20.477143  40.940000  34.754286  76.437143  164.805714   \n\n          JUL         AUG         SEP  ...        NOV        DEC       ANNUAL  \\\n0  291.208571  301.325714  134.154286  ...  64.757143  10.808571  1284.214286   \n1  351.145714  239.800000  258.611429  ...  43.457143  33.151429  1337.302857   \n2  362.108571  299.482857  216.620000  ...  48.523529  22.311765  1399.908824   \n3  311.971429  217.014286  167.402857  ...  19.757143  14.771429  1236.771429   \n4  288.314286  246.780000  179.260000  ...  16.025714  17.005714  1186.177143   \n\n     Jan-Feb     Mar-May      Jun-Sep     Oct-Dec        MEAN         MAX  \\\n0  75.722857  137.920000   921.305714  149.262857  107.017381  301.325714   \n1  16.814286  138.777143  1018.385714  163.334286  111.440714  351.145714   \n2  31.197143  123.768571  1050.194286  197.535294  116.780322  362.108571   \n3  21.077143  162.734286   933.874286  119.085714  103.065000  311.971429   \n4  43.674286  152.128571   879.171429  111.205714   98.847381  288.314286   \n\n         MIN  \n0  10.808571  \n1   8.305714  \n2  14.342857  \n3   9.391429  \n4  16.025714  \n\n[5 rows x 21 columns]",
      "text/html": "<div>\n<style scoped>\n    .dataframe tbody tr th:only-of-type {\n        vertical-align: middle;\n    }\n\n    .dataframe tbody tr th {\n        vertical-align: top;\n    }\n\n    .dataframe thead th {\n        text-align: right;\n    }\n</style>\n<table border=\"1\" class=\"dataframe\">\n  <thead>\n    <tr style=\"text-align: right;\">\n      <th></th>\n      <th>YEAR</th>\n      <th>JAN</th>\n      <th>FEB</th>\n      <th>MAR</th>\n      <th>APR</th>\n      <th>MAY</th>\n      <th>JUN</th>\n      <th>JUL</th>\n      <th>AUG</th>\n      <th>SEP</th>\n      <th>...</th>\n      <th>NOV</th>\n      <th>DEC</th>\n      <th>ANNUAL</th>\n      <th>Jan-Feb</th>\n      <th>Mar-May</th>\n      <th>Jun-Sep</th>\n      <th>Oct-Dec</th>\n      <th>MEAN</th>\n      <th>MAX</th>\n      <th>MIN</th>\n    </tr>\n  </thead>\n  <tbody>\n    <tr>\n      <th>0</th>\n      <td>1901</td>\n      <td>35.220000</td>\n      <td>40.508571</td>\n      <td>21.097143</td>\n      <td>46.388571</td>\n      <td>70.434286</td>\n      <td>194.608571</td>\n      <td>291.208571</td>\n      <td>301.325714</td>\n      <td>134.154286</td>\n      <td>...</td>\n      <td>64.757143</td>\n      <td>10.808571</td>\n      <td>1284.214286</td>\n      <td>75.722857</td>\n      <td>137.920000</td>\n      <td>921.305714</td>\n      <td>149.262857</td>\n      <td>107.017381</td>\n      <td>301.325714</td>\n      <td>10.808571</td>\n    </tr>\n    <tr>\n      <th>1</th>\n      <td>1902</td>\n      <td>8.520000</td>\n      <td>8.305714</td>\n      <td>20.951429</td>\n      <td>45.771429</td>\n      <td>72.040000</td>\n      <td>168.820000</td>\n      <td>351.145714</td>\n      <td>239.800000</td>\n      <td>258.611429</td>\n      <td>...</td>\n      <td>43.457143</td>\n      <td>33.151429</td>\n      <td>1337.302857</td>\n      <td>16.814286</td>\n      <td>138.777143</td>\n      <td>1018.385714</td>\n      <td>163.334286</td>\n      <td>111.440714</td>\n      <td>351.145714</td>\n      <td>8.305714</td>\n    </tr>\n    <tr>\n      <th>2</th>\n      <td>1903</td>\n      <td>16.851429</td>\n      <td>14.342857</td>\n      <td>26.577143</td>\n      <td>16.974286</td>\n      <td>80.237143</td>\n      <td>171.988571</td>\n      <td>362.108571</td>\n      <td>299.482857</td>\n      <td>216.620000</td>\n      <td>...</td>\n      <td>48.523529</td>\n      <td>22.311765</td>\n      <td>1399.908824</td>\n      <td>31.197143</td>\n      <td>123.768571</td>\n      <td>1050.194286</td>\n      <td>197.535294</td>\n      <td>116.780322</td>\n      <td>362.108571</td>\n      <td>14.342857</td>\n    </tr>\n    <tr>\n      <th>3</th>\n      <td>1904</td>\n      <td>11.697143</td>\n      <td>9.391429</td>\n      <td>28.880000</td>\n      <td>41.402857</td>\n      <td>92.454286</td>\n      <td>237.485714</td>\n      <td>311.971429</td>\n      <td>217.014286</td>\n      <td>167.402857</td>\n      <td>...</td>\n      <td>19.757143</td>\n      <td>14.771429</td>\n      <td>1236.771429</td>\n      <td>21.077143</td>\n      <td>162.734286</td>\n      <td>933.874286</td>\n      <td>119.085714</td>\n      <td>103.065000</td>\n      <td>311.971429</td>\n      <td>9.391429</td>\n    </tr>\n    <tr>\n      <th>4</th>\n      <td>1905</td>\n      <td>23.200000</td>\n      <td>20.477143</td>\n      <td>40.940000</td>\n      <td>34.754286</td>\n      <td>76.437143</td>\n      <td>164.805714</td>\n      <td>288.314286</td>\n      <td>246.780000</td>\n      <td>179.260000</td>\n      <td>...</td>\n      <td>16.025714</td>\n      <td>17.005714</td>\n      <td>1186.177143</td>\n      <td>43.674286</td>\n      <td>152.128571</td>\n      <td>879.171429</td>\n      <td>111.205714</td>\n      <td>98.847381</td>\n      <td>288.314286</td>\n      <td>16.025714</td>\n    </tr>\n  </tbody>\n</table>\n<p>5 rows × 21 columns</p>\n</div>"
     },
     "execution_count": 4,
     "metadata": {},
     "output_type": "execute_result"
    }
   ],
   "source": [
    "rainfallDfGroupBy = rainfallDfBase.groupby(['YEAR'])\n",
    "rainfallDfBase = rainfallDfGroupBy.mean()\n",
    "rainfallDfBase.reset_index(inplace = True)\n",
    "\n",
    "col = rainfallDfBase.loc[: , \"JAN\":\"DEC\"]\n",
    "rainfallDfBase['MEAN'] = col.mean(axis=1)\n",
    "rainfallDfBase['MAX'] = col.max(axis=1)\n",
    "rainfallDfBase['MIN'] = col.min(axis=1)\n",
    "rainfallDfBase\n",
    "\n",
    "rainfallDfBase.head()"
   ]
  },
  {
   "cell_type": "code",
   "execution_count": 5,
   "metadata": {},
   "outputs": [
    {
     "data": {
      "text/plain": "     Unnamed: 0  YEAR    JAN    FEB    MAR    APR    MAY    JUN    JUL    AUG  \\\n0             0  1901  17.99  19.43  23.49  26.41  28.28  28.60  27.49  26.98   \n1             1  1902  19.00  20.39  24.10  26.54  28.68  28.44  27.29  27.05   \n2             2  1903  18.32  19.79  22.46  26.03  27.93  28.41  28.04  26.63   \n3             3  1904  17.77  19.39  22.95  26.73  27.83  27.85  26.84  26.73   \n4             4  1905  17.40  17.79  21.78  24.84  28.32  28.69  27.67  27.47   \n..          ...   ...    ...    ...    ...    ...    ...    ...    ...    ...   \n110         110  2011  18.32  20.79  24.11  26.10  28.92  28.60  27.60  27.20   \n111         111  2012  18.25  20.43  23.98  26.89  28.72  28.91  27.98  27.31   \n112         112  2013  18.88  21.07  24.53  26.97  29.06  28.24  27.50  27.22   \n113         113  2014  18.81  20.35  23.34  26.91  28.45  29.42  28.07  27.42   \n114         114  2015  19.02  21.23  23.52  26.52  28.82  28.15  28.03  27.64   \n\n       SEP    OCT    NOV    DEC    MAX    MIN       MEAN  \n0    26.26  25.08  21.73  18.95  28.60  17.99  24.224167  \n1    25.95  24.37  21.33  18.78  28.68  18.78  24.326667  \n2    26.34  24.57  20.96  18.29  28.41  18.29  23.980833  \n3    25.84  24.36  21.07  18.84  27.85  17.77  23.850000  \n4    26.29  26.16  22.07  18.71  28.69  17.40  23.932500  \n..     ...    ...    ...    ...    ...    ...        ...  \n110  26.70  25.51  22.84  19.84  28.92  18.32  24.710833  \n111  26.65  24.85  22.26  19.91  28.91  18.25  24.678333  \n112  26.87  25.63  22.18  19.69  29.06  18.88  24.820000  \n113  26.61  25.38  22.53  19.50  29.42  18.81  24.732500  \n114  27.04  25.82  22.95  20.21  28.82  19.02  24.912500  \n\n[115 rows x 17 columns]",
      "text/html": "<div>\n<style scoped>\n    .dataframe tbody tr th:only-of-type {\n        vertical-align: middle;\n    }\n\n    .dataframe tbody tr th {\n        vertical-align: top;\n    }\n\n    .dataframe thead th {\n        text-align: right;\n    }\n</style>\n<table border=\"1\" class=\"dataframe\">\n  <thead>\n    <tr style=\"text-align: right;\">\n      <th></th>\n      <th>Unnamed: 0</th>\n      <th>YEAR</th>\n      <th>JAN</th>\n      <th>FEB</th>\n      <th>MAR</th>\n      <th>APR</th>\n      <th>MAY</th>\n      <th>JUN</th>\n      <th>JUL</th>\n      <th>AUG</th>\n      <th>SEP</th>\n      <th>OCT</th>\n      <th>NOV</th>\n      <th>DEC</th>\n      <th>MAX</th>\n      <th>MIN</th>\n      <th>MEAN</th>\n    </tr>\n  </thead>\n  <tbody>\n    <tr>\n      <th>0</th>\n      <td>0</td>\n      <td>1901</td>\n      <td>17.99</td>\n      <td>19.43</td>\n      <td>23.49</td>\n      <td>26.41</td>\n      <td>28.28</td>\n      <td>28.60</td>\n      <td>27.49</td>\n      <td>26.98</td>\n      <td>26.26</td>\n      <td>25.08</td>\n      <td>21.73</td>\n      <td>18.95</td>\n      <td>28.60</td>\n      <td>17.99</td>\n      <td>24.224167</td>\n    </tr>\n    <tr>\n      <th>1</th>\n      <td>1</td>\n      <td>1902</td>\n      <td>19.00</td>\n      <td>20.39</td>\n      <td>24.10</td>\n      <td>26.54</td>\n      <td>28.68</td>\n      <td>28.44</td>\n      <td>27.29</td>\n      <td>27.05</td>\n      <td>25.95</td>\n      <td>24.37</td>\n      <td>21.33</td>\n      <td>18.78</td>\n      <td>28.68</td>\n      <td>18.78</td>\n      <td>24.326667</td>\n    </tr>\n    <tr>\n      <th>2</th>\n      <td>2</td>\n      <td>1903</td>\n      <td>18.32</td>\n      <td>19.79</td>\n      <td>22.46</td>\n      <td>26.03</td>\n      <td>27.93</td>\n      <td>28.41</td>\n      <td>28.04</td>\n      <td>26.63</td>\n      <td>26.34</td>\n      <td>24.57</td>\n      <td>20.96</td>\n      <td>18.29</td>\n      <td>28.41</td>\n      <td>18.29</td>\n      <td>23.980833</td>\n    </tr>\n    <tr>\n      <th>3</th>\n      <td>3</td>\n      <td>1904</td>\n      <td>17.77</td>\n      <td>19.39</td>\n      <td>22.95</td>\n      <td>26.73</td>\n      <td>27.83</td>\n      <td>27.85</td>\n      <td>26.84</td>\n      <td>26.73</td>\n      <td>25.84</td>\n      <td>24.36</td>\n      <td>21.07</td>\n      <td>18.84</td>\n      <td>27.85</td>\n      <td>17.77</td>\n      <td>23.850000</td>\n    </tr>\n    <tr>\n      <th>4</th>\n      <td>4</td>\n      <td>1905</td>\n      <td>17.40</td>\n      <td>17.79</td>\n      <td>21.78</td>\n      <td>24.84</td>\n      <td>28.32</td>\n      <td>28.69</td>\n      <td>27.67</td>\n      <td>27.47</td>\n      <td>26.29</td>\n      <td>26.16</td>\n      <td>22.07</td>\n      <td>18.71</td>\n      <td>28.69</td>\n      <td>17.40</td>\n      <td>23.932500</td>\n    </tr>\n    <tr>\n      <th>...</th>\n      <td>...</td>\n      <td>...</td>\n      <td>...</td>\n      <td>...</td>\n      <td>...</td>\n      <td>...</td>\n      <td>...</td>\n      <td>...</td>\n      <td>...</td>\n      <td>...</td>\n      <td>...</td>\n      <td>...</td>\n      <td>...</td>\n      <td>...</td>\n      <td>...</td>\n      <td>...</td>\n      <td>...</td>\n    </tr>\n    <tr>\n      <th>110</th>\n      <td>110</td>\n      <td>2011</td>\n      <td>18.32</td>\n      <td>20.79</td>\n      <td>24.11</td>\n      <td>26.10</td>\n      <td>28.92</td>\n      <td>28.60</td>\n      <td>27.60</td>\n      <td>27.20</td>\n      <td>26.70</td>\n      <td>25.51</td>\n      <td>22.84</td>\n      <td>19.84</td>\n      <td>28.92</td>\n      <td>18.32</td>\n      <td>24.710833</td>\n    </tr>\n    <tr>\n      <th>111</th>\n      <td>111</td>\n      <td>2012</td>\n      <td>18.25</td>\n      <td>20.43</td>\n      <td>23.98</td>\n      <td>26.89</td>\n      <td>28.72</td>\n      <td>28.91</td>\n      <td>27.98</td>\n      <td>27.31</td>\n      <td>26.65</td>\n      <td>24.85</td>\n      <td>22.26</td>\n      <td>19.91</td>\n      <td>28.91</td>\n      <td>18.25</td>\n      <td>24.678333</td>\n    </tr>\n    <tr>\n      <th>112</th>\n      <td>112</td>\n      <td>2013</td>\n      <td>18.88</td>\n      <td>21.07</td>\n      <td>24.53</td>\n      <td>26.97</td>\n      <td>29.06</td>\n      <td>28.24</td>\n      <td>27.50</td>\n      <td>27.22</td>\n      <td>26.87</td>\n      <td>25.63</td>\n      <td>22.18</td>\n      <td>19.69</td>\n      <td>29.06</td>\n      <td>18.88</td>\n      <td>24.820000</td>\n    </tr>\n    <tr>\n      <th>113</th>\n      <td>113</td>\n      <td>2014</td>\n      <td>18.81</td>\n      <td>20.35</td>\n      <td>23.34</td>\n      <td>26.91</td>\n      <td>28.45</td>\n      <td>29.42</td>\n      <td>28.07</td>\n      <td>27.42</td>\n      <td>26.61</td>\n      <td>25.38</td>\n      <td>22.53</td>\n      <td>19.50</td>\n      <td>29.42</td>\n      <td>18.81</td>\n      <td>24.732500</td>\n    </tr>\n    <tr>\n      <th>114</th>\n      <td>114</td>\n      <td>2015</td>\n      <td>19.02</td>\n      <td>21.23</td>\n      <td>23.52</td>\n      <td>26.52</td>\n      <td>28.82</td>\n      <td>28.15</td>\n      <td>28.03</td>\n      <td>27.64</td>\n      <td>27.04</td>\n      <td>25.82</td>\n      <td>22.95</td>\n      <td>20.21</td>\n      <td>28.82</td>\n      <td>19.02</td>\n      <td>24.912500</td>\n    </tr>\n  </tbody>\n</table>\n<p>115 rows × 17 columns</p>\n</div>"
     },
     "execution_count": 5,
     "metadata": {},
     "output_type": "execute_result"
    }
   ],
   "source": [
    "col = temperatureBase.loc[: , \"JAN\":\"DEC\"]\n",
    "temperatureBase['MAX'] = col.max(axis=1)\n",
    "temperatureBase['MIN'] = col.min(axis=1)\n",
    "temperatureBase['MEAN'] = col.mean(axis=1)\n",
    "temperatureBase\n"
   ]
  },
  {
   "cell_type": "code",
   "execution_count": 6,
   "metadata": {},
   "outputs": [
    {
     "data": {
      "text/plain": "     YEAR  MEAN_RAINFALL  MEAN_TEMP\n0    1901     107.017381  24.224167\n1    1902     111.440714  24.326667\n2    1903     116.780322  23.980833\n3    1904     103.065000  23.850000\n4    1905      98.847381  23.932500\n..    ...            ...        ...\n110  2011     116.079167  24.710833\n111  2012     108.034921  24.678333\n112  2013     122.929167  24.820000\n113  2014     103.696759  24.732500\n114  2015     106.714120  24.912500\n\n[115 rows x 3 columns]",
      "text/html": "<div>\n<style scoped>\n    .dataframe tbody tr th:only-of-type {\n        vertical-align: middle;\n    }\n\n    .dataframe tbody tr th {\n        vertical-align: top;\n    }\n\n    .dataframe thead th {\n        text-align: right;\n    }\n</style>\n<table border=\"1\" class=\"dataframe\">\n  <thead>\n    <tr style=\"text-align: right;\">\n      <th></th>\n      <th>YEAR</th>\n      <th>MEAN_RAINFALL</th>\n      <th>MEAN_TEMP</th>\n    </tr>\n  </thead>\n  <tbody>\n    <tr>\n      <th>0</th>\n      <td>1901</td>\n      <td>107.017381</td>\n      <td>24.224167</td>\n    </tr>\n    <tr>\n      <th>1</th>\n      <td>1902</td>\n      <td>111.440714</td>\n      <td>24.326667</td>\n    </tr>\n    <tr>\n      <th>2</th>\n      <td>1903</td>\n      <td>116.780322</td>\n      <td>23.980833</td>\n    </tr>\n    <tr>\n      <th>3</th>\n      <td>1904</td>\n      <td>103.065000</td>\n      <td>23.850000</td>\n    </tr>\n    <tr>\n      <th>4</th>\n      <td>1905</td>\n      <td>98.847381</td>\n      <td>23.932500</td>\n    </tr>\n    <tr>\n      <th>...</th>\n      <td>...</td>\n      <td>...</td>\n      <td>...</td>\n    </tr>\n    <tr>\n      <th>110</th>\n      <td>2011</td>\n      <td>116.079167</td>\n      <td>24.710833</td>\n    </tr>\n    <tr>\n      <th>111</th>\n      <td>2012</td>\n      <td>108.034921</td>\n      <td>24.678333</td>\n    </tr>\n    <tr>\n      <th>112</th>\n      <td>2013</td>\n      <td>122.929167</td>\n      <td>24.820000</td>\n    </tr>\n    <tr>\n      <th>113</th>\n      <td>2014</td>\n      <td>103.696759</td>\n      <td>24.732500</td>\n    </tr>\n    <tr>\n      <th>114</th>\n      <td>2015</td>\n      <td>106.714120</td>\n      <td>24.912500</td>\n    </tr>\n  </tbody>\n</table>\n<p>115 rows × 3 columns</p>\n</div>"
     },
     "execution_count": 6,
     "metadata": {},
     "output_type": "execute_result"
    }
   ],
   "source": [
    "weather = pd.DataFrame(rainfallDfBase['YEAR'])\n",
    "weather['MEAN_RAINFALL'] = rainfallDfBase['MEAN']\n",
    "weather['MEAN_TEMP'] = temperatureBase['MEAN']\n",
    "\n",
    "\n",
    "weather"
   ]
  },
  {
   "cell_type": "code",
   "execution_count": 7,
   "metadata": {},
   "outputs": [
    {
     "data": {
      "text/plain": "    YEAR  MEAN_RAINFALL  MEAN_TEMP\n0   1910     109.992000  23.991083\n1   1920     116.739849  23.965750\n2   1930     122.042560  24.124333\n3   1940     123.823138  24.089833\n4   1950     122.922694  24.155833\n5   1960     122.976077  24.238500\n6   1970     118.458935  24.148333\n7   1980     115.760856  24.193167\n8   1990     117.878981  24.268667\n9   2000     118.338878  24.544583\n10  2010     112.569092  24.861583\n11  2017     111.490827  24.770833",
      "text/html": "<div>\n<style scoped>\n    .dataframe tbody tr th:only-of-type {\n        vertical-align: middle;\n    }\n\n    .dataframe tbody tr th {\n        vertical-align: top;\n    }\n\n    .dataframe thead th {\n        text-align: right;\n    }\n</style>\n<table border=\"1\" class=\"dataframe\">\n  <thead>\n    <tr style=\"text-align: right;\">\n      <th></th>\n      <th>YEAR</th>\n      <th>MEAN_RAINFALL</th>\n      <th>MEAN_TEMP</th>\n    </tr>\n  </thead>\n  <tbody>\n    <tr>\n      <th>0</th>\n      <td>1910</td>\n      <td>109.992000</td>\n      <td>23.991083</td>\n    </tr>\n    <tr>\n      <th>1</th>\n      <td>1920</td>\n      <td>116.739849</td>\n      <td>23.965750</td>\n    </tr>\n    <tr>\n      <th>2</th>\n      <td>1930</td>\n      <td>122.042560</td>\n      <td>24.124333</td>\n    </tr>\n    <tr>\n      <th>3</th>\n      <td>1940</td>\n      <td>123.823138</td>\n      <td>24.089833</td>\n    </tr>\n    <tr>\n      <th>4</th>\n      <td>1950</td>\n      <td>122.922694</td>\n      <td>24.155833</td>\n    </tr>\n    <tr>\n      <th>5</th>\n      <td>1960</td>\n      <td>122.976077</td>\n      <td>24.238500</td>\n    </tr>\n    <tr>\n      <th>6</th>\n      <td>1970</td>\n      <td>118.458935</td>\n      <td>24.148333</td>\n    </tr>\n    <tr>\n      <th>7</th>\n      <td>1980</td>\n      <td>115.760856</td>\n      <td>24.193167</td>\n    </tr>\n    <tr>\n      <th>8</th>\n      <td>1990</td>\n      <td>117.878981</td>\n      <td>24.268667</td>\n    </tr>\n    <tr>\n      <th>9</th>\n      <td>2000</td>\n      <td>118.338878</td>\n      <td>24.544583</td>\n    </tr>\n    <tr>\n      <th>10</th>\n      <td>2010</td>\n      <td>112.569092</td>\n      <td>24.861583</td>\n    </tr>\n    <tr>\n      <th>11</th>\n      <td>2017</td>\n      <td>111.490827</td>\n      <td>24.770833</td>\n    </tr>\n  </tbody>\n</table>\n</div>"
     },
     "execution_count": 7,
     "metadata": {},
     "output_type": "execute_result"
    }
   ],
   "source": [
    "FinalDF = weather.groupby(np.arange(len(weather))//10).mean()\n",
    "FinalDF['YEAR'] =  (FinalDF['YEAR'].round() + 4)\n",
    "FinalDF['YEAR'] = pd.to_numeric(FinalDF['YEAR'], downcast='integer')\n",
    "FinalDF"
   ]
  },
  {
   "cell_type": "code",
   "execution_count": 8,
   "metadata": {},
   "outputs": [
    {
     "ename": "NameError",
     "evalue": "name 'FinalDF1' is not defined",
     "output_type": "error",
     "traceback": [
      "\u001B[0;31m---------------------------------------------------------------------------\u001B[0m",
      "\u001B[0;31mNameError\u001B[0m                                 Traceback (most recent call last)",
      "\u001B[0;32m<ipython-input-8-22baf81e82d3>\u001B[0m in \u001B[0;36m<module>\u001B[0;34m\u001B[0m\n\u001B[1;32m     11\u001B[0m \u001B[0mFinalDFMax\u001B[0m\u001B[0;34m\u001B[0m\u001B[0;34m\u001B[0m\u001B[0m\n\u001B[1;32m     12\u001B[0m \u001B[0;34m\u001B[0m\u001B[0m\n\u001B[0;32m---> 13\u001B[0;31m \u001B[0mFinalDF1\u001B[0m\u001B[0;34m[\u001B[0m\u001B[0;34m'YEAR'\u001B[0m\u001B[0;34m]\u001B[0m \u001B[0;34m=\u001B[0m \u001B[0mFinalDFMax\u001B[0m\u001B[0;34m[\u001B[0m\u001B[0;34m'YEAR'\u001B[0m\u001B[0;34m]\u001B[0m\u001B[0;34m\u001B[0m\u001B[0;34m\u001B[0m\u001B[0m\n\u001B[0m\u001B[1;32m     14\u001B[0m \u001B[0mFinalDF1\u001B[0m\u001B[0;34m[\u001B[0m\u001B[0;34m'MIN_RAINFALL'\u001B[0m\u001B[0;34m]\u001B[0m \u001B[0;34m=\u001B[0m \u001B[0mFinalDFMin\u001B[0m\u001B[0;34m[\u001B[0m\u001B[0;34m'MIN_RAINFALL'\u001B[0m\u001B[0;34m]\u001B[0m\u001B[0;34m\u001B[0m\u001B[0;34m\u001B[0m\u001B[0m\n\u001B[1;32m     15\u001B[0m \u001B[0mFinalDF1\u001B[0m\u001B[0;34m[\u001B[0m\u001B[0;34m'MAX_RAINFALL'\u001B[0m\u001B[0;34m]\u001B[0m \u001B[0;34m=\u001B[0m \u001B[0mFinalDFMax\u001B[0m\u001B[0;34m[\u001B[0m\u001B[0;34m'MAX_RAINFALL'\u001B[0m\u001B[0;34m]\u001B[0m\u001B[0;34m\u001B[0m\u001B[0;34m\u001B[0m\u001B[0m\n",
      "\u001B[0;31mNameError\u001B[0m: name 'FinalDF1' is not defined"
     ]
    }
   ],
   "source": [
    "weather1 = pd.DataFrame(rainfallDfBase['YEAR'])\n",
    "weather1['MAX_RAINFALL'] = rainfallDfBase['MAX']\n",
    "weather1['MIN_RAINFALL'] = rainfallDfBase['MIN']\n",
    "weather1['MAX_TEMP'] = temperatureBase['MAX']\n",
    "weather1['MIN_TEMP'] = temperatureBase['MIN']\n",
    "weather1\n",
    "\n",
    "FinalDFMin = weather1.groupby(np.arange(len(weather1))//10).min()\n",
    "FinalDFMax = weather1.groupby(np.arange(len(weather1))//10).max()\n",
    "FinalDFMin\n",
    "FinalDFMax\n",
    "\n",
    "FinalDF1['YEAR'] = FinalDFMax['YEAR']\n",
    "FinalDF1['MIN_RAINFALL'] = FinalDFMin['MIN_RAINFALL']\n",
    "FinalDF1['MAX_RAINFALL'] = FinalDFMax['MAX_RAINFALL']\n",
    "FinalDF1['MIN_TEMP'] = FinalDFMin['MIN_TEMP']\n",
    "FinalDF1['MAX_TEMP'] = FinalDFMax['MAX_TEMP']\n",
    "FinalDF1"
   ]
  },
  {
   "cell_type": "code",
   "execution_count": null,
   "outputs": [],
   "source": [
    "FinalDF1.reset_index(inplace = True)\n",
    "FinalDF.reset_index(inplace = True)\n",
    "\n",
    "x = FinalDF1['YEAR']\n",
    "print(x)\n",
    "y2 = FinalDF['MEAN_TEMP'].tolist()\n",
    "y3 = FinalDF['MEAN_RAINFALL'].tolist()\n",
    "\n",
    "z1 = FinalDF1['MIN_TEMP'].tolist()\n",
    "z2 = FinalDF1['MAX_TEMP'].tolist()\n",
    "z3 = FinalDF1['MIN_RAINFALL'].tolist()\n",
    "z4 = FinalDF1['MAX_RAINFALL'].tolist()"
   ],
   "metadata": {
    "collapsed": false,
    "pycharm": {
     "name": "#%%\n"
    }
   }
  },
  {
   "cell_type": "code",
   "execution_count": null,
   "metadata": {},
   "outputs": [],
   "source": [
    "import matplotlib.gridspec as gridspec\n",
    "fig = plt.figure(figsize=(20, 20))\n",
    "gspec = gridspec.GridSpec(3, 1)\n",
    "gspec.update(hspace=0.45, wspace=1)\n",
    "\n",
    "ax1 = plt.subplot(gspec[0, 0], sharex = ax3)\n",
    "ax2 = plt.subplot(gspec[1, 0], sharex = ax3)\n",
    "ax3 = plt.subplot(gspec[2, 0], sharex = ax3)\n",
    "\n",
    "ax1.plot(x, y2, '-o', label = \"Mean Temperature ($\\,^{\\circ}\\mathrm{C}$)\")\n",
    "ax1.plot(x, y3, '-*', label = \"Mean Rainfall (0.1cm)\")\n",
    "\n",
    "ax1.set_xlabel(\"Decade\")\n",
    "ax1.set_ylabel(\"\")\n",
    "ax1.set_title('Average Mean Rainfall in India(1901-2015) (in $\\,^{\\circ}\\mathrm{C}$) and Rainfall')\n",
    "\n",
    "ax1.legend(loc=\"best\")\n",
    "\n",
    "\n",
    "\n",
    "ax2.plot(x, y3, '-*', label = \"Mean Rainfall (0.1cm)\")\n",
    "ax2.plot(x, z3, '-*', label = \"Minimum Rainfall (0.1cm)\")\n",
    "ax2.plot(x, z4, '-^', label = \"Maximun Rainfall (0.1cm)\")\n",
    "\n",
    "ax2.set_xlabel(\"Decade\")\n",
    "ax2.set_ylabel(\"\")\n",
    "ax2.set_title('Average Mean, Maximum and Minimum Rainfall in India(1901-2015) (in $\\,^{\\circ}\\mathrm{C}$) and Rainfall')\n",
    "\n",
    "ax2.legend(loc=\"best\")\n",
    "\n",
    "ax3.plot(x, z1, '-s', label = \"Minimum Temperature ($\\,^{\\circ}\\mathrm{C}$)\")\n",
    "ax3.plot(x, z2, '-o', label = \"Maximun Temperature ($\\,^{\\circ}\\mathrm{C}$)\")\n",
    "ax3.plot(x, y2, '-o', label = \"Mean Temperature ($\\,^{\\circ}\\mathrm{C}$)\")\n",
    "\n",
    "\n",
    "ax3.set_xlabel(\"Decade\")\n",
    "ax3.set_ylabel(\"\")\n",
    "ax3.set_title('Average Mean, Maximum and Minimum Temperatures in India(1901-2015) (in $\\,^{\\circ}\\mathrm{C}$) and Rainfall')\n",
    "\n",
    "ax3.legend(loc=\"center right\")\n",
    "plt.xticks(np.arange(min(x), max(x)+10, 10))\n",
    "plt.savefig('assignment4-2.png')\n"
   ]
  },
  {
   "cell_type": "code",
   "execution_count": null,
   "outputs": [],
   "source": [],
   "metadata": {
    "collapsed": false,
    "pycharm": {
     "name": "#%%\n"
    }
   }
  }
 ],
 "metadata": {
  "kernelspec": {
   "display_name": "Python 3",
   "language": "python",
   "name": "python3"
  },
  "language_info": {
   "codemirror_mode": {
    "name": "ipython",
    "version": 3
   },
   "file_extension": ".py",
   "mimetype": "text/x-python",
   "name": "python",
   "nbconvert_exporter": "python",
   "pygments_lexer": "ipython3",
   "version": "3.7.3"
  }
 },
 "nbformat": 4,
 "nbformat_minor": 1
}